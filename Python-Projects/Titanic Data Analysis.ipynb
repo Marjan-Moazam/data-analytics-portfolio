{
 "cells": [
  {
   "cell_type": "markdown",
   "metadata": {},
   "source": [
    "### Exploring Survival on the Titanic dataset using data visualization"
   ]
  },
  {
   "cell_type": "code",
   "execution_count": 24,
   "metadata": {},
   "outputs": [
    {
     "name": "stdout",
     "output_type": "stream",
     "text": [
      "   PassengerId  Survived  Pclass  \\\n",
      "0            1         0       3   \n",
      "1            2         1       1   \n",
      "2            3         1       3   \n",
      "3            4         1       1   \n",
      "4            5         0       3   \n",
      "\n",
      "                                                Name     Sex   Age  SibSp  \\\n",
      "0                            Braund, Mr. Owen Harris    male  22.0      1   \n",
      "1  Cumings, Mrs. John Bradley (Florence Briggs Th...  female  38.0      1   \n",
      "2                             Heikkinen, Miss. Laina  female  26.0      0   \n",
      "3       Futrelle, Mrs. Jacques Heath (Lily May Peel)  female  35.0      1   \n",
      "4                           Allen, Mr. William Henry    male  35.0      0   \n",
      "\n",
      "   Parch            Ticket     Fare Cabin Embarked  \n",
      "0      0         A/5 21171   7.2500   NaN        S  \n",
      "1      0          PC 17599  71.2833   C85        C  \n",
      "2      0  STON/O2. 3101282   7.9250   NaN        S  \n",
      "3      0            113803  53.1000  C123        S  \n",
      "4      0            373450   8.0500   NaN        S  \n"
     ]
    }
   ],
   "source": [
    "import pandas as pd\n",
    "\n",
    "# Load the Titanic dataset\n",
    "titanic_data = pd.read_csv(\n",
    "    \"https://raw.githubusercontent.com/datasciencedojo/datasets/master/titanic.csv\"\n",
    ")\n",
    "\n",
    "# Display the first few rows of the dataset\n",
    "print(titanic_data.head())"
   ]
  },
  {
   "cell_type": "code",
   "execution_count": 2,
   "metadata": {},
   "outputs": [
    {
     "name": "stdout",
     "output_type": "stream",
     "text": [
      "<class 'pandas.core.frame.DataFrame'>\n",
      "RangeIndex: 891 entries, 0 to 890\n",
      "Data columns (total 12 columns):\n",
      " #   Column       Non-Null Count  Dtype  \n",
      "---  ------       --------------  -----  \n",
      " 0   PassengerId  891 non-null    int64  \n",
      " 1   Survived     891 non-null    int64  \n",
      " 2   Pclass       891 non-null    int64  \n",
      " 3   Name         891 non-null    object \n",
      " 4   Sex          891 non-null    object \n",
      " 5   Age          714 non-null    float64\n",
      " 6   SibSp        891 non-null    int64  \n",
      " 7   Parch        891 non-null    int64  \n",
      " 8   Ticket       891 non-null    object \n",
      " 9   Fare         891 non-null    float64\n",
      " 10  Cabin        204 non-null    object \n",
      " 11  Embarked     889 non-null    object \n",
      "dtypes: float64(2), int64(5), object(5)\n",
      "memory usage: 83.7+ KB\n"
     ]
    }
   ],
   "source": [
    "titanic_data.info()"
   ]
  },
  {
   "cell_type": "code",
   "execution_count": 3,
   "metadata": {},
   "outputs": [
    {
     "data": {
      "text/plain": [
       "PassengerId      0\n",
       "Survived         0\n",
       "Pclass           0\n",
       "Name             0\n",
       "Sex              0\n",
       "Age            177\n",
       "SibSp            0\n",
       "Parch            0\n",
       "Ticket           0\n",
       "Fare             0\n",
       "Cabin          687\n",
       "Embarked         2\n",
       "dtype: int64"
      ]
     },
     "execution_count": 3,
     "metadata": {},
     "output_type": "execute_result"
    }
   ],
   "source": [
    "titanic_data.isna().sum()"
   ]
  },
  {
   "cell_type": "code",
   "execution_count": 4,
   "metadata": {},
   "outputs": [
    {
     "name": "stdout",
     "output_type": "stream",
     "text": [
      "<class 'pandas.core.frame.DataFrame'>\n",
      "RangeIndex: 891 entries, 0 to 890\n",
      "Data columns (total 12 columns):\n",
      " #   Column       Non-Null Count  Dtype  \n",
      "---  ------       --------------  -----  \n",
      " 0   PassengerId  891 non-null    int64  \n",
      " 1   Survived     891 non-null    int64  \n",
      " 2   Pclass       891 non-null    int64  \n",
      " 3   Name         891 non-null    object \n",
      " 4   Sex          891 non-null    object \n",
      " 5   Age          891 non-null    float64\n",
      " 6   SibSp        891 non-null    int64  \n",
      " 7   Parch        891 non-null    int64  \n",
      " 8   Ticket       891 non-null    object \n",
      " 9   Fare         891 non-null    float64\n",
      " 10  Cabin        204 non-null    object \n",
      " 11  Embarked     889 non-null    object \n",
      "dtypes: float64(2), int64(5), object(5)\n",
      "memory usage: 83.7+ KB\n",
      "None\n"
     ]
    }
   ],
   "source": [
    "# Fill missing values in the 'Age' column with the mean age of each 'Pclass'\n",
    "titanic_data[\"Age\"] = titanic_data.groupby(\"Pclass\")[\"Age\"].transform(\n",
    "    lambda x: x.fillna(x.mean())\n",
    ")\n",
    "print(titanic_data.info())"
   ]
  },
  {
   "cell_type": "code",
   "execution_count": 5,
   "metadata": {},
   "outputs": [],
   "source": [
    "titanic_data[\"Embarked\"].fillna(titanic_data[\"Embarked\"].mode()[0], inplace=True)"
   ]
  },
  {
   "cell_type": "code",
   "execution_count": 6,
   "metadata": {},
   "outputs": [],
   "source": [
    "import matplotlib as mpl\n",
    "import matplotlib.pyplot as plt\n",
    "import matplotlib.gridspec as grid_spec\n",
    "from matplotlib.ticker import FuncFormatter\n",
    "\n",
    "import seaborn as sns\n",
    "\n",
    "import numpy as np\n",
    "import pandas as pd"
   ]
  },
  {
   "cell_type": "code",
   "execution_count": 7,
   "metadata": {},
   "outputs": [],
   "source": [
    "titanic_data = titanic_data.drop([\"PassengerId\", \"Ticket\", \"Cabin\"], axis=1)"
   ]
  },
  {
   "cell_type": "code",
   "execution_count": 8,
   "metadata": {},
   "outputs": [
    {
     "name": "stdout",
     "output_type": "stream",
     "text": [
      "<class 'pandas.core.frame.DataFrame'>\n",
      "RangeIndex: 891 entries, 0 to 890\n",
      "Data columns (total 9 columns):\n",
      " #   Column    Non-Null Count  Dtype  \n",
      "---  ------    --------------  -----  \n",
      " 0   Survived  891 non-null    int64  \n",
      " 1   Pclass    891 non-null    int64  \n",
      " 2   Name      891 non-null    object \n",
      " 3   Sex       891 non-null    object \n",
      " 4   Age       891 non-null    float64\n",
      " 5   SibSp     891 non-null    int64  \n",
      " 6   Parch     891 non-null    int64  \n",
      " 7   Fare      891 non-null    float64\n",
      " 8   Embarked  891 non-null    object \n",
      "dtypes: float64(2), int64(4), object(3)\n",
      "memory usage: 62.8+ KB\n"
     ]
    }
   ],
   "source": [
    "titanic_data.info()"
   ]
  },
  {
   "cell_type": "code",
   "execution_count": 9,
   "metadata": {},
   "outputs": [
    {
     "data": {
      "text/plain": [
       "Survived\n",
       "0    549\n",
       "1    342\n",
       "Name: count, dtype: int64"
      ]
     },
     "execution_count": 9,
     "metadata": {},
     "output_type": "execute_result"
    }
   ],
   "source": [
    "titanic_data[\"Survived\"].value_counts()"
   ]
  },
  {
   "cell_type": "code",
   "execution_count": 10,
   "metadata": {},
   "outputs": [
    {
     "name": "stdout",
     "output_type": "stream",
     "text": [
      "Number of people dead as 0 are 549 and Number of people survived as 1 are 342\n"
     ]
    },
    {
     "name": "stderr",
     "output_type": "stream",
     "text": [
      "C:\\Users\\marja\\AppData\\Local\\Temp\\ipykernel_10772\\3256056060.py:13: FutureWarning: \n",
      "\n",
      "Passing `palette` without assigning `hue` is deprecated and will be removed in v0.14.0. Assign the `x` variable to `hue` and set `legend=False` for the same effect.\n",
      "\n",
      "  ax = sns.countplot(\n"
     ]
    },
    {
     "data": {
      "image/png": "[encoded data removed]",
      "text/plain": [
       "<Figure size 800x400 with 1 Axes>"
      ]
     },
     "metadata": {},
     "output_type": "display_data"
    }
   ],
   "source": [
    "# Count the number of survivors and non-survivors\n",
    "dead_count = titanic_data[\"Survived\"].value_counts()[0]\n",
    "survived_count = titanic_data[\"Survived\"].value_counts()[1]\n",
    "\n",
    "# Print the counts\n",
    "print(\n",
    "    f\"Number of people dead as 0 are {dead_count} and Number of people survived as 1 are {survived_count}\"\n",
    ")\n",
    "\n",
    "# Create a count plot with enhanced visualization\n",
    "plt.figure(figsize=(8, 4))\n",
    "sns.set_style(\"whitegrid\")\n",
    "ax = sns.countplot(\n",
    "    x=titanic_data[\"Survived\"],\n",
    "    palette=[\"#e3120b\", \"#4a4a4a\"],  # Custom colors for dead and survived\n",
    "    edgecolor=\"black\",\n",
    ")\n",
    "\n",
    "# Adjust bar width\n",
    "for bar in ax.patches:\n",
    "    bar.set_width(0.5)  # Increase the width of the bars (default is ~0.5)\n",
    "\n",
    "# Center x-axis labels\n",
    "ax.set_xticks(\n",
    "    [bar.get_x() + bar.get_width() / 2 for bar in ax.patches]\n",
    ")  # Center labels\n",
    "ax.set_xticklabels(\n",
    "    [\"Dead\", \"Survived\"], fontsize=8.5, fontweight=\"bold\", color=\"#4a4a4a\"\n",
    ")\n",
    "\n",
    "# Customize the plot\n",
    "ax.set_facecolor(\"#fafafa\")  # Set background color\n",
    "plt.title(\n",
    "    \"Survival Count in Titanic Dataset\", fontsize=10, fontweight=\"bold\", color=\"#4a4a4a\"\n",
    ")\n",
    "plt.ylabel(\"Count\", fontsize=10, fontweight=\"bold\", color=\"#4a4a4a\")\n",
    "plt.yticks(fontsize=8.5, color=\"#4a4a4a\")\n",
    "\n",
    "# Show the plot\n",
    "plt.show()"
   ]
  },
  {
   "cell_type": "code",
   "execution_count": 11,
   "metadata": {},
   "outputs": [
    {
     "data": {
      "text/plain": [
       "Sex\n",
       "male      577\n",
       "female    314\n",
       "Name: count, dtype: int64"
      ]
     },
     "execution_count": 11,
     "metadata": {},
     "output_type": "execute_result"
    }
   ],
   "source": [
    "titanic_data[\"Sex\"].value_counts()"
   ]
  },
  {
   "cell_type": "code",
   "execution_count": 12,
   "metadata": {},
   "outputs": [
    {
     "data": {
      "image/png": "[encoded data removed]",
      "text/plain": [
       "<Figure size 1200x600 with 1 Axes>"
      ]
     },
     "metadata": {},
     "output_type": "display_data"
    }
   ],
   "source": [
    "def bar_chart(column):\n",
    "    # Calculate counts for survivors and non-survivors\n",
    "    survived = titanic_data[titanic_data[\"Survived\"] == 1][column].value_counts()\n",
    "    dead = titanic_data[titanic_data[\"Survived\"] == 0][column].value_counts()\n",
    "\n",
    "    # Create a DataFrame for plotting\n",
    "    df1 = pd.DataFrame([survived, dead])\n",
    "    df1.index = [\"Survived\", \"Dead\"]\n",
    "\n",
    "    # Plot the bar chart\n",
    "    ax = df1.plot(\n",
    "        kind=\"bar\",\n",
    "        figsize=(12, 6),\n",
    "        color=[\"#1f77b4\", \"#ff7f0e\"],  # Custom colors for better contrast\n",
    "        edgecolor=\"black\",\n",
    "        alpha=0.85,  # Slight transparency for a softer look\n",
    "    )\n",
    "\n",
    "    # Customize the plot\n",
    "    ax.set_facecolor(\"#f5f5f5\")  # Light gray background for better contrast\n",
    "    plt.title(\n",
    "        f\"Survival Distribution by {column}\",\n",
    "        fontsize=16,\n",
    "        fontweight=\"bold\",\n",
    "        color=\"#333333\",\n",
    "    )\n",
    "    plt.xlabel(column, fontsize=14, fontweight=\"bold\", color=\"#333333\")\n",
    "    plt.ylabel(\"Count\", fontsize=14, fontweight=\"bold\", color=\"#333333\")\n",
    "    plt.xticks(fontsize=12, fontweight=\"bold\", color=\"#333333\", rotation=0)\n",
    "    plt.yticks(fontsize=12, color=\"#333333\")\n",
    "\n",
    "    # Set the legend to \"Female\" and \"Male\"\n",
    "    plt.legend(\n",
    "        [\"Female\", \"Male\"],\n",
    "        fontsize=12,\n",
    "        title=\"Gender\",\n",
    "        title_fontsize=14,\n",
    "        bbox_to_anchor=(-0.1, 1),\n",
    "        frameon=False,  # Remove legend box for a cleaner look\n",
    "    )\n",
    "\n",
    "    # Add gridlines\n",
    "    plt.grid(axis=\"y\", linestyle=\"--\", linewidth=0.7, alpha=0.7, color=\"gray\")\n",
    "\n",
    "    # Add annotations for each bar\n",
    "    for p in ax.patches:\n",
    "        ax.annotate(\n",
    "            f\"{int(p.get_height())}\",  # Display the count as an integer\n",
    "            (\n",
    "                p.get_x() + p.get_width() / 2,\n",
    "                p.get_height(),\n",
    "            ),  # Position at the top of the bar\n",
    "            ha=\"center\",\n",
    "            va=\"bottom\",\n",
    "            fontsize=10,\n",
    "            fontweight=\"bold\",\n",
    "            color=\"#333333\",\n",
    "        )\n",
    "\n",
    "    # Show the plot\n",
    "    plt.tight_layout()\n",
    "    plt.show()\n",
    "\n",
    "\n",
    "# Call the function for the \"Sex\" column\n",
    "bar_chart(\"Sex\")"
   ]
  },
  {
   "cell_type": "code",
   "execution_count": 13,
   "metadata": {},
   "outputs": [
    {
     "name": "stderr",
     "output_type": "stream",
     "text": [
      "C:\\Users\\marja\\AppData\\Local\\Temp\\ipykernel_10772\\3525488.py:4: FutureWarning: \n",
      "\n",
      "Passing `palette` without assigning `hue` is deprecated and will be removed in v0.14.0. Assign the `x` variable to `hue` and set `legend=False` for the same effect.\n",
      "\n",
      "  ax = sns.countplot(\n"
     ]
    },
    {
     "data": {
      "image/png": "[encoded data removed]",
      "text/plain": [
       "<Figure size 1000x600 with 1 Axes>"
      ]
     },
     "metadata": {},
     "output_type": "display_data"
    }
   ],
   "source": [
    "# Create a count plot\n",
    "plt.figure(figsize=(10, 6))\n",
    "sns.set_style(\"whitegrid\")\n",
    "ax = sns.countplot(\n",
    "    x=titanic_data[\"Pclass\"],\n",
    "    palette=[\"#1f77b4\", \"#ff7f0e\", \"#2ca02c\"],  # Custom colors for each class\n",
    "    edgecolor=\"black\",\n",
    ")\n",
    "\n",
    "# Adjust bar width\n",
    "for bar in ax.patches:\n",
    "    bar.set_width(0.8)  # Increase the width of the bars (default is ~0.5)\n",
    "\n",
    "# Customize the plot\n",
    "plt.title(\n",
    "    \"Passenger Distribution by Class\", fontsize=16, fontweight=\"bold\", color=\"#333333\"\n",
    ")\n",
    "plt.xlabel(\"Passenger Class\", fontsize=14, fontweight=\"bold\", color=\"#333333\")\n",
    "plt.ylabel(\"Count\", fontsize=14, fontweight=\"bold\", color=\"#333333\")\n",
    "plt.xticks(\n",
    "    [0, 1, 2],\n",
    "    [\"1st Class\", \"2nd Class\", \"3rd Class\"],\n",
    "    fontsize=12,\n",
    "    fontweight=\"bold\",\n",
    "    color=\"#333333\",\n",
    ")\n",
    "plt.yticks(fontsize=12, color=\"#333333\")\n",
    "\n",
    "# Add annotations for each bar\n",
    "for p in ax.patches:\n",
    "    ax.annotate(\n",
    "        f\"{int(p.get_height())}\",  # Display the count as an integer\n",
    "        (\n",
    "            p.get_x() + p.get_width() / 2,\n",
    "            p.get_height(),\n",
    "        ),  # Position at the top of the bar\n",
    "        ha=\"center\",\n",
    "        va=\"bottom\",\n",
    "        fontsize=12,\n",
    "        fontweight=\"bold\",\n",
    "        color=\"#333333\",\n",
    "    )\n",
    "\n",
    "# Show the plot\n",
    "plt.tight_layout()\n",
    "plt.show()"
   ]
  },
  {
   "cell_type": "code",
   "execution_count": 14,
   "metadata": {},
   "outputs": [
    {
     "data": {
      "image/png": "[encoded data removed]",
      "text/plain": [
       "<Figure size 1200x600 with 1 Axes>"
      ]
     },
     "metadata": {},
     "output_type": "display_data"
    }
   ],
   "source": [
    "def bar_chart(column):\n",
    "    # Calculate counts for survivors and non-survivors\n",
    "    survived = titanic_data[titanic_data[\"Survived\"] == 1][column].value_counts()\n",
    "    dead = titanic_data[titanic_data[\"Survived\"] == 0][column].value_counts()\n",
    "\n",
    "    # Create a DataFrame for plotting\n",
    "    df1 = pd.DataFrame([survived, dead])\n",
    "    df1.index = [\"Survived\", \"Dead\"]\n",
    "\n",
    "    # Define colors for Pclass (3 different colors)\n",
    "    if column == \"Pclass\":\n",
    "        colors = [\"#1f77b4\", \"#2ca02c\", \"#ff7f0e\"]  # Blue, Orange, Green\n",
    "        legend_labels = [\"Class 1\", \"Class 3\", \"Class 2\"]\n",
    "    else:\n",
    "        colors = [\"#1f77b4\", \"#ff7f0e\"]  # Default colors\n",
    "        legend_labels = [\"Female\", \"Male\"]\n",
    "\n",
    "    # Plot the bar chart\n",
    "    ax = df1.plot(\n",
    "        kind=\"bar\", figsize=(12, 6), color=colors, edgecolor=\"black\", alpha=0.85\n",
    "    )\n",
    "\n",
    "    # Customize the plot\n",
    "    ax.set_facecolor(\"#f5f5f5\")  # Light gray background for better contrast\n",
    "    plt.title(\n",
    "        f\"Survival Distribution by {column}\",\n",
    "        fontsize=16,\n",
    "        fontweight=\"bold\",\n",
    "        color=\"#333333\",\n",
    "    )\n",
    "    plt.xlabel(column, fontsize=14, fontweight=\"bold\", color=\"#333333\")\n",
    "    plt.ylabel(\"Count\", fontsize=14, fontweight=\"bold\", color=\"#333333\")\n",
    "    plt.xticks(fontsize=12, fontweight=\"bold\", color=\"#333333\", rotation=0)\n",
    "    plt.yticks(fontsize=12, color=\"#333333\")\n",
    "\n",
    "    # Set the legend dynamically based on the column\n",
    "    plt.legend(\n",
    "        legend_labels,\n",
    "        fontsize=12,\n",
    "        title=column,\n",
    "        title_fontsize=14,\n",
    "        bbox_to_anchor=(-0.1, 1),\n",
    "        frameon=False,  # Remove legend box for a cleaner look\n",
    "    )\n",
    "\n",
    "    # Add gridlines\n",
    "    plt.grid(axis=\"y\", linestyle=\"--\", linewidth=0.7, alpha=0.7, color=\"gray\")\n",
    "\n",
    "    # Add annotations for each bar\n",
    "    for p in ax.patches:\n",
    "        ax.annotate(\n",
    "            f\"{int(p.get_height())}\",  # Display the count as an integer\n",
    "            (\n",
    "                p.get_x() + p.get_width() / 2,\n",
    "                p.get_height(),\n",
    "            ),  # Position at the top of the bar\n",
    "            ha=\"center\",\n",
    "            va=\"bottom\",\n",
    "            fontsize=10,\n",
    "            fontweight=\"bold\",\n",
    "            color=\"#333333\",\n",
    "        )\n",
    "\n",
    "    # Show the plot\n",
    "    plt.tight_layout()\n",
    "    plt.show()\n",
    "\n",
    "\n",
    "# Call the function for the \"Pclass\" column\n",
    "bar_chart(\"Pclass\")"
   ]
  },
  {
   "cell_type": "code",
   "execution_count": 15,
   "metadata": {},
   "outputs": [
    {
     "data": {
      "image/png": "[encoded data removed]",
      "text/plain": [
       "<Figure size 1200x700 with 1 Axes>"
      ]
     },
     "metadata": {},
     "output_type": "display_data"
    }
   ],
   "source": [
    "import numpy as np\n",
    "import matplotlib.pyplot as plt\n",
    "\n",
    "# Ensure only numeric columns are used for the groupby operation\n",
    "survival_rate = titanic_data.groupby([\"Pclass\"]).mean(numeric_only=True)[[\"Survived\"]]\n",
    "\n",
    "# Extract survival rates for each Pclass\n",
    "p1_rate = survival_rate.loc[1]\n",
    "p2_rate = survival_rate.loc[2]\n",
    "p3_rate = survival_rate.loc[3]\n",
    "\n",
    "# Generate random positions for scatter points\n",
    "p1_pos = np.random.uniform(\n",
    "    0,\n",
    "    p1_rate,\n",
    "    len(titanic_data[(titanic_data[\"Pclass\"] == 1) & (titanic_data[\"Survived\"] == 1)]),\n",
    ")\n",
    "p1_neg = np.random.uniform(\n",
    "    p1_rate,\n",
    "    1,\n",
    "    len(titanic_data[(titanic_data[\"Pclass\"] == 1) & (titanic_data[\"Survived\"] == 0)]),\n",
    ")\n",
    "p2_pos = np.random.uniform(\n",
    "    0,\n",
    "    p2_rate,\n",
    "    len(titanic_data[(titanic_data[\"Pclass\"] == 2) & (titanic_data[\"Survived\"] == 1)]),\n",
    ")\n",
    "p2_neg = np.random.uniform(\n",
    "    p2_rate,\n",
    "    1,\n",
    "    len(titanic_data[(titanic_data[\"Pclass\"] == 2) & (titanic_data[\"Survived\"] == 0)]),\n",
    ")\n",
    "p3_pos = np.random.uniform(\n",
    "    0,\n",
    "    p3_rate,\n",
    "    len(titanic_data[(titanic_data[\"Pclass\"] == 3) & (titanic_data[\"Survived\"] == 1)]),\n",
    ")\n",
    "p3_neg = np.random.uniform(\n",
    "    p3_rate,\n",
    "    1,\n",
    "    len(titanic_data[(titanic_data[\"Pclass\"] == 3) & (titanic_data[\"Survived\"] == 0)]),\n",
    ")\n",
    "\n",
    "# Create the scatter plot\n",
    "fig, ax = plt.subplots(1, 1, figsize=(12, 7))\n",
    "\n",
    "np.random.seed(42)\n",
    "\n",
    "# Assign distinct colors for each Pclass\n",
    "p1_color = \"#1f77b4\"  # Blue for Pclass 1\n",
    "p2_color = \"#ff7f0e\"  # Orange for Pclass 2\n",
    "p3_color = \"#2ca02c\"  # Green for Pclass 3\n",
    "\n",
    "ax.scatter(\n",
    "    np.random.uniform(-0.3, 0.3, len(p1_pos)),\n",
    "    p1_pos,\n",
    "    color=p1_color,\n",
    "    edgecolor=\"lightgray\",\n",
    "    label=\"P1(Survived=1)\",\n",
    ")\n",
    "ax.scatter(\n",
    "    np.random.uniform(-0.3, 0.3, len(p1_neg)),\n",
    "    p1_neg,\n",
    "    color=p1_color,\n",
    "    edgecolor=\"lightgray\",\n",
    "    alpha=0.2,\n",
    "    label=\"P1(Survived=0)\",\n",
    ")\n",
    "ax.scatter(\n",
    "    np.random.uniform(1 - 0.3, 1 + 0.3, len(p2_pos)),\n",
    "    p2_pos,\n",
    "    color=p2_color,\n",
    "    edgecolor=\"lightgray\",\n",
    "    label=\"P2(Survived=1)\",\n",
    ")\n",
    "ax.scatter(\n",
    "    np.random.uniform(1 - 0.3, 1 + 0.3, len(p2_neg)),\n",
    "    p2_neg,\n",
    "    color=p2_color,\n",
    "    edgecolor=\"lightgray\",\n",
    "    alpha=0.2,\n",
    "    label=\"P2(Survived=0)\",\n",
    ")\n",
    "ax.scatter(\n",
    "    np.random.uniform(2 - 0.3, 2 + 0.3, len(p3_pos)),\n",
    "    p3_pos,\n",
    "    color=p3_color,\n",
    "    edgecolor=\"lightgray\",\n",
    "    label=\"P3(Survived=1)\",\n",
    ")\n",
    "ax.scatter(\n",
    "    np.random.uniform(2 - 0.3, 2 + 0.3, len(p3_neg)),\n",
    "    p3_neg,\n",
    "    color=p3_color,\n",
    "    edgecolor=\"lightgray\",\n",
    "    alpha=0.2,\n",
    "    label=\"P3(Survived=0)\",\n",
    ")\n",
    "\n",
    "# Set Figure & Axes\n",
    "ax.set_xlim(-0.5, 4.0)\n",
    "ax.set_ylim(-0.03, 1.1)\n",
    "\n",
    "# Ticks\n",
    "ax.set_xticks([0, 1, 2])\n",
    "ax.set_xticklabels(\n",
    "    [\"Pclass 1\", \"Pclass 2\", \"Pclass 3\"],\n",
    "    fontweight=\"bold\",\n",
    "    fontfamily=\"serif\",\n",
    "    fontsize=13,\n",
    ")\n",
    "ax.set_yticks([], minor=False)\n",
    "ax.set_ylabel(\"\")\n",
    "\n",
    "# Spines\n",
    "for s in [\"top\", \"right\", \"left\", \"bottom\"]:\n",
    "    ax.spines[s].set_visible(False)\n",
    "\n",
    "# Title & Explanation\n",
    "fig.text(\n",
    "    0.06,\n",
    "    0.95,\n",
    "    \"Distribution of Survivors by Pclass\",\n",
    "    fontweight=\"bold\",\n",
    "    fontfamily=\"serif\",\n",
    "    fontsize=15,\n",
    "    ha=\"left\",\n",
    ")\n",
    "\n",
    "ax.legend(loc=(0.67, 0.5), edgecolor=\"None\")\n",
    "plt.tight_layout()\n",
    "plt.show()"
   ]
  },
  {
   "cell_type": "code",
   "execution_count": 16,
   "metadata": {},
   "outputs": [
    {
     "data": {
      "image/png": "[encoded data removed]",
      "text/plain": [
       "<Figure size 1200x600 with 1 Axes>"
      ]
     },
     "metadata": {},
     "output_type": "display_data"
    }
   ],
   "source": [
    "def bar_chart(column):\n",
    "    # Calculate counts for survivors and non-survivors\n",
    "    survived = titanic_data[titanic_data[\"Survived\"] == 1][column].value_counts()\n",
    "    dead = titanic_data[titanic_data[\"Survived\"] == 0][column].value_counts()\n",
    "\n",
    "    # Create a DataFrame for plotting\n",
    "    df1 = pd.DataFrame([survived, dead])\n",
    "    df1.index = [\"Survived\", \"Dead\"]\n",
    "\n",
    "    # Use a colorful palette for the bars\n",
    "    colors = sns.color_palette(\n",
    "        \"Set2\", len(df1.columns)\n",
    "    )  # Generate a palette with unique colors\n",
    "\n",
    "    # Plot the bar chart horizontally\n",
    "    ax = df1.plot(\n",
    "        kind=\"barh\",  # Horizontal bar chart\n",
    "        figsize=(12, 6),\n",
    "        color=colors,\n",
    "        edgecolor=\"black\",\n",
    "        alpha=0.85,\n",
    "    )\n",
    "\n",
    "    # Customize the plot\n",
    "    ax.set_facecolor(\"#f5f5f5\")  # Light gray background for better contrast\n",
    "    plt.title(\n",
    "        f\"Survival Distribution by {column}\",\n",
    "        fontsize=16,\n",
    "        fontweight=\"bold\",\n",
    "        color=\"#333333\",\n",
    "    )\n",
    "    plt.xlabel(\"Count\", fontsize=14, fontweight=\"bold\", color=\"#333333\")\n",
    "    plt.ylabel(column, fontsize=14, fontweight=\"bold\", color=\"#333333\")\n",
    "    plt.xticks(fontsize=12, color=\"#333333\")\n",
    "    plt.yticks(fontsize=12, fontweight=\"bold\", color=\"#333333\")\n",
    "\n",
    "    # Add gridlines\n",
    "    plt.grid(axis=\"x\", linestyle=\"--\", linewidth=0.7, alpha=0.7, color=\"gray\")\n",
    "\n",
    "    # Add annotations for each bar\n",
    "    for p in ax.patches:\n",
    "        ax.annotate(\n",
    "            f\"{int(p.get_width())}\",  # Display the count as an integer\n",
    "            (\n",
    "                p.get_width() + 1,\n",
    "                p.get_y() + p.get_height() / 2,\n",
    "            ),  # Position at the end of the bar\n",
    "            ha=\"left\",\n",
    "            va=\"center\",\n",
    "            fontsize=10,\n",
    "            fontweight=\"bold\",\n",
    "            color=\"#333333\",\n",
    "        )\n",
    "\n",
    "    # Show the plot\n",
    "    plt.tight_layout()\n",
    "    plt.show()\n",
    "\n",
    "\n",
    "# Call the function for the \"SibSp\" column\n",
    "bar_chart(\"SibSp\")"
   ]
  },
  {
   "cell_type": "code",
   "execution_count": 17,
   "metadata": {},
   "outputs": [
    {
     "data": {
      "image/png": "[encoded data removed]",
      "text/plain": [
       "<Figure size 1200x600 with 1 Axes>"
      ]
     },
     "metadata": {},
     "output_type": "display_data"
    }
   ],
   "source": [
    "def bar_chart(column):\n",
    "    # Calculate counts for survivors and non-survivors\n",
    "    survived = titanic_data[titanic_data[\"Survived\"] == 1][column].value_counts()\n",
    "    dead = titanic_data[titanic_data[\"Survived\"] == 0][column].value_counts()\n",
    "\n",
    "    # Create a DataFrame for plotting\n",
    "    df1 = pd.DataFrame([survived, dead])\n",
    "    df1.index = [\"Survived\", \"Dead\"]\n",
    "\n",
    "    # Use a colorful palette for the bars\n",
    "    colors = sns.color_palette(\n",
    "        \"Set3\", len(df1.columns)\n",
    "    )  # Generate a palette with unique colors\n",
    "\n",
    "    # Plot the bar chart horizontally\n",
    "    ax = df1.plot(\n",
    "        kind=\"barh\",  # Horizontal bar chart\n",
    "        figsize=(12, 6),\n",
    "        color=colors,\n",
    "        edgecolor=\"black\",\n",
    "        alpha=0.85,\n",
    "    )\n",
    "\n",
    "    # Customize the plot\n",
    "    ax.set_facecolor(\"#f5f5f5\")  # Light gray background for better contrast\n",
    "    plt.title(\n",
    "        f\"Survival Distribution by {column}\",\n",
    "        fontsize=16,\n",
    "        fontweight=\"bold\",\n",
    "        color=\"#333333\",\n",
    "    )\n",
    "    plt.xlabel(\"Count\", fontsize=14, fontweight=\"bold\", color=\"#333333\")\n",
    "    plt.ylabel(column, fontsize=14, fontweight=\"bold\", color=\"#333333\")\n",
    "    plt.xticks(fontsize=12, color=\"#333333\")\n",
    "    plt.yticks(fontsize=12, fontweight=\"bold\", color=\"#333333\")\n",
    "\n",
    "    # Add gridlines\n",
    "    plt.grid(axis=\"x\", linestyle=\"--\", linewidth=0.7, alpha=0.7, color=\"gray\")\n",
    "\n",
    "    # Add annotations for each bar\n",
    "    for p in ax.patches:\n",
    "        ax.annotate(\n",
    "            f\"{int(p.get_width())}\",  # Display the count as an integer\n",
    "            (\n",
    "                p.get_width() + 1,\n",
    "                p.get_y() + p.get_height() / 2,\n",
    "            ),  # Position at the end of the bar\n",
    "            ha=\"left\",\n",
    "            va=\"center\",\n",
    "            fontsize=10,\n",
    "            fontweight=\"bold\",\n",
    "            color=\"#333333\",\n",
    "        )\n",
    "\n",
    "    # Show the plot\n",
    "    plt.tight_layout()\n",
    "    plt.show()\n",
    "\n",
    "\n",
    "# Call the function for the \"Parch\" column\n",
    "bar_chart(\"Parch\")"
   ]
  },
  {
   "cell_type": "code",
   "execution_count": 18,
   "metadata": {},
   "outputs": [
    {
     "data": {
      "text/plain": [
       "65"
      ]
     },
     "execution_count": 18,
     "metadata": {},
     "output_type": "execute_result"
    }
   ],
   "source": [
    "# Count the number of rows where Pclass is 2 and Survived is 1\n",
    "count_pclass_2 = ((titanic_data[\"Parch\"] == 1) & (titanic_data[\"Survived\"] == 1)).sum()\n",
    "count_pclass_2"
   ]
  },
  {
   "cell_type": "code",
   "execution_count": 19,
   "metadata": {},
   "outputs": [
    {
     "data": {
      "image/png": "[encoded data removed]",
      "text/plain": [
       "<Figure size 704.25x900 with 3 Axes>"
      ]
     },
     "metadata": {},
     "output_type": "display_data"
    }
   ],
   "source": [
    "g = sns.FacetGrid(\n",
    "    titanic_data,\n",
    "    row=\"Pclass\",\n",
    "    hue=\"Survived\",\n",
    "    height=3,\n",
    "    aspect=2,\n",
    "    palette=[\"#e3120b\", \"#1f77b4\"],\n",
    ")\n",
    "g.map(sns.kdeplot, \"Fare\", fill=True, alpha=0.5)\n",
    "g.add_legend(title=\"Survived\", labels=[\"Dead\", \"Survived\"])\n",
    "g.set_titles(\"Pclass {row_name}\")\n",
    "g.set_axis_labels(\"Fare\", \"Density\")\n",
    "plt.subplots_adjust(top=0.9)  # Adjust space for the title\n",
    "g.fig.suptitle(\n",
    "    \"Fare Density by Pclass and Survival Status\", fontsize=16, fontweight=\"bold\"\n",
    ")\n",
    "plt.show()"
   ]
  },
  {
   "cell_type": "code",
   "execution_count": 20,
   "metadata": {},
   "outputs": [
    {
     "data": {
      "image/png": "[encoded data removed]",
      "text/plain": [
       "<Figure size 1000x700 with 1 Axes>"
      ]
     },
     "metadata": {},
     "output_type": "display_data"
    }
   ],
   "source": [
    "def age_band(num):\n",
    "    for i in range(1, 100):\n",
    "        if num < 10 * i:\n",
    "            return f\"{(i-1) * 10} ~ {i*10}\"\n",
    "\n",
    "\n",
    "titanic_data[\"age_band\"] = titanic_data[\"Age\"].apply(age_band)\n",
    "titanic_age = (\n",
    "    titanic_data[[\"age_band\", \"Survived\"]]\n",
    "    .groupby(\"age_band\")[\"Survived\"]\n",
    "    .value_counts()\n",
    "    .sort_index()\n",
    "    .unstack()\n",
    "    .fillna(0)\n",
    ")\n",
    "titanic_age[\"Survival rate\"] = titanic_age[1] / (titanic_age[0] + titanic_age[1]) * 100\n",
    "\n",
    "fig, ax = plt.subplots(1, 1, figsize=(10, 7))\n",
    "\n",
    "color_map = [\"#d4dddd\" for _ in range(9)]\n",
    "color_map[0] = color_map[8] = \"#244747\"  # color highlight\n",
    "\n",
    "ax.bar(\n",
    "    titanic_age[\"Survival rate\"].index,\n",
    "    titanic_age[\"Survival rate\"],\n",
    "    color=color_map,\n",
    "    width=0.55,\n",
    "    edgecolor=\"black\",\n",
    "    linewidth=0.7,\n",
    ")\n",
    "\n",
    "\n",
    "for s in [\"top\", \"right\", \"left\"]:\n",
    "    ax.spines[s].set_visible(False)\n",
    "\n",
    "\n",
    "# Annotation Part\n",
    "for i in titanic_age[\"Survival rate\"].index:\n",
    "    ax.annotate(\n",
    "        f\"{titanic_age['Survival rate'][i]:.02f}%\",\n",
    "        xy=(i, titanic_age[\"Survival rate\"][i] + 2.3),\n",
    "        va=\"center\",\n",
    "        ha=\"center\",\n",
    "        fontweight=\"light\",\n",
    "        color=\"#4a4a4a\",\n",
    "    )\n",
    "\n",
    "\n",
    "# mean line + annotation\n",
    "mean = titanic_data[\"Survived\"].mean() * 100\n",
    "ax.axhline(mean, color=\"black\", linewidth=0.4, linestyle=\"dashdot\")\n",
    "ax.annotate(\n",
    "    f\"mean : {mean :.4}%\",\n",
    "    xy=(\"70 ~ 80\", mean + 4),\n",
    "    va=\"center\",\n",
    "    ha=\"center\",\n",
    "    color=\"#4a4a4a\",\n",
    "    bbox=dict(boxstyle=\"round\", pad=0.4, facecolor=\"#efe8d1\", linewidth=0),\n",
    ")\n",
    "\n",
    "\n",
    "# Title & Subtitle\n",
    "fig.text(\n",
    "    0.06,\n",
    "    1,\n",
    "    \"Age Band & Survival Rate\",\n",
    "    fontsize=15,\n",
    "    fontweight=\"bold\",\n",
    "    fontfamily=\"serif\",\n",
    ")\n",
    "fig.text(\n",
    "    0.06,\n",
    "    0.96,\n",
    "    \"It can be seen that the survival rate of young children and the elderly is high.\",\n",
    "    fontsize=12,\n",
    "    fontweight=\"light\",\n",
    "    fontfamily=\"serif\",\n",
    ")\n",
    "\n",
    "grid_y_ticks = np.arange(0, 101, 20)\n",
    "ax.set_yticks(grid_y_ticks)\n",
    "ax.grid(axis=\"y\", linestyle=\"-\", alpha=0.4)\n",
    "\n",
    "plt.tight_layout()\n",
    "plt.show()"
   ]
  },
  {
   "cell_type": "code",
   "execution_count": 21,
   "metadata": {},
   "outputs": [
    {
     "data": {
      "image/png": "[encoded data removed]",
      "text/plain": [
       "<Figure size 1400x800 with 3 Axes>"
      ]
     },
     "metadata": {},
     "output_type": "display_data"
    }
   ],
   "source": [
    "fig = plt.figure(figsize=(14, 8))\n",
    "gs = fig.add_gridspec(3, 1)\n",
    "gs.update(hspace=0.5)  # Increased hspace to add more distance between charts\n",
    "\n",
    "axes = list()\n",
    "colors = [\"#022133\", \"#5c693b\", \"#51371c\"]\n",
    "\n",
    "for idx, cls, c in zip(range(3), sorted(titanic_data[\"Pclass\"].unique()), colors):\n",
    "    axes.append(fig.add_subplot(gs[idx, 0]))\n",
    "\n",
    "    # You can also draw density plot with matplotlib + scipy.\n",
    "    sns.kdeplot(\n",
    "        x=\"Age\",\n",
    "        data=titanic_data[titanic_data[\"Pclass\"] == cls],\n",
    "        fill=True,\n",
    "        ax=axes[idx],\n",
    "        cut=0,\n",
    "        bw_method=0.25,\n",
    "        lw=1.4,\n",
    "        edgecolor=\"lightgray\",\n",
    "        hue=\"Survived\",\n",
    "        multiple=\"stack\",\n",
    "        palette=\"PuBu\",\n",
    "        alpha=0.7,\n",
    "    )\n",
    "\n",
    "    # Adjust ylim to ensure the full chart is visible\n",
    "    axes[idx].set_ylim(0, 0.045)  # Increased the upper limit slightly\n",
    "    axes[idx].set_xlim(0, 85)\n",
    "\n",
    "    axes[idx].set_yticks([])\n",
    "    if idx != 2:\n",
    "        axes[idx].set_xticks([])\n",
    "    axes[idx].set_ylabel(\"\")\n",
    "    axes[idx].set_xlabel(\"\")\n",
    "\n",
    "    spines = [\"top\", \"right\", \"left\", \"bottom\"]\n",
    "    for s in spines:\n",
    "        axes[idx].spines[s].set_visible(False)\n",
    "\n",
    "    axes[idx].patch.set_alpha(0)\n",
    "    axes[idx].text(\n",
    "        -0.2,\n",
    "        0,\n",
    "        f\"Pclass {cls}\",\n",
    "        fontweight=\"light\",\n",
    "        fontfamily=\"serif\",\n",
    "        fontsize=11,\n",
    "        ha=\"right\",\n",
    "    )\n",
    "    if idx != 1:\n",
    "        axes[idx].get_legend().remove()\n",
    "\n",
    "fig.text(\n",
    "    0.13,\n",
    "    0.81,\n",
    "    \"Age distribution by Pclass\",\n",
    "    fontweight=\"bold\",\n",
    "    fontfamily=\"serif\",\n",
    "    fontsize=16,\n",
    ")\n",
    "\n",
    "plt.show()"
   ]
  },
  {
   "cell_type": "code",
   "execution_count": 22,
   "metadata": {},
   "outputs": [
    {
     "data": {
      "application/vnd.plotly.v1+json": {
       "config": {
        "plotlyServerURL": "https://plot.ly"
       },
       "data": [
        {
         "hovertemplate": "Age=%{x}<br>Survived=%{y}<br>Fare=%{marker.color}<extra></extra>",
         "legendgroup": "",
         "marker": {
          "color": {
           "bdata": "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",
           "dtype": "f8"
          },
          "coloraxis": "coloraxis",
          "size": {
           "bdata": "AAAAAAAAHUA8vVKWIdJRQDMzMzMzsx9AzczMzMyMSkCamZmZmRkgQHuDL0ym6iBAZmZmZmbuSUAzMzMzMxM1QBUdyeU/RCZAio7k8h8SPkAzMzMzM7MwQM3MzMzMjDpAmpmZmZkZIEBmZmZmZkY/QAn5oGezah9AAAAAAAAAMEAAAAAAACA9QAAAAAAAACpAAAAAAAAAMkBmZmZmZuYcQAAAAAAAADpAAAAAAAAAKkAeFmpN8w4gQAAAAAAAwEFAMzMzMzMTNUAzMzMzM2M/QGZmZmZm5hxAAAAAAABwcECjkjoBTYQfQPcGX5hMlR9A8fRKWYa4O0A4+MJkqlBiQAAAAAAAAB9AAAAAAAAAJUAJih9j7opUQAAAAAAAAEpACfmgZ7PqHECamZmZmRkgQAAAAAAAADJA6+I2GsB7JkAzMzMzM/MiQAAAAAAAADVA9wZfmEyVH0Du68A5I8pEQKOSOgFNhB9AmpmZmZkZIEAAAAAAAAAvQAAAAAAAAB9AdnEbDeCtNUDNzMzMzMwxQAAAAAAA2ENAMzMzMzMzH0CRD3o2qy5TQAAAAAAAADpAIR/0bFb9TkAAAAAAAMBBQAAAAAAAACVACfmgZ7PqHEAAAAAAAMA7QDMzMzMzc0dACfmgZ7PqHEAAAAAAAABUQGZmZmZm3lRAZmZmZmbmO0Dx9EpZhrg7QK62Yn/ZfS5AAAAAAAAAJUDi6ZWyDFEgQDMzMzMzsx9AMzMzMzNTIUAAAAAAAAAlQDMzMzMzc0dAAAAAAABgUkC4rwPnjOgsQKyt2F92P0xAmpmZmZmZHkD3Bl+YTJUfQJqZmZmZGSBAAAAAAAAAPUAzMzMzM/MoQAAAAAAAACJAAAAAAAAAI0BmZmZmZiYfQM3MzMzMjEdAAAAAAAAAJUAzMzMzM7MvQAAAAAAAMEFAmpmZmZkZIEAAAAAAAHBwQJqZmZmZGSBAmpmZmZkZIEAJ+aBns2ofQGZmZmZmlk5AMzMzMzOTNEAAAAAAAAAdQJqZmZmZGSBAiIVa07xTQUASFD/G3K1PQAAAAAAAADdAAAAAAAAAOkD3Bl+YTJUfQPcGX5hMlR9AZmZmZmZSU0AeFmpN804hQDMzMzMzsx9A9wZfmEyVH0CamZmZmZkeQJqZmZmZGR9A9wZfmEyVH0BmZmZmZiY4QAAAAAAAAEpAuK8D54zoLECamZmZmRkgQGZmZmZmpiNAe4MvTKbqLEAzMzMzM7MfQAAAAAAAAB9AAAAAAAAANUA4+MJkqvBuQGZmZmZmRj9AAAAAAABgUkCamZmZmRkgQIqO5PIfEj5AAAAAAAAAKkBmZmZmZlJTQOviNhrAeyZAAAAAAAAAH0BwXwfOGZEcQCQofoy5WzZAZmZmZmbmG0D3Bl+YTJUfQDMzMzMzMxxAAAAAAAAALUAAAAAAAAA6QAAAAAAAACpASFD8GHMXLkDx9EpZhkg6QM3MzMzMjEpAHhZqTfNuIkDNzMzMzMxTQK62Yn/ZfS5AAAAAAAAAH0AzMzMzM7MvQAAAAAAAABtAAAAAAAAAJ0AAAAAAAGBCQJCg+DHmLh9AAAAAAAAwQUAAAAAAAAA6QAAAAAAAACpAzczMzMwMKUBmZmZmZqZQQJqZmZmZGSBAAAAAAAAALUAAAAAAAEAdQFRSJ6CJsE5AkKD4MebuHkCamZmZmRkgQDMzMzMzUyFAMzMzMzNjUUCamZmZmRkwQAAAAAAAgC9AmpmZmZkZH0AzMzMzM1MhQAAAAAAA2ENAZmZmZmaGNEAAAAAAAIBLQGZmZmZm5jtAzczMzMzsOUCsrdhfdj9MQAAAAAAAwEBAAAAAAAAgPUAVHcnlP0QmQDMzMzMzsx9Aio7k8h+yPkAJ+aBns2ofQA8LtaZ5dzlAZmZmZma2PEAAAAAAAAAqQAAAAAAAAAAAMzMzMzNjUUCamZmZmRkuQDMzMzMzYz9AAAAAAACAQ0BmZmZmZgY2QAAAAAAAAElAAAAAAAAAL0DNzMzMzIw6QAAAAAAAAC9A9wZfmEyVH0AAAAAAAAAqQAAAAAAAACpACfmgZ7NqH0AAAAAAAAA6QPH0SlmGuDtAOPjCZKpQYkAAAAAAAAAfQB4Wak3zziBAAAAAAAAAH0AAAAAAAAAqQAAAAAAAACNAMzMzMzNjUUBdbcX+svsZQGZmZmZm5hxAmpmZmZkZIEDNzMzMzOwkQDMzMzMzsy9AmpmZmZnJMkAAAAAAAAAfQAAAAAAAAD9AMzMzMzMzHEAAAAAAAAA1QAAAAAAAAB1AAAAAAAAAKkAAAAAAAAAfQJqZmZmZUVxAMzMzMzOzH0AAAAAAAAA7QJEPejarElNAAAAAAAAAJUCamZmZmRkgQAAAAAAAACpAmpmZmZkZIED3Bl+YTJUfQAAAAAAAgFZAMzMzMzOzIkAAAAAAAAAlQAAAAAAAAB1AAAAAAAAAKkAPC7WmeXc5QGZmZmZm3lRAmpmZmZkZH0AAAAAAAAArQDMzMzMzYz9AAAAAAAAAJUAzMzMzMzMeQAAAAAAAADpAAAAAAABAOkAAAAAAAAAlQM3MzMzMjChAuK8D54zoLEAAAAAAAAAvQAAAAAAAACVAAAAAAACAHEBmZmZmZuYcQAAAAAAAgFZAmpmZmZkZH0AAAAAAAAAtQLu4jQbwRkpAAAAAAAAAOkAAAAAAAAAdQM3MzMzM7CRAzczMzMyMOkCamZmZmRkwQGZmZmZmNjRArrZif9l9LkDNzMzMzMxTQAAAAAAAoFVAvw6cM6ICgEAAAAAAAAA6QAAAAAAAAB9AMzMzMzNjP0CamZmZmelTQAAAAAAAAAAAAAAAAAAAH0AAAAAAAAAlQAAAAAAA2ENAmpmZmZkZH0DNzMzMzC5jQNGRXP5D9GBAAAAAAAAAP0AAAAAAAAAAAAAAAAAAgDNAMzMzMzOzPUAAAAAAAAAfQG/whclUfVNAAAAAAAAAH0AAAAAAAAAAAAAAAAAAID1AAAAAAABANEAAAAAAAAAfQAn5oGezah9AAAAAAAAAI0CamZmZmRkgQAAAAAAAADpAMzMzMzNTIUAAAAAAAAAjQPcGX5hMlR9AAAAAAAAAKkAAAAAAAAAfQGZmZmZmtlNA93XgnBHFVkAAAAAAAMApQDMzMzMzsyFA9wZfmEyVH0Dx9EpZhrg7QAn5oGez6hxAmpmZmZnxYkAAAAAAAIA+QDj4wmSq8G5AAAAAAAAAH0AAAAAAAEA3QAAAAAAAAAAAMzMzMzOzKECamZmZmRkgQJqZmZmZ8WJAoyO5/Ie4W0CamZmZmTlbQAAAAAAAADhAu7iNBvB2TEA8vVKWIcpUQAAAAAAAZnBAAAAAAAAAOkD3Bl+YTJUfQAAAAAAAQDpACfmgZ7NqH0AAAAAAAAA6QAAAAAAAACxAL26jAbybZEAAAAAAANBgQAAAAAAAAB1A9wZfmEyVH0AzMzMzM7MoQAAAAAAAAD1AMzMzMzNjUUDRkVz+Q/RgQDMzMzMz8xhAAAAAAAAAKkBmZmZmZoY0QCEf9GxW/UxAAAAAAABAN0AAAAAAAIA8QM3MzMzMLmNAAAAAAAAAMkDNzMzMzLRgQPcGX5hMlR9AZmZmZmamUEAAAAAAANBgQJqZmZmZGSBAAAAAAADAQUAAAAAAAAA6QAAAAAAAcHBAAAAAAAAAKkAAAAAAAAAqQAAAAAAAACpAAAAAAAAAKkAAAAAAAAAqQJqZmZmZGTBAzczMzMzML0AzMzMzM1MhQDMzMzMzcyJAAAAAAACAQUAJ+aBns+ocQM3MzMzMzDFAZmZmZmbmHEAAAAAAAAAjQAAAAAAAgEtAAAAAAAAAKkCjkjoBTYQfQKOSOgFNhB9AZmZmZmbmO0Dx9EpZhrg7QLivA+eM6CxAMzMzMzMzHEAAAAAAAAAvQAAAAAAAAB1AAAAAAADQUkAJ+aBns+ocQAAAAAAAAB9AMzMzMzNTUUBUUiegibhLQF1txf6y+xlAmpmZmZkZIEDRkVz+Q/RgQDMzMzMzEzVACYofY+6KVEAAAAAAAAAdQAAAAAAAcGpAzczMzMwMEECamZmZmRkfQM3MzMzMcGxA6+I2GsB7L0AzMzMzM7MfQAAAAAAAAEpA9wZfmEyVH0AAAAAAAGBSQDMzMzMzc0dAAAAAAAAAKkAJ+aBns+oeQAAAAAAAAChAAAAAAAAAXkCQoPgx5i4fQDMzMzMzsx9AmpmZmZlRXEAzMzMzM7MwQJCg+DHmLh9ACfmgZ7NqH0AAAAAAAAA6QAAAAAAAACVAzczMzMxMKUAzMzMzM7MfQJqZmZmZGSBAZmZmZmamI0AzMzMzM7MvQDMzMzMzUyFAAAAAAAAANUAAAAAAAAAfQAAAAAAAwDJAmpmZmZkZH0APC7WmeXc5QPcGX5hMlR9AkKD4MeZuG0AAAAAAAIBWQAAAAAAAAAAAMzMzMzOzH0CamZmZmRkgQAAAAAAAQEBAAAAAAAAAKkAAAAAAAAAqQGZmZmZmJjhA9wZfmEyVH0CQoPgx5u4eQAAAAAAAgB9AzczMzMzMLEBmZmZmZjY0QAAAAAAAAB1AAAAAAAAAOkAAAAAAAAA6QAAAAAAAAB9AmpmZmZkZIEDNzMzMzIw6QJqZmZmZGTBAAAAAAAAAOkAAAAAAAIAcQDMzMzMz80tAAAAAAAAAXkAAAAAAADBBQAAAAAAAwDJAAAAAAABwcEAAAAAAAAAlQAAAAAAAQDpAAAAAAAAAI0CamZmZmRkfQAAAAAAAACpAmpmZmZk5IEAJih9j7nZUQAAAAAAAgDNAzczMzMyMOkCKjuTyH0IzQAAAAAAAgD5AAAAAAADAO0APC7WmefczQAAAAAAAwDtAkQ96NqtGVkCamZmZmRkgQPcGX5hMlR9AzczMzMyMOkBmZmZmZu5JQAAAAAAAACVAAAAAAAAAH0DNzMzMzIw6QJqZmZmZGSBAAAAAAABAQ0AAAAAAAAAqQJqZmZmZGSBAMzMzMzMzHEAAAAAAAAAAAM3MzMzMjDpAZmZmZmbmHkCKjuTyH0IzQAAAAAAAAB1AMzMzMzNTIUAAAAAAAMA7QIV80LNZlStAzczMzMysI0AAAAAAAABKQAAAAAAAADVAkKD4MeYuHED3Bl+YTBUeQDMzMzMzkyhAMzMzMzNzR0AAAAAAAAAAAJqZmZmZGSBAzczMzMwsI0D3deCcEcVWQA8LtaZ5dzlAAAAAAACAVkAzMzMzM7M9QJqZmZmZGSBAzczMzMzML0APC7WmefczQAAAAAAAAB1AAAAAAACAPkBUUiegicBIQJqZmZmZGSBAe4MvTKbqLED3deCcEZFTQDMzMzMzMy5AmpmZmZnxYkCQoPgx5i4fQDMzMzMzUyFAAAAAAAAAH0CjkjoBTYQeQM3MzMzMLCNAAAAAAACgVUCamZmZmTlbQAAAAAAAADpAzczMzMyMOkBmZmZmZoY2QKyt2F92P0xAAAAAAAAAH0CamZmZmRkgQJqZmZmZSTpAMzMzMzOzTUBdbcX+svsdQN/gC5OpAkFAAAAAAAAAJUBmZmZmZiY4QAAAAAAAADpA9wZfmEyVH0AAAAAAAGBXQPcGX5hMlR9AZmZmZmbmHEAhH/RsVv1MQAn5oGez6hxAAAAAAAAAH0AAAAAAAAAlQGKh1jTvuGtAMzMzMzOzH0AAAAAAAAAnQAAAAAAAADpACfmgZ7PqHEAJ+aBns+ocQCQofoy5WzZAMzMzMzNTIUAAAAAAAEA6QM3MzMzMjDpAMzMzMzObWkAAAAAAAAAtQAAAAAAAwEhAAAAAAADAUUBmZmZmZkY/QGZmZmZmRj9AAAAAAAAAOkAzMzMzM5taQAAAAAAAADpAAAAAAAAAOkCamZmZmbkrQGZmZmZmhjRAAAAAAABgQkCjI7n8h7hbQAAAAAAAADpAcF8HzhlRH0BmZmZmZuYcQJqZmZmZGR9AzczMzMyMOkDNzMzMzMxDQM3MzMzMcGxAmpmZmZnpU0BmZmZmZmYxQAAAAAAAAB9A9wZfmEyVH0AAAAAAAAArQJqZmZmZGSBAmpmZmZkZIEBmZmZmZiY4QPcGX5hMlR9AMzMzMzMTNUAJ+aBns+ocQAn5oGezah9AAAAAAAAAJUAhH/RsVr1JQDMzMzMzYzpAAAAAAAAAH0CamZmZmRkgQAAAAAAAAC1AAAAAAAAAKkAzMzMzM/NLQHuDL0ym6ixAMzMzMzOzH0AAAAAAAAA+QKMjufyHuFtAAAAAAAAAOkAAAAAAABBEQM3MzMzMbCFAmpmZmZnpU0AAAAAAAAAuQM3MzMzMzFNAmpmZmZkZIECamZmZmRkgQAAAAAAAgBxA93XgnBGRU0AAAAAAAAAdQAAAAAAAAB9AAAAAAAAAOkBmZmZmZiY4QAAAAAAAgEBAAAAAAAAAAABmZmZmZuYcQLu4jQbwdkxAAAAAAAAAO0D3Bl+YTJUfQDMzMzMzM0VAmpmZmZkZIEDNzMzMzIw6QJqZmZmZGS9A9wZfmEyVH0AAAAAAAIA+QO7rwDkjykRAzczMzMwuY0BmZmZmZkY/QDMzMzMzMxxAAAAAAAAAL0AAAAAAAAAfQJqZmZmZGSBAAAAAAABAUEDNzMzMzMwsQJqZmZmZGTBAAAAAAACAQ0AAAAAAAAAlQLivA+eM6CxAu7iNBvBGSkDr4jYawHsvQAn5oGezah9AmpmZmZkZMEBFR3L5DylAQDMzMzMzsyhAb/CFyVR9U0D3Bl+YTJUfQJCg+DHm7h5AAAAAAAAAPkDWxW00gDccQAAAAAAAgD5AAAAAAAAAAABmZmZmZuY7QAAAAAAAACpAMzMzMzOzH0AAAAAAAEA6QAAAAAAA2ENAmpmZmZkZMEAJ+aBns2ofQDMzMzMzU1FAZmZmZmbmO0Csrdhfdj9MQIqO5PIfQjNAkQ96NqsuU0D3Bl+YTJUfQAAAAAAAwEFAMzMzMzMzHkAzMzMzMzMeQPcGX5hMlR9AAAAAAAAAN0CutmJ/2d0gQHBfB84ZUR9AAAAAAAAAG0AAAAAAAGBSQPcGX5hMlR9AAAAAAAAAL0AAAAAAAAAqQJqZmZmZUVxAzczMzMy0YEBmZmZmZuYcQGZmZmZmljlAXW3F/rL7HUAzMzMzM7MfQAAAAAAAYFJAAAAAAAAAKkCamZmZmRkfQJqZmZmZGSBAAAAAAAAASkAAAAAAAIBDQAAAAAAAAEpAAAAAAAAAJUAAAAAAAAAqQAAAAAAAAAAAmpmZmZkZH0CamZmZmRkgQB4Wak3zriNAMzMzMzNzR0C/DpwzogKAQGZmZmZmRiBAkQ96NqsuU0AzMzMzM3MiQDMzMzMzc0dAAAAAAACAQ0Du68A5I8pEQAAAAAAA2ENASFD8GHNXJECQoPgx5i4fQM3MzMzMampAAAAAAACATECFfNCzWdUqQKyt2F92P0xAZmZmZmbmHEDNzMzMzIw6QAAAAAAAACtAmpmZmZkZIECQoPgx5u4eQKMjufyHuFtAmpmZmZmZHkDNzMzMzHBsQJqZmZmZSTpAuK8D54zoLEDWxW00gPceQAn5oGezah9AAAAAAAAAOkAAAAAAAAArQJqZmZmZSTpAmpmZmZnxYkCutmJ/2X0uQFRSJ6CJwEhAzczMzMyMOkAAAAAAAABKQEhQ/Bhz9yJAAAAAAAAAKkCamZmZmZkeQM3MzMzMcGxAAAAAAAAAJUAAAAAAAAAvQJqZmZmZGR9AAAAAAACAQEDWxW00gDccQAAAAAAAACpAAAAAAAAAKkDNzMzMzIxKQDMzMzMzUyFAAAAAAAAANUAzMzMzM/MeQAAAAAAAADpAMzMzMzOzH0DNzMzMzGpqQJqZmZmZyTJAAAAAAAAAAAAAAAAAAAAqQAAAAAAAACpAmpmZmZkZMEAAAAAAADBBQL8OnDOiAoBA9wZfmEyVH0D3Bl+YTJUfQAAAAAAAAD5AZmZmZma2U0AAAAAAAGZwQJqZmZmZGTBAMzMzMzOzH0AAAAAAAMBRQAAAAAAAQDRAAAAAAAAAKkDNzMzMzIxKQAAAAAAAAB9AAAAAAAAAN0AzMzMzM/MoQAAAAAAAACNA9wZfmEyVH0AAAAAAAEBQQAAAAAAAAC1AkKD4MeYuH0AAAAAAAAAnQJqZmZmZGSBAAAAAAACgVUAAAAAAAAAtQAAAAAAAgBxACfmgZ7PqHEAAAAAAAABeQJqZmZmZGR9Ab/CFyVR9U0DNzMzMzMxDQAAAAAAAAB9AZmZmZmYmOECamZmZmbkgQAAAAAAAACNACfmgZ7NqH0AAAAAAAAAlQGZmZmZm5hxAAAAAAAAAN0AAAAAAAAAfQAAAAAAAAB9AMzMzMzPzKEAzMzMzM/MeQM3MzMzMampACfmgZ7PqHEAAAAAAAIBMQAAAAAAAAD5AMzMzMzNzN0AzMzMzMzMcQAAAAAAAAB1AXW3F/rL7HUAAAAAAACA9QDMzMzMzkzRAzczMzMzMU0AAAAAAAAAfQAAAAAAAADpAMzMzMzNjUUCKjuTyH7I+QPcGX5hMlR9AAAAAAAAAKkB2cRsN4O05QK62Yn/ZXSFACfmgZ7PqHEBmZmZmZiY4QAAAAAAAACpAAAAAAABAOkAAAAAAAABeQLivA+eMCCFAZmZmZmbmG0CamZmZmRkfQAAAAAAAAAAAmpmZmZkZH0AAAAAAAAAqQM3MzMzMjEpAzczMzMyMH0BmZmZmZiY4QAAAAAAAACVAZmZmZmZGP0CamZmZmRkgQAAAAAAAAAAAMzMzMzOzH0BUUiegiYBCQM3MzMzMzBlAZmZmZmbmO0AAAAAAAGBXQDMzMzMzUyFAAAAAAAAAAAAzMzMzM/MoQAAAAAAA2ENAzczMzMzMG0Csrdhfdj9MQFRSJ6CJgEJAAAAAAAAAH0AAAAAAAABUQLivA+eM6CxAAAAAAADAMkAJ+aBns+ocQAn5oGezah9AmpmZmZmZIEA8vVKWIcpUQDMzMzMzUyFAmpmZmZkZIECsrdhfdj9MQDMzMzMzsz1AMzMzMzOzH0AAAAAAAAAlQAAAAAAAAD9AAAAAAADAGUAzMzMzM1MhQDMzMzMzMx5AMzMzMzNjUUD3Bl+YTJUfQAAAAAAAgEBAkQ96NqtGVkBmZmZmZkY/QJqZmZmZGR9ArrZif9l9LkAzMzMzM7NDQAAAAAAAADpAMzMzMzOzIkAvbqMBvJtkQM3MzMzMjDpAio7k8h9CM0AJ+aBns+ocQEhQ/BhzNyxAAAAAAAAAJ0B2cRsN4O05QDMzMzMzY1FAAAAAAAAAKkAAAAAAAAAqQEhQ/BhztytArK3YX3Y/SUAAAAAAAAAjQBUdyeU/RCZA9wZfmEyVH0C7uI0G8EZKQAAAAAAAABRAAAAAAAAAIkAAAAAAAAA4QGZmZmZm5hxA4umVsgyxI0D3Bl+YTJUfQPcGX5hMlR9APL1SliHKVEAAAAAAAAA6QPcGX5hMlR9AuK8D54wIJUAAAAAAAAAlQDMzMzMzMxxAAAAAAAAgPUAAAAAAAAAqQAAAAAAAAD5AMzMzMzNzN0AAAAAAAAA+QAAAAAAAAB9A",
           "dtype": "f8"
          },
          "sizemode": "area",
          "sizeref": 0.20493168,
          "symbol": "circle"
         },
         "mode": "markers",
         "name": "",
         "orientation": "v",
         "showlegend": false,
         "type": "scatter",
         "x": {
          "bdata": "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",
          "dtype": "f8"
         },
         "xaxis": "x",
         "y": {
          "bdata": "AAEBAQAAAAABAQEBAAAAAQABAAEAAQEBAAEAAAEAAAEBAAAAAQAAAQAAAAEBAAABAAAAAAEBAAEBAAEAAAEAAAABAQABAAAAAAABAAAAAQEAAQEAAQEAAAEAAAAAAAAAAAEBAAAAAAAAAAEBAAEAAAAAAAAAAAAAAAAAAQABAAEBAAAAAAEAAAEAAAAAAQEAAAABAAAAAAEAAAAAAQAAAAABAAAAAQEAAAAAAAEAAAAAAAAAAAAAAQEAAQEAAAEAAQEBAQAAAQAAAAAAAQAAAQEBAAEAAAABAQABAAEAAAABAAEAAAABAAABAAAAAQAAAAEAAAAAAAEBAAAAAAAAAQEBAQEAAQAAAAAAAQEBAAEBAAEBAAAAAQAAAAEAAAEAAQEBAQAAAAAAAAEBAQEAAQABAQEAAQEBAAAAAQEAAQEAAAEBAAEAAQEBAQAAAAEAAAEBAAEBAAAAAQEBAQAAAAAAAAABAAEBAAAAAAAAAQEBAQEAAAAAAQEAAAABAQABAAAAAQABAQEAAQEAAAAAAQEAAAAAAAABAAAAAAEAAQABAQAAAAAAAAAAAQEAAQEBAQAAAQABAAABAAABAQEBAQEBAAAAAQABAAEBAAEAAAAAAAAAAAEAAAEBAAAAAAABAAAAAQEAAQAAAQAAAAAAAAEAAAAAAAAAAQABAQABAQABAQAAAQABAAEAAAEAAAEAAAABAAABAAEAAQABAQAAAQAAAQEAAQEAAAEBAAEAAQEAAAAAAAAAAAABAQEBAQAAAQEAAQEBAAAAAQABAAAAAQAAAAABAAABAQAAAAEAAAEBAQAAAQAAAQAAAQAAAQEAAAAAAQAAAQABAAABAAAAAAABAAEBAQABAAEAAQABAAAAAAAAAQAAAAEAAAAAAQEAAAEAAAABAAEAAQAAAAAAAAABAQEBAAAAAAEAAAEBAAAAAAEBAQEBAAEAAAABAQAAAQAAAAEAAQEAAAEAAAAAAAABAAABAAEAAQAAAQAAAQEAAAEBAAAAAQAAAQEAAQAAAAAAAAAAAQAAAQABAQEAAAAAAQABAAAAAAAAAAEBAAAAAQEBAQAAAAABAAAAAAAAAAAAAAEBAAEAAAABAQEBAQAAAAEAAAEBAAABAAAAAAAAAQAAAAEAAQEBAQAAAAEAAAEBAAABAAEAAAEBAAAAAQEAAAAAAAABAAEA",
          "dtype": "i1"
         },
         "yaxis": "y"
        }
       ],
       "layout": {
        "coloraxis": {
         "colorbar": {
          "title": {
           "text": "Fare"
          }
         },
         "colorscale": [
          [
           0,
           "#0d0887"
          ],
          [
           0.1111111111111111,
           "#46039f"
          ],
          [
           0.2222222222222222,
           "#7201a8"
          ],
          [
           0.3333333333333333,
           "#9c179e"
          ],
          [
           0.4444444444444444,
           "#bd3786"
          ],
          [
           0.5555555555555556,
           "#d8576b"
          ],
          [
           0.6666666666666666,
           "#ed7953"
          ],
          [
           0.7777777777777778,
           "#fb9f3a"
          ],
          [
           0.8888888888888888,
           "#fdca26"
          ],
          [
           1,
           "#f0f921"
          ]
         ]
        },
        "legend": {
         "itemsizing": "constant",
         "tracegroupgap": 0
        },
        "template": {
         "data": {
          "bar": [
           {
            "error_x": {
             "color": "#f2f5fa"
            },
            "error_y": {
             "color": "#f2f5fa"
            },
            "marker": {
             "line": {
              "color": "rgb(17,17,17)",
              "width": 0.5
             },
             "pattern": {
              "fillmode": "overlay",
              "size": 10,
              "solidity": 0.2
             }
            },
            "type": "bar"
           }
          ],
          "barpolar": [
           {
            "marker": {
             "line": {
              "color": "rgb(17,17,17)",
              "width": 0.5
             },
             "pattern": {
              "fillmode": "overlay",
              "size": 10,
              "solidity": 0.2
             }
            },
            "type": "barpolar"
           }
          ],
          "carpet": [
           {
            "aaxis": {
             "endlinecolor": "#A2B1C6",
             "gridcolor": "#506784",
             "linecolor": "#506784",
             "minorgridcolor": "#506784",
             "startlinecolor": "#A2B1C6"
            },
            "baxis": {
             "endlinecolor": "#A2B1C6",
             "gridcolor": "#506784",
             "linecolor": "#506784",
             "minorgridcolor": "#506784",
             "startlinecolor": "#A2B1C6"
            },
            "type": "carpet"
           }
          ],
          "choropleth": [
           {
            "colorbar": {
             "outlinewidth": 0,
             "ticks": ""
            },
            "type": "choropleth"
           }
          ],
          "contour": [
           {
            "colorbar": {
             "outlinewidth": 0,
             "ticks": ""
            },
            "colorscale": [
             [
              0,
              "#0d0887"
             ],
             [
              0.1111111111111111,
              "#46039f"
             ],
             [
              0.2222222222222222,
              "#7201a8"
             ],
             [
              0.3333333333333333,
              "#9c179e"
             ],
             [
              0.4444444444444444,
              "#bd3786"
             ],
             [
              0.5555555555555556,
              "#d8576b"
             ],
             [
              0.6666666666666666,
              "#ed7953"
             ],
             [
              0.7777777777777778,
              "#fb9f3a"
             ],
             [
              0.8888888888888888,
              "#fdca26"
             ],
             [
              1,
              "#f0f921"
             ]
            ],
            "type": "contour"
           }
          ],
          "contourcarpet": [
           {
            "colorbar": {
             "outlinewidth": 0,
             "ticks": ""
            },
            "type": "contourcarpet"
           }
          ],
          "heatmap": [
           {
            "colorbar": {
             "outlinewidth": 0,
             "ticks": ""
            },
            "colorscale": [
             [
              0,
              "#0d0887"
             ],
             [
              0.1111111111111111,
              "#46039f"
             ],
             [
              0.2222222222222222,
              "#7201a8"
             ],
             [
              0.3333333333333333,
              "#9c179e"
             ],
             [
              0.4444444444444444,
              "#bd3786"
             ],
             [
              0.5555555555555556,
              "#d8576b"
             ],
             [
              0.6666666666666666,
              "#ed7953"
             ],
             [
              0.7777777777777778,
              "#fb9f3a"
             ],
             [
              0.8888888888888888,
              "#fdca26"
             ],
             [
              1,
              "#f0f921"
             ]
            ],
            "type": "heatmap"
           }
          ],
          "histogram": [
           {
            "marker": {
             "pattern": {
              "fillmode": "overlay",
              "size": 10,
              "solidity": 0.2
             }
            },
            "type": "histogram"
           }
          ],
          "histogram2d": [
           {
            "colorbar": {
             "outlinewidth": 0,
             "ticks": ""
            },
            "colorscale": [
             [
              0,
              "#0d0887"
             ],
             [
              0.1111111111111111,
              "#46039f"
             ],
             [
              0.2222222222222222,
              "#7201a8"
             ],
             [
              0.3333333333333333,
              "#9c179e"
             ],
             [
              0.4444444444444444,
              "#bd3786"
             ],
             [
              0.5555555555555556,
              "#d8576b"
             ],
             [
              0.6666666666666666,
              "#ed7953"
             ],
             [
              0.7777777777777778,
              "#fb9f3a"
             ],
             [
              0.8888888888888888,
              "#fdca26"
             ],
             [
              1,
              "#f0f921"
             ]
            ],
            "type": "histogram2d"
           }
          ],
          "histogram2dcontour": [
           {
            "colorbar": {
             "outlinewidth": 0,
             "ticks": ""
            },
            "colorscale": [
             [
              0,
              "#0d0887"
             ],
             [
              0.1111111111111111,
              "#46039f"
             ],
             [
              0.2222222222222222,
              "#7201a8"
             ],
             [
              0.3333333333333333,
              "#9c179e"
             ],
             [
              0.4444444444444444,
              "#bd3786"
             ],
             [
              0.5555555555555556,
              "#d8576b"
             ],
             [
              0.6666666666666666,
              "#ed7953"
             ],
             [
              0.7777777777777778,
              "#fb9f3a"
             ],
             [
              0.8888888888888888,
              "#fdca26"
             ],
             [
              1,
              "#f0f921"
             ]
            ],
            "type": "histogram2dcontour"
           }
          ],
          "mesh3d": [
           {
            "colorbar": {
             "outlinewidth": 0,
             "ticks": ""
            },
            "type": "mesh3d"
           }
          ],
          "parcoords": [
           {
            "line": {
             "colorbar": {
              "outlinewidth": 0,
              "ticks": ""
             }
            },
            "type": "parcoords"
           }
          ],
          "pie": [
           {
            "automargin": true,
            "type": "pie"
           }
          ],
          "scatter": [
           {
            "marker": {
             "line": {
              "color": "#283442"
             }
            },
            "type": "scatter"
           }
          ],
          "scatter3d": [
           {
            "line": {
             "colorbar": {
              "outlinewidth": 0,
              "ticks": ""
             }
            },
            "marker": {
             "colorbar": {
              "outlinewidth": 0,
              "ticks": ""
             }
            },
            "type": "scatter3d"
           }
          ],
          "scattercarpet": [
           {
            "marker": {
             "colorbar": {
              "outlinewidth": 0,
              "ticks": ""
             }
            },
            "type": "scattercarpet"
           }
          ],
          "scattergeo": [
           {
            "marker": {
             "colorbar": {
              "outlinewidth": 0,
              "ticks": ""
             }
            },
            "type": "scattergeo"
           }
          ],
          "scattergl": [
           {
            "marker": {
             "line": {
              "color": "#283442"
             }
            },
            "type": "scattergl"
           }
          ],
          "scattermap": [
           {
            "marker": {
             "colorbar": {
              "outlinewidth": 0,
              "ticks": ""
             }
            },
            "type": "scattermap"
           }
          ],
          "scattermapbox": [
           {
            "marker": {
             "colorbar": {
              "outlinewidth": 0,
              "ticks": ""
             }
            },
            "type": "scattermapbox"
           }
          ],
          "scatterpolar": [
           {
            "marker": {
             "colorbar": {
              "outlinewidth": 0,
              "ticks": ""
             }
            },
            "type": "scatterpolar"
           }
          ],
          "scatterpolargl": [
           {
            "marker": {
             "colorbar": {
              "outlinewidth": 0,
              "ticks": ""
             }
            },
            "type": "scatterpolargl"
           }
          ],
          "scatterternary": [
           {
            "marker": {
             "colorbar": {
              "outlinewidth": 0,
              "ticks": ""
             }
            },
            "type": "scatterternary"
           }
          ],
          "surface": [
           {
            "colorbar": {
             "outlinewidth": 0,
             "ticks": ""
            },
            "colorscale": [
             [
              0,
              "#0d0887"
             ],
             [
              0.1111111111111111,
              "#46039f"
             ],
             [
              0.2222222222222222,
              "#7201a8"
             ],
             [
              0.3333333333333333,
              "#9c179e"
             ],
             [
              0.4444444444444444,
              "#bd3786"
             ],
             [
              0.5555555555555556,
              "#d8576b"
             ],
             [
              0.6666666666666666,
              "#ed7953"
             ],
             [
              0.7777777777777778,
              "#fb9f3a"
             ],
             [
              0.8888888888888888,
              "#fdca26"
             ],
             [
              1,
              "#f0f921"
             ]
            ],
            "type": "surface"
           }
          ],
          "table": [
           {
            "cells": {
             "fill": {
              "color": "#506784"
             },
             "line": {
              "color": "rgb(17,17,17)"
             }
            },
            "header": {
             "fill": {
              "color": "#2a3f5f"
             },
             "line": {
              "color": "rgb(17,17,17)"
             }
            },
            "type": "table"
           }
          ]
         },
         "layout": {
          "annotationdefaults": {
           "arrowcolor": "#f2f5fa",
           "arrowhead": 0,
           "arrowwidth": 1
          },
          "autotypenumbers": "strict",
          "coloraxis": {
           "colorbar": {
            "outlinewidth": 0,
            "ticks": ""
           }
          },
          "colorscale": {
           "diverging": [
            [
             0,
             "#8e0152"
            ],
            [
             0.1,
             "#c51b7d"
            ],
            [
             0.2,
             "#de77ae"
            ],
            [
             0.3,
             "#f1b6da"
            ],
            [
             0.4,
             "#fde0ef"
            ],
            [
             0.5,
             "#f7f7f7"
            ],
            [
             0.6,
             "#e6f5d0"
            ],
            [
             0.7,
             "#b8e186"
            ],
            [
             0.8,
             "#7fbc41"
            ],
            [
             0.9,
             "#4d9221"
            ],
            [
             1,
             "#276419"
            ]
           ],
           "sequential": [
            [
             0,
             "#0d0887"
            ],
            [
             0.1111111111111111,
             "#46039f"
            ],
            [
             0.2222222222222222,
             "#7201a8"
            ],
            [
             0.3333333333333333,
             "#9c179e"
            ],
            [
             0.4444444444444444,
             "#bd3786"
            ],
            [
             0.5555555555555556,
             "#d8576b"
            ],
            [
             0.6666666666666666,
             "#ed7953"
            ],
            [
             0.7777777777777778,
             "#fb9f3a"
            ],
            [
             0.8888888888888888,
             "#fdca26"
            ],
            [
             1,
             "#f0f921"
            ]
           ],
           "sequentialminus": [
            [
             0,
             "#0d0887"
            ],
            [
             0.1111111111111111,
             "#46039f"
            ],
            [
             0.2222222222222222,
             "#7201a8"
            ],
            [
             0.3333333333333333,
             "#9c179e"
            ],
            [
             0.4444444444444444,
             "#bd3786"
            ],
            [
             0.5555555555555556,
             "#d8576b"
            ],
            [
             0.6666666666666666,
             "#ed7953"
            ],
            [
             0.7777777777777778,
             "#fb9f3a"
            ],
            [
             0.8888888888888888,
             "#fdca26"
            ],
            [
             1,
             "#f0f921"
            ]
           ]
          },
          "colorway": [
           "#636efa",
           "#EF553B",
           "#00cc96",
           "#ab63fa",
           "#FFA15A",
           "#19d3f3",
           "#FF6692",
           "#B6E880",
           "#FF97FF",
           "#FECB52"
          ],
          "font": {
           "color": "#f2f5fa"
          },
          "geo": {
           "bgcolor": "rgb(17,17,17)",
           "lakecolor": "rgb(17,17,17)",
           "landcolor": "rgb(17,17,17)",
           "showlakes": true,
           "showland": true,
           "subunitcolor": "#506784"
          },
          "hoverlabel": {
           "align": "left"
          },
          "hovermode": "closest",
          "mapbox": {
           "style": "dark"
          },
          "paper_bgcolor": "rgb(17,17,17)",
          "plot_bgcolor": "rgb(17,17,17)",
          "polar": {
           "angularaxis": {
            "gridcolor": "#506784",
            "linecolor": "#506784",
            "ticks": ""
           },
           "bgcolor": "rgb(17,17,17)",
           "radialaxis": {
            "gridcolor": "#506784",
            "linecolor": "#506784",
            "ticks": ""
           }
          },
          "scene": {
           "xaxis": {
            "backgroundcolor": "rgb(17,17,17)",
            "gridcolor": "#506784",
            "gridwidth": 2,
            "linecolor": "#506784",
            "showbackground": true,
            "ticks": "",
            "zerolinecolor": "#C8D4E3"
           },
           "yaxis": {
            "backgroundcolor": "rgb(17,17,17)",
            "gridcolor": "#506784",
            "gridwidth": 2,
            "linecolor": "#506784",
            "showbackground": true,
            "ticks": "",
            "zerolinecolor": "#C8D4E3"
           },
           "zaxis": {
            "backgroundcolor": "rgb(17,17,17)",
            "gridcolor": "#506784",
            "gridwidth": 2,
            "linecolor": "#506784",
            "showbackground": true,
            "ticks": "",
            "zerolinecolor": "#C8D4E3"
           }
          },
          "shapedefaults": {
           "line": {
            "color": "#f2f5fa"
           }
          },
          "sliderdefaults": {
           "bgcolor": "#C8D4E3",
           "bordercolor": "rgb(17,17,17)",
           "borderwidth": 1,
           "tickwidth": 0
          },
          "ternary": {
           "aaxis": {
            "gridcolor": "#506784",
            "linecolor": "#506784",
            "ticks": ""
           },
           "baxis": {
            "gridcolor": "#506784",
            "linecolor": "#506784",
            "ticks": ""
           },
           "bgcolor": "rgb(17,17,17)",
           "caxis": {
            "gridcolor": "#506784",
            "linecolor": "#506784",
            "ticks": ""
           }
          },
          "title": {
           "x": 0.05
          },
          "updatemenudefaults": {
           "bgcolor": "#506784",
           "borderwidth": 0
          },
          "xaxis": {
           "automargin": true,
           "gridcolor": "#283442",
           "linecolor": "#506784",
           "ticks": "",
           "title": {
            "standoff": 15
           },
           "zerolinecolor": "#283442",
           "zerolinewidth": 2
          },
          "yaxis": {
           "automargin": true,
           "gridcolor": "#283442",
           "linecolor": "#506784",
           "ticks": "",
           "title": {
            "standoff": 15
           },
           "zerolinecolor": "#283442",
           "zerolinewidth": 2
          }
         }
        },
        "title": {
         "text": "Age vs Survived"
        },
        "xaxis": {
         "anchor": "y",
         "domain": [
          0,
          1
         ],
         "title": {
          "text": "Age"
         },
         "type": "log"
        },
        "yaxis": {
         "anchor": "x",
         "domain": [
          0,
          1
         ],
         "title": {
          "text": "Survived"
         }
        }
       }
      }
     },
     "metadata": {},
     "output_type": "display_data"
    }
   ],
   "source": [
    "import plotly.express as px\n",
    "\n",
    "# Create a scatter plot using Plotly\n",
    "fig = px.scatter(\n",
    "    titanic_data,\n",
    "    x=\"Age\",\n",
    "    y=\"Survived\",\n",
    "    size=\"Fare\",  # Bubble size based on Fare\n",
    "    color=\"Fare\",  # Color based on Fare\n",
    "    log_x=True,  # Logarithmic scale for Age\n",
    "    size_max=50,  # Maximum bubble size\n",
    "    template=\"plotly_dark\",  # Dark theme\n",
    "    title=\"Age vs Survived\",\n",
    ")\n",
    "\n",
    "# Show the plot\n",
    "fig.show()"
   ]
  },
  {
   "cell_type": "code",
   "execution_count": 23,
   "metadata": {},
   "outputs": [
    {
     "data": {
      "application/vnd.plotly.v1+json": {
       "config": {
        "plotlyServerURL": "https://plot.ly"
       },
       "data": [
        {
         "hovertemplate": "Embarked_Label=%{x}<br>Survived=%{y}<br>Fare=%{marker.color}<extra></extra>",
         "legendgroup": "",
         "marker": {
          "color": {
           "bdata": "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",
           "dtype": "f8"
          },
          "coloraxis": "coloraxis",
          "size": {
           "bdata": "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",
           "dtype": "f8"
          },
          "sizemode": "area",
          "sizeref": 0.20493168,
          "symbol": "circle"
         },
         "mode": "markers",
         "name": "",
         "orientation": "v",
         "showlegend": false,
         "type": "scatter",
         "x": [
          "S: Southampton (England)",
          "C: Cherbourg (France)",
          "S: Southampton (England)",
          "S: Southampton (England)",
          "S: Southampton (England)",
          "Q: Queenstown (Ireland)",
          "S: Southampton (England)",
          "S: Southampton (England)",
          "S: Southampton (England)",
          "C: Cherbourg (France)",
          "S: Southampton (England)",
          "S: Southampton (England)",
          "S: Southampton (England)",
          "S: Southampton (England)",
          "S: Southampton (England)",
          "S: Southampton (England)",
          "Q: Queenstown (Ireland)",
          "S: Southampton (England)",
          "S: Southampton (England)",
          "C: Cherbourg (France)",
          "S: Southampton (England)",
          "S: Southampton (England)",
          "Q: Queenstown (Ireland)",
          "S: Southampton (England)",
          "S: Southampton (England)",
          "S: Southampton (England)",
          "C: Cherbourg (France)",
          "S: Southampton (England)",
          "Q: Queenstown (Ireland)",
          "S: Southampton (England)",
          "C: Cherbourg (France)",
          "C: Cherbourg (France)",
          "Q: Queenstown (Ireland)",
          "S: Southampton (England)",
          "C: Cherbourg (France)",
          "S: Southampton (England)",
          "C: Cherbourg (France)",
          "S: Southampton (England)",
          "S: Southampton (England)",
          "C: Cherbourg (France)",
          "S: Southampton (England)",
          "S: Southampton (England)",
          "C: Cherbourg (France)",
          "C: Cherbourg (France)",
          "Q: Queenstown (Ireland)",
          "S: Southampton (England)",
          "Q: Queenstown (Ireland)",
          "Q: Queenstown (Ireland)",
          "C: Cherbourg (France)",
          "S: Southampton (England)",
          "S: Southampton (England)",
          "S: Southampton (England)",
          "C: Cherbourg (France)",
          "S: Southampton (England)",
          "C: Cherbourg (France)",
          "S: Southampton (England)",
          "S: Southampton (England)",
          "C: Cherbourg (France)",
          "S: Southampton (England)",
          "S: Southampton (England)",
          "C: Cherbourg (France)",
          "S: Southampton (England)",
          "S: Southampton (England)",
          "S: Southampton (England)",
          "C: Cherbourg (France)",
          "C: Cherbourg (France)",
          "S: Southampton (England)",
          "S: Southampton (England)",
          "S: Southampton (England)",
          "S: Southampton (England)",
          "S: Southampton (England)",
          "S: Southampton (England)",
          "S: Southampton (England)",
          "C: Cherbourg (France)",
          "S: Southampton (England)",
          "S: Southampton (England)",
          "S: Southampton (England)",
          "S: Southampton (England)",
          "S: Southampton (England)",
          "S: Southampton (England)",
          "S: Southampton (England)",
          "S: Southampton (England)",
          "Q: Queenstown (Ireland)",
          "S: Southampton (England)",
          "S: Southampton (England)",
          "S: Southampton (England)",
          "S: Southampton (England)",
          "S: Southampton (England)",
          "S: Southampton (England)",
          "S: Southampton (England)",
          "S: Southampton (England)",
          "S: Southampton (England)",
          "S: Southampton (England)",
          "S: Southampton (England)",
          "S: Southampton (England)",
          "S: Southampton (England)",
          "C: Cherbourg (France)",
          "C: Cherbourg (France)",
          "S: Southampton (England)",
          "S: Southampton (England)",
          "S: Southampton (England)",
          "S: Southampton (England)",
          "S: Southampton (England)",
          "S: Southampton (England)",
          "S: Southampton (England)",
          "S: Southampton (England)",
          "S: Southampton (England)",
          "S: Southampton (England)",
          "S: Southampton (England)",
          "Q: Queenstown (Ireland)",
          "S: Southampton (England)",
          "C: Cherbourg (France)",
          "S: Southampton (England)",
          "S: Southampton (England)",
          "C: Cherbourg (France)",
          "S: Southampton (England)",
          "Q: Queenstown (Ireland)",
          "S: Southampton (England)",
          "C: Cherbourg (France)",
          "S: Southampton (England)",
          "S: Southampton (England)",
          "S: Southampton (England)",
          "C: Cherbourg (France)",
          "S: Southampton (England)",
          "S: Southampton (England)",
          "C: Cherbourg (France)",
          "Q: Queenstown (Ireland)",
          "S: Southampton (England)",
          "C: Cherbourg (France)",
          "S: Southampton (England)",
          "C: Cherbourg (France)",
          "S: Southampton (England)",
          "S: Southampton (England)",
          "S: Southampton (England)",
          "S: Southampton (England)",
          "C: Cherbourg (France)",
          "S: Southampton (England)",
          "S: Southampton (England)",
          "S: Southampton (England)",
          "C: Cherbourg (France)",
          "C: Cherbourg (France)",
          "S: Southampton (England)",
          "S: Southampton (England)",
          "Q: Queenstown (Ireland)",
          "S: Southampton (England)",
          "S: Southampton (England)",
          "S: Southampton (England)",
          "S: Southampton (England)",
          "S: Southampton (England)",
          "S: Southampton (England)",
          "S: Southampton (England)",
          "S: Southampton (England)",
          "S: Southampton (England)",
          "S: Southampton (England)",
          "S: Southampton (England)",
          "C: Cherbourg (France)",
          "Q: Queenstown (Ireland)",
          "S: Southampton (England)",
          "S: Southampton (England)",
          "S: Southampton (England)",
          "S: Southampton (England)",
          "S: Southampton (England)",
          "S: Southampton (England)",
          "S: Southampton (England)",
          "S: Southampton (England)",
          "S: Southampton (England)",
          "S: Southampton (England)",
          "S: Southampton (England)",
          "S: Southampton (England)",
          "S: Southampton (England)",
          "S: Southampton (England)",
          "Q: Queenstown (Ireland)",
          "S: Southampton (England)",
          "S: Southampton (England)",
          "C: Cherbourg (France)",
          "S: Southampton (England)",
          "S: Southampton (England)",
          "C: Cherbourg (France)",
          "S: Southampton (England)",
          "S: Southampton (England)",
          "S: Southampton (England)",
          "C: Cherbourg (France)",
          "S: Southampton (England)",
          "S: Southampton (England)",
          "S: Southampton (England)",
          "S: Southampton (England)",
          "Q: Queenstown (Ireland)",
          "S: Southampton (England)",
          "Q: Queenstown (Ireland)",
          "S: Southampton (England)",
          "S: Southampton (England)",
          "S: Southampton (England)",
          "S: Southampton (England)",
          "S: Southampton (England)",
          "C: Cherbourg (France)",
          "C: Cherbourg (France)",
          "Q: Queenstown (Ireland)",
          "S: Southampton (England)",
          "Q: Queenstown (Ireland)",
          "S: Southampton (England)",
          "S: Southampton (England)",
          "S: Southampton (England)",
          "S: Southampton (England)",
          "C: Cherbourg (France)",
          "S: Southampton (England)",
          "S: Southampton (England)",
          "S: Southampton (England)",
          "C: Cherbourg (France)",
          "Q: Queenstown (Ireland)",
          "C: Cherbourg (France)",
          "S: Southampton (England)",
          "S: Southampton (England)",
          "S: Southampton (England)",
          "S: Southampton (England)",
          "Q: Queenstown (Ireland)",
          "C: Cherbourg (France)",
          "S: Southampton (England)",
          "S: Southampton (England)",
          "C: Cherbourg (France)",
          "S: Southampton (England)",
          "S: Southampton (England)",
          "S: Southampton (England)",
          "S: Southampton (England)",
          "S: Southampton (England)",
          "S: Southampton (England)",
          "S: Southampton (England)",
          "S: Southampton (England)",
          "S: Southampton (England)",
          "S: Southampton (England)",
          "S: Southampton (England)",
          "S: Southampton (England)",
          "S: Southampton (England)",
          "S: Southampton (England)",
          "S: Southampton (England)",
          "S: Southampton (England)",
          "S: Southampton (England)",
          "S: Southampton (England)",
          "S: Southampton (England)",
          "S: Southampton (England)",
          "S: Southampton (England)",
          "C: Cherbourg (France)",
          "Q: Queenstown (Ireland)",
          "S: Southampton (England)",
          "S: Southampton (England)",
          "C: Cherbourg (France)",
          "Q: Queenstown (Ireland)",
          "S: Southampton (England)",
          "S: Southampton (England)",
          "S: Southampton (England)",
          "S: Southampton (England)",
          "S: Southampton (England)",
          "S: Southampton (England)",
          "S: Southampton (England)",
          "S: Southampton (England)",
          "S: Southampton (England)",
          "C: Cherbourg (France)",
          "C: Cherbourg (France)",
          "S: Southampton (England)",
          "C: Cherbourg (France)",
          "S: Southampton (England)",
          "Q: Queenstown (Ireland)",
          "S: Southampton (England)",
          "S: Southampton (England)",
          "S: Southampton (England)",
          "Q: Queenstown (Ireland)",
          "S: Southampton (England)",
          "S: Southampton (England)",
          "S: Southampton (England)",
          "S: Southampton (England)",
          "S: Southampton (England)",
          "S: Southampton (England)",
          "S: Southampton (England)",
          "S: Southampton (England)",
          "C: Cherbourg (France)",
          "Q: Queenstown (Ireland)",
          "S: Southampton (England)",
          "S: Southampton (England)",
          "S: Southampton (England)",
          "Q: Queenstown (Ireland)",
          "S: Southampton (England)",
          "Q: Queenstown (Ireland)",
          "S: Southampton (England)",
          "S: Southampton (England)",
          "S: Southampton (England)",
          "S: Southampton (England)",
          "C: Cherbourg (France)",
          "S: Southampton (England)",
          "S: Southampton (England)",
          "S: Southampton (England)",
          "Q: Queenstown (Ireland)",
          "S: Southampton (England)",
          "C: Cherbourg (France)",
          "C: Cherbourg (France)",
          "S: Southampton (England)",
          "S: Southampton (England)",
          "C: Cherbourg (France)",
          "C: Cherbourg (France)",
          "S: Southampton (England)",
          "S: Southampton (England)",
          "C: Cherbourg (France)",
          "Q: Queenstown (Ireland)",
          "Q: Queenstown (Ireland)",
          "S: Southampton (England)",
          "Q: Queenstown (Ireland)",
          "S: Southampton (England)",
          "S: Southampton (England)",
          "C: Cherbourg (France)",
          "C: Cherbourg (France)",
          "C: Cherbourg (France)",
          "C: Cherbourg (France)",
          "C: Cherbourg (France)",
          "C: Cherbourg (France)",
          "S: Southampton (England)",
          "S: Southampton (England)",
          "S: Southampton (England)",
          "S: Southampton (England)",
          "S: Southampton (England)",
          "S: Southampton (England)",
          "S: Southampton (England)",
          "C: Cherbourg (France)",
          "S: Southampton (England)",
          "S: Southampton (England)",
          "Q: Queenstown (Ireland)",
          "S: Southampton (England)",
          "S: Southampton (England)",
          "C: Cherbourg (France)",
          "S: Southampton (England)",
          "S: Southampton (England)",
          "S: Southampton (England)",
          "C: Cherbourg (France)",
          "Q: Queenstown (Ireland)",
          "S: Southampton (England)",
          "S: Southampton (England)",
          "S: Southampton (England)",
          "S: Southampton (England)",
          "S: Southampton (England)",
          "S: Southampton (England)",
          "C: Cherbourg (France)",
          "S: Southampton (England)",
          "S: Southampton (England)",
          "S: Southampton (England)",
          "S: Southampton (England)",
          "S: Southampton (England)",
          "S: Southampton (England)",
          "S: Southampton (England)",
          "S: Southampton (England)",
          "S: Southampton (England)",
          "S: Southampton (England)",
          "S: Southampton (England)",
          "S: Southampton (England)",
          "S: Southampton (England)",
          "S: Southampton (England)",
          "C: Cherbourg (France)",
          "S: Southampton (England)",
          "C: Cherbourg (France)",
          "S: Southampton (England)",
          "S: Southampton (England)",
          "S: Southampton (England)",
          "Q: Queenstown (Ireland)",
          "Q: Queenstown (Ireland)",
          "S: Southampton (England)",
          "C: Cherbourg (France)",
          "C: Cherbourg (France)",
          "S: Southampton (England)",
          "Q: Queenstown (Ireland)",
          "S: Southampton (England)",
          "C: Cherbourg (France)",
          "C: Cherbourg (France)",
          "Q: Queenstown (Ireland)",
          "C: Cherbourg (France)",
          "C: Cherbourg (France)",
          "S: Southampton (England)",
          "S: Southampton (England)",
          "C: Cherbourg (France)",
          "S: Southampton (England)",
          "C: Cherbourg (France)",
          "S: Southampton (England)",
          "C: Cherbourg (France)",
          "C: Cherbourg (France)",
          "S: Southampton (England)",
          "C: Cherbourg (France)",
          "C: Cherbourg (France)",
          "S: Southampton (England)",
          "S: Southampton (England)",
          "S: Southampton (England)",
          "S: Southampton (England)",
          "S: Southampton (England)",
          "S: Southampton (England)",
          "Q: Queenstown (Ireland)",
          "C: Cherbourg (France)",
          "S: Southampton (England)",
          "S: Southampton (England)",
          "S: Southampton (England)",
          "C: Cherbourg (France)",
          "S: Southampton (England)",
          "S: Southampton (England)",
          "S: Southampton (England)",
          "S: Southampton (England)",
          "S: Southampton (England)",
          "S: Southampton (England)",
          "S: Southampton (England)",
          "S: Southampton (England)",
          "S: Southampton (England)",
          "S: Southampton (England)",
          "S: Southampton (England)",
          "S: Southampton (England)",
          "S: Southampton (England)",
          "S: Southampton (England)",
          "S: Southampton (England)",
          "S: Southampton (England)",
          "S: Southampton (England)",
          "Q: Queenstown (Ireland)",
          "Q: Queenstown (Ireland)",
          "S: Southampton (England)",
          "S: Southampton (England)",
          "S: Southampton (England)",
          "S: Southampton (England)",
          "S: Southampton (England)",
          "S: Southampton (England)",
          "S: Southampton (England)",
          "C: Cherbourg (France)",
          "Q: Queenstown (Ireland)",
          "S: Southampton (England)",
          "S: Southampton (England)",
          "S: Southampton (England)",
          "S: Southampton (England)",
          "S: Southampton (England)",
          "S: Southampton (England)",
          "Q: Queenstown (Ireland)",
          "S: Southampton (England)",
          "S: Southampton (England)",
          "S: Southampton (England)",
          "S: Southampton (England)",
          "S: Southampton (England)",
          "S: Southampton (England)",
          "S: Southampton (England)",
          "S: Southampton (England)",
          "S: Southampton (England)",
          "S: Southampton (England)",
          "S: Southampton (England)",
          "S: Southampton (England)",
          "S: Southampton (England)",
          "S: Southampton (England)",
          "S: Southampton (England)",
          "S: Southampton (England)",
          "S: Southampton (England)",
          "S: Southampton (England)",
          "S: Southampton (England)",
          "C: Cherbourg (France)",
          "S: Southampton (England)",
          "S: Southampton (England)",
          "S: Southampton (England)",
          "C: Cherbourg (France)",
          "C: Cherbourg (France)",
          "S: Southampton (England)",
          "C: Cherbourg (France)",
          "S: Southampton (England)",
          "S: Southampton (England)",
          "S: Southampton (England)",
          "Q: Queenstown (Ireland)",
          "S: Southampton (England)",
          "S: Southampton (England)",
          "S: Southampton (England)",
          "S: Southampton (England)",
          "S: Southampton (England)",
          "S: Southampton (England)",
          "S: Southampton (England)",
          "S: Southampton (England)",
          "Q: Queenstown (Ireland)",
          "C: Cherbourg (France)",
          "S: Southampton (England)",
          "S: Southampton (England)",
          "S: Southampton (England)",
          "C: Cherbourg (France)",
          "S: Southampton (England)",
          "S: Southampton (England)",
          "S: Southampton (England)",
          "S: Southampton (England)",
          "S: Southampton (England)",
          "S: Southampton (England)",
          "S: Southampton (England)",
          "S: Southampton (England)",
          "S: Southampton (England)",
          "S: Southampton (England)",
          "C: Cherbourg (France)",
          "S: Southampton (England)",
          "S: Southampton (England)",
          "C: Cherbourg (France)",
          "S: Southampton (England)",
          "S: Southampton (England)",
          "S: Southampton (England)",
          "S: Southampton (England)",
          "S: Southampton (England)",
          "C: Cherbourg (France)",
          "S: Southampton (England)",
          "C: Cherbourg (France)",
          "C: Cherbourg (France)",
          "S: Southampton (England)",
          "S: Southampton (England)",
          "S: Southampton (England)",
          "S: Southampton (England)",
          "Q: Queenstown (Ireland)",
          "Q: Queenstown (Ireland)",
          "S: Southampton (England)",
          "S: Southampton (England)",
          "C: Cherbourg (France)",
          "S: Southampton (England)",
          "S: Southampton (England)",
          "S: Southampton (England)",
          "S: Southampton (England)",
          "Q: Queenstown (Ireland)",
          "S: Southampton (England)",
          "S: Southampton (England)",
          "C: Cherbourg (France)",
          "S: Southampton (England)",
          "S: Southampton (England)",
          "S: Southampton (England)",
          "Q: Queenstown (Ireland)",
          "S: Southampton (England)",
          "S: Southampton (England)",
          "S: Southampton (England)",
          "S: Southampton (England)",
          "C: Cherbourg (France)",
          "C: Cherbourg (France)",
          "C: Cherbourg (France)",
          "Q: Queenstown (Ireland)",
          "S: Southampton (England)",
          "S: Southampton (England)",
          "S: Southampton (England)",
          "S: Southampton (England)",
          "S: Southampton (England)",
          "C: Cherbourg (France)",
          "C: Cherbourg (France)",
          "C: Cherbourg (France)",
          "S: Southampton (England)",
          "S: Southampton (England)",
          "S: Southampton (England)",
          "C: Cherbourg (France)",
          "S: Southampton (England)",
          "C: Cherbourg (France)",
          "S: Southampton (England)",
          "S: Southampton (England)",
          "S: Southampton (England)",
          "S: Southampton (England)",
          "C: Cherbourg (France)",
          "S: Southampton (England)",
          "S: Southampton (England)",
          "C: Cherbourg (France)",
          "S: Southampton (England)",
          "S: Southampton (England)",
          "C: Cherbourg (France)",
          "S: Southampton (England)",
          "Q: Queenstown (Ireland)",
          "C: Cherbourg (France)",
          "S: Southampton (England)",
          "S: Southampton (England)",
          "C: Cherbourg (France)",
          "C: Cherbourg (France)",
          "S: Southampton (England)",
          "S: Southampton (England)",
          "Q: Queenstown (Ireland)",
          "S: Southampton (England)",
          "S: Southampton (England)",
          "S: Southampton (England)",
          "S: Southampton (England)",
          "S: Southampton (England)",
          "S: Southampton (England)",
          "S: Southampton (England)",
          "C: Cherbourg (France)",
          "S: Southampton (England)",
          "S: Southampton (England)",
          "S: Southampton (England)",
          "S: Southampton (England)",
          "Q: Queenstown (Ireland)",
          "S: Southampton (England)",
          "S: Southampton (England)",
          "S: Southampton (England)",
          "S: Southampton (England)",
          "C: Cherbourg (France)",
          "S: Southampton (England)",
          "S: Southampton (England)",
          "C: Cherbourg (France)",
          "S: Southampton (England)",
          "C: Cherbourg (France)",
          "C: Cherbourg (France)",
          "S: Southampton (England)",
          "S: Southampton (England)",
          "C: Cherbourg (France)",
          "S: Southampton (England)",
          "S: Southampton (England)",
          "S: Southampton (England)",
          "C: Cherbourg (France)",
          "S: Southampton (England)",
          "Q: Queenstown (Ireland)",
          "S: Southampton (England)",
          "S: Southampton (England)",
          "S: Southampton (England)",
          "S: Southampton (England)",
          "C: Cherbourg (France)",
          "C: Cherbourg (France)",
          "S: Southampton (England)",
          "S: Southampton (England)",
          "S: Southampton (England)",
          "S: Southampton (England)",
          "C: Cherbourg (France)",
          "S: Southampton (England)",
          "S: Southampton (England)",
          "S: Southampton (England)",
          "C: Cherbourg (France)",
          "S: Southampton (England)",
          "S: Southampton (England)",
          "S: Southampton (England)",
          "Q: Queenstown (Ireland)",
          "Q: Queenstown (Ireland)",
          "S: Southampton (England)",
          "S: Southampton (England)",
          "S: Southampton (England)",
          "S: Southampton (England)",
          "S: Southampton (England)",
          "S: Southampton (England)",
          "C: Cherbourg (France)",
          "S: Southampton (England)",
          "C: Cherbourg (France)",
          "S: Southampton (England)",
          "S: Southampton (England)",
          "S: Southampton (England)",
          "Q: Queenstown (Ireland)",
          "S: Southampton (England)",
          "S: Southampton (England)",
          "Q: Queenstown (Ireland)",
          "S: Southampton (England)",
          "S: Southampton (England)",
          "C: Cherbourg (France)",
          "S: Southampton (England)",
          "S: Southampton (England)",
          "S: Southampton (England)",
          "S: Southampton (England)",
          "S: Southampton (England)",
          "S: Southampton (England)",
          "S: Southampton (England)",
          "S: Southampton (England)",
          "C: Cherbourg (France)",
          "S: Southampton (England)",
          "S: Southampton (England)",
          "C: Cherbourg (France)",
          "C: Cherbourg (France)",
          "S: Southampton (England)",
          "C: Cherbourg (France)",
          "S: Southampton (England)",
          "S: Southampton (England)",
          "S: Southampton (England)",
          "S: Southampton (England)",
          "S: Southampton (England)",
          "Q: Queenstown (Ireland)",
          "Q: Queenstown (Ireland)",
          "S: Southampton (England)",
          "S: Southampton (England)",
          "Q: Queenstown (Ireland)",
          "S: Southampton (England)",
          "C: Cherbourg (France)",
          "S: Southampton (England)",
          "C: Cherbourg (France)",
          "S: Southampton (England)",
          "S: Southampton (England)",
          "S: Southampton (England)",
          "S: Southampton (England)",
          "S: Southampton (England)",
          "S: Southampton (England)",
          "S: Southampton (England)",
          "S: Southampton (England)",
          "S: Southampton (England)",
          "S: Southampton (England)",
          "S: Southampton (England)",
          "S: Southampton (England)",
          "S: Southampton (England)",
          "S: Southampton (England)",
          "S: Southampton (England)",
          "S: Southampton (England)",
          "S: Southampton (England)",
          "C: Cherbourg (France)",
          "Q: Queenstown (Ireland)",
          "C: Cherbourg (France)",
          "S: Southampton (England)",
          "S: Southampton (England)",
          "S: Southampton (England)",
          "C: Cherbourg (France)",
          "S: Southampton (England)",
          "S: Southampton (England)",
          "S: Southampton (England)",
          "S: Southampton (England)",
          "S: Southampton (England)",
          "C: Cherbourg (France)",
          "S: Southampton (England)",
          "C: Cherbourg (France)",
          "S: Southampton (England)",
          "S: Southampton (England)",
          "S: Southampton (England)",
          "Q: Queenstown (Ireland)",
          "C: Cherbourg (France)",
          "S: Southampton (England)",
          "C: Cherbourg (France)",
          "S: Southampton (England)",
          "C: Cherbourg (France)",
          "Q: Queenstown (Ireland)",
          "S: Southampton (England)",
          "S: Southampton (England)",
          "S: Southampton (England)",
          "S: Southampton (England)",
          "S: Southampton (England)",
          "C: Cherbourg (France)",
          "C: Cherbourg (France)",
          "S: Southampton (England)",
          "S: Southampton (England)",
          "S: Southampton (England)",
          "S: Southampton (England)",
          "S: Southampton (England)",
          "C: Cherbourg (France)",
          "S: Southampton (England)",
          "Q: Queenstown (Ireland)",
          "S: Southampton (England)",
          "S: Southampton (England)",
          "S: Southampton (England)",
          "S: Southampton (England)",
          "S: Southampton (England)",
          "S: Southampton (England)",
          "S: Southampton (England)",
          "S: Southampton (England)",
          "Q: Queenstown (Ireland)",
          "S: Southampton (England)",
          "S: Southampton (England)",
          "S: Southampton (England)",
          "C: Cherbourg (France)",
          "S: Southampton (England)",
          "S: Southampton (England)",
          "S: Southampton (England)",
          "S: Southampton (England)",
          "S: Southampton (England)",
          "C: Cherbourg (France)",
          "S: Southampton (England)",
          "S: Southampton (England)",
          "S: Southampton (England)",
          "S: Southampton (England)",
          "C: Cherbourg (France)",
          "S: Southampton (England)",
          "S: Southampton (England)",
          "S: Southampton (England)",
          "S: Southampton (England)",
          "S: Southampton (England)",
          "S: Southampton (England)",
          "Q: Queenstown (Ireland)",
          "S: Southampton (England)",
          "S: Southampton (England)",
          "S: Southampton (England)",
          "S: Southampton (England)",
          "S: Southampton (England)",
          "S: Southampton (England)",
          "S: Southampton (England)",
          "S: Southampton (England)",
          "S: Southampton (England)",
          "S: Southampton (England)",
          "S: Southampton (England)",
          "S: Southampton (England)",
          "C: Cherbourg (France)",
          "S: Southampton (England)",
          "S: Southampton (England)",
          "S: Southampton (England)",
          "C: Cherbourg (France)",
          "Q: Queenstown (Ireland)",
          "Q: Queenstown (Ireland)",
          "S: Southampton (England)",
          "S: Southampton (England)",
          "S: Southampton (England)",
          "S: Southampton (England)",
          "C: Cherbourg (France)",
          "S: Southampton (England)",
          "S: Southampton (England)",
          "Q: Queenstown (Ireland)",
          "S: Southampton (England)",
          "Q: Queenstown (Ireland)",
          "S: Southampton (England)",
          "C: Cherbourg (France)",
          "S: Southampton (England)",
          "S: Southampton (England)",
          "S: Southampton (England)",
          "S: Southampton (England)",
          "S: Southampton (England)",
          "S: Southampton (England)",
          "Q: Queenstown (Ireland)",
          "S: Southampton (England)",
          "C: Cherbourg (France)",
          "Q: Queenstown (Ireland)",
          "S: Southampton (England)",
          "S: Southampton (England)",
          "C: Cherbourg (France)",
          "S: Southampton (England)",
          "S: Southampton (England)",
          "S: Southampton (England)",
          "S: Southampton (England)",
          "C: Cherbourg (France)",
          "S: Southampton (England)",
          "S: Southampton (England)",
          "S: Southampton (England)",
          "S: Southampton (England)",
          "C: Cherbourg (France)",
          "S: Southampton (England)",
          "S: Southampton (England)",
          "S: Southampton (England)",
          "S: Southampton (England)",
          "S: Southampton (England)",
          "S: Southampton (England)",
          "S: Southampton (England)",
          "S: Southampton (England)",
          "S: Southampton (England)",
          "S: Southampton (England)",
          "S: Southampton (England)",
          "S: Southampton (England)",
          "S: Southampton (England)",
          "C: Cherbourg (France)",
          "S: Southampton (England)",
          "S: Southampton (England)",
          "S: Southampton (England)",
          "S: Southampton (England)",
          "S: Southampton (England)",
          "S: Southampton (England)",
          "S: Southampton (England)",
          "Q: Queenstown (Ireland)",
          "S: Southampton (England)",
          "C: Cherbourg (France)",
          "Q: Queenstown (Ireland)",
          "S: Southampton (England)",
          "C: Cherbourg (France)",
          "S: Southampton (England)",
          "C: Cherbourg (France)",
          "S: Southampton (England)",
          "S: Southampton (England)",
          "C: Cherbourg (France)",
          "S: Southampton (England)",
          "S: Southampton (England)",
          "S: Southampton (England)",
          "C: Cherbourg (France)",
          "S: Southampton (England)",
          "S: Southampton (England)",
          "C: Cherbourg (France)",
          "C: Cherbourg (France)",
          "S: Southampton (England)",
          "S: Southampton (England)",
          "S: Southampton (England)",
          "C: Cherbourg (France)",
          "S: Southampton (England)",
          "C: Cherbourg (France)",
          "S: Southampton (England)",
          "S: Southampton (England)",
          "C: Cherbourg (France)",
          "S: Southampton (England)",
          "S: Southampton (England)",
          "S: Southampton (England)",
          "S: Southampton (England)",
          "S: Southampton (England)",
          "C: Cherbourg (France)",
          "C: Cherbourg (France)",
          "S: Southampton (England)",
          "S: Southampton (England)",
          "S: Southampton (England)",
          "S: Southampton (England)",
          "S: Southampton (England)",
          "S: Southampton (England)",
          "C: Cherbourg (France)",
          "S: Southampton (England)",
          "S: Southampton (England)",
          "S: Southampton (England)",
          "S: Southampton (England)",
          "S: Southampton (England)",
          "S: Southampton (England)",
          "S: Southampton (England)",
          "C: Cherbourg (France)",
          "C: Cherbourg (France)",
          "S: Southampton (England)",
          "S: Southampton (England)",
          "S: Southampton (England)",
          "C: Cherbourg (France)",
          "S: Southampton (England)",
          "S: Southampton (England)",
          "S: Southampton (England)",
          "S: Southampton (England)",
          "S: Southampton (England)",
          "Q: Queenstown (Ireland)",
          "S: Southampton (England)",
          "S: Southampton (England)",
          "S: Southampton (England)",
          "C: Cherbourg (France)",
          "Q: Queenstown (Ireland)"
         ],
         "xaxis": "x",
         "y": {
          "bdata": "AAEBAQAAAAABAQEBAAAAAQABAAEAAQEBAAEAAAEAAAEBAAAAAQAAAQAAAAEBAAABAAAAAAEBAAEBAAEAAAEAAAABAQABAAAAAAABAAAAAQEAAQEAAQEAAAEAAAAAAAAAAAEBAAAAAAAAAAEBAAEAAAAAAAAAAAAAAAAAAQABAAEBAAAAAAEAAAEAAAAAAQEAAAABAAAAAAEAAAAAAQAAAAABAAAAAQEAAAAAAAEAAAAAAAAAAAAAAQEAAQEAAAEAAQEBAQAAAQAAAAAAAQAAAQEBAAEAAAABAQABAAEAAAABAAEAAAABAAABAAAAAQAAAAEAAAAAAAEBAAAAAAAAAQEBAQEAAQAAAAAAAQEBAAEBAAEBAAAAAQAAAAEAAAEAAQEBAQAAAAAAAAEBAQEAAQABAQEAAQEBAAAAAQEAAQEAAAEBAAEAAQEBAQAAAAEAAAEBAAEBAAAAAQEBAQAAAAAAAAABAAEBAAAAAAAAAQEBAQEAAAAAAQEAAAABAQABAAAAAQABAQEAAQEAAAAAAQEAAAAAAAABAAAAAAEAAQABAQAAAAAAAAAAAQEAAQEBAQAAAQABAAABAAABAQEBAQEBAAAAAQABAAEBAAEAAAAAAAAAAAEAAAEBAAAAAAABAAAAAQEAAQAAAQAAAAAAAAEAAAAAAAAAAQABAQABAQABAQAAAQABAAEAAAEAAAEAAAABAAABAAEAAQABAQAAAQAAAQEAAQEAAAEBAAEAAQEAAAAAAAAAAAABAQEBAQAAAQEAAQEBAAAAAQABAAAAAQAAAAABAAABAQAAAAEAAAEBAQAAAQAAAQAAAQAAAQEAAAAAAQAAAQABAAABAAAAAAABAAEBAQABAAEAAQABAAAAAAAAAQAAAAEAAAAAAQEAAAEAAAABAAEAAQAAAAAAAAABAQEBAAAAAAEAAAEBAAAAAAEBAQEBAAEAAAABAQAAAQAAAAEAAQEAAAEAAAAAAAABAAABAAEAAQAAAQAAAQEAAAEBAAAAAQAAAQEAAQAAAAAAAAAAAQAAAQABAQEAAAAAAQABAAAAAAAAAAEBAAAAAQEBAQAAAAABAAAAAAAAAAAAAAEBAAEAAAABAQEBAQAAAAEAAAEBAAABAAAAAAAAAQAAAAEAAQEBAQAAAAEAAAEBAAABAAEAAAEBAAAAAQEAAAAAAAABAAEA",
          "dtype": "i1"
         },
         "yaxis": "y"
        }
       ],
       "layout": {
        "coloraxis": {
         "colorbar": {
          "title": {
           "text": "Fare"
          }
         },
         "colorscale": [
          [
           0,
           "#0d0887"
          ],
          [
           0.1111111111111111,
           "#46039f"
          ],
          [
           0.2222222222222222,
           "#7201a8"
          ],
          [
           0.3333333333333333,
           "#9c179e"
          ],
          [
           0.4444444444444444,
           "#bd3786"
          ],
          [
           0.5555555555555556,
           "#d8576b"
          ],
          [
           0.6666666666666666,
           "#ed7953"
          ],
          [
           0.7777777777777778,
           "#fb9f3a"
          ],
          [
           0.8888888888888888,
           "#fdca26"
          ],
          [
           1,
           "#f0f921"
          ]
         ]
        },
        "legend": {
         "itemsizing": "constant",
         "tracegroupgap": 0
        },
        "template": {
         "data": {
          "bar": [
           {
            "error_x": {
             "color": "#f2f5fa"
            },
            "error_y": {
             "color": "#f2f5fa"
            },
            "marker": {
             "line": {
              "color": "rgb(17,17,17)",
              "width": 0.5
             },
             "pattern": {
              "fillmode": "overlay",
              "size": 10,
              "solidity": 0.2
             }
            },
            "type": "bar"
           }
          ],
          "barpolar": [
           {
            "marker": {
             "line": {
              "color": "rgb(17,17,17)",
              "width": 0.5
             },
             "pattern": {
              "fillmode": "overlay",
              "size": 10,
              "solidity": 0.2
             }
            },
            "type": "barpolar"
           }
          ],
          "carpet": [
           {
            "aaxis": {
             "endlinecolor": "#A2B1C6",
             "gridcolor": "#506784",
             "linecolor": "#506784",
             "minorgridcolor": "#506784",
             "startlinecolor": "#A2B1C6"
            },
            "baxis": {
             "endlinecolor": "#A2B1C6",
             "gridcolor": "#506784",
             "linecolor": "#506784",
             "minorgridcolor": "#506784",
             "startlinecolor": "#A2B1C6"
            },
            "type": "carpet"
           }
          ],
          "choropleth": [
           {
            "colorbar": {
             "outlinewidth": 0,
             "ticks": ""
            },
            "type": "choropleth"
           }
          ],
          "contour": [
           {
            "colorbar": {
             "outlinewidth": 0,
             "ticks": ""
            },
            "colorscale": [
             [
              0,
              "#0d0887"
             ],
             [
              0.1111111111111111,
              "#46039f"
             ],
             [
              0.2222222222222222,
              "#7201a8"
             ],
             [
              0.3333333333333333,
              "#9c179e"
             ],
             [
              0.4444444444444444,
              "#bd3786"
             ],
             [
              0.5555555555555556,
              "#d8576b"
             ],
             [
              0.6666666666666666,
              "#ed7953"
             ],
             [
              0.7777777777777778,
              "#fb9f3a"
             ],
             [
              0.8888888888888888,
              "#fdca26"
             ],
             [
              1,
              "#f0f921"
             ]
            ],
            "type": "contour"
           }
          ],
          "contourcarpet": [
           {
            "colorbar": {
             "outlinewidth": 0,
             "ticks": ""
            },
            "type": "contourcarpet"
           }
          ],
          "heatmap": [
           {
            "colorbar": {
             "outlinewidth": 0,
             "ticks": ""
            },
            "colorscale": [
             [
              0,
              "#0d0887"
             ],
             [
              0.1111111111111111,
              "#46039f"
             ],
             [
              0.2222222222222222,
              "#7201a8"
             ],
             [
              0.3333333333333333,
              "#9c179e"
             ],
             [
              0.4444444444444444,
              "#bd3786"
             ],
             [
              0.5555555555555556,
              "#d8576b"
             ],
             [
              0.6666666666666666,
              "#ed7953"
             ],
             [
              0.7777777777777778,
              "#fb9f3a"
             ],
             [
              0.8888888888888888,
              "#fdca26"
             ],
             [
              1,
              "#f0f921"
             ]
            ],
            "type": "heatmap"
           }
          ],
          "histogram": [
           {
            "marker": {
             "pattern": {
              "fillmode": "overlay",
              "size": 10,
              "solidity": 0.2
             }
            },
            "type": "histogram"
           }
          ],
          "histogram2d": [
           {
            "colorbar": {
             "outlinewidth": 0,
             "ticks": ""
            },
            "colorscale": [
             [
              0,
              "#0d0887"
             ],
             [
              0.1111111111111111,
              "#46039f"
             ],
             [
              0.2222222222222222,
              "#7201a8"
             ],
             [
              0.3333333333333333,
              "#9c179e"
             ],
             [
              0.4444444444444444,
              "#bd3786"
             ],
             [
              0.5555555555555556,
              "#d8576b"
             ],
             [
              0.6666666666666666,
              "#ed7953"
             ],
             [
              0.7777777777777778,
              "#fb9f3a"
             ],
             [
              0.8888888888888888,
              "#fdca26"
             ],
             [
              1,
              "#f0f921"
             ]
            ],
            "type": "histogram2d"
           }
          ],
          "histogram2dcontour": [
           {
            "colorbar": {
             "outlinewidth": 0,
             "ticks": ""
            },
            "colorscale": [
             [
              0,
              "#0d0887"
             ],
             [
              0.1111111111111111,
              "#46039f"
             ],
             [
              0.2222222222222222,
              "#7201a8"
             ],
             [
              0.3333333333333333,
              "#9c179e"
             ],
             [
              0.4444444444444444,
              "#bd3786"
             ],
             [
              0.5555555555555556,
              "#d8576b"
             ],
             [
              0.6666666666666666,
              "#ed7953"
             ],
             [
              0.7777777777777778,
              "#fb9f3a"
             ],
             [
              0.8888888888888888,
              "#fdca26"
             ],
             [
              1,
              "#f0f921"
             ]
            ],
            "type": "histogram2dcontour"
           }
          ],
          "mesh3d": [
           {
            "colorbar": {
             "outlinewidth": 0,
             "ticks": ""
            },
            "type": "mesh3d"
           }
          ],
          "parcoords": [
           {
            "line": {
             "colorbar": {
              "outlinewidth": 0,
              "ticks": ""
             }
            },
            "type": "parcoords"
           }
          ],
          "pie": [
           {
            "automargin": true,
            "type": "pie"
           }
          ],
          "scatter": [
           {
            "marker": {
             "line": {
              "color": "#283442"
             }
            },
            "type": "scatter"
           }
          ],
          "scatter3d": [
           {
            "line": {
             "colorbar": {
              "outlinewidth": 0,
              "ticks": ""
             }
            },
            "marker": {
             "colorbar": {
              "outlinewidth": 0,
              "ticks": ""
             }
            },
            "type": "scatter3d"
           }
          ],
          "scattercarpet": [
           {
            "marker": {
             "colorbar": {
              "outlinewidth": 0,
              "ticks": ""
             }
            },
            "type": "scattercarpet"
           }
          ],
          "scattergeo": [
           {
            "marker": {
             "colorbar": {
              "outlinewidth": 0,
              "ticks": ""
             }
            },
            "type": "scattergeo"
           }
          ],
          "scattergl": [
           {
            "marker": {
             "line": {
              "color": "#283442"
             }
            },
            "type": "scattergl"
           }
          ],
          "scattermap": [
           {
            "marker": {
             "colorbar": {
              "outlinewidth": 0,
              "ticks": ""
             }
            },
            "type": "scattermap"
           }
          ],
          "scattermapbox": [
           {
            "marker": {
             "colorbar": {
              "outlinewidth": 0,
              "ticks": ""
             }
            },
            "type": "scattermapbox"
           }
          ],
          "scatterpolar": [
           {
            "marker": {
             "colorbar": {
              "outlinewidth": 0,
              "ticks": ""
             }
            },
            "type": "scatterpolar"
           }
          ],
          "scatterpolargl": [
           {
            "marker": {
             "colorbar": {
              "outlinewidth": 0,
              "ticks": ""
             }
            },
            "type": "scatterpolargl"
           }
          ],
          "scatterternary": [
           {
            "marker": {
             "colorbar": {
              "outlinewidth": 0,
              "ticks": ""
             }
            },
            "type": "scatterternary"
           }
          ],
          "surface": [
           {
            "colorbar": {
             "outlinewidth": 0,
             "ticks": ""
            },
            "colorscale": [
             [
              0,
              "#0d0887"
             ],
             [
              0.1111111111111111,
              "#46039f"
             ],
             [
              0.2222222222222222,
              "#7201a8"
             ],
             [
              0.3333333333333333,
              "#9c179e"
             ],
             [
              0.4444444444444444,
              "#bd3786"
             ],
             [
              0.5555555555555556,
              "#d8576b"
             ],
             [
              0.6666666666666666,
              "#ed7953"
             ],
             [
              0.7777777777777778,
              "#fb9f3a"
             ],
             [
              0.8888888888888888,
              "#fdca26"
             ],
             [
              1,
              "#f0f921"
             ]
            ],
            "type": "surface"
           }
          ],
          "table": [
           {
            "cells": {
             "fill": {
              "color": "#506784"
             },
             "line": {
              "color": "rgb(17,17,17)"
             }
            },
            "header": {
             "fill": {
              "color": "#2a3f5f"
             },
             "line": {
              "color": "rgb(17,17,17)"
             }
            },
            "type": "table"
           }
          ]
         },
         "layout": {
          "annotationdefaults": {
           "arrowcolor": "#f2f5fa",
           "arrowhead": 0,
           "arrowwidth": 1
          },
          "autotypenumbers": "strict",
          "coloraxis": {
           "colorbar": {
            "outlinewidth": 0,
            "ticks": ""
           }
          },
          "colorscale": {
           "diverging": [
            [
             0,
             "#8e0152"
            ],
            [
             0.1,
             "#c51b7d"
            ],
            [
             0.2,
             "#de77ae"
            ],
            [
             0.3,
             "#f1b6da"
            ],
            [
             0.4,
             "#fde0ef"
            ],
            [
             0.5,
             "#f7f7f7"
            ],
            [
             0.6,
             "#e6f5d0"
            ],
            [
             0.7,
             "#b8e186"
            ],
            [
             0.8,
             "#7fbc41"
            ],
            [
             0.9,
             "#4d9221"
            ],
            [
             1,
             "#276419"
            ]
           ],
           "sequential": [
            [
             0,
             "#0d0887"
            ],
            [
             0.1111111111111111,
             "#46039f"
            ],
            [
             0.2222222222222222,
             "#7201a8"
            ],
            [
             0.3333333333333333,
             "#9c179e"
            ],
            [
             0.4444444444444444,
             "#bd3786"
            ],
            [
             0.5555555555555556,
             "#d8576b"
            ],
            [
             0.6666666666666666,
             "#ed7953"
            ],
            [
             0.7777777777777778,
             "#fb9f3a"
            ],
            [
             0.8888888888888888,
             "#fdca26"
            ],
            [
             1,
             "#f0f921"
            ]
           ],
           "sequentialminus": [
            [
             0,
             "#0d0887"
            ],
            [
             0.1111111111111111,
             "#46039f"
            ],
            [
             0.2222222222222222,
             "#7201a8"
            ],
            [
             0.3333333333333333,
             "#9c179e"
            ],
            [
             0.4444444444444444,
             "#bd3786"
            ],
            [
             0.5555555555555556,
             "#d8576b"
            ],
            [
             0.6666666666666666,
             "#ed7953"
            ],
            [
             0.7777777777777778,
             "#fb9f3a"
            ],
            [
             0.8888888888888888,
             "#fdca26"
            ],
            [
             1,
             "#f0f921"
            ]
           ]
          },
          "colorway": [
           "#636efa",
           "#EF553B",
           "#00cc96",
           "#ab63fa",
           "#FFA15A",
           "#19d3f3",
           "#FF6692",
           "#B6E880",
           "#FF97FF",
           "#FECB52"
          ],
          "font": {
           "color": "#f2f5fa"
          },
          "geo": {
           "bgcolor": "rgb(17,17,17)",
           "lakecolor": "rgb(17,17,17)",
           "landcolor": "rgb(17,17,17)",
           "showlakes": true,
           "showland": true,
           "subunitcolor": "#506784"
          },
          "hoverlabel": {
           "align": "left"
          },
          "hovermode": "closest",
          "mapbox": {
           "style": "dark"
          },
          "paper_bgcolor": "rgb(17,17,17)",
          "plot_bgcolor": "rgb(17,17,17)",
          "polar": {
           "angularaxis": {
            "gridcolor": "#506784",
            "linecolor": "#506784",
            "ticks": ""
           },
           "bgcolor": "rgb(17,17,17)",
           "radialaxis": {
            "gridcolor": "#506784",
            "linecolor": "#506784",
            "ticks": ""
           }
          },
          "scene": {
           "xaxis": {
            "backgroundcolor": "rgb(17,17,17)",
            "gridcolor": "#506784",
            "gridwidth": 2,
            "linecolor": "#506784",
            "showbackground": true,
            "ticks": "",
            "zerolinecolor": "#C8D4E3"
           },
           "yaxis": {
            "backgroundcolor": "rgb(17,17,17)",
            "gridcolor": "#506784",
            "gridwidth": 2,
            "linecolor": "#506784",
            "showbackground": true,
            "ticks": "",
            "zerolinecolor": "#C8D4E3"
           },
           "zaxis": {
            "backgroundcolor": "rgb(17,17,17)",
            "gridcolor": "#506784",
            "gridwidth": 2,
            "linecolor": "#506784",
            "showbackground": true,
            "ticks": "",
            "zerolinecolor": "#C8D4E3"
           }
          },
          "shapedefaults": {
           "line": {
            "color": "#f2f5fa"
           }
          },
          "sliderdefaults": {
           "bgcolor": "#C8D4E3",
           "bordercolor": "rgb(17,17,17)",
           "borderwidth": 1,
           "tickwidth": 0
          },
          "ternary": {
           "aaxis": {
            "gridcolor": "#506784",
            "linecolor": "#506784",
            "ticks": ""
           },
           "baxis": {
            "gridcolor": "#506784",
            "linecolor": "#506784",
            "ticks": ""
           },
           "bgcolor": "rgb(17,17,17)",
           "caxis": {
            "gridcolor": "#506784",
            "linecolor": "#506784",
            "ticks": ""
           }
          },
          "title": {
           "x": 0.05
          },
          "updatemenudefaults": {
           "bgcolor": "#506784",
           "borderwidth": 0
          },
          "xaxis": {
           "automargin": true,
           "gridcolor": "#283442",
           "linecolor": "#506784",
           "ticks": "",
           "title": {
            "standoff": 15
           },
           "zerolinecolor": "#283442",
           "zerolinewidth": 2
          },
          "yaxis": {
           "automargin": true,
           "gridcolor": "#283442",
           "linecolor": "#506784",
           "ticks": "",
           "title": {
            "standoff": 15
           },
           "zerolinecolor": "#283442",
           "zerolinewidth": 2
          }
         }
        },
        "title": {
         "text": "Survived vs Embarked"
        },
        "xaxis": {
         "anchor": "y",
         "domain": [
          0,
          1
         ],
         "title": {
          "text": "Embarked_Label"
         }
        },
        "yaxis": {
         "anchor": "x",
         "domain": [
          0,
          1
         ],
         "title": {
          "text": "Survived"
         }
        }
       }
      }
     },
     "metadata": {},
     "output_type": "display_data"
    }
   ],
   "source": [
    "import plotly.express as px\n",
    "\n",
    "# Map Embarked values to descriptive labels\n",
    "titanic_data[\"Embarked_Label\"] = titanic_data[\"Embarked\"].map(\n",
    "    {\n",
    "        \"C\": \"C: Cherbourg (France)\",\n",
    "        \"Q\": \"Q: Queenstown (Ireland)\",\n",
    "        \"S\": \"S: Southampton (England)\",\n",
    "    }\n",
    ")\n",
    "\n",
    "# Create a scatter plot for Survived vs Embarked\n",
    "fig = px.scatter(\n",
    "    titanic_data,\n",
    "    x=\"Embarked_Label\",  # Use the mapped column for descriptive x-axis labels\n",
    "    y=\"Survived\",\n",
    "    size=\"Fare\",  # Bubble size based on Fare\n",
    "    color=\"Fare\",  # Color based on Fare\n",
    "    size_max=50,  # Maximum bubble size\n",
    "    template=\"plotly_dark\",  # Dark theme\n",
    "    title=\"Survived vs Embarked\",\n",
    ")\n",
    "\n",
    "# Show the plot\n",
    "fig.show()"
   ]
  }
 ],
 "metadata": {
  "kernelspec": {
   "display_name": "Python 3",
   "language": "python",
   "name": "python3"
  },
  "language_info": {
   "codemirror_mode": {
    "name": "ipython",
    "version": 3
   },
   "file_extension": ".py",
   "mimetype": "text/x-python",
   "name": "python",
   "nbconvert_exporter": "python",
   "pygments_lexer": "ipython3",
   "version": "3.12.10"
  }
 },
 "nbformat": 4,
 "nbformat_minor": 2
}
