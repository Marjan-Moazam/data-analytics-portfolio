{
 "cells": [
  {
   "cell_type": "markdown",
   "metadata": {
    "id": "heyPiK6G2g9t"
   },
   "source": [
    "# Aarhusbolig Visualised\n",
    "We will explore the Aarhusbolig dataset with different plot types in order to explain the dataset and draw insights from it.\n"
   ]
  },
  {
   "cell_type": "code",
   "execution_count": 2,
   "metadata": {
    "id": "5hQyrp3nt6N8"
   },
   "outputs": [],
   "source": [
    "# if you have not installed following packages, please install them by running:\n",
    "#!pip install numpy pandas matplotlib plotly"
   ]
  },
  {
   "cell_type": "code",
   "execution_count": 3,
   "metadata": {
    "id": "0wO_g_KX2g9v"
   },
   "outputs": [],
   "source": [
    "import numpy as np\n",
    "import pandas as pd\n",
    "import plotly.express as px\n",
    "import matplotlib.pyplot as plt\n",
    "import plotly.graph_objects as go"
   ]
  },
  {
   "cell_type": "code",
   "execution_count": 4,
   "metadata": {
    "id": "azQRq3Kvt6N9"
   },
   "outputs": [],
   "source": [
    "# if you have this error:\n",
    "# ValueError: Mime type rendering requires nbformat>=4.2.0 but it is not installed\n",
    "# run this command:\n",
    "# ! pip install nbformat"
   ]
  },
  {
   "cell_type": "markdown",
   "metadata": {
    "id": "fvYV8W_Y2g9w"
   },
   "source": [
    "## 3.1 Load the Data\n"
   ]
  },
  {
   "cell_type": "code",
   "execution_count": 5,
   "metadata": {
    "id": "1D36huJruwnP"
   },
   "outputs": [
    {
     "data": {
      "application/vnd.microsoft.datawrangler.viewer.v0+json": {
       "columns": [
        {
         "name": "index",
         "rawType": "int64",
         "type": "integer"
        },
        {
         "name": "CompanyId",
         "rawType": "int64",
         "type": "integer"
        },
        {
         "name": "DepartmentId",
         "rawType": "int64",
         "type": "integer"
        },
        {
         "name": "TenancyId",
         "rawType": "int64",
         "type": "integer"
        },
        {
         "name": "TenancyType",
         "rawType": "object",
         "type": "string"
        },
        {
         "name": "ApartmentType",
         "rawType": "object",
         "type": "string"
        },
        {
         "name": "IsAvailable",
         "rawType": "bool",
         "type": "boolean"
        },
        {
         "name": "IsStandard",
         "rawType": "bool",
         "type": "boolean"
        },
        {
         "name": "UnrestrictedRentalPeriod",
         "rawType": "bool",
         "type": "boolean"
        },
        {
         "name": "MovingPercentage",
         "rawType": "float64",
         "type": "float"
        },
        {
         "name": "Rooms",
         "rawType": "int64",
         "type": "integer"
        },
        {
         "name": "Size",
         "rawType": "float64",
         "type": "float"
        },
        {
         "name": "Deposit",
         "rawType": "float64",
         "type": "float"
        },
        {
         "name": "Street",
         "rawType": "object",
         "type": "string"
        },
        {
         "name": "Location",
         "rawType": "object",
         "type": "string"
        },
        {
         "name": "ZipCode",
         "rawType": "object",
         "type": "string"
        },
        {
         "name": "City",
         "rawType": "object",
         "type": "string"
        },
        {
         "name": "Lat",
         "rawType": "float64",
         "type": "float"
        },
        {
         "name": "Lng",
         "rawType": "float64",
         "type": "float"
        },
        {
         "name": "TotalRent",
         "rawType": "float64",
         "type": "float"
        },
        {
         "name": "Base Rent",
         "rawType": "float64",
         "type": "float"
        },
        {
         "name": "Heating",
         "rawType": "float64",
         "type": "float"
        },
        {
         "name": "Electricity",
         "rawType": "float64",
         "type": "float"
        },
        {
         "name": "Water",
         "rawType": "float64",
         "type": "float"
        },
        {
         "name": "Modernization",
         "rawType": "float64",
         "type": "float"
        },
        {
         "name": "Communications",
         "rawType": "float64",
         "type": "float"
        },
        {
         "name": "Improvement Rights",
         "rawType": "float64",
         "type": "float"
        },
        {
         "name": "Maintanence",
         "rawType": "float64",
         "type": "float"
        },
        {
         "name": "IsPetAllowed",
         "rawType": "bool",
         "type": "boolean"
        },
        {
         "name": "HasElevator",
         "rawType": "bool",
         "type": "boolean"
        },
        {
         "name": "HasAdvantage",
         "rawType": "bool",
         "type": "boolean"
        },
        {
         "name": "HasFloorPlan",
         "rawType": "bool",
         "type": "boolean"
        },
        {
         "name": "CompanyName",
         "rawType": "object",
         "type": "string"
        }
       ],
       "conversionMethod": "pd.DataFrame",
       "ref": "1a70950d-7b8e-4491-b0fa-593308e6fc8f",
       "rows": [
        [
         "0",
         "698",
         "1",
         "230",
         "Familiebolig",
         "Lejlighed",
         "False",
         "True",
         "False",
         "12.72",
         "2",
         "52.0",
         "7728.0",
         "Vilh. Becks Vej",
         "93. 3.tv.",
         "8260",
         "Viby J",
         "56.13005448",
         "10.17991894",
         "4128.0",
         "3778.0",
         "350.0",
         "0.0",
         "0.0",
         "0.0",
         "0.0",
         "0.0",
         "0.0",
         "False",
         "False",
         "False",
         "False",
         "Boligforeningen Århus Omegn"
        ],
        [
         "1",
         "698",
         "1",
         "230",
         "Familiebolig",
         "Lejlighed",
         "False",
         "True",
         "False",
         "12.72",
         "2",
         "52.0",
         "7728.0",
         "Vilh. Becks Vej",
         "93. 3.tv.",
         "8260",
         "Viby J",
         "56.13005448",
         "10.17991894",
         "4128.0",
         "3778.0",
         "350.0",
         "0.0",
         "0.0",
         "0.0",
         "0.0",
         "0.0",
         "0.0",
         "False",
         "False",
         "False",
         "False",
         "Boligforeningen Århus Omegn"
        ],
        [
         "2",
         "698",
         "1",
         "230",
         "Familiebolig",
         "Lejlighed",
         "False",
         "True",
         "False",
         "12.72",
         "2",
         "52.0",
         "7728.0",
         "Vilh. Becks Vej",
         "93. 3.tv.",
         "8260",
         "Viby J",
         "56.13005448",
         "10.17991894",
         "4128.0",
         "3778.0",
         "350.0",
         "0.0",
         "0.0",
         "0.0",
         "0.0",
         "0.0",
         "0.0",
         "False",
         "False",
         "False",
         "False",
         "Boligforeningen Århus Omegn"
        ],
        [
         "3",
         "698",
         "1",
         "230",
         "Familiebolig",
         "Lejlighed",
         "False",
         "True",
         "False",
         "12.72",
         "2",
         "52.0",
         "7728.0",
         "Vilh. Becks Vej",
         "93. 3.tv.",
         "8260",
         "Viby J",
         "56.13005448",
         "10.17991894",
         "4128.0",
         "3778.0",
         "350.0",
         "0.0",
         "0.0",
         "0.0",
         "0.0",
         "0.0",
         "0.0",
         "False",
         "False",
         "False",
         "False",
         "Boligforeningen Århus Omegn"
        ],
        [
         "4",
         "698",
         "1",
         "333",
         "Familiebolig",
         "Lejlighed",
         "False",
         "True",
         "False",
         "12.72",
         "2",
         "52.0",
         "7143.0",
         "Kaj Munks Vej",
         "36. st.mf.",
         "8260",
         "Viby J",
         "56.13005448",
         "10.17991894",
         "4783.0",
         "3866.0",
         "657.0",
         "0.0",
         "0.0",
         "0.0",
         "260.0",
         "0.0",
         "0.0",
         "False",
         "False",
         "False",
         "False",
         "Boligforeningen Århus Omegn"
        ]
       ],
       "shape": {
        "columns": 32,
        "rows": 5
       }
      },
      "text/html": [
       "<div>\n",
       "<style scoped>\n",
       "    .dataframe tbody tr th:only-of-type {\n",
       "        vertical-align: middle;\n",
       "    }\n",
       "\n",
       "    .dataframe tbody tr th {\n",
       "        vertical-align: top;\n",
       "    }\n",
       "\n",
       "    .dataframe thead th {\n",
       "        text-align: right;\n",
       "    }\n",
       "</style>\n",
       "<table border=\"1\" class=\"dataframe\">\n",
       "  <thead>\n",
       "    <tr style=\"text-align: right;\">\n",
       "      <th></th>\n",
       "      <th>CompanyId</th>\n",
       "      <th>DepartmentId</th>\n",
       "      <th>TenancyId</th>\n",
       "      <th>TenancyType</th>\n",
       "      <th>ApartmentType</th>\n",
       "      <th>IsAvailable</th>\n",
       "      <th>IsStandard</th>\n",
       "      <th>UnrestrictedRentalPeriod</th>\n",
       "      <th>MovingPercentage</th>\n",
       "      <th>Rooms</th>\n",
       "      <th>...</th>\n",
       "      <th>Water</th>\n",
       "      <th>Modernization</th>\n",
       "      <th>Communications</th>\n",
       "      <th>Improvement Rights</th>\n",
       "      <th>Maintanence</th>\n",
       "      <th>IsPetAllowed</th>\n",
       "      <th>HasElevator</th>\n",
       "      <th>HasAdvantage</th>\n",
       "      <th>HasFloorPlan</th>\n",
       "      <th>CompanyName</th>\n",
       "    </tr>\n",
       "  </thead>\n",
       "  <tbody>\n",
       "    <tr>\n",
       "      <th>0</th>\n",
       "      <td>698</td>\n",
       "      <td>1</td>\n",
       "      <td>230</td>\n",
       "      <td>Familiebolig</td>\n",
       "      <td>Lejlighed</td>\n",
       "      <td>False</td>\n",
       "      <td>True</td>\n",
       "      <td>False</td>\n",
       "      <td>12.72</td>\n",
       "      <td>2</td>\n",
       "      <td>...</td>\n",
       "      <td>0.0</td>\n",
       "      <td>0.0</td>\n",
       "      <td>0.0</td>\n",
       "      <td>0.0</td>\n",
       "      <td>0.0</td>\n",
       "      <td>False</td>\n",
       "      <td>False</td>\n",
       "      <td>False</td>\n",
       "      <td>False</td>\n",
       "      <td>Boligforeningen Århus Omegn</td>\n",
       "    </tr>\n",
       "    <tr>\n",
       "      <th>1</th>\n",
       "      <td>698</td>\n",
       "      <td>1</td>\n",
       "      <td>230</td>\n",
       "      <td>Familiebolig</td>\n",
       "      <td>Lejlighed</td>\n",
       "      <td>False</td>\n",
       "      <td>True</td>\n",
       "      <td>False</td>\n",
       "      <td>12.72</td>\n",
       "      <td>2</td>\n",
       "      <td>...</td>\n",
       "      <td>0.0</td>\n",
       "      <td>0.0</td>\n",
       "      <td>0.0</td>\n",
       "      <td>0.0</td>\n",
       "      <td>0.0</td>\n",
       "      <td>False</td>\n",
       "      <td>False</td>\n",
       "      <td>False</td>\n",
       "      <td>False</td>\n",
       "      <td>Boligforeningen Århus Omegn</td>\n",
       "    </tr>\n",
       "    <tr>\n",
       "      <th>2</th>\n",
       "      <td>698</td>\n",
       "      <td>1</td>\n",
       "      <td>230</td>\n",
       "      <td>Familiebolig</td>\n",
       "      <td>Lejlighed</td>\n",
       "      <td>False</td>\n",
       "      <td>True</td>\n",
       "      <td>False</td>\n",
       "      <td>12.72</td>\n",
       "      <td>2</td>\n",
       "      <td>...</td>\n",
       "      <td>0.0</td>\n",
       "      <td>0.0</td>\n",
       "      <td>0.0</td>\n",
       "      <td>0.0</td>\n",
       "      <td>0.0</td>\n",
       "      <td>False</td>\n",
       "      <td>False</td>\n",
       "      <td>False</td>\n",
       "      <td>False</td>\n",
       "      <td>Boligforeningen Århus Omegn</td>\n",
       "    </tr>\n",
       "    <tr>\n",
       "      <th>3</th>\n",
       "      <td>698</td>\n",
       "      <td>1</td>\n",
       "      <td>230</td>\n",
       "      <td>Familiebolig</td>\n",
       "      <td>Lejlighed</td>\n",
       "      <td>False</td>\n",
       "      <td>True</td>\n",
       "      <td>False</td>\n",
       "      <td>12.72</td>\n",
       "      <td>2</td>\n",
       "      <td>...</td>\n",
       "      <td>0.0</td>\n",
       "      <td>0.0</td>\n",
       "      <td>0.0</td>\n",
       "      <td>0.0</td>\n",
       "      <td>0.0</td>\n",
       "      <td>False</td>\n",
       "      <td>False</td>\n",
       "      <td>False</td>\n",
       "      <td>False</td>\n",
       "      <td>Boligforeningen Århus Omegn</td>\n",
       "    </tr>\n",
       "    <tr>\n",
       "      <th>4</th>\n",
       "      <td>698</td>\n",
       "      <td>1</td>\n",
       "      <td>333</td>\n",
       "      <td>Familiebolig</td>\n",
       "      <td>Lejlighed</td>\n",
       "      <td>False</td>\n",
       "      <td>True</td>\n",
       "      <td>False</td>\n",
       "      <td>12.72</td>\n",
       "      <td>2</td>\n",
       "      <td>...</td>\n",
       "      <td>0.0</td>\n",
       "      <td>0.0</td>\n",
       "      <td>260.0</td>\n",
       "      <td>0.0</td>\n",
       "      <td>0.0</td>\n",
       "      <td>False</td>\n",
       "      <td>False</td>\n",
       "      <td>False</td>\n",
       "      <td>False</td>\n",
       "      <td>Boligforeningen Århus Omegn</td>\n",
       "    </tr>\n",
       "  </tbody>\n",
       "</table>\n",
       "<p>5 rows × 32 columns</p>\n",
       "</div>"
      ],
      "text/plain": [
       "   CompanyId  DepartmentId  TenancyId   TenancyType ApartmentType  \\\n",
       "0        698             1        230  Familiebolig     Lejlighed   \n",
       "1        698             1        230  Familiebolig     Lejlighed   \n",
       "2        698             1        230  Familiebolig     Lejlighed   \n",
       "3        698             1        230  Familiebolig     Lejlighed   \n",
       "4        698             1        333  Familiebolig     Lejlighed   \n",
       "\n",
       "   IsAvailable  IsStandard  UnrestrictedRentalPeriod  MovingPercentage  Rooms  \\\n",
       "0        False        True                     False             12.72      2   \n",
       "1        False        True                     False             12.72      2   \n",
       "2        False        True                     False             12.72      2   \n",
       "3        False        True                     False             12.72      2   \n",
       "4        False        True                     False             12.72      2   \n",
       "\n",
       "   ...  Water  Modernization Communications Improvement Rights Maintanence  \\\n",
       "0  ...    0.0            0.0            0.0                0.0         0.0   \n",
       "1  ...    0.0            0.0            0.0                0.0         0.0   \n",
       "2  ...    0.0            0.0            0.0                0.0         0.0   \n",
       "3  ...    0.0            0.0            0.0                0.0         0.0   \n",
       "4  ...    0.0            0.0          260.0                0.0         0.0   \n",
       "\n",
       "  IsPetAllowed  HasElevator  HasAdvantage  HasFloorPlan  \\\n",
       "0        False        False         False         False   \n",
       "1        False        False         False         False   \n",
       "2        False        False         False         False   \n",
       "3        False        False         False         False   \n",
       "4        False        False         False         False   \n",
       "\n",
       "                   CompanyName  \n",
       "0  Boligforeningen Århus Omegn  \n",
       "1  Boligforeningen Århus Omegn  \n",
       "2  Boligforeningen Århus Omegn  \n",
       "3  Boligforeningen Århus Omegn  \n",
       "4  Boligforeningen Århus Omegn  \n",
       "\n",
       "[5 rows x 32 columns]"
      ]
     },
     "execution_count": 5,
     "metadata": {},
     "output_type": "execute_result"
    }
   ],
   "source": [
    "# load the Aarhusbolig data\n",
    "aarhusbolig = pd.read_csv(\n",
    "    r\"C:\\Users\\marja\\Desktop\\google\\Aarhus_Bolig\\data\\Gold\\tenancies_gold.csv\"\n",
    ")\n",
    "aarhusbolig.head()"
   ]
  },
  {
   "cell_type": "code",
   "execution_count": 6,
   "metadata": {},
   "outputs": [],
   "source": [
    "# Delete the columns that are not needed\n",
    "aarhusbolig.drop(columns=[\"DepartmentId\", \"TenancyId\"], inplace=True)"
   ]
  },
  {
   "cell_type": "markdown",
   "metadata": {
    "id": "7OrmMGcf2g9x"
   },
   "source": [
    "## 3.2 Visualize Categorical Distributions\n",
    "In this section, we will visualize some of the categorical variables of the dataset: `company`, `type` and `rooms`"
   ]
  },
  {
   "cell_type": "code",
   "execution_count": 7,
   "metadata": {
    "id": "d6umgqw4vNpF"
   },
   "outputs": [],
   "source": [
    "# change this to any of the other variable names to perform the plot\n",
    "variable_name = (\n",
    "    \"CompanyName\"  # Change this to 'TenancyType' or 'Rooms' for other variables\n",
    ")"
   ]
  },
  {
   "cell_type": "code",
   "execution_count": 8,
   "metadata": {
    "id": "Ksj1VCIM2g9x"
   },
   "outputs": [],
   "source": [
    "# find the count of each value in the category\n",
    "values, counts = (\n",
    "    aarhusbolig[variable_name].value_counts().index,\n",
    "    aarhusbolig[variable_name].value_counts(),\n",
    ")"
   ]
  },
  {
   "cell_type": "code",
   "execution_count": 9,
   "metadata": {
    "id": "Y9qzxD3s2g9x"
   },
   "outputs": [
    {
     "data": {
      "application/vnd.plotly.v1+json": {
       "config": {
        "plotlyServerURL": "https://plot.ly"
       },
       "data": [
        {
         "hovertemplate": "x=%{x}<br>y=%{y}<extra></extra>",
         "legendgroup": "",
         "marker": {
          "color": "#636efa",
          "pattern": {
           "shape": ""
          }
         },
         "name": "",
         "orientation": "v",
         "showlegend": false,
         "textposition": "auto",
         "type": "bar",
         "x": [
          "Alboa",
          "Boligforeningen Århus Omegn",
          "Arbejdernes Andels Boligforening",
          "Boligkontoret Århus",
          "AL2bolig",
          "DOMI Bolig",
          "Boligforeningen Ringgården",
          "AlmenBo-Aarhus",
          "Brabrand Boligforening",
          "Østjysk Bolig",
          "Boligforeningen 10. marts 1943",
          "Lejerbo, Århus"
         ],
         "xaxis": "x",
         "y": {
          "bdata": "dwFsAQkB8wDuAL4AuwCUAI0AbgBlAB0A",
          "dtype": "i2"
         },
         "yaxis": "y"
        }
       ],
       "layout": {
        "barmode": "relative",
        "legend": {
         "tracegroupgap": 0
        },
        "template": {
         "data": {
          "bar": [
           {
            "error_x": {
             "color": "#2a3f5f"
            },
            "error_y": {
             "color": "#2a3f5f"
            },
            "marker": {
             "line": {
              "color": "#E5ECF6",
              "width": 0.5
             },
             "pattern": {
              "fillmode": "overlay",
              "size": 10,
              "solidity": 0.2
             }
            },
            "type": "bar"
           }
          ],
          "barpolar": [
           {
            "marker": {
             "line": {
              "color": "#E5ECF6",
              "width": 0.5
             },
             "pattern": {
              "fillmode": "overlay",
              "size": 10,
              "solidity": 0.2
             }
            },
            "type": "barpolar"
           }
          ],
          "carpet": [
           {
            "aaxis": {
             "endlinecolor": "#2a3f5f",
             "gridcolor": "white",
             "linecolor": "white",
             "minorgridcolor": "white",
             "startlinecolor": "#2a3f5f"
            },
            "baxis": {
             "endlinecolor": "#2a3f5f",
             "gridcolor": "white",
             "linecolor": "white",
             "minorgridcolor": "white",
             "startlinecolor": "#2a3f5f"
            },
            "type": "carpet"
           }
          ],
          "choropleth": [
           {
            "colorbar": {
             "outlinewidth": 0,
             "ticks": ""
            },
            "type": "choropleth"
           }
          ],
          "contour": [
           {
            "colorbar": {
             "outlinewidth": 0,
             "ticks": ""
            },
            "colorscale": [
             [
              0,
              "#0d0887"
             ],
             [
              0.1111111111111111,
              "#46039f"
             ],
             [
              0.2222222222222222,
              "#7201a8"
             ],
             [
              0.3333333333333333,
              "#9c179e"
             ],
             [
              0.4444444444444444,
              "#bd3786"
             ],
             [
              0.5555555555555556,
              "#d8576b"
             ],
             [
              0.6666666666666666,
              "#ed7953"
             ],
             [
              0.7777777777777778,
              "#fb9f3a"
             ],
             [
              0.8888888888888888,
              "#fdca26"
             ],
             [
              1,
              "#f0f921"
             ]
            ],
            "type": "contour"
           }
          ],
          "contourcarpet": [
           {
            "colorbar": {
             "outlinewidth": 0,
             "ticks": ""
            },
            "type": "contourcarpet"
           }
          ],
          "heatmap": [
           {
            "colorbar": {
             "outlinewidth": 0,
             "ticks": ""
            },
            "colorscale": [
             [
              0,
              "#0d0887"
             ],
             [
              0.1111111111111111,
              "#46039f"
             ],
             [
              0.2222222222222222,
              "#7201a8"
             ],
             [
              0.3333333333333333,
              "#9c179e"
             ],
             [
              0.4444444444444444,
              "#bd3786"
             ],
             [
              0.5555555555555556,
              "#d8576b"
             ],
             [
              0.6666666666666666,
              "#ed7953"
             ],
             [
              0.7777777777777778,
              "#fb9f3a"
             ],
             [
              0.8888888888888888,
              "#fdca26"
             ],
             [
              1,
              "#f0f921"
             ]
            ],
            "type": "heatmap"
           }
          ],
          "histogram": [
           {
            "marker": {
             "pattern": {
              "fillmode": "overlay",
              "size": 10,
              "solidity": 0.2
             }
            },
            "type": "histogram"
           }
          ],
          "histogram2d": [
           {
            "colorbar": {
             "outlinewidth": 0,
             "ticks": ""
            },
            "colorscale": [
             [
              0,
              "#0d0887"
             ],
             [
              0.1111111111111111,
              "#46039f"
             ],
             [
              0.2222222222222222,
              "#7201a8"
             ],
             [
              0.3333333333333333,
              "#9c179e"
             ],
             [
              0.4444444444444444,
              "#bd3786"
             ],
             [
              0.5555555555555556,
              "#d8576b"
             ],
             [
              0.6666666666666666,
              "#ed7953"
             ],
             [
              0.7777777777777778,
              "#fb9f3a"
             ],
             [
              0.8888888888888888,
              "#fdca26"
             ],
             [
              1,
              "#f0f921"
             ]
            ],
            "type": "histogram2d"
           }
          ],
          "histogram2dcontour": [
           {
            "colorbar": {
             "outlinewidth": 0,
             "ticks": ""
            },
            "colorscale": [
             [
              0,
              "#0d0887"
             ],
             [
              0.1111111111111111,
              "#46039f"
             ],
             [
              0.2222222222222222,
              "#7201a8"
             ],
             [
              0.3333333333333333,
              "#9c179e"
             ],
             [
              0.4444444444444444,
              "#bd3786"
             ],
             [
              0.5555555555555556,
              "#d8576b"
             ],
             [
              0.6666666666666666,
              "#ed7953"
             ],
             [
              0.7777777777777778,
              "#fb9f3a"
             ],
             [
              0.8888888888888888,
              "#fdca26"
             ],
             [
              1,
              "#f0f921"
             ]
            ],
            "type": "histogram2dcontour"
           }
          ],
          "mesh3d": [
           {
            "colorbar": {
             "outlinewidth": 0,
             "ticks": ""
            },
            "type": "mesh3d"
           }
          ],
          "parcoords": [
           {
            "line": {
             "colorbar": {
              "outlinewidth": 0,
              "ticks": ""
             }
            },
            "type": "parcoords"
           }
          ],
          "pie": [
           {
            "automargin": true,
            "type": "pie"
           }
          ],
          "scatter": [
           {
            "fillpattern": {
             "fillmode": "overlay",
             "size": 10,
             "solidity": 0.2
            },
            "type": "scatter"
           }
          ],
          "scatter3d": [
           {
            "line": {
             "colorbar": {
              "outlinewidth": 0,
              "ticks": ""
             }
            },
            "marker": {
             "colorbar": {
              "outlinewidth": 0,
              "ticks": ""
             }
            },
            "type": "scatter3d"
           }
          ],
          "scattercarpet": [
           {
            "marker": {
             "colorbar": {
              "outlinewidth": 0,
              "ticks": ""
             }
            },
            "type": "scattercarpet"
           }
          ],
          "scattergeo": [
           {
            "marker": {
             "colorbar": {
              "outlinewidth": 0,
              "ticks": ""
             }
            },
            "type": "scattergeo"
           }
          ],
          "scattergl": [
           {
            "marker": {
             "colorbar": {
              "outlinewidth": 0,
              "ticks": ""
             }
            },
            "type": "scattergl"
           }
          ],
          "scattermap": [
           {
            "marker": {
             "colorbar": {
              "outlinewidth": 0,
              "ticks": ""
             }
            },
            "type": "scattermap"
           }
          ],
          "scattermapbox": [
           {
            "marker": {
             "colorbar": {
              "outlinewidth": 0,
              "ticks": ""
             }
            },
            "type": "scattermapbox"
           }
          ],
          "scatterpolar": [
           {
            "marker": {
             "colorbar": {
              "outlinewidth": 0,
              "ticks": ""
             }
            },
            "type": "scatterpolar"
           }
          ],
          "scatterpolargl": [
           {
            "marker": {
             "colorbar": {
              "outlinewidth": 0,
              "ticks": ""
             }
            },
            "type": "scatterpolargl"
           }
          ],
          "scatterternary": [
           {
            "marker": {
             "colorbar": {
              "outlinewidth": 0,
              "ticks": ""
             }
            },
            "type": "scatterternary"
           }
          ],
          "surface": [
           {
            "colorbar": {
             "outlinewidth": 0,
             "ticks": ""
            },
            "colorscale": [
             [
              0,
              "#0d0887"
             ],
             [
              0.1111111111111111,
              "#46039f"
             ],
             [
              0.2222222222222222,
              "#7201a8"
             ],
             [
              0.3333333333333333,
              "#9c179e"
             ],
             [
              0.4444444444444444,
              "#bd3786"
             ],
             [
              0.5555555555555556,
              "#d8576b"
             ],
             [
              0.6666666666666666,
              "#ed7953"
             ],
             [
              0.7777777777777778,
              "#fb9f3a"
             ],
             [
              0.8888888888888888,
              "#fdca26"
             ],
             [
              1,
              "#f0f921"
             ]
            ],
            "type": "surface"
           }
          ],
          "table": [
           {
            "cells": {
             "fill": {
              "color": "#EBF0F8"
             },
             "line": {
              "color": "white"
             }
            },
            "header": {
             "fill": {
              "color": "#C8D4E3"
             },
             "line": {
              "color": "white"
             }
            },
            "type": "table"
           }
          ]
         },
         "layout": {
          "annotationdefaults": {
           "arrowcolor": "#2a3f5f",
           "arrowhead": 0,
           "arrowwidth": 1
          },
          "autotypenumbers": "strict",
          "coloraxis": {
           "colorbar": {
            "outlinewidth": 0,
            "ticks": ""
           }
          },
          "colorscale": {
           "diverging": [
            [
             0,
             "#8e0152"
            ],
            [
             0.1,
             "#c51b7d"
            ],
            [
             0.2,
             "#de77ae"
            ],
            [
             0.3,
             "#f1b6da"
            ],
            [
             0.4,
             "#fde0ef"
            ],
            [
             0.5,
             "#f7f7f7"
            ],
            [
             0.6,
             "#e6f5d0"
            ],
            [
             0.7,
             "#b8e186"
            ],
            [
             0.8,
             "#7fbc41"
            ],
            [
             0.9,
             "#4d9221"
            ],
            [
             1,
             "#276419"
            ]
           ],
           "sequential": [
            [
             0,
             "#0d0887"
            ],
            [
             0.1111111111111111,
             "#46039f"
            ],
            [
             0.2222222222222222,
             "#7201a8"
            ],
            [
             0.3333333333333333,
             "#9c179e"
            ],
            [
             0.4444444444444444,
             "#bd3786"
            ],
            [
             0.5555555555555556,
             "#d8576b"
            ],
            [
             0.6666666666666666,
             "#ed7953"
            ],
            [
             0.7777777777777778,
             "#fb9f3a"
            ],
            [
             0.8888888888888888,
             "#fdca26"
            ],
            [
             1,
             "#f0f921"
            ]
           ],
           "sequentialminus": [
            [
             0,
             "#0d0887"
            ],
            [
             0.1111111111111111,
             "#46039f"
            ],
            [
             0.2222222222222222,
             "#7201a8"
            ],
            [
             0.3333333333333333,
             "#9c179e"
            ],
            [
             0.4444444444444444,
             "#bd3786"
            ],
            [
             0.5555555555555556,
             "#d8576b"
            ],
            [
             0.6666666666666666,
             "#ed7953"
            ],
            [
             0.7777777777777778,
             "#fb9f3a"
            ],
            [
             0.8888888888888888,
             "#fdca26"
            ],
            [
             1,
             "#f0f921"
            ]
           ]
          },
          "colorway": [
           "#636efa",
           "#EF553B",
           "#00cc96",
           "#ab63fa",
           "#FFA15A",
           "#19d3f3",
           "#FF6692",
           "#B6E880",
           "#FF97FF",
           "#FECB52"
          ],
          "font": {
           "color": "#2a3f5f"
          },
          "geo": {
           "bgcolor": "white",
           "lakecolor": "white",
           "landcolor": "#E5ECF6",
           "showlakes": true,
           "showland": true,
           "subunitcolor": "white"
          },
          "hoverlabel": {
           "align": "left"
          },
          "hovermode": "closest",
          "mapbox": {
           "style": "light"
          },
          "paper_bgcolor": "white",
          "plot_bgcolor": "#E5ECF6",
          "polar": {
           "angularaxis": {
            "gridcolor": "white",
            "linecolor": "white",
            "ticks": ""
           },
           "bgcolor": "#E5ECF6",
           "radialaxis": {
            "gridcolor": "white",
            "linecolor": "white",
            "ticks": ""
           }
          },
          "scene": {
           "xaxis": {
            "backgroundcolor": "#E5ECF6",
            "gridcolor": "white",
            "gridwidth": 2,
            "linecolor": "white",
            "showbackground": true,
            "ticks": "",
            "zerolinecolor": "white"
           },
           "yaxis": {
            "backgroundcolor": "#E5ECF6",
            "gridcolor": "white",
            "gridwidth": 2,
            "linecolor": "white",
            "showbackground": true,
            "ticks": "",
            "zerolinecolor": "white"
           },
           "zaxis": {
            "backgroundcolor": "#E5ECF6",
            "gridcolor": "white",
            "gridwidth": 2,
            "linecolor": "white",
            "showbackground": true,
            "ticks": "",
            "zerolinecolor": "white"
           }
          },
          "shapedefaults": {
           "line": {
            "color": "#2a3f5f"
           }
          },
          "ternary": {
           "aaxis": {
            "gridcolor": "white",
            "linecolor": "white",
            "ticks": ""
           },
           "baxis": {
            "gridcolor": "white",
            "linecolor": "white",
            "ticks": ""
           },
           "bgcolor": "#E5ECF6",
           "caxis": {
            "gridcolor": "white",
            "linecolor": "white",
            "ticks": ""
           }
          },
          "title": {
           "x": 0.05
          },
          "xaxis": {
           "automargin": true,
           "gridcolor": "white",
           "linecolor": "white",
           "ticks": "",
           "title": {
            "standoff": 15
           },
           "zerolinecolor": "white",
           "zerolinewidth": 2
          },
          "yaxis": {
           "automargin": true,
           "gridcolor": "white",
           "linecolor": "white",
           "ticks": "",
           "title": {
            "standoff": 15
           },
           "zerolinecolor": "white",
           "zerolinewidth": 2
          }
         }
        },
        "title": {
         "font": {
          "color": "darkblue",
          "size": 20
         },
         "text": "Distribution of CompanyName"
        },
        "xaxis": {
         "anchor": "y",
         "domain": [
          0,
          1
         ],
         "tickangle": -45,
         "title": {
          "font": {
           "color": "darkgreen",
           "size": 14
          },
          "text": "CompanyName"
         }
        },
        "yaxis": {
         "anchor": "x",
         "domain": [
          0,
          1
         ],
         "title": {
          "font": {
           "color": "darkgreen",
           "size": 14
          },
          "text": "Count"
         }
        }
       }
      }
     },
     "metadata": {},
     "output_type": "display_data"
    }
   ],
   "source": [
    "# create the bar plot\n",
    "fig = px.bar(x=values, y=counts, title=f\"Distribution of {variable_name}\")\n",
    "fig.update_layout(\n",
    "    title={\n",
    "        \"text\": f\"Distribution of {variable_name}\",\n",
    "        \"font\": {\"size\": 20, \"color\": \"darkblue\"},\n",
    "    },\n",
    "    xaxis_title=variable_name,\n",
    "    yaxis_title=\"Count\",\n",
    "    xaxis_tickangle=-45,  # Rotate x-axis labels for better readability\n",
    "    xaxis=dict(title_font=dict(size=14, color=\"darkgreen\")),\n",
    "    yaxis=dict(title_font=dict(size=14, color=\"darkgreen\")),\n",
    ")\n",
    "fig.show()"
   ]
  },
  {
   "cell_type": "markdown",
   "metadata": {
    "id": "1aRxWnu-2g9y"
   },
   "source": [
    "## 3.3 Visualize Location Data\n",
    "In this section, we will visualize the location data (`long`, `lat`) of the listed housings in the dataset.\n",
    "- Create a geo scatter plot, that includes the Aarhus area (e.g. using `go.Scattermapbox`)\n",
    "- Add the location data to the scatter plot\n",
    "- Add axis labels and plot title\n",
    "- Color the data points according to one of the categorical variables: `company`, `type` and `rooms`\n",
    "- *Optional*: Change the size of the data points according to the size of the housing `size`\n",
    "- *Optional*: Center the map on the average `long`, `lat` location\n",
    "- *Optional*: Create two extra plots with coloring for the other categorical variables\n",
    "- *Optional*: Add text on hower to the datapoints that holds some information that you think is valuable. Could be rent, size, number of rooms, etc."
   ]
  },
  {
   "cell_type": "code",
   "execution_count": 10,
   "metadata": {
    "id": "P_7OlAtd2g9y"
   },
   "outputs": [],
   "source": [
    "# get the location data\n",
    "# Get the location data and prepare for visualization\n",
    "# Define the variable to use for coloring\n",
    "coloring_variable = \"CompanyName\"\n",
    "\n",
    "# Get the location data, along with additional data needed for plotting\n",
    "aarhusbolig_locations = aarhusbolig[\n",
    "    [\"Lng\", \"Lat\", coloring_variable, \"Size\", \"TotalRent\", \"Rooms\"]\n",
    "]\n",
    "\n",
    "# Drop rows with N/A values\n",
    "aarhusbolig_locations = aarhusbolig_locations.dropna(how=\"any\")"
   ]
  },
  {
   "cell_type": "code",
   "execution_count": 11,
   "metadata": {},
   "outputs": [],
   "source": [
    "# Color based on category\n",
    "# Convert to categorical codes for coloring\n",
    "aarhusbolig_locations[\"color\"] = (\n",
    "    aarhusbolig_locations[coloring_variable].astype(\"category\").cat.codes\n",
    ")\n",
    "\n",
    "# Create hover text column with rent, size and number of rooms\n",
    "aarhusbolig_locations[\"display_text\"] = (\n",
    "    aarhusbolig_locations[\"TotalRent\"]\n",
    "    .astype(str)\n",
    "    .apply(lambda x: f\"Rent: {x} DKK</br>\")\n",
    "    + aarhusbolig_locations[\"Size\"].astype(str).apply(lambda x: f\"Size: {x} m2</br>\")\n",
    "    + aarhusbolig_locations[\"Rooms\"].astype(str).apply(lambda x: f\"Rooms: {x}\")\n",
    ")"
   ]
  },
  {
   "cell_type": "code",
   "execution_count": 12,
   "metadata": {
    "id": "SMUwWZwl2g9y"
   },
   "outputs": [
    {
     "name": "stderr",
     "output_type": "stream",
     "text": [
      "C:\\Users\\marja\\AppData\\Local\\Temp\\ipykernel_15788\\1414464028.py:12: DeprecationWarning:\n",
      "\n",
      "*scattermapbox* is deprecated! Use *scattermap* instead. Learn more at: https://plotly.com/python/mapbox-to-maplibre/\n",
      "\n"
     ]
    },
    {
     "data": {
      "application/vnd.plotly.v1+json": {
       "config": {
        "plotlyServerURL": "https://plot.ly"
       },
       "data": [
        {
         "hoverinfo": "text+lat+lon",
         "lat": {
          "bdata": "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",
          "dtype": "f8"
         },
         "lon": {
          "bdata": "RHbWVR5cJEBEdtZVHlwkQER21lUeXCRARHbWVR5cJEBEdtZVHlwkQER21lUeXCRARHbWVR5cJEBEdtZVHlwkQER21lUeXCRARHbWVR5cJEBEdtZVHlwkQER21lUeXCRARHbWVR5cJEBEdtZVHlwkQER21lUeXCRARHbWVR5cJEBEdtZVHlwkQER21lUeXCRARHbWVR5cJEBEdtZVHlwkQER21lUeXCRARHbWVR5cJEBEdtZVHlwkQER21lUeXCRARHbWVR5cJEBEdtZVHlwkQER21lUeXCRARHbWVR5cJEBEdtZVHlwkQER21lUeXCRARHbWVR5cJEBEdtZVHlwkQER21lUeXCRARHbWVR5cJEBEdtZVHlwkQER21lUeXCRAQcsEDUdjJEBBywQNR2MkQEHLBA1HYyRAHU/TgKRMJEAdT9OApEwkQB1P04CkTCRADMlN/VFwJEAMyU39UXAkQAzJTf1RcCRADMlN/VFwJEAMyU39UXAkQAzJTf1RcCRADMlN/VFwJEAMyU39UXAkQAzJTf1RcCRAO9bWmYxUJEA71taZjFQkQDvW1pmMVCRAO9bWmYxUJEA71taZjFQkQI6BCoE7WCRAjoEKgTtYJECOgQqBO1gkQI6BCoE7WCRAjoEKgTtYJEBO+L4bf0AkQE74vht/QCRATvi+G39AJEBO+L4bf0AkQE74vht/QCRATvi+G39AJEBO+L4bf0AkQAohMYuaYSRACiExi5phJEAKITGLmmEkQAohMYuaYSRACiExi5phJEAKITGLmmEkQAohMYuaYSRAyWl4SGthJEDJaXhIa2EkQBpKcX5YZyRAGkpxflhnJEAaSnF+WGckQBpKcX5YZyRAGkpxflhnJEAaSnF+WGckQBpKcX5YZyRAvwXAFdxpJEC/BcAV3GkkQL8FwBXcaSRAvwXAFdxpJEC/BcAV3GkkQLhdR6DqSyRAuF1HoOpLJEC4XUeg6kskQLhdR6DqSyRAuF1HoOpLJEC4XUeg6kskQLhdR6DqSyRAuF1HoOpLJEC4XUeg6kskQLhdR6DqSyRAuF1HoOpLJEC4XUeg6kskQLhdR6DqSyRAuF1HoOpLJEC4XUeg6kskQLhdR6DqSyRAuF1HoOpLJEC4XUeg6kskQLhdR6DqSyRAuF1HoOpLJEC4XUeg6kskQLhdR6DqSyRAuF1HoOpLJEC4XUeg6kskQLhdR6DqSyRAuF1HoOpLJEC4XUeg6kskQLhdR6DqSyRATvi+G39AJEBO+L4bf0AkQE74vht/QCRATvi+G39AJEBO+L4bf0AkQE74vht/QCRATvi+G39AJEBO+L4bf0AkQPE0so5XXiRA8TSyjldeJEDxNLKOV14kQPE0so5XXiRA8TSyjldeJEDTE3VqV24kQNMTdWpXbiRA0xN1alduJEB1V3bB4GQkQHVXdsHgZCRAdVd2weBkJEDStu298FMkQNK27b3wUyRAjoEKgTtYJECOgQqBO1gkQJzmeGBbZCRAnOZ4YFtkJEBCDVuKFmYkQEINW4oWZiRAQg1bihZmJEBCDVuKFmYkQF+yVItGVCRAX7JUi0ZUJEBfslSLRlQkQF+yVItGVCRAX7JUi0ZUJEBfslSLRlQkQMwqS/jOWSRAzCpL+M5ZJEDMKkv4zlkkQMwqS/jOWSRAWi8COv5jJEDHsHGakW0kQMewcZqRbSRAx7BxmpFtJEBqjoN9AW4kQGqOg30BbiRAao6DfQFuJEBqjoN9AW4kQGqOg30BbiRAao6DfQFuJEDmc1GheIEkQOZzUaF4gSRA5nNRoXiBJEDmc1GheIEkQOZzUaF4gSRA5nNRoXiBJEDmc1GheIEkQOZzUaF4gSRA5nNRoXiBJEDmc1GheIEkQOZzUaF4gSRA5nNRoXiBJEDmc1GheIEkQOZzUaF4gSRA5nNRoXiBJEDmc1GheIEkQOZzUaF4gSRA5nNRoXiBJEDmc1GheIEkQOZzUaF4gSRA5nNRoXiBJEDmc1GheIEkQOZzUaF4gSRA5nNRoXiBJEDmc1GheIEkQOZzUaF4gSRA5nNRoXiBJEDmc1GheIEkQOZzUaF4gSRA5nNRoXiBJEDmc1GheIEkQOZzUaF4gSRAYzNVatU2JEBjM1Vq1TYkQCmaYmk7DSRAKZpiaTsNJEA6GLnASGwkQDoYucBIbCRAOhi5wEhsJEBYn93nGWskQFif3ecZayRAWJ/d5xlrJEBYn93nGWskQFif3ecZayRAWJ/d5xlrJEBYn93nGWskQBCNtHXsUyRAEI20dexTJEAQjbR17FMkQBCNtHXsUyRAEI20dexTJEDhhPh2AV0kQOGE+HYBXSRA4YT4dgFdJEDhhPh2AV0kQOGE+HYBXSRA0s5hpR9qJEDSzmGlH2okQB9uA04hMyRAH24DTiEzJEAfbgNOITMkQB9uA04hMyRAH24DTiEzJEAzpKvwPl0kQDOkq/A+XSRAQja5rWdZJEBCNrmtZ1kkQEI2ua1nWSRAQja5rWdZJEBCNrmtZ1kkQEI2ua1nWSRAQja5rWdZJECt19sDAFEkQK3X2wMAUSRArdfbAwBRJEAaSnF+WGckQBpKcX5YZyRAGkpxflhnJEAaSnF+WGckQBpKcX5YZyRAfEa/CcdsJEB8Rr8Jx2wkQIZfRaHAXCRAhl9FocBcJECGX0WhwFwkQIZfRaHAXCRAhl9FocBcJECGX0WhwFwkQIZfRaHAXCRAhl9FocBcJEAq3JfYIUkkQCrcl9ghSSRAKtyX2CFJJEAq3JfYIUkkQCrcl9ghSSRAKtyX2CFJJEDkW0hVTV8kQORbSFVNXyRA5FtIVU1fJEDkW0hVTV8kQORbSFVNXyRA5FtIVU1fJEDkW0hVTV8kQORbSFVNXyRAGRL/yUKCJEAZEv/JQoIkQBkS/8lCgiRATvi+G39AJEBO+L4bf0AkQOKoP2/oWyRAmuniX5k1JECa6eJfmTUkQJrp4l+ZNSRATvi+G39AJEBO+L4bf0AkQE74vht/QCRAyhOtgVJbJEDKE62BUlskQMoTrYFSWyRAyhOtgVJbJEDKE62BUlskQMoTrYFSWyRAyhOtgVJbJEAeAoGtljIkQB4Cga2WMiRAHgKBrZYyJEAeAoGtljIkQB4Cga2WMiRAHgKBrZYyJEAeAoGtljIkQB4Cga2WMiRAHgKBrZYyJEAeAoGtljIkQB4Cga2WMiRAHgKBrZYyJEAeAoGtljIkQB4Cga2WMiRAHgKBrZYyJEAeAoGtljIkQB4Cga2WMiRAHgKBrZYyJEAeAoGtljIkQB4Cga2WMiRAS00O4ZBmJEBLTQ7hkGYkQEtNDuGQZiRA531OB9NsJEDnfU4H02wkQOd9TgfTbCRA531OB9NsJEDnfU4H02wkQOd9TgfTbCRA531OB9NsJEDnfU4H02wkQICgFmJ5WiRArdmQoHRFJECt2ZCgdEUkQK3ZkKB0RSRArdmQoHRFJECt2ZCgdEUkQK3ZkKB0RSRATvi+G39AJEBO+L4bf0AkQE74vht/QCRADHOCNjlQJEAMc4I2OVAkQAxzgjY5UCRADHOCNjlQJEAMc4I2OVAkQAxzgjY5UCRADHOCNjlQJEAMc4I2OVAkQAxzgjY5UCRADHOCNjlQJEAMc4I2OVAkQAxzgjY5UCRAkaEA3dlrJECRoQDd2WskQJGhAN3ZayRAkaEA3dlrJEBFjfgEP24kQEWN+AQ/biRARY34BD9uJEA7g21haVwkQDuDbWFpXCRAO4NtYWlcJEA7g21haVwkQDuDbWFpXCRASjVgTtgtJEBKNWBO2C0kQEo1YE7YLSRASjVgTtgtJEBKNWBO2C0kQEo1YE7YLSRASjVgTtgtJEBKNWBO2C0kQEo1YE7YLSRASjVgTtgtJEBKNWBO2C0kQEo1YE7YLSRAW5r49vBrJEBbmvj28GskQFua+PbwayRAaTc8teFVJEBpNzy14VUkQGk3PLXhVSRAgnX7MGtjJECCdfswa2MkQIJ1+zBrYyRAgnX7MGtjJECCdfswa2MkQIJ1+zBrYyRAgnX7MGtjJECCdfswa2MkQIJ1+zBrYyRAgnX7MGtjJECCdfswa2MkQIJ1+zBrYyRAMTCfavxbJEAxMJ9q/FskQDEwn2r8WyRAMTCfavxbJECkebb94WckQKR5tv3hZyRApHm2/eFnJECkebb94WckQKR5tv3hZyRAR/vltCN0JEBH++W0I3QkQEf75bQjdCRAR/vltCN0JEDoNfJQRmwkQOg18lBGbCRA6DXyUEZsJEDoNfJQRmwkQOg18lBGbCRA6DXyUEZsJEDoNfJQRmwkQOg18lBGbCRAqPnPP2aaJECo+c8/ZpokQKj5zz9mmiRAjOxSPJEyJECM7FI8kTIkQIzsUjyRMiRAjOxSPJEyJECM7FI8kTIkQIzsUjyRMiRAjOxSPJEyJECM7FI8kTIkQIzsUjyRMiRAjOxSPJEyJECM7FI8kTIkQIzsUjyRMiRAjOxSPJEyJECM7FI8kTIkQIzsUjyRMiRAjOxSPJEyJECkebb94WckQKR5tv3hZyRApHm2/eFnJECkebb94WckQPuTGevyfiRA+5MZ6/J+JED7kxnr8n4kQPuTGevyfiRA+5MZ6/J+JED7kxnr8n4kQPuTGevyfiRA+5MZ6/J+JED7kxnr8n4kQPuTGevyfiRA1D14DuFnJEDUPXgO4WckQNQ9eA7hZyRA1D14DuFnJEDUPXgO4WckQN0PcO+3SyRA3Q9w77dLJEDpfJmkCYYkQOl8maQJhiRA6XyZpAmGJEDyHeMnYWgkQAi8giM3YyRACLyCIzdjJECUaXbV6nYkQBzpkMRgRiRAHOmQxGBGJECehKmYEGAkQJ6EqZgQYCRAnoSpmBBgJECehKmYEGAkQJ6EqZgQYCRABwrdoThWJEAHCt2hOFYkQAcK3aE4ViRABwrdoThWJECkDTRdV20kQKQNNF1XbSRApA00XVdtJECkDTRdV20kQKQNNF1XbSRApA00XVdtJECkDTRdV20kQB9uA04hMyRAH24DTiEzJEAfbgNOITMkQBeXkRclUCRAF5eRFyVQJEAXl5EXJVAkQCSmPKF0dSRAJKY8oXR1JEARwbzwGF4kQBHBvPAYXiRAEcG88BheJEARwbzwGF4kQBHBvPAYXiRAEcG88BheJEARwbzwGF4kQBHBvPAYXiRAVXS5+/t0JEBVdLn7+3QkQFV0ufv7dCRAVXS5+/t0JEBVdLn7+3QkQFV0ufv7dCRAVXS5+/t0JEBVdLn7+3QkQFV0ufv7dCRArRAcuH9gJECtEBy4f2AkQK0QHLh/YCRArRAcuH9gJECtEBy4f2AkQK0QHLh/YCRArRAcuH9gJECtEBy4f2AkQK0QHLh/YCRArRAcuH9gJECtEBy4f2AkQK0QHLh/YCRArRAcuH9gJECtEBy4f2AkQK0QHLh/YCRArRAcuH9gJECtEBy4f2AkQK0QHLh/YCRArRAcuH9gJECtEBy4f2AkQA7dywGrfCRADt3LAat8JEAO3csBq3wkQA7dywGrfCRAnoSpmBBgJECehKmYEGAkQJ6EqZgQYCRAnoSpmBBgJECehKmYEGAkQCg/sWcyZCRAKD+xZzJkJEAoP7FnMmQkQCg/sWcyZCRAKD+xZzJkJEAoP7FnMmQkQP22DqvLUyRA/bYOq8tTJED9tg6ry1MkQP22DqvLUyRAieFVnItlJECJ4VWci2UkQInhVZyLZSRAb8XVM0pmJEBvxdUzSmYkQG/F1TNKZiRAb8XVM0pmJEBvxdUzSmYkQBeTJ947dyRAF5Mn3jt3JEAXkyfeO3ckQBeTJ947dyRAF5Mn3jt3JECzCrwPF10kQLMKvA8XXSRAswq8DxddJECzCrwPF10kQLMKvA8XXSRAswq8DxddJECzCrwPF10kQOc/nG52ZSRA5z+cbnZlJEDnP5xudmUkQOc/nG52ZSRA5z+cbnZlJEDnP5xudmUkQOc/nG52ZSRA5z+cbnZlJEDnP5xudmUkQOc/nG52ZSRAPX0lDNp4JEA9fSUM2ngkQD19JQzaeCRAPX0lDNp4JEA9fSUM2ngkQD19JQzaeCRAj3KsYlxlJECPcqxiXGUkQI9yrGJcZSRAj3KsYlxlJECPcqxiXGUkQI9yrGJcZSRAj3KsYlxlJECPcqxiXGUkQI9yrGJcZSRAj3KsYlxlJECPcqxiXGUkQI9yrGJcZSRAj3KsYlxlJECPcqxiXGUkQI9yrGJcZSRAj3KsYlxlJECPcqxiXGUkQI9yrGJcZSRAj3KsYlxlJECPcqxiXGUkQI9yrGJcZSRAj3KsYlxlJECPcqxiXGUkQI9yrGJcZSRAj3KsYlxlJECPcqxiXGUkQI9yrGJcZSRAj3KsYlxlJECPcqxiXGUkQI9yrGJcZSRAj3KsYlxlJECPcqxiXGUkQFMd9muAYiRAUx32a4BiJEBTHfZrgGIkQFMd9muAYiRAaGD9Au5PJEBoYP0C7k8kQGhg/QLuTyRAaGD9Au5PJEBoYP0C7k8kQGhg/QLuTyRAaGD9Au5PJEAfbgNOITMkQB9uA04hMyRAsdnTBg5RJECx2dMGDlEkQLHZ0wYOUSRAsdnTBg5RJECx2dMGDlEkQLHZ0wYOUSRAsdnTBg5RJECx2dMGDlEkQLHZ0wYOUSRAsdnTBg5RJECx2dMGDlEkQLHZ0wYOUSRAsdnTBg5RJECx2dMGDlEkQEnfvQbxWyRASd+9BvFbJEBJ370G8VskQEnfvQbxWyRAEar1+mprJEARqvX6amskQBGq9fpqayRAEar1+mprJEARqvX6amskQBGq9fpqayRAEar1+mprJEARqvX6amskQB9uA04hMyRAH24DTiEzJEAfbgNOITMkQB9uA04hMyRAH24DTiEzJEDMOcKzTmgkQMw5wrNOaCRAvk6HoReAJEC+ToehF4AkQL5Oh6EXgCRAmtdLMvZYJECa10sy9lgkQJrXSzL2WCRAkC5Xu/1CJECQLle7/UIkQJAuV7v9QiRAkC5Xu/1CJECQLle7/UIkQJAuV7v9QiRADtqKgZ5pJEAO2oqBnmkkQA7aioGeaSRADtqKgZ5pJEAO2oqBnmkkQA7aioGeaSRADtqKgZ5pJEAO2oqBnmkkQA7aioGeaSRADtqKgZ5pJEAO2oqBnmkkQA7aioGeaSRADtqKgZ5pJEAO2oqBnmkkQA7aioGeaSRADtqKgZ5pJEAO2oqBnmkkQA7aioGeaSRADtqKgZ5pJEAO2oqBnmkkQH5s9UmsaCRAfmz1SaxoJEB+bPVJrGgkQH5s9UmsaCRA2IhYqxMZJEDYiFirExkkQNiIWKsTGSRA25wQW/ZjJEDbnBBb9mMkQNucEFv2YyRA25wQW/ZjJEACB3rJe1gkQAIHesl7WCRAAgd6yXtYJEACB3rJe1gkQAIHesl7WCRAAgd6yXtYJEACB3rJe1gkQL7acqqMZSRAvtpyqoxlJEC+2nKqjGUkQL7acqqMZSRAvtpyqoxlJEDpnzscuFwkQOmfOxy4XCRA6Z87HLhcJEDpnzscuFwkQOmfOxy4XCRA6Z87HLhcJEDpnzscuFwkQP8t2Hh2OiRA/y3YeHY6JED/Ldh4djokQP8t2Hh2OiRAH5SkKQp3JEAflKQpCnckQB+UpCkKdyRAH5SkKQp3JEDrdjBBkU0kQOt2MEGRTSRA63YwQZFNJEDrdjBBkU0kQPmn8V73YCRA+afxXvdgJED5p/Fe92AkQBdcnMYwLiRAF1ycxjAuJEAXXJzGMC4kQBdcnMYwLiRAF1ycxjAuJEAXXJzGMC4kQBdcnMYwLiRAWw6RJiBMJEBbDpEmIEwkQFsOkSYgTCRAll3NjStcJECWXc2NK1wkQJZdzY0rXCRAll3NjStcJECWXc2NK1wkQJZdzY0rXCRAll3NjStcJECWXc2NK1wkQIBQMMY0VSRAgFAwxjRVJECAUDDGNFUkQIBQMMY0VSRAgFAwxjRVJEBO+L4bf0AkQE74vht/QCRATvi+G39AJEBO+L4bf0AkQNMTdWpXbiRA0xN1alduJEDTE3VqV24kQNMTdWpXbiRAmTtl+7FfJECZO2X7sV8kQJk7ZfuxXyRAmTtl+7FfJEBjt64cSkgkQGO3rhxKSCRAY7euHEpIJEBjt64cSkgkQGO3rhxKSCRAY7euHEpIJEBjt64cSkgkQGO3rhxKSCRAY7euHEpIJEBjt64cSkgkQGO3rhxKSCRAY7euHEpIJEBXIWlgeWIkQFchaWB5YiRAVyFpYHliJEBXIWlgeWIkQFchaWB5YiRAnHzlB89sJECcfOUHz2wkQJx85QfPbCRAnHzlB89sJECcfOUHz2wkQCeVWyBiayRAJ5VbIGJrJEAnlVsgYmskQCeVWyBiayRAp+FCu5ZiJECn4UK7lmIkQHtmi5xsiiRAe2aLnGyKJEB7ZoucbIokQFCE3F41WSRAUITcXjVZJEBQhNxeNVkkQFCE3F41WSRAMoJbsZ5GJEAygluxnkYkQDKCW7GeRiRAMoJbsZ5GJEAz8XmLqFEkQDPxeYuoUSRAM/F5i6hRJEAz8XmLqFEkQDPxeYuoUSRA6VCfRzmWJEDpUJ9HOZYkQDF7dkwfZCRAMXt2TB9kJEAxe3ZMH2QkQDF7dkwfZCRAMXt2TB9kJEAxe3ZMH2QkQId0srNs0CNAh3Sys2zQI0CHdLKzbNAjQNZ14lGuXyRA1nXiUa5fJEDWdeJRrl8kQNZ14lGuXyRA1nXiUa5fJECS0Z4eHV0kQJLRnh4dXSRAktGeHh1dJECS0Z4eHV0kQAwVTphRPiRADBVOmFE+JEAMFU6YUT4kQAwVTphRPiRADBVOmFE+JEAMFU6YUT4kQAwVTphRPiRAlU3zbUVlJECVTfNtRWUkQJVN821FZSRAlU3zbUVlJEAR0PGPxiwkQBHQ8Y/GLCRAEdDxj8YsJEAR0PGPxiwkQBHQ8Y/GLCRAEdDxj8YsJECehKmYEGAkQJ6EqZgQYCRAnoSpmBBgJECehKmYEGAkQIaZ8CrvPyRAhpnwKu8/JECGmfAq7z8kQIaZ8CrvPyRAYos4+B0SJEBiizj4HRIkQGKLOPgdEiRAYos4+B0SJEBiizj4HRIkQFLaEwsZZSRAUtoTCxllJEBS2hMLGWUkQOGE+HYBXSRA4YT4dgFdJEDhhPh2AV0kQHiaq2pydiRAeJqranJ2JEB4mqtqcnYkQHiaq2pydiRAeJqranJ2JEB4mqtqcnYkQHiaq2pydiRAeJqranJ2JEB4mqtqcnYkQHiaq2pydiRAeJqranJ2JEB4mqtqcnYkQHiaq2pydiRAeJqranJ2JEB4mqtqcnYkQHiaq2pydiRAeJqranJ2JEB4mqtqcnYkQHiaq2pydiRAeJqranJ2JEB4mqtqcnYkQHiaq2pydiRAeJqranJ2JEB4mqtqcnYkQJ9RPi3UJCRAn1E+LdQkJECfUT4t1CQkQJ9RPi3UJCRANUDt4PVZJEBCliYhaCkkQEKWJiFoKSRAQpYmIWgpJEBCliYhaCkkQG/F1TNKZiRAb8XVM0pmJEBvxdUzSmYkQG/F1TNKZiRAb8XVM0pmJEBvxdUzSmYkQG/F1TNKZiRAtugRYctUJEC26BFhy1QkQLboEWHLVCRAtugRYctUJEDdsmQKrWMkQN2yZAqtYyRA3bJkCq1jJEDdsmQKrWMkQN2yZAqtYyRAE/ezs0OlJEAT97OzQ6UkQBP3s7NDpSRAE/ezs0OlJECPCzl882MkQI8LOXzzYyRAjws5fPNjJECPCzl882MkQI8LOXzzYyRAjws5fPNjJECPCzl882MkQFua+PbwayRAW5r49vBrJEBbmvj28GskQGz9/BB+YiRAbP38EH5iJEBs/fwQfmIkQGz9/BB+YiRAbP38EH5iJEBs/fwQfmIkQKu/b40ZJCRAq79vjRkkJECrv2+NGSQkQAN7bbIdnCRAA3ttsh2cJEADe22yHZwkQAN7bbIdnCRAA3ttsh2cJEDGNT6T/RMkQMY1PpP9EyRAxjU+k/0TJEDGNT6T/RMkQMY1PpP9EyRADMRX4NBiJEAMxFfg0GIkQAzEV+DQYiRADMRX4NBiJEDUsvfaGmokQNSy99oaaiRA1LL32hpqJEDUsvfaGmokQNSy99oaaiRA9sLPRWRgJED2ws9FZGAkQJLRnh4dXSRAktGeHh1dJECS0Z4eHV0kQJLRnh4dXSRAUlfKdOBzJEBSV8p04HMkQFJXynTgcyRASYzYBnJtJEBJjNgGcm0kQEmM2AZybSRASYzYBnJtJEB0jug7S0wkQHSO6DtLTCRAdI7oO0tMJEB0jug7S0wkQHSO6DtLTCRAhmQzTflaJECGZDNN+VokQIZkM035WiRAhmQzTflaJECkj3VInGkkQKSPdUicaSRApI91SJxpJECkj3VInGkkQCISS+vrFiRAIhJL6+sWJEAiEkvr6xYkQCISS+vrFiRAHgWAEdFXJEAeBYAR0VckQJTWhFkNZiRAlNaEWQ1mJECU1oRZDWYkQJTWhFkNZiRAlNaEWQ1mJECU1oRZDWYkQEbi7VqlViRARuLtWqVWJEBG4u1apVYkQEbi7VqlViRARuLtWqVWJEAiQ32BD1YkQCJDfYEPViRAIkN9gQ9WJEAiQ32BD1YkQCJDfYEPViRAIkN9gQ9WJEBbMjtJwmEkQFsyO0nCYSRAWzI7ScJhJEBbMjtJwmEkQGAeEddaTSRAYB4R11pNJEBgHhHXWk0kQGAeEddaTSRA2pLy5rJfJEDakvLmsl8kQNqS8uayXyRA2pLy5rJfJEAiYEI/MmskQCJgQj8yayRAImBCPzJrJEAiYEI/MmskQCJgQj8yayRAhIvstWZOJECEi+y1Zk4kQISL7LVmTiRAhIvstWZOJEDC6Y/2YGokQAHWss5bZSRAAdayzltlJEAB1rLOW2UkQGK3dHHAZSRAYrd0ccBlJECwcmiR7V4kQLByaJHtXiRAsHJoke1eJECwcmiR7V4kQFM4SKkAXyRAUzhIqQBfJEBTOEipAF8kQFM4SKkAXyRAUzhIqQBfJEAqMXSR52ckQCoxdJHnZyRAKjF0kednJEAqMXSR52ckQCoxdJHnZyRAKjF0kednJEAqMXSR52ckQCoxdJHnZyRAKjF0kednJEAqMXSR52ckQCoxdJHnZyRAXLpZ7pJTJEBculnuklMkQFy6We6SUyRAXLpZ7pJTJEBculnuklMkQFy6We6SUyRAXLpZ7pJTJEBculnuklMkQFy6We6SUyRAXLpZ7pJTJEBculnuklMkQEbxZBYlVSRARvFkFiVVJEBG8WQWJVUkQEbxZBYlVSRAtrIKvA9hJEC2sgq8D2EkQLayCrwPYSRADZ++r9tVJEANn76v21UkQA2fvq/bVSRAEciAR69JJEARyIBHr0kkQBHIgEevSSRAEciAR69JJEARyIBHr0kkQAAAIQ7pViRAAAAhDulWJEAAACEO6VYkQAAAIQ7pViRAAAAhDulWJED2GBfU2F4kQPYYF9TYXiRA9hgX1NheJED2GBfU2F4kQPYYF9TYXiRAtceHsExtJEC1x4ewTG0kQLXHh7BMbSRAtceHsExtJECsE59UXmkkQKwTn1ReaSRArBOfVF5pJECsE59UXmkkQKwTn1ReaSRAB/IFkE5fJEAH8gWQTl8kQAfyBZBOXyRAB/IFkE5fJEAH8gWQTl8kQAfyBZBOXyRAB/IFkE5fJEBCKRidRXAkQEIpGJ1FcCRAQikYnUVwJEBCKRidRXAkQIN52cBnFSRAg3nZwGcVJECDednAZxUkQIN52cBnFSRAKNlmOqZcJEAJQFAsv2kkQJcaBMpkViRAlxoEymRWJECXGgTKZFYkQJcaBMpkViRAlxoEymRWJECXGgTKZFYkQJcaBMpkViRAlxoEymRWJEBbQl/2wnskQFtCX/bCeyRAW0Jf9sJ7JEBe9PSVMG4kQF709JUwbiRAXvT0lTBuJEBe9PSVMG4kQF709JUwbiRAVK8Z6PNkJEBUrxno82QkQPF91NMFiiRA8X3U0wWKJEDxfdTTBYokQPF91NMFiiRA8X3U0wWKJEDxfdTTBYokQAzrIXWWaCRADOshdZZoJEAM6yF1lmgkQAzrIXWWaCRADOshdZZoJEBe9PSVMG4kQF709JUwbiRAXvT0lTBuJEBe9PSVMG4kQF709JUwbiRAXvT0lTBuJEBYDy3sSFckQFgPLexIVyRAWA8t7EhXJECYI5ZaEGokQJgjlloQaiRAmCOWWhBqJECYI5ZaEGokQJgjlloQaiRAmCOWWhBqJECYI5ZaEGokQNWr0FnJoyRA1avQWcmjJEDVq9BZyaMkQNWr0FnJoyRAbLYsPokUJEBstiw+iRQkQGy2LD6JFCRAuBZ3zfV9JEC4FnfN9X0kQJGE+QLlViRAkYT5AuVWJECRhPkC5VYkQJGE+QLlViRAkYT5AuVWJECRhPkC5VYkQJGE+QLlViRAkYT5AuVWJECRhPkC5VYkQJGE+QLlViRAkYT5AuVWJECRhPkC5VYkQPFGSbz6XiRA8UZJvPpeJEDxRkm8+l4kQPFGSbz6XiRA8UZJvPpeJEDEm/NbjWskQMSb81uNayRAxJvzW41rJEDEm/NbjWskQFqZ165cFSRAWpnXrlwVJEBamdeuXBUkQPnVXjxqaSRA+dVePGppJED51V48amkkQPnVXjxqaSRA+dVePGppJECmnVivO04kQKadWK87TiRApp1YrztOJEBqc/eU92IkQGpz95T3YiRAanP3lPdiJEBqc/eU92IkQCV8jEUVWCRAJXyMRRVYJEAlfIxFFVgkQCV8jEUVWCRAq1rSUQ46JECrWtJRDjokQDH46pkU1yNAMfjqmRTXI0Ax+OqZFNcjQDH46pkU1yNAMfjqmRTXI0Ax+OqZFNcjQDH46pkU1yNAkKz0wc8TJECQrPTBzxMkQJCs9MHPEyRAkKz0wc8TJECQrPTBzxMkQO5xjWw6ZCRA7nGNbDpkJEDucY1sOmQkQGfShdw1YiRAZ9KF3DViJEBn0oXcNWIkQGfShdw1YiRAZ9KF3DViJEB7ZoucbIokQHtmi5xsiiRAziEEPwVxJEDOIQQ/BXEkQM4hBD8FcSRAto9oRGE4JEC2j2hEYTgkQLaPaERhOCRAto9oRGE4JEC2j2hEYTgkQGySoynQmyRAbJKjKdCbJEC2WnG74V4kQLZacbvhXiRAGkpxflhnJEAaSnF+WGckQBpKcX5YZyRAGkpxflhnJEAaSnF+WGckQBpKcX5YZyRAzjfDib9gJEDON8OJv2AkQM43w4m/YCRAzjfDib9gJEDON8OJv2AkQF8chbkXbyRAXxyFuRdvJEBfHIW5F28kQF8chbkXbyRAXxyFuRdvJEAjYYSVr2IkQCNhhJWvYiRAI2GEla9iJEAjYYSVr2IkQCNhhJWvYiRAI2GEla9iJEAzMFXd4VAkQDMwVd3hUCRAMzBV3eFQJEAzMFXd4VAkQDMwVd3hUCRAMzBV3eFQJEAzMFXd4VAkQLRSrSqgVyRAtFKtKqBXJEC0Uq0qoFckQLRSrSqgVyRA1LzCBjRmJEDUvMIGNGYkQNS8wgY0ZiRA1LzCBjRmJEDUvMIGNGYkQLgF6EpGRCRAuAXoSkZEJEC4BehKRkQkQLgF6EpGRCRAuAXoSkZEJEC4BehKRkQkQLgF6EpGRCRAuAXoSkZEJEC4BehKRkQkQLgF6EpGRCRAuAXoSkZEJEC4BehKRkQkQCwQufDuYCRALBC58O5gJEAsELnw7mAkQCwQufDuYCRALBC58O5gJEAsELnw7mAkQCwQufDuYCRAeMNsuH6aJEB4w2y4fpokQHjDbLh+miRAeMNsuH6aJEDOw+g9vkAkQM7D6D2+QCRAzsPoPb5AJEDOw+g9vkAkQM7D6D2+QCRAzsPoPb5AJEBJ4TCHk4okQEnhMIeTiiRASeEwh5OKJEBJ4TCHk4okQJB57IBOYSRAkHnsgE5hJECQeeyATmEkQJB57IBOYSRAK6Q+waxVJEArpD7BrFUkQCukPsGsVSRAK6Q+waxVJEArpD7BrFUkQCukPsGsVSRAK6Q+waxVJEA/IXUa7YskQD8hdRrtiyRAPyF1Gu2LJEA/IXUa7YskQK0OqTfdmyRArQ6pN92bJEA1h5ylAXEkQDWHnKUBcSRANYecpQFxJEA1h5ylAXEkQGLn+RVjoSRAYuf5FWOhJEBi5/kVY6EkQGLn+RVjoSRAYuf5FWOhJEC4kl83U0wkQASMcIvgXiRABIxwi+BeJECUTdrQpGEkQJRN2tCkYSRAlE3a0KRhJEDVU1D2O38kQNVTUPY7fyRA1VNQ9jt/JEDVU1D2O38kQH3hfIcuZiRAfeF8hy5mJEB94XyHLmYkQH3hfIcuZiRAfeF8hy5mJEB94XyHLmYkQOV/0WkGmiRA5X/RaQaaJEDlf9FpBpokQOV/0WkGmiRARmva/99aJEBGa9r/31okQEZr2v/fWiRAIETwxwYbJEAgRPDHBhskQCBE8McGGyRAIETwxwYbJEDjuFuroGQkQOO4W6ugZCRA47hbq6BkJEDjuFuroGQkQEQDZ9/LVSRARANn38tVJEBEA2ffy1UkQEQDZ9/LVSRAmks/G5iAJECaSz8bmIAkQJpLPxuYgCRArXZm5QuAJECtdmblC4AkQK12ZuULgCRArXZm5QuAJECtdmblC4AkQLr0L0llKCRAuvQvSWUoJEC69C9JZSgkQLr0L0llKCRAuvQvSWUoJEC69C9JZSgkQLr0L0llKCRAuvQvSWUoJEC69C9JZSgkQCISS+vrFiRAIhJL6+sWJEAiEkvr6xYkQKdFli/c/SNAp0WWL9z9I0DGuVUpoH8kQMa5VSmgfyRAxrlVKaB/JEDGuVUpoH8kQOIftvRoaiRA285KnA2aJEDbzkqcDZokQNvOSpwNmiRA285KnA2aJED2Rgjq72IkQPZGCOrvYiRA9kYI6u9iJED2Rgjq72IkQPZGCOrvYiRAF1jPYoyEJEAXWM9ijIQkQBdYz2KMhCRAzH5ZsSpkJEDMflmxKmQkQMx+WbEqZCRAzH5ZsSpkJECnyveMRFQkQKfK94xEVCRAp8r3jERUJECnyveMRFQkQDOpgP/WUyRAM6mA/9ZTJEAzqYD/1lMkQN8mcZDvFCRA3yZxkO8UJEDfJnGQ7xQkQP8mkOk7YSRA/yaQ6TthJED/JpDpO2EkQP8mkOk7YSRA/yaQ6TthJED/JpDpO2EkQP8mkOk7YSRAjgXHXWvkJECOBcdda+QkQI4Fx11r5CRAjgXHXWvkJECOBcdda+QkQI4Fx11r5CRAEln30aFgJEASWffRoWAkQBJZ99GhYCRAEln30aFgJEASWffRoWAkQM7hGNGPzyNAzuEY0Y/PI0DO4RjRj88jQM7hGNGPzyNAzuEY0Y/PI0DO4RjRj88jQM7hGNGPzyNAzuEY0Y/PI0DO4RjRj88jQM7hGNGPzyNAzuEY0Y/PI0DO4RjRj88jQM7hGNGPzyNAzuEY0Y/PI0AKcR+YJw4kQApxH5gnDiRAoPWVrC9hJECg9ZWsL2EkQKD1lawvYSRAoPWVrC9hJECg9ZWsL2EkQKD1lawvYSRAoPWVrC9hJECg9ZWsL2EkQKD1lawvYSRAoPWVrC9hJEDHAx3vhlUkQMcDHe+GVSRAxwMd74ZVJEDHAx3vhlUkQMcDHe+GVSRAxwMd74ZVJEDTZAj4HD0kQNNkCPgcPSRA02QI+Bw9JEDTZAj4HD0kQNNkCPgcPSRAOdZBNZBgJEA51kE1kGAkQDnWQTWQYCRAOdZBNZBgJEA51kE1kGAkQDnWQTWQYCRAVwzTzptcJEBXDNPOm1wkQFcM086bXCRAVwzTzptcJEBXDNPOm1wkQFcM086bXCRAVwzTzptcJEAfGu0jfZkkQB8a7SN9mSRAHxrtI32ZJEBhI4O7N0MkQGEjg7s3QyRAYSODuzdDJEBhI4O7N0MkQGEjg7s3QyRAYSODuzdDJEBFC3X9J0wkQEULdf0nTCRARQt1/SdMJEBFC3X9J0wkQD2972tmQyRAPb3va2ZDJEA9ve9rZkMkQD2972tmQyRAiU5kIK6KJECJTmQgrookQIlOZCCuiiRAiU5kIK6KJECJTmQgrookQC3rvJU+VSRALeu8lT5VJEAt67yVPlUkQC3rvJU+VSRALeu8lT5VJEAt67yVPlUkQLsqzFIdlCRAuyrMUh2UJEC7KsxSHZQkQLsqzFIdlCRAuyrMUh2UJEC7KsxSHZQkQLsqzFIdlCRAmmhnA3ZsJECaaGcDdmwkQJpoZwN2bCRAmmhnA3ZsJECaaGcDdmwkQIBaNZ3XKSRAgFo1ndcpJECAWjWd1ykkQIBaNZ3XKSRAgFo1ndcpJEBneFhNfFIkQGd4WE18UiRAZ3hYTXxSJEBBHFZ+OlgkQEEcVn46WCRAQRxWfjpYJEAH6c64FVUkQAfpzrgVVSRAB+nOuBVVJEAH6c64FVUkQAfpzrgVVSRAB+nOuBVVJEAH6c64FVUkQHOy/fnwFSRAc7L9+fAVJEBzsv358BUkQJPyxaTgNSRAk/LFpOA1JECT8sWk4DUkQKbtoXU7hiNApu2hdTuGI0Cm7aF1O4YjQKbtoXU7hiNAvpDljy9aJECnqUzO3E0kQKepTM7cTSRAp6lMztxNJEDwo1wSTmgkQPCjXBJOaCRA8KNcEk5oJEDwo1wSTmgkQPCjXBJOaCRAhnoTppwZJECGehOmnBkkQIZ6E6acGSRAM4w3CRA7JEAzjDcJEDskQMm1mfFTaiRAybWZ8VNqJEDJtZnxU2okQMm1mfFTaiRA823Jw6WJJEDzbcnDpYkkQPNtycOliSRA823Jw6WJJEDzbcnDpYkkQELAa+HDOiRAQsBr4cM6JEBCwGvhwzokQM4K+yyFhiNAtC6g3UJtJEC0LqDdQm0kQLQuoN1CbSRAtC6g3UJtJECnogQ/ojokQKeiBD+iOiRAp6IEP6I6JECnogQ/ojokQK9uafMHhiNAQ/HXInGGI0BD8dcicYYjQEPx1yJxhiNAQ/HXInGGI0CILLG2UnUkQIgssbZSdSRAlaUQpxdjJECVpRCnF2MkQJWlEKcXYyRAlaUQpxdjJECVpRCnF2MkQJWlEKcXYyRA1L9/TpxBJEDUv39OnEEkQNS/f06cQSRA1L9/TpxBJECTrx3vAosjQE/Bba/9hSNArDI6vd5TJECsMjq93lMkQKwyOr3eUyRArDI6vd5TJECsMjq93lMkQKwyOr3eUyRAf82DBUFjJEB/zYMFQWMkQH/NgwVBYyRAf82DBUFjJEDGd3tzLEEkQMZ3e3MsQSRAxnd7cyxBJEDGd3tzLEEkQMZ3e3MsQSRAxnd7cyxBJEDGd3tzLEEkQMZ3e3MsQSRATQywLCSII0BNDLAsJIgjQE0MsCwkiCNATQywLCSII0BNDLAsJIgjQE0MsCwkiCNATQywLCSII0BNDLAsJIgjQE0MsCwkiCNA0Vj7O9tlJEDRWPs722UkQNFY+zvbZSRA0Vj7O9tlJEDRWPs722UkQGckKYY3MyRAZyQphjczJEBnJCmGNzMkQGckKYY3MyRAE6KV3qtsJEATopXeq2wkQBOild6rbCRAE6KV3qtsJEATopXeq2wkQBOild6rbCRAE6KV3qtsJEATopXeq2wkQELxW1sVNCRAQvFbWxU0JEBC8VtbFTQkQELxW1sVNCRAQvFbWxU0JEC2QqIaQMcjQLZCohpAxyNAtkKiGkDHI0C2QqIaQMcjQLZCohpAxyNAuNnM34xfJEC42czfjF8kQLjZzN+MXyRAuNnM34xfJEC42czfjF8kQLjZzN+MXyRAuNnM34xfJEC42czfjF8kQBTye3rwYyRAFPJ7evBjJEAU8nt68GMkQBTye3rwYyRAX9bdn/+KI0Bf1t2f/4ojQLFWJ0YaiyNAsVYnRhqLI0CxVidGGosjQLFWJ0YaiyNAsVYnRhqLI0BqmMpwdlQkQGqYynB2VCRALRPy/7JUJEAtE/L/slQkQC0T8v+yVCRALRPy/7JUJEAtE/L/slQkQC7OUpGOZSNALs5SkY5lI0AuzlKRjmUjQOjSpof0jyNA6NKmh/SPI0Do0qaH9I8jQOjSpof0jyNA6NKmh/SPI0Do0qaH9I8jQL6M/47qkiNAvoz/juqSI0C+jP+O6pIjQL6M/47qkiNAvoz/juqSI0C+jP+O6pIjQFj2TS9rYSNAWPZNL2thI0BY9k0va2EjQMeOOviRdCRAx446+JF0JEDHjjr4kXQkQMeOOviRdCRAx446+JF0JEDHjjr4kXQkQMeOOviRdCRAx446+JF0JEDHjjr4kXQkQMeOOviRdCRAV6mHBUpYJEBXqYcFSlgkQFephwVKWCRAV6mHBUpYJEBXqYcFSlgkQPqjoMKuTyRA+qOgwq5PJEDYDogI5k8kQN7JhrnNTSRA3smGuc1NJEDeyYa5zU0kQN7JhrnNTSRAiF932wFmJECIX3fbAWYkQIhfd9sBZiRAo6YCk8BbJECjpgKTwFskQNR10SVWXSRA1HXRJVZdJEDUddElVl0kQNR10SVWXSRA1HXRJVZdJEDUddElVl0kQNR10SVWXSRA1HXRJVZdJEDrBI/KqFEkQOsEj8qoUSRA6wSPyqhRJEDrBI/KqFEkQOsEj8qoUSRA6wSPyqhRJEDrBI/KqFEkQOsEj8qoUSRA6wSPyqhRJEDrBI/KqFEkQOsEj8qoUSRA6wSPyqhRJEDrBI/KqFEkQIZZifUdYCRAhlmJ9R1gJECGWYn1HWAkQIZZifUdYCRAhlmJ9R1gJECGWYn1HWAkQIZZifUdYCRAhlmJ9R1gJECGWYn1HWAkQF/1V/qWeCRAX/VX+pZ4JEBf9Vf6lngkQF/1V/qWeCRAX/VX+pZ4JEBf9Vf6lngkQF/1V/qWeCRAX/VX+pZ4JEBf9Vf6lngkQF/1V/qWeCRAX/VX+pZ4JEBf9Vf6lngkQF/1V/qWeCRAX/VX+pZ4JEBf9Vf6lngkQF/1V/qWeCRAX/VX+pZ4JEBf9Vf6lngkQF/1V/qWeCRAX/VX+pZ4JEBf9Vf6lngkQF/1V/qWeCRAX/VX+pZ4JEBf9Vf6lngkQP9hhTowYyRA/2GFOjBjJED/YYU6MGMkQGslW/ojaiRAayVb+iNqJEBrJVv6I2okQGslW/ojaiRAUnEtpA1JJEBScS2kDUkkQHJIkyCWYCRAckiTIJZgJEAhPtHxqFkkQCE+0fGoWSRAIT7R8ahZJEAhPtHxqFkkQCE+0fGoWSRAIT7R8ahZJEAhPtHxqFkkQCqFBoPnSyRAKoUGg+dLJEAqhQaD50skQBoH6tZjSyRAGgfq1mNLJEAaB+rWY0skQBoH6tZjSyRAGgfq1mNLJEBZU/bpukokQFlT9um6SiRAWVP26bpKJEBZU/bpukokQFlT9um6SiRAWVP26bpKJEBZU/bpukokQMF7Hg7YNCRAwXseDtg0JEDBex4O2DQkQMF7Hg7YNCRAwXseDtg0JEDBex4O2DQkQMF7Hg7YNCRAezhYaoM0JEB7OFhqgzQkQHs4WGqDNCRAezhYaoM0JEB7OFhqgzQkQM0LySzviiRAzQvJLO+KJEDNC8ks74okQAccU8HyZSRABxxTwfJlJEAHHFPB8mUkQAccU8HyZSRAFSn/ILNTJEAJPh/I7lQkQAk+H8juVCRACT4fyO5UJEAJPh/I7lQkQDF2BGhCSiRAMXYEaEJKJEAxdgRoQkokQFYvXKmpMyRAVi9cqakzJEBWL1ypqTMkQFYvXKmpMyRAypVRl1I0JEDKlVGXUjQkQBbiyyMDOyRAFuLLIwM7JEAW4ssjAzskQBbiyyMDOyRAFuLLIwM7JEDyiafkvYokQPKJp+S9iiRA8omn5L2KJEDyiafkvYokQPKJp+S9iiRAToz6XiJKJEBOjPpeIkokQE6M+l4iSiRAhxD8FGxSJECHEPwUbFIkQIcQ/BRsUiRAhxD8FGxSJEDkRjb8E1ckQORGNvwTVyRA5EY2/BNXJEDkRjb8E1ckQORGNvwTVyRA5EY2/BNXJEB7x9+sd0okQHvH36x3SiRAe8ffrHdKJECGOmpU+aEkQIY6alT5oSRAhjpqVPmhJECGOmpU+aEkQIY6alT5oSRAIUpJSe4aJEAhSklJ7hokQCFKSUnuGiRAIUpJSe4aJEBqxdTpgj4kQGrF1OmCPiRAasXU6YI+JEBqxdTpgj4kQGrF1OmCPiRAasXU6YI+JED1kL6DfgwkQPWQvoN+DCRAsD0v7JsnJECwPS/smyckQLA9L+ybJyRAsD0v7JsnJECwPS/smyckQLA9L+ybJyRAKbzbJw1AJEApvNsnDUAkQCm82ycNQCRAKbzbJw1AJEDE06csdTgkQMTTpyx1OCRAxNOnLHU4JEDE06csdTgkQMTTpyx1OCRAxNOnLHU4JEBr5EbT0RAkQGvkRtPRECRAa+RG09EQJECff1BR1CckQJ9/UFHUJyRAn39QUdQnJEAGAlO8gB8kQAYCU7yAHyRABgJTvIAfJEAGAlO8gB8kQAYCU7yAHyRABgJTvIAfJEAGAlO8gB8kQAYCU7yAHyRABgJTvIAfJEAGAlO8gB8kQGaEGjLcHCRA+smDumklJED6yYO6aSUkQKaaelnqFyRAppp6WeoXJEA6XruT0x8kQDpeu5PTHyRAOl67k9MfJEA6XruT0x8kQDpeu5PTHyRAOl67k9MfJEA6XruT0x8kQB/Jm7KJvCNAH8mbsom8I0AfyZuyibwjQB/Jm7KJvCNAiDwXgCW/I0CIPBeAJb8jQIg8F4AlvyNAiDwXgCW/I0CIPBeAJb8jQIg8F4AlvyNAhq5EoPq5I0CGrkSg+rkjQIauRKD6uSNAcqLAr0+6I0ByosCvT7ojQHKiwK9PuiNAcqLAr0+6I0CRw7NGNb0jQJHDs0Y1vSNAkcOzRjW9I0CRw7NGNb0jQKRSqkxKuiNApFKqTEq6I0CkUqpMSrojQKRSqkxKuiNAaUuIf/lQJEBpS4h/+VAkQGlLiH/5UCRAaUuIf/lQJEAzYvJItFMkQDNi8ki0UyRAM2LySLRTJEAzYvJItFMkQOGXfrL3UCRA4Zd+svdQJEDJYHscvFEkQMlgexy8USRAyWB7HLxRJEAlz5JTfVEkQCXPklN9USRAJc+SU31RJEAlz5JTfVEkQCXPklN9USRAJc+SU31RJECsanLGalAkQKxqcsZqUCRAw5MGTBpQJEDDkwZMGlAkQMOTBkwaUCRAw5MGTBpQJEDDkwZMGlAkQNopymPVTyRA2inKY9VPJEDaKcpj1U8kQNopymPVTyRA2inKY9VPJEDaKcpj1U8kQNopymPVTyRA2inKY9VPJEDaKcpj1U8kQDuv6/bdSyRAO6/r9t1LJEA7r+v23UskQDuv6/bdSyRAO6/r9t1LJEA7r+v23UskQDuv6/bdSyRARUdR6yaKJEBFR1HrJookQEVHUesmiiRAuwdL6VeKJEC7B0vpV4okQLsHS+lXiiRAzhjF9oM/JEDOGMX2gz8kQM4YxfaDPyRAzhjF9oM/JEDtsE8h040kQO2wTyHTjSRA7bBPIdONJEDtsE8h040kQIirVmgYQyRAiKtWaBhDJECIq1ZoGEMkQIirVmgYQyRAw+6esIJPJEDD7p6wgk8kQMPunrCCTyRAJlL9955NJEAmUv33nk0kQCZS/feeTSRAJlL9955NJEAmUv33nk0kQDI2ts8RTCRAMja2zxFMJEAyNrbPEUwkQDI2ts8RTCRAVJ6KZUQzJEBUnoplRDMkQFSeimVEMyRAw0EI6aVjJEDDQQjppWMkQMNBCOmlYyRAw0EI6aVjJECocrlFiWkkQKhyuUWJaSRAqHK5RYlpJECocrlFiWkkQPTTLI7SWCRA9NMsjtJYJED00yyO0lgkQPTTLI7SWCRA9NMsjtJYJED00yyO0lgkQAOAW15WiiRAA4BbXlaKJEADgFteVookQGFbN4wfTiRAYVs3jB9OJEBhWzeMH04kQGFbN4wfTiRAYVs3jB9OJEDXVsOwiWEkQNdWw7CJYSRA11bDsIlhJEDXVsOwiWEkQNdWw7CJYSRA11bDsIlhJEDXVsOwiWEkQNdWw7CJYSRA11bDsIlhJEDXVsOwiWEkQNdWw7CJYSRA11bDsIlhJEDXVsOwiWEkQNdWw7CJYSRAal9IoCQ1JEBqX0igJDUkQGpfSKAkNSRAal9IoCQ1JEBqX0igJDUkQGpfSKAkNSRATgJhyGZmJEBOAmHIZmYkQE4CYchmZiRATgJhyGZmJEBOAmHIZmYkQE4CYchmZiRATgJhyGZmJEDERc3bAWIkQMRFzdsBYiRAxEXN2wFiJEDERc3bAWIkQMogLYSLbyRAyiAthItvJEDKIC2Ei28kQMogLYSLbyRAyiAthItvJEDKIC2Ei28kQOEgKTtgVSRA4SApO2BVJEDhICk7YFUkQOEgKTtgVSRA4SApO2BVJEC7hL82TV8kQLuEvzZNXyRAu4S/Nk1fJEDgTp6JG2MkQOBOnokbYyRA4E6eiRtjJEDgTp6JG2MkQOBOnokbYyRATvi+G39AJEBO+L4bf0AkQE74vht/QCRATvi+G39AJEANaK9fLCskQA1or18sKyRADWivXywrJEANaK9fLCskQA1or18sKyRADWivXywrJEANaK9fLCskQA1or18sKyRADWivXywrJEANaK9fLCskQA1or18sKyRADWivXywrJEANaK9fLCskQA1or18sKyRADWivXywrJEANaK9fLCskQA1or18sKyRADWivXywrJEANaK9fLCskQA1or18sKyRAG7ORkO1XJEAbs5GQ7VckQOGU2gcwWyRA4ZTaBzBbJEDhlNoHMFskQOGU2gcwWyRA4ZTaBzBbJEDhlNoHMFskQJw4Naf9SiRAnDg1p/1KJECcODWn/UokQJw4Naf9SiRA5D+sUAc+JEDkP6xQBz4kQOQ/rFAHPiRA5D+sUAc+JEDkP6xQBz4kQOQ/rFAHPiRA5D+sUAc+JEDkP6xQBz4kQOQ/rFAHPiRA5D+sUAc+JEDkP6xQBz4kQOQ/rFAHPiRA5D+sUAc+JEDkP6xQBz4kQOQ/rFAHPiRA5D+sUAc+JEDkP6xQBz4kQCY7kbtjYiRAJjuRu2NiJEAmO5G7Y2IkQCY7kbtjYiRAJjuRu2NiJEAmO5G7Y2IkQCY7kbtjYiRAJjuRu2NiJEAmO5G7Y2IkQPerQvs/RCRA96tC+z9EJED3q0L7P0QkQPerQvs/RCRA96tC+z9EJED3q0L7P0QkQPerQvs/RCRA96tC+z9EJED3q0L7P0QkQPerQvs/RCRA96tC+z9EJED3q0L7P0QkQPerQvs/RCRA96tC+z9EJED3q0L7P0QkQPerQvs/RCRA96tC+z9EJED3q0L7P0QkQPerQvs/RCRA96tC+z9EJEDdzddVFmMkQN3N11UWYyRA3c3XVRZjJEDdzddVFmMkQN3N11UWYyRA3c3XVRZjJEDdzddVFmMkQN3N11UWYyRAi85LKPFtJECLzkso8W0kQIvOSyjxbSRAi85LKPFtJEAl5llJK2wkQCXmWUkrbCRAAlDeKvwDJEACUN4q/AMkQAJQ3ir8AyRAAlDeKvwDJEACUN4q/AMkQAJQ3ir8AyRAAlDeKvwDJEACUN4q/AMkQAJQ3ir8AyRAZYzNlsVLJEBljM2WxUskQGWMzZbFSyRAZYzNlsVLJEBljM2WxUskQGWMzZbFSyRAZYzNlsVLJEBljM2WxUskQGWMzZbFSyRAZYzNlsVLJEBljM2WxUskQGWMzZbFSyRAfjgnegldJEB+OCd6CV0kQH44J3oJXSRAfjgnegldJEB+OCd6CV0kQH44J3oJXSRAfjgnegldJEB+OCd6CV0kQH44J3oJXSRAeryYf1duJEB6vJh/V24kQHq8mH9XbiRAeryYf1duJEB6vJh/V24kQHq8mH9XbiRADHoM4kUzJEAMegziRTMkQAx6DOJFMyRADHoM4kUzJEAMegziRTMkQAx6DOJFMyRADHoM4kUzJEAMegziRTMkQAx6DOJFMyRADHoM4kUzJEAMegziRTMkQAx6DOJFMyRADHoM4kUzJEAMegziRTMkQAx6DOJFMyRADHoM4kUzJEAMegziRTMkQAx6DOJFMyRADHoM4kUzJEAMegziRTMkQE3aM886cCRATdozzzpwJEBN2jPPOnAkQE3aM886cCRATdozzzpwJEBN2jPPOnAkQE3aM886cCRAuqUwSitfJEC6pTBKK18kQLqlMEorXyRA6NSdQDtYJEDo1J1AO1gkQNZwkXu6ZCRAMg1YrMBMJEAyDViswEwkQDINWKzATCRAMg1YrMBMJECTgvrYVW0kQJOC+thVbSRAk4L62FVtJECTgvrYVW0kQJOC+thVbSRAk4L62FVtJECTgvrYVW0kQJOC+thVbSRAk4L62FVtJECTgvrYVW0kQJOC+thVbSRAk4L62FVtJEATTiT7lG0kQBNOJPuUbSRAE04k+5RtJEATTiT7lG0kQECE2YDfWSRAQITZgN9ZJEBAhNmA31kkQECE2YDfWSRAXQ9wUuJQJEBdD3BS4lAkQF0PcFLiUCRAXQ9wUuJQJEBdD3BS4lAkQMoFX3+vXiRAygVff69eJEDKBV9/r14kQMoFX3+vXiRAygVff69eJEDKBV9/r14kQMoFX3+vXiRAygVff69eJEDQMiC1aFskQNAyILVoWyRA0DIgtWhbJEDQMiC1aFskQFrF8hkWZCRAWsXyGRZkJEDUiHD+7C4kQNSIcP7sLiRA1Ihw/uwuJEDUiHD+7C4kQNSIcP7sLiRA1Ihw/uwuJEDUiHD+7C4kQNSIcP7sLiRA1Ihw/uwuJEDUiHD+7C4kQNSIcP7sLiRA1Ihw/uwuJEDUiHD+7C4kQNSIcP7sLiRA1Ihw/uwuJEDUiHD+7C4kQE74vht/QCRATvi+G39AJEBO+L4bf0AkQOM7SohmWCRA4ztKiGZYJEDjO0qIZlgkQOM7SohmWCRAXNBz8r9QJEBc0HPyv1AkQFzQc/K/UCRAXNBz8r9QJEBc0HPyv1AkQFzQc/K/UCRAbGpuv1tUJEBsam6/W1QkQGxqbr9bVCRAbGpuv1tUJEB3RXT4OVwkQHdFdPg5XCRAd0V0+DlcJEBO+L4bf0AkQE74vht/QCRATvi+G39AJEBO+L4bf0AkQE74vht/QCRAJ3zfjT9wJEAnfN+NP3AkQCd8340/cCRAT/72jn1dJEBP/vaOfV0kQNajV6BpbyRA1qNXoGlvJEDWo1egaW8kQNajV6BpbyRA7Om4VIRdJEDs6bhUhF0kQOzpuFSEXSRA7Om4VIRdJEDs6bhUhF0kQOzpuFSEXSRA7Om4VIRdJEAdj1vEXlckQB2PW8ReVyRAHY9bxF5XJEDtY8OiO1skQO1jw6I7WyRA7WPDojtbJEDtY8OiO1skQO1jw6I7WyRA",
          "dtype": "f8"
         },
         "marker": {
          "color": {
           "bdata": "BgYGBgYGBgYGBgYGBgYGBgYGBgYGBgYGBgYGBgYGBgYGBgYGAgICCQkJBAQEBAQEBAQEAQEBAQELCwsLCwgICAgICAgFBQUFBQUFBwcDAwMDAwMDAQEBAQEGBgYGBgYGBgYGBgYGBgYGBgYGBgYGBgYGBgYGCAgICAgICAgFBQUFBQMDAwICAgkJCwsHBwUFBQUBAQEBAQECAgICCwMDAwQEBAQEBAYGBgYGBgYGBgYGBgYGBgYGBgYGBgYGBgYGBgYGBgYGCwsICAcHBwMDAwMDAwMJCQkJCQICAgICBQUICAgICAUFAgICAgICAgcHBwMDAwMDAQEHBwcHBwcHBwEBAQEBAQUFBQUFBQUFCQkJCAgDAgICCAgIBwcHBwcHBwYGBgYGBgYGBgYGBgYGBgYGBgYGAwMDBQUFBQUFBQUBCQkJCQkJCAgIAQEBAQEBAQEBAQEBBwcHBwQEBAUFBQUFBgYGBgYGBgYGBgYGAwMDAgICBgYGBgYGBgYGBgYGBwcHBwMDAwMDCQkJCQQEBAQEBAQECwsLBgYGBgYGBgYGBgYGBgYGBgMDAwMJCQkJCQkJCQkJBwcHBwcLCwQEBAIBAQUBAQMDAwMDCQkJCQQEBAQEBAQICAgLCwsFBQYGBgYGBgYGBQUFBQUFBQUFBgYGBgYGBgYGBgYGBgYGBgYGBgYEBAQEAwMDAwMBAQEBAQECAgICBwcHCAgICAgFBQUFBQEBAQEBAQEHBwcHBwcHBwcHBAQEBAQEBgYGBgYGBgYGBgYGBgYGBgYGBgYGBgYGBgYGBgYGBgYDAwMDCQkJCQkJCQgIAQEBAQEBAQEBAQEBAQEHBwcHBAQEBAQEBAQICAgICAICCQkJBQUFAwMDAwMDBgYGBgYGBgYGBgYGBgYGBgYGBgYHBwcHCQkJAgICAgUFBQUFBQUDAwMDAwEBAQEBAQEICAgIBAQEBAEBAQECAgIICAgICAgICwsLBwcHBwcHBwcBAQEBAQgICAgDAwMDAgICAggICAgICAgICAgICAcHBwcHBAQEBAQBAQEBBwcDAwMHBwcHCAgICAkJCQkJBAQHBwcHBwcBAQELCwsLCwMDAwMJCQkJCQkJCAgICAEBAQEBAQMDAwMJCQkJAgICAgIHBwcDAwMGBgYGBgYGBgYGBgYGBgYGBgYGBgYGBgYHBwcHAggICAgICAgICAgIBwcHBwMDAwMDAgICAgkJCQkJCQkDAwMJCQkJCQkHBwcCAgICAgICAgICBwcHBwEBAQEBCQkFBQUFCAgIBwcHBwEBAQEBBQUFBQkJCQkDAwMDAgIJCQkJCQkBAQEBAQMDAwMDAwcHBwcFBQUFAgICAgEBAQEBBQUFBQMJCQkHBwICAgICAgICAgEBAQEBAQEBAQEBBQUFBQUFBQUFBQUDAwMDCQkJBwcHAQEBAQEDAwMDAwkJCQkJBwcHBwkJCQkJAQEBAQEBAQUFBQUCAgICAwkBAQEBAQEBAQUFBQMDAwMDAQEHBwcHBwcJCQkJCQMDAwMDAwUFBQEBAQEBAQEHBwcHAgICBQUBAQEBAQEBAQEBAQECAgICAgEBAQECAgIJCQkJCQcHBwkJCQkBAQEBAgIBAQEBAQEBBwcHBwcJCQkJCQkJCQMDBQUFAQEBAQECAgICAwMDAwMDBQUFBQUEBAQEBAsLCwsLCwkJCQkJCQkBAQEBAwMDAwMICAgICAgICAgICAgFBQUFBQUFBwcHBwkJCQkJCQMDAwMFBQUFAQEBAQEBAQUFBQUCAgUFBQUCAgICAgkCAgUFBQUFBQUDAwMDAwMCAgICBwcHCQkJCQMDAwMBAQEBBwcHBQUFBQUBAQEBAQEBAQEDAwMCAgUFBQUHBwcHBwMDAwMDBwcHAQEBAQkJCQkFBQUHBwcDAwMDAwMDCQkJCQkJBQUFBQUBAQEBAQEBAQEBAQEBAQMDAwMDAwMDAwMDAwEBAQEBAQEBAQEBBwcHBwcHAwMDAwMDAwcHBwEBAQEBAQMDAwMBAQEBAwMDAwMBAQEBAQEDAwMDAwMDAwMDAwMBAQEBAQcHBwEBAQEBAQEBAQEHBwcBAQELCwsLAwcHBwMDAwMDBwcHAQEDAwMDBwcHBwcBAQELAwMDAwEBAQELCwsLCwMDBwcHBwcHAQEBAQsLAQEBAQEBBwcHBwEBAQEBAQEBCwsLCwsLCwsLBwcHBwcBAQEBBwcHBwcHBwcBAQEBAQEBAQEBAQEBAQEBAQEHBwcHCwsLCwsLCwEBAQEBAQELCwsLCwsLCwsLCwsLCwsLCwsDAwMDAwMDAwMDAAAAAAAAAAAAAAAAAgICAgIICAgICAgICAsLCwsLCwsLCwsLCwsFBQUFBQUFBQUGBgYGBgYGBgYGBgYGBgYGBgYGBgYGBgYDAwMHBwcHAQEDAwAAAAAAAAAAAAAAAAAAAAAAAAAAAAAAAAAAAAAAAAAAAAAAAAAGBgYGAAAAAAAAAAAAAAAAAAAAAAAAAAAAAAAAAAAAAAAAAAAAAAAAAAAAAAAAAAAAAAAAAAAAAAAAAAAAAAAAAAAAAAAAAAAAAAAAAAAAAAAAAAAAAAAAAAAAAAAAAAAAAAAAAAAAAAAAAAAAAAAAAAAAAAAAAAAAAAAAAAAAAAAAAAAAAAAAAAAAAAAAAAAAAAAAAAAAAAAAAAAAAAAAAAAAAAAAAAAAAAAAAAAAAAAAAAAAAAAAAAAAAAAAAAAACgoKCgoKCgoKCgoKCgoKCgoKCgoKCgoKCgoKCgoJCQkJCQEBAQEBAQEBAQEBAQEBCAgICAgIAgICAgICAgcHBwcEBAQEBAQBAQEBAQcHBwMDAwMDCAgICAYGBgYGBgYGBgYGBgYGBgYGBgYGAgICAgICAgIJCQkJCwsLCwsLCwsLCwsLCwsLCwsBAQEBAQEBAQEGBgYGBgYGBgYGBgYGBgYGBgYGBgMDAwMDAwMDBAQEBAcHCAgICAgICAgICQkJCQkJCQkJCQkJBQUFBQUFBQUFBAQEBAQEBgYGBgYGBgYGBgYGBgYGBgYGBgYDAwMDAwMDAgICAQEHCQkJCQQEBAQEBAQEBAQEBAMDAwMCAgICAQEBAQEHBwcHBwcHBwUFBQULCwYGBgYGBgYGBgYGBgYGBgYICAgCAgICAQEBAQEBCQkJCQcHBwgICAgIBAQEBQUDAwMDBwcHBwcHBwkJCQUFBQUF",
           "dtype": "i1"
          },
          "size": {
           "bdata": "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",
           "dtype": "f8"
          }
         },
         "mode": "markers",
         "text": [
          "Rent: 4128.0 DKK</br>Size: 52.0 m2</br>Rooms: 2",
          "Rent: 4128.0 DKK</br>Size: 52.0 m2</br>Rooms: 2",
          "Rent: 4128.0 DKK</br>Size: 52.0 m2</br>Rooms: 2",
          "Rent: 4128.0 DKK</br>Size: 52.0 m2</br>Rooms: 2",
          "Rent: 4783.0 DKK</br>Size: 52.0 m2</br>Rooms: 2",
          "Rent: 4783.0 DKK</br>Size: 52.0 m2</br>Rooms: 2",
          "Rent: 4783.0 DKK</br>Size: 52.0 m2</br>Rooms: 2",
          "Rent: 4783.0 DKK</br>Size: 52.0 m2</br>Rooms: 2",
          "Rent: 4468.0 DKK</br>Size: 51.0 m2</br>Rooms: 1",
          "Rent: 4468.0 DKK</br>Size: 51.0 m2</br>Rooms: 1",
          "Rent: 4468.0 DKK</br>Size: 51.0 m2</br>Rooms: 1",
          "Rent: 4468.0 DKK</br>Size: 51.0 m2</br>Rooms: 1",
          "Rent: 4582.0 DKK</br>Size: 52.0 m2</br>Rooms: 1",
          "Rent: 4582.0 DKK</br>Size: 52.0 m2</br>Rooms: 1",
          "Rent: 4582.0 DKK</br>Size: 52.0 m2</br>Rooms: 1",
          "Rent: 4582.0 DKK</br>Size: 52.0 m2</br>Rooms: 1",
          "Rent: 5415.0 DKK</br>Size: 66.0 m2</br>Rooms: 2",
          "Rent: 5415.0 DKK</br>Size: 66.0 m2</br>Rooms: 2",
          "Rent: 5415.0 DKK</br>Size: 66.0 m2</br>Rooms: 2",
          "Rent: 5415.0 DKK</br>Size: 66.0 m2</br>Rooms: 2",
          "Rent: 6969.0 DKK</br>Size: 79.0 m2</br>Rooms: 2",
          "Rent: 6969.0 DKK</br>Size: 79.0 m2</br>Rooms: 2",
          "Rent: 6969.0 DKK</br>Size: 79.0 m2</br>Rooms: 2",
          "Rent: 6969.0 DKK</br>Size: 79.0 m2</br>Rooms: 2",
          "Rent: 6854.0 DKK</br>Size: 79.0 m2</br>Rooms: 3",
          "Rent: 6854.0 DKK</br>Size: 79.0 m2</br>Rooms: 3",
          "Rent: 6854.0 DKK</br>Size: 79.0 m2</br>Rooms: 3",
          "Rent: 6854.0 DKK</br>Size: 79.0 m2</br>Rooms: 3",
          "Rent: 7387.0 DKK</br>Size: 90.0 m2</br>Rooms: 4",
          "Rent: 7387.0 DKK</br>Size: 90.0 m2</br>Rooms: 4",
          "Rent: 7387.0 DKK</br>Size: 90.0 m2</br>Rooms: 4",
          "Rent: 7387.0 DKK</br>Size: 90.0 m2</br>Rooms: 4",
          "Rent: 8986.0 DKK</br>Size: 105.0 m2</br>Rooms: 4",
          "Rent: 8986.0 DKK</br>Size: 105.0 m2</br>Rooms: 4",
          "Rent: 8986.0 DKK</br>Size: 105.0 m2</br>Rooms: 4",
          "Rent: 8986.0 DKK</br>Size: 105.0 m2</br>Rooms: 4",
          "Rent: 5305.0 DKK</br>Size: 58.0 m2</br>Rooms: 2",
          "Rent: 6312.0 DKK</br>Size: 73.5 m2</br>Rooms: 3",
          "Rent: 8321.0 DKK</br>Size: 107.0 m2</br>Rooms: 5",
          "Rent: 4777.0 DKK</br>Size: 60.0 m2</br>Rooms: 2",
          "Rent: 5435.0 DKK</br>Size: 73.69999694824219 m2</br>Rooms: 3",
          "Rent: 6084.0 DKK</br>Size: 85.0 m2</br>Rooms: 4",
          "Rent: 5672.5 DKK</br>Size: 61.0 m2</br>Rooms: 2",
          "Rent: 4555.5 DKK</br>Size: 39.0 m2</br>Rooms: 1",
          "Rent: 7143.0 DKK</br>Size: 65.0 m2</br>Rooms: 2",
          "Rent: 6145.5 DKK</br>Size: 67.0 m2</br>Rooms: 3",
          "Rent: 6274.5 DKK</br>Size: 68.0 m2</br>Rooms: 3",
          "Rent: 6939.5 DKK</br>Size: 80.0 m2</br>Rooms: 3",
          "Rent: 7677.5 DKK</br>Size: 80.0 m2</br>Rooms: 3",
          "Rent: 8077.5 DKK</br>Size: 92.0 m2</br>Rooms: 4",
          "Rent: 9910.5 DKK</br>Size: 112.0 m2</br>Rooms: 4",
          "Rent: 4808.0 DKK</br>Size: 62.0 m2</br>Rooms: 2",
          "Rent: 4150.0 DKK</br>Size: 50.0 m2</br>Rooms: 1",
          "Rent: 8389.0 DKK</br>Size: 84.0 m2</br>Rooms: 2",
          "Rent: 5979.0 DKK</br>Size: 74.0 m2</br>Rooms: 3",
          "Rent: 7364.0 DKK</br>Size: 90.0 m2</br>Rooms: 4",
          "Rent: 4632.030000000001 DKK</br>Size: 52.0 m2</br>Rooms: 1",
          "Rent: 5154.0 DKK</br>Size: 63.70000076293945 m2</br>Rooms: 2",
          "Rent: 5557.0 DKK</br>Size: 69.5 m2</br>Rooms: 3",
          "Rent: 5893.0 DKK</br>Size: 75.19999694824219 m2</br>Rooms: 3",
          "Rent: 6391.0 DKK</br>Size: 82.5 m2</br>Rooms: 4",
          "Rent: 5648.0 DKK</br>Size: 66.0 m2</br>Rooms: 2",
          "Rent: 6589.0 DKK</br>Size: 77.0 m2</br>Rooms: 3",
          "Rent: 7094.0 DKK</br>Size: 83.0 m2</br>Rooms: 4",
          "Rent: 8905.0 DKK</br>Size: 104.0 m2</br>Rooms: 4",
          "Rent: 9610.0 DKK</br>Size: 102.0 m2</br>Rooms: 4",
          "Rent: 11133.0 DKK</br>Size: 119.0 m2</br>Rooms: 5",
          "Rent: 12805.0 DKK</br>Size: 136.0 m2</br>Rooms: 6",
          "Rent: 7242.0 DKK</br>Size: 67.69999694824219 m2</br>Rooms: 2",
          "Rent: 7692.0 DKK</br>Size: 67.69999694824219 m2</br>Rooms: 2",
          "Rent: 8628.0 DKK</br>Size: 78.19999694824219 m2</br>Rooms: 2",
          "Rent: 9063.0 DKK</br>Size: 83.80000305175781 m2</br>Rooms: 2",
          "Rent: 9749.0 DKK</br>Size: 91.1999969482422 m2</br>Rooms: 3",
          "Rent: 11414.0 DKK</br>Size: 106.8000030517578 m2</br>Rooms: 4",
          "Rent: 12698.0 DKK</br>Size: 118.8000030517578 m2</br>Rooms: 5",
          "Rent: 7743.0 DKK</br>Size: 70.0 m2</br>Rooms: 2",
          "Rent: 8811.62 DKK</br>Size: 76.80000305175781 m2</br>Rooms: 3",
          "Rent: 6646.0 DKK</br>Size: 73.0 m2</br>Rooms: 2",
          "Rent: 5038.0 DKK</br>Size: 76.0 m2</br>Rooms: 2",
          "Rent: 5998.0 DKK</br>Size: 62.20000076293945 m2</br>Rooms: 3",
          "Rent: 7984.0 DKK</br>Size: 104.0 m2</br>Rooms: 2",
          "Rent: 6526.0 DKK</br>Size: 106.0 m2</br>Rooms: 3",
          "Rent: 9905.0 DKK</br>Size: 142.0 m2</br>Rooms: 4",
          "Rent: 9772.95 DKK</br>Size: 143.0 m2</br>Rooms: 5",
          "Rent: 6457.0 DKK</br>Size: 67.0 m2</br>Rooms: 2",
          "Rent: 4463.0 DKK</br>Size: 38.0 m2</br>Rooms: 1",
          "Rent: 7162.0 DKK</br>Size: 76.0 m2</br>Rooms: 2",
          "Rent: 6682.0 DKK</br>Size: 69.0 m2</br>Rooms: 3",
          "Rent: 7162.0 DKK</br>Size: 76.0 m2</br>Rooms: 3",
          "Rent: 4278.0 DKK</br>Size: 42.0 m2</br>Rooms: 1",
          "Rent: 4278.0 DKK</br>Size: 42.0 m2</br>Rooms: 1",
          "Rent: 4278.0 DKK</br>Size: 42.0 m2</br>Rooms: 1",
          "Rent: 4278.0 DKK</br>Size: 42.0 m2</br>Rooms: 1",
          "Rent: 5717.0 DKK</br>Size: 58.0 m2</br>Rooms: 2",
          "Rent: 5717.0 DKK</br>Size: 58.0 m2</br>Rooms: 2",
          "Rent: 5717.0 DKK</br>Size: 58.0 m2</br>Rooms: 2",
          "Rent: 5717.0 DKK</br>Size: 58.0 m2</br>Rooms: 2",
          "Rent: 9944.0 DKK</br>Size: 97.0 m2</br>Rooms: 3",
          "Rent: 9944.0 DKK</br>Size: 97.0 m2</br>Rooms: 3",
          "Rent: 9944.0 DKK</br>Size: 97.0 m2</br>Rooms: 3",
          "Rent: 9944.0 DKK</br>Size: 97.0 m2</br>Rooms: 3",
          "Rent: 11536.0 DKK</br>Size: 111.0 m2</br>Rooms: 4",
          "Rent: 11536.0 DKK</br>Size: 111.0 m2</br>Rooms: 4",
          "Rent: 11536.0 DKK</br>Size: 111.0 m2</br>Rooms: 4",
          "Rent: 11536.0 DKK</br>Size: 111.0 m2</br>Rooms: 4",
          "Rent: 10824.0 DKK</br>Size: 118.0 m2</br>Rooms: 4",
          "Rent: 10824.0 DKK</br>Size: 118.0 m2</br>Rooms: 4",
          "Rent: 10824.0 DKK</br>Size: 118.0 m2</br>Rooms: 4",
          "Rent: 10824.0 DKK</br>Size: 118.0 m2</br>Rooms: 4",
          "Rent: 12148.6004 DKK</br>Size: 125.0 m2</br>Rooms: 5",
          "Rent: 12148.6004 DKK</br>Size: 125.0 m2</br>Rooms: 5",
          "Rent: 12148.6004 DKK</br>Size: 125.0 m2</br>Rooms: 5",
          "Rent: 12148.6004 DKK</br>Size: 125.0 m2</br>Rooms: 5",
          "Rent: 9790.0 DKK</br>Size: 106.0 m2</br>Rooms: 3",
          "Rent: 9790.0 DKK</br>Size: 106.0 m2</br>Rooms: 3",
          "Rent: 9790.0 DKK</br>Size: 106.0 m2</br>Rooms: 3",
          "Rent: 9790.0 DKK</br>Size: 106.0 m2</br>Rooms: 3",
          "Rent: 3536.0 DKK</br>Size: 43.0 m2</br>Rooms: 1",
          "Rent: 4083.0 DKK</br>Size: 50.0 m2</br>Rooms: 2",
          "Rent: 6071.0 DKK</br>Size: 76.0 m2</br>Rooms: 3",
          "Rent: 6763.0 DKK</br>Size: 85.0 m2</br>Rooms: 4",
          "Rent: 8886.0 DKK</br>Size: 110.0 m2</br>Rooms: 5",
          "Rent: 6496.0 DKK</br>Size: 81.0 m2</br>Rooms: 4",
          "Rent: 7007.0 DKK</br>Size: 87.5 m2</br>Rooms: 4",
          "Rent: 7574.0 DKK</br>Size: 94.6999969482422 m2</br>Rooms: 5",
          "Rent: 5427.0 DKK</br>Size: 56.0 m2</br>Rooms: 2",
          "Rent: 6563.0 DKK</br>Size: 71.0 m2</br>Rooms: 2",
          "Rent: 5633.0 DKK</br>Size: 64.0 m2</br>Rooms: 3",
          "Rent: 6237.0 DKK</br>Size: 71.0 m2</br>Rooms: 3",
          "Rent: 7971.0 DKK</br>Size: 85.0 m2</br>Rooms: 4",
          "Rent: 4585.0 DKK</br>Size: 58.0 m2</br>Rooms: 2",
          "Rent: 7837.0 DKK</br>Size: 108.0 m2</br>Rooms: 3",
          "Rent: 6540.0 DKK</br>Size: 104.5 m2</br>Rooms: 4",
          "Rent: 5731.0 DKK</br>Size: 69.4000015258789 m2</br>Rooms: 2",
          "Rent: 6382.0 DKK</br>Size: 84.4000015258789 m2</br>Rooms: 3",
          "Rent: 8294.0 DKK</br>Size: 102.4000015258789 m2</br>Rooms: 4",
          "Rent: 6823.0 DKK</br>Size: 78.0 m2</br>Rooms: 3",
          "Rent: 7735.0 DKK</br>Size: 89.0 m2</br>Rooms: 3",
          "Rent: 6146.25 DKK</br>Size: 85.0 m2</br>Rooms: 3",
          "Rent: 5858.0 DKK</br>Size: 85.0 m2</br>Rooms: 4",
          "Rent: 10363.87 DKK</br>Size: 102.0 m2</br>Rooms: 3",
          "Rent: 9584.0 DKK</br>Size: 102.0 m2</br>Rooms: 4",
          "Rent: 7934.0 DKK</br>Size: 74.0 m2</br>Rooms: 2",
          "Rent: 9195.0 DKK</br>Size: 86.0 m2</br>Rooms: 3",
          "Rent: 10343.0 DKK</br>Size: 96.0 m2</br>Rooms: 3",
          "Rent: 10706.0 DKK</br>Size: 96.0 m2</br>Rooms: 4",
          "Rent: 5222.0 DKK</br>Size: 62.0 m2</br>Rooms: 2",
          "Rent: 4446.0 DKK</br>Size: 48.0 m2</br>Rooms: 1",
          "Rent: 4521.0 DKK</br>Size: 49.0 m2</br>Rooms: 2",
          "Rent: 6799.0 DKK</br>Size: 83.0 m2</br>Rooms: 3",
          "Rent: 7717.0 DKK</br>Size: 96.0 m2</br>Rooms: 4",
          "Rent: 8363.0 DKK</br>Size: 110.0 m2</br>Rooms: 5",
          "Rent: 4735.0 DKK</br>Size: 52.0 m2</br>Rooms: 1",
          "Rent: 5984.0 DKK</br>Size: 75.0 m2</br>Rooms: 2",
          "Rent: 6780.0 DKK</br>Size: 89.0 m2</br>Rooms: 3",
          "Rent: 7583.0 DKK</br>Size: 99.0 m2</br>Rooms: 4",
          "Rent: 9585.0 DKK</br>Size: 67.0 m2</br>Rooms: 1",
          "Rent: 8647.0 DKK</br>Size: 119.5999984741211 m2</br>Rooms: 3",
          "Rent: 8611.0 DKK</br>Size: 107.8000030517578 m2</br>Rooms: 4",
          "Rent: 8393.0 DKK</br>Size: 124.0 m2</br>Rooms: 5",
          "Rent: 7224.0 DKK</br>Size: 62.0 m2</br>Rooms: 2",
          "Rent: 8293.0 DKK</br>Size: 83.0 m2</br>Rooms: 3",
          "Rent: 7502.0 DKK</br>Size: 72.0 m2</br>Rooms: 2",
          "Rent: 8394.0 DKK</br>Size: 83.0 m2</br>Rooms: 3",
          "Rent: 8480.0 DKK</br>Size: 86.0 m2</br>Rooms: 3",
          "Rent: 9396.0 DKK</br>Size: 102.0 m2</br>Rooms: 4",
          "Rent: 7046.0 DKK</br>Size: 63.0 m2</br>Rooms: 2",
          "Rent: 7046.0 DKK</br>Size: 63.0 m2</br>Rooms: 2",
          "Rent: 7046.0 DKK</br>Size: 63.0 m2</br>Rooms: 2",
          "Rent: 7046.0 DKK</br>Size: 63.0 m2</br>Rooms: 2",
          "Rent: 5698.0 DKK</br>Size: 46.0 m2</br>Rooms: 2",
          "Rent: 5698.0 DKK</br>Size: 46.0 m2</br>Rooms: 2",
          "Rent: 5698.0 DKK</br>Size: 46.0 m2</br>Rooms: 2",
          "Rent: 5698.0 DKK</br>Size: 46.0 m2</br>Rooms: 2",
          "Rent: 8381.0 DKK</br>Size: 83.0 m2</br>Rooms: 3",
          "Rent: 8381.0 DKK</br>Size: 83.0 m2</br>Rooms: 3",
          "Rent: 8381.0 DKK</br>Size: 83.0 m2</br>Rooms: 3",
          "Rent: 8381.0 DKK</br>Size: 83.0 m2</br>Rooms: 3",
          "Rent: 9338.0 DKK</br>Size: 85.0 m2</br>Rooms: 3",
          "Rent: 9338.0 DKK</br>Size: 85.0 m2</br>Rooms: 3",
          "Rent: 9338.0 DKK</br>Size: 85.0 m2</br>Rooms: 3",
          "Rent: 9338.0 DKK</br>Size: 85.0 m2</br>Rooms: 3",
          "Rent: 11207.0 DKK</br>Size: 109.0 m2</br>Rooms: 4",
          "Rent: 11207.0 DKK</br>Size: 109.0 m2</br>Rooms: 4",
          "Rent: 11207.0 DKK</br>Size: 109.0 m2</br>Rooms: 4",
          "Rent: 11207.0 DKK</br>Size: 109.0 m2</br>Rooms: 4",
          "Rent: 10272.0 DKK</br>Size: 110.0 m2</br>Rooms: 4",
          "Rent: 10272.0 DKK</br>Size: 110.0 m2</br>Rooms: 4",
          "Rent: 10272.0 DKK</br>Size: 110.0 m2</br>Rooms: 4",
          "Rent: 10272.0 DKK</br>Size: 110.0 m2</br>Rooms: 4",
          "Rent: 7064.0 DKK</br>Size: 65.0 m2</br>Rooms: 2",
          "Rent: 7064.0 DKK</br>Size: 65.0 m2</br>Rooms: 2",
          "Rent: 7064.0 DKK</br>Size: 65.0 m2</br>Rooms: 2",
          "Rent: 7064.0 DKK</br>Size: 65.0 m2</br>Rooms: 2",
          "Rent: 7271.0 DKK</br>Size: 60.0 m2</br>Rooms: 2",
          "Rent: 7271.0 DKK</br>Size: 60.0 m2</br>Rooms: 2",
          "Rent: 7271.0 DKK</br>Size: 60.0 m2</br>Rooms: 2",
          "Rent: 7271.0 DKK</br>Size: 60.0 m2</br>Rooms: 2",
          "Rent: 6942.0 DKK</br>Size: 64.0 m2</br>Rooms: 2",
          "Rent: 8988.1 DKK</br>Size: 86.0 m2</br>Rooms: 3",
          "Rent: 6501.0 DKK</br>Size: 65.5 m2</br>Rooms: 2",
          "Rent: 7345.0 DKK</br>Size: 78.0 m2</br>Rooms: 3",
          "Rent: 4097.0 DKK</br>Size: 40.0 m2</br>Rooms: 1",
          "Rent: 6177.0 DKK</br>Size: 61.0 m2</br>Rooms: 2",
          "Rent: 7820.0 DKK</br>Size: 76.0 m2</br>Rooms: 3",
          "Rent: 4607.0 DKK</br>Size: 47.0 m2</br>Rooms: 1",
          "Rent: 5278.0 DKK</br>Size: 62.0 m2</br>Rooms: 2",
          "Rent: 5378.0 DKK</br>Size: 64.0 m2</br>Rooms: 3",
          "Rent: 7218.0 DKK</br>Size: 83.80000305175781 m2</br>Rooms: 3",
          "Rent: 8031.0 DKK</br>Size: 86.0 m2</br>Rooms: 4",
          "Rent: 7961.0 DKK</br>Size: 93.0 m2</br>Rooms: 4",
          "Rent: 8976.0 DKK</br>Size: 108.0 m2</br>Rooms: 5",
          "Rent: 5406.0 DKK</br>Size: 55.59999847412109 m2</br>Rooms: 2",
          "Rent: 6360.0 DKK</br>Size: 70.4000015258789 m2</br>Rooms: 2",
          "Rent: 6987.0 DKK</br>Size: 81.5999984741211 m2</br>Rooms: 3",
          "Rent: 7082.0 DKK</br>Size: 83.4000015258789 m2</br>Rooms: 3",
          "Rent: 9072.67 DKK</br>Size: 111.1999969482422 m2</br>Rooms: 4",
          "Rent: 5612.0 DKK</br>Size: 61.0 m2</br>Rooms: 2",
          "Rent: 6281.0 DKK</br>Size: 72.0 m2</br>Rooms: 2",
          "Rent: 7412.0 DKK</br>Size: 84.0 m2</br>Rooms: 3",
          "Rent: 9225.0 DKK</br>Size: 94.0 m2</br>Rooms: 4",
          "Rent: 7677.0 DKK</br>Size: 102.0 m2</br>Rooms: 4",
          "Rent: 7566.0 DKK</br>Size: 82.0 m2</br>Rooms: 4",
          "Rent: 8349.0 DKK</br>Size: 93.0 m2</br>Rooms: 4",
          "Rent: 6526.0 DKK</br>Size: 69.5999984741211 m2</br>Rooms: 2",
          "Rent: 7893.4 DKK</br>Size: 81.5999984741211 m2</br>Rooms: 3",
          "Rent: 7782.0 DKK</br>Size: 90.3000030517578 m2</br>Rooms: 4",
          "Rent: 6344.0 DKK</br>Size: 66.5999984741211 m2</br>Rooms: 2",
          "Rent: 7249.0 DKK</br>Size: 81.5 m2</br>Rooms: 3",
          "Rent: 7920.0 DKK</br>Size: 70.0 m2</br>Rooms: 2",
          "Rent: 9359.0 DKK</br>Size: 85.0 m2</br>Rooms: 3",
          "Rent: 6448.0 DKK</br>Size: 72.0 m2</br>Rooms: 2",
          "Rent: 4540.0 DKK</br>Size: 38.0 m2</br>Rooms: 1",
          "Rent: 5637.0 DKK</br>Size: 61.09999847412109 m2</br>Rooms: 2",
          "Rent: 7110.0 DKK</br>Size: 84.0999984741211 m2</br>Rooms: 3",
          "Rent: 7061.0 DKK</br>Size: 88.0 m2</br>Rooms: 3",
          "Rent: 8343.0 DKK</br>Size: 94.3000030517578 m2</br>Rooms: 4",
          "Rent: 9010.0 DKK</br>Size: 102.0 m2</br>Rooms: 4",
          "Rent: 4936.0 DKK</br>Size: 56.400001525878906 m2</br>Rooms: 2",
          "Rent: 6798.0 DKK</br>Size: 81.5 m2</br>Rooms: 3",
          "Rent: 8034.0 DKK</br>Size: 97.6999969482422 m2</br>Rooms: 4",
          "Rent: 6274.0 DKK</br>Size: 66.0 m2</br>Rooms: 2",
          "Rent: 6750.0 DKK</br>Size: 66.0 m2</br>Rooms: 3",
          "Rent: 7274.0 DKK</br>Size: 81.0 m2</br>Rooms: 3",
          "Rent: 7779.0 DKK</br>Size: 86.0 m2</br>Rooms: 4",
          "Rent: 9099.0 DKK</br>Size: 99.0 m2</br>Rooms: 4",
          "Rent: 6542.0 DKK</br>Size: 82.0 m2</br>Rooms: 3",
          "Rent: 8390.0 DKK</br>Size: 106.0 m2</br>Rooms: 5",
          "Rent: 5719.0 DKK</br>Size: 68.69999694824219 m2</br>Rooms: 3",
          "Rent: 4520.0 DKK</br>Size: 41.29999923706055 m2</br>Rooms: 1",
          "Rent: 5054.0 DKK</br>Size: 53.0 m2</br>Rooms: 2",
          "Rent: 5481.0 DKK</br>Size: 64.30000305175781 m2</br>Rooms: 2",
          "Rent: 5681.0 DKK</br>Size: 69.5 m2</br>Rooms: 2",
          "Rent: 7042.0 DKK</br>Size: 77.0999984741211 m2</br>Rooms: 3",
          "Rent: 6484.0 DKK</br>Size: 81.9000015258789 m2</br>Rooms: 3",
          "Rent: 6957.0 DKK</br>Size: 90.0 m2</br>Rooms: 4",
          "Rent: 7768.0 DKK</br>Size: 69.0 m2</br>Rooms: 3",
          "Rent: 5967.0 DKK</br>Size: 65.0 m2</br>Rooms: 2",
          "Rent: 7428.0 DKK</br>Size: 69.0 m2</br>Rooms: 2",
          "Rent: 8553.0 DKK</br>Size: 87.0 m2</br>Rooms: 3",
          "Rent: 9563.0 DKK</br>Size: 87.0 m2</br>Rooms: 3",
          "Rent: 10088.0 DKK</br>Size: 96.0 m2</br>Rooms: 4",
          "Rent: 7377.0 DKK</br>Size: 70.0 m2</br>Rooms: 3",
          "Rent: 7414.0 DKK</br>Size: 71.0 m2</br>Rooms: 3",
          "Rent: 4121.0 DKK</br>Size: 37.0 m2</br>Rooms: 1",
          "Rent: 6265.0 DKK</br>Size: 70.0 m2</br>Rooms: 2",
          "Rent: 6944.0 DKK</br>Size: 81.0 m2</br>Rooms: 3",
          "Rent: 8633.0 DKK</br>Size: 88.0 m2</br>Rooms: 4",
          "Rent: 8482.0 DKK</br>Size: 90.0 m2</br>Rooms: 4",
          "Rent: 11421.0 DKK</br>Size: 127.0 m2</br>Rooms: 5",
          "Rent: 5373.23 DKK</br>Size: 57.0 m2</br>Rooms: 2",
          "Rent: 5809.0 DKK</br>Size: 67.80000305175781 m2</br>Rooms: 2",
          "Rent: 8522.0 DKK</br>Size: 106.4000015258789 m2</br>Rooms: 4",
          "Rent: 6010.0 DKK</br>Size: 69.4000015258789 m2</br>Rooms: 2",
          "Rent: 6842.0 DKK</br>Size: 85.69999694824219 m2</br>Rooms: 3",
          "Rent: 7532.0 DKK</br>Size: 95.0 m2</br>Rooms: 3",
          "Rent: 8642.0 DKK</br>Size: 102.0 m2</br>Rooms: 4",
          "Rent: 9976.0 DKK</br>Size: 115.0 m2</br>Rooms: 5",
          "Rent: 11357.0 DKK</br>Size: 127.0 m2</br>Rooms: 5",
          "Rent: 6904.0 DKK</br>Size: 78.0999984741211 m2</br>Rooms: 3",
          "Rent: 6022.0 DKK</br>Size: 64.19999694824219 m2</br>Rooms: 2",
          "Rent: 8768.0 DKK</br>Size: 100.3000030517578 m2</br>Rooms: 4",
          "Rent: 8131.78 DKK</br>Size: 78.30000305175781 m2</br>Rooms: 3",
          "Rent: 5077.37 DKK</br>Size: 36.400001525878906 m2</br>Rooms: 1",
          "Rent: 7581.42 DKK</br>Size: 67.0 m2</br>Rooms: 2",
          "Rent: 8401.09 DKK</br>Size: 83.0 m2</br>Rooms: 3",
          "Rent: 8714.84 DKK</br>Size: 86.0 m2</br>Rooms: 3",
          "Rent: 8801.5 DKK</br>Size: 88.9000015258789 m2</br>Rooms: 4",
          "Rent: 9445.26 DKK</br>Size: 93.0 m2</br>Rooms: 4",
          "Rent: 7062.0 DKK</br>Size: 81.0 m2</br>Rooms: 3",
          "Rent: 7062.0 DKK</br>Size: 81.0 m2</br>Rooms: 3",
          "Rent: 7062.0 DKK</br>Size: 81.0 m2</br>Rooms: 3",
          "Rent: 7062.0 DKK</br>Size: 81.0 m2</br>Rooms: 3",
          "Rent: 6246.0 DKK</br>Size: 66.0 m2</br>Rooms: 2",
          "Rent: 6246.0 DKK</br>Size: 66.0 m2</br>Rooms: 2",
          "Rent: 6246.0 DKK</br>Size: 66.0 m2</br>Rooms: 2",
          "Rent: 6246.0 DKK</br>Size: 66.0 m2</br>Rooms: 2",
          "Rent: 8356.0 DKK</br>Size: 102.0 m2</br>Rooms: 3",
          "Rent: 8356.0 DKK</br>Size: 102.0 m2</br>Rooms: 3",
          "Rent: 8356.0 DKK</br>Size: 102.0 m2</br>Rooms: 3",
          "Rent: 8356.0 DKK</br>Size: 102.0 m2</br>Rooms: 3",
          "Rent: 7870.0 DKK</br>Size: 94.0 m2</br>Rooms: 4",
          "Rent: 7870.0 DKK</br>Size: 94.0 m2</br>Rooms: 4",
          "Rent: 7870.0 DKK</br>Size: 94.0 m2</br>Rooms: 4",
          "Rent: 7870.0 DKK</br>Size: 94.0 m2</br>Rooms: 4",
          "Rent: 8622.0 DKK</br>Size: 111.0 m2</br>Rooms: 4",
          "Rent: 8622.0 DKK</br>Size: 111.0 m2</br>Rooms: 4",
          "Rent: 8622.0 DKK</br>Size: 111.0 m2</br>Rooms: 4",
          "Rent: 8622.0 DKK</br>Size: 111.0 m2</br>Rooms: 4",
          "Rent: 7440.0 DKK</br>Size: 83.0 m2</br>Rooms: 3",
          "Rent: 7786.0 DKK</br>Size: 99.0 m2</br>Rooms: 4",
          "Rent: 7658.0 DKK</br>Size: 99.0 m2</br>Rooms: 5",
          "Rent: 3873.0 DKK</br>Size: 42.0 m2</br>Rooms: 1",
          "Rent: 5966.0 DKK</br>Size: 63.0 m2</br>Rooms: 1",
          "Rent: 7460.0 DKK</br>Size: 77.0 m2</br>Rooms: 2",
          "Rent: 7611.0 DKK</br>Size: 86.0 m2</br>Rooms: 3",
          "Rent: 9715.0 DKK</br>Size: 109.0 m2</br>Rooms: 4",
          "Rent: 4726.0 DKK</br>Size: 42.0 m2</br>Rooms: 1",
          "Rent: 5860.0 DKK</br>Size: 61.0 m2</br>Rooms: 2",
          "Rent: 6186.0 DKK</br>Size: 70.0 m2</br>Rooms: 2",
          "Rent: 8049.0 DKK</br>Size: 83.0 m2</br>Rooms: 4",
          "Rent: 9264.79 DKK</br>Size: 84.30000305175781 m2</br>Rooms: 3",
          "Rent: 9327.67 DKK</br>Size: 84.5 m2</br>Rooms: 3",
          "Rent: 6580.0 DKK</br>Size: 58.59999847412109 m2</br>Rooms: 2",
          "Rent: 7520.0 DKK</br>Size: 69.80000305175781 m2</br>Rooms: 2",
          "Rent: 8753.48 DKK</br>Size: 79.80000305175781 m2</br>Rooms: 3",
          "Rent: 9626.28 DKK</br>Size: 96.5999984741211 m2</br>Rooms: 4",
          "Rent: 6908.0 DKK</br>Size: 84.5 m2</br>Rooms: 3",
          "Rent: 5446.0 DKK</br>Size: 65.5 m2</br>Rooms: 2",
          "Rent: 6740.0 DKK</br>Size: 81.0 m2</br>Rooms: 3",
          "Rent: 7103.0 DKK</br>Size: 85.0 m2</br>Rooms: 3",
          "Rent: 7178.0 DKK</br>Size: 87.0 m2</br>Rooms: 3",
          "Rent: 3655.0 DKK</br>Size: 44.0 m2</br>Rooms: 1",
          "Rent: 5289.0 DKK</br>Size: 44.0 m2</br>Rooms: 2",
          "Rent: 4885.0 DKK</br>Size: 55.0 m2</br>Rooms: 2",
          "Rent: 5159.0 DKK</br>Size: 63.0 m2</br>Rooms: 2",
          "Rent: 5841.0 DKK</br>Size: 71.0 m2</br>Rooms: 2",
          "Rent: 6953.0 DKK</br>Size: 85.0 m2</br>Rooms: 4",
          "Rent: 8194.0 DKK</br>Size: 97.0 m2</br>Rooms: 4",
          "Rent: 8679.0 DKK</br>Size: 99.0 m2</br>Rooms: 4",
          "Rent: 9159.0 DKK</br>Size: 110.0 m2</br>Rooms: 5",
          "Rent: 9288.0 DKK</br>Size: 110.0 m2</br>Rooms: 5",
          "Rent: 7077.0 DKK</br>Size: 85.0 m2</br>Rooms: 3",
          "Rent: 7683.0 DKK</br>Size: 95.0 m2</br>Rooms: 3",
          "Rent: 8175.0 DKK</br>Size: 98.0 m2</br>Rooms: 4",
          "Rent: 9766.0 DKK</br>Size: 128.0 m2</br>Rooms: 5",
          "Rent: 9028.0 DKK</br>Size: 86.0 m2</br>Rooms: 3",
          "Rent: 7662.0 DKK</br>Size: 74.0 m2</br>Rooms: 2",
          "Rent: 10980.0 DKK</br>Size: 100.0 m2</br>Rooms: 4",
          "Rent: 5580.0 DKK</br>Size: 57.0 m2</br>Rooms: 1",
          "Rent: 7837.0 DKK</br>Size: 83.0 m2</br>Rooms: 2",
          "Rent: 5882.0 DKK</br>Size: 63.0 m2</br>Rooms: 2",
          "Rent: 8090.0 DKK</br>Size: 90.0 m2</br>Rooms: 3",
          "Rent: 8930.0 DKK</br>Size: 100.0 m2</br>Rooms: 4",
          "Rent: 7295.0 DKK</br>Size: 73.0 m2</br>Rooms: 2",
          "Rent: 7295.0 DKK</br>Size: 73.0 m2</br>Rooms: 2",
          "Rent: 7295.0 DKK</br>Size: 73.0 m2</br>Rooms: 2",
          "Rent: 7295.0 DKK</br>Size: 73.0 m2</br>Rooms: 2",
          "Rent: 8145.0 DKK</br>Size: 92.0 m2</br>Rooms: 3",
          "Rent: 8145.0 DKK</br>Size: 92.0 m2</br>Rooms: 3",
          "Rent: 8145.0 DKK</br>Size: 92.0 m2</br>Rooms: 3",
          "Rent: 8145.0 DKK</br>Size: 92.0 m2</br>Rooms: 3",
          "Rent: 9372.0 DKK</br>Size: 113.0 m2</br>Rooms: 4",
          "Rent: 9372.0 DKK</br>Size: 113.0 m2</br>Rooms: 4",
          "Rent: 9372.0 DKK</br>Size: 113.0 m2</br>Rooms: 4",
          "Rent: 9372.0 DKK</br>Size: 113.0 m2</br>Rooms: 4",
          "Rent: 7690.0 DKK</br>Size: 77.5 m2</br>Rooms: 2",
          "Rent: 6972.0 DKK</br>Size: 77.5 m2</br>Rooms: 3",
          "Rent: 7497.0 DKK</br>Size: 78.5 m2</br>Rooms: 4",
          "Rent: 8648.0 DKK</br>Size: 90.6999969482422 m2</br>Rooms: 3",
          "Rent: 6923.0 DKK</br>Size: 70.69999694824219 m2</br>Rooms: 2",
          "Rent: 9399.0 DKK</br>Size: 113.0 m2</br>Rooms: 4",
          "Rent: 8962.0 DKK</br>Size: 92.0 m2</br>Rooms: 3",
          "Rent: 8962.0 DKK</br>Size: 92.0 m2</br>Rooms: 3",
          "Rent: 8962.0 DKK</br>Size: 92.0 m2</br>Rooms: 3",
          "Rent: 8962.0 DKK</br>Size: 92.0 m2</br>Rooms: 3",
          "Rent: 10044.0 DKK</br>Size: 112.0 m2</br>Rooms: 4",
          "Rent: 10044.0 DKK</br>Size: 112.0 m2</br>Rooms: 4",
          "Rent: 10044.0 DKK</br>Size: 112.0 m2</br>Rooms: 4",
          "Rent: 10044.0 DKK</br>Size: 112.0 m2</br>Rooms: 4",
          "Rent: 7605.0 DKK</br>Size: 73.0 m2</br>Rooms: 2",
          "Rent: 7605.0 DKK</br>Size: 73.0 m2</br>Rooms: 2",
          "Rent: 7605.0 DKK</br>Size: 73.0 m2</br>Rooms: 2",
          "Rent: 7605.0 DKK</br>Size: 73.0 m2</br>Rooms: 2",
          "Rent: 4057.0 DKK</br>Size: 44.0 m2</br>Rooms: 1",
          "Rent: 5561.0 DKK</br>Size: 61.0 m2</br>Rooms: 2",
          "Rent: 6519.0 DKK</br>Size: 76.0 m2</br>Rooms: 3",
          "Rent: 7801.0 DKK</br>Size: 83.0 m2</br>Rooms: 4",
          "Rent: 4422.0 DKK</br>Size: 50.70000076293945 m2</br>Rooms: 1",
          "Rent: 6060.0 DKK</br>Size: 75.5 m2</br>Rooms: 2",
          "Rent: 5771.0 DKK</br>Size: 69.69999694824219 m2</br>Rooms: 3",
          "Rent: 6048.0 DKK</br>Size: 75.80000305175781 m2</br>Rooms: 3",
          "Rent: 7902.0 DKK</br>Size: 101.0 m2</br>Rooms: 4",
          "Rent: 6139.0 DKK</br>Size: 62.79999923706055 m2</br>Rooms: 2",
          "Rent: 6565.0 DKK</br>Size: 69.4000015258789 m2</br>Rooms: 2",
          "Rent: 7413.0 DKK</br>Size: 82.5999984741211 m2</br>Rooms: 3",
          "Rent: 9081.32 DKK</br>Size: 103.0 m2</br>Rooms: 4",
          "Rent: 5789.0 DKK</br>Size: 64.0 m2</br>Rooms: 2",
          "Rent: 6802.0 DKK</br>Size: 77.0 m2</br>Rooms: 3",
          "Rent: 8256.0 DKK</br>Size: 96.0 m2</br>Rooms: 4",
          "Rent: 8256.0 DKK</br>Size: 96.0 m2</br>Rooms: 4",
          "Rent: 5989.0 DKK</br>Size: 64.0 m2</br>Rooms: 2",
          "Rent: 6802.0 DKK</br>Size: 77.0 m2</br>Rooms: 3",
          "Rent: 8256.0 DKK</br>Size: 96.0 m2</br>Rooms: 4",
          "Rent: 7449.0 DKK</br>Size: 85.0 m2</br>Rooms: 3",
          "Rent: 8662.0 DKK</br>Size: 78.4000015258789 m2</br>Rooms: 3",
          "Rent: 10058.0 DKK</br>Size: 97.0999984741211 m2</br>Rooms: 4",
          "Rent: 11252.0 DKK</br>Size: 114.1999969482422 m2</br>Rooms: 5",
          "Rent: 9787.0 DKK</br>Size: 102.0 m2</br>Rooms: 3",
          "Rent: 9787.0 DKK</br>Size: 102.0 m2</br>Rooms: 3",
          "Rent: 9787.0 DKK</br>Size: 102.0 m2</br>Rooms: 3",
          "Rent: 9787.0 DKK</br>Size: 102.0 m2</br>Rooms: 3",
          "Rent: 7550.0 DKK</br>Size: 64.0 m2</br>Rooms: 2",
          "Rent: 7550.0 DKK</br>Size: 64.0 m2</br>Rooms: 2",
          "Rent: 7550.0 DKK</br>Size: 64.0 m2</br>Rooms: 2",
          "Rent: 7550.0 DKK</br>Size: 64.0 m2</br>Rooms: 2",
          "Rent: 9089.0 DKK</br>Size: 86.0 m2</br>Rooms: 3",
          "Rent: 9089.0 DKK</br>Size: 86.0 m2</br>Rooms: 3",
          "Rent: 9089.0 DKK</br>Size: 86.0 m2</br>Rooms: 3",
          "Rent: 9089.0 DKK</br>Size: 86.0 m2</br>Rooms: 3",
          "Rent: 10959.0 DKK</br>Size: 113.0 m2</br>Rooms: 4",
          "Rent: 10959.0 DKK</br>Size: 113.0 m2</br>Rooms: 4",
          "Rent: 10959.0 DKK</br>Size: 113.0 m2</br>Rooms: 4",
          "Rent: 10959.0 DKK</br>Size: 113.0 m2</br>Rooms: 4",
          "Rent: 7286.0 DKK</br>Size: 85.4000015258789 m2</br>Rooms: 4",
          "Rent: 5108.0 DKK</br>Size: 51.0 m2</br>Rooms: 1",
          "Rent: 6078.0 DKK</br>Size: 70.30000305175781 m2</br>Rooms: 2",
          "Rent: 7178.0 DKK</br>Size: 86.5999984741211 m2</br>Rooms: 3",
          "Rent: 8916.0 DKK</br>Size: 90.0 m2</br>Rooms: 4",
          "Rent: 7457.0 DKK</br>Size: 92.0 m2</br>Rooms: 4",
          "Rent: 5261.0 DKK</br>Size: 54.09999847412109 m2</br>Rooms: 1",
          "Rent: 5998.0 DKK</br>Size: 68.69999694824219 m2</br>Rooms: 2",
          "Rent: 6008.0 DKK</br>Size: 71.0 m2</br>Rooms: 3",
          "Rent: 6794.0 DKK</br>Size: 77.0 m2</br>Rooms: 3",
          "Rent: 7597.0 DKK</br>Size: 91.0 m2</br>Rooms: 3",
          "Rent: 8506.0 DKK</br>Size: 97.0 m2</br>Rooms: 3",
          "Rent: 8723.0 DKK</br>Size: 100.0 m2</br>Rooms: 4",
          "Rent: 9667.0 DKK</br>Size: 111.0 m2</br>Rooms: 4",
          "Rent: 4931.37 DKK</br>Size: 41.0 m2</br>Rooms: 1",
          "Rent: 6934.37 DKK</br>Size: 67.0 m2</br>Rooms: 2",
          "Rent: 7683.37 DKK</br>Size: 79.0 m2</br>Rooms: 3",
          "Rent: 8643.37 DKK</br>Size: 92.8000030517578 m2</br>Rooms: 4",
          "Rent: 10104.37 DKK</br>Size: 98.0 m2</br>Rooms: 5",
          "Rent: 5079.71 DKK</br>Size: 43.79999923706055 m2</br>Rooms: 2",
          "Rent: 5952.81 DKK</br>Size: 54.29999923706055 m2</br>Rooms: 3",
          "Rent: 7018.0 DKK</br>Size: 68.0 m2</br>Rooms: 2",
          "Rent: 7962.0 DKK</br>Size: 84.0 m2</br>Rooms: 3",
          "Rent: 9798.0 DKK</br>Size: 115.0 m2</br>Rooms: 4",
          "Rent: 7973.0 DKK</br>Size: 76.5 m2</br>Rooms: 2",
          "Rent: 6900.0 DKK</br>Size: 81.0 m2</br>Rooms: 3",
          "Rent: 8548.0 DKK</br>Size: 97.0 m2</br>Rooms: 4",
          "Rent: 8931.0 DKK</br>Size: 94.0 m2</br>Rooms: 4",
          "Rent: 9330.0 DKK</br>Size: 94.0 m2</br>Rooms: 4",
          "Rent: 10378.0 DKK</br>Size: 105.0 m2</br>Rooms: 4",
          "Rent: 7876.0 DKK</br>Size: 94.9000015258789 m2</br>Rooms: 4",
          "Rent: 4274.0 DKK</br>Size: 43.70000076293945 m2</br>Rooms: 1",
          "Rent: 5762.0 DKK</br>Size: 66.80000305175781 m2</br>Rooms: 2",
          "Rent: 6943.0 DKK</br>Size: 82.4000015258789 m2</br>Rooms: 3",
          "Rent: 8724.0 DKK</br>Size: 107.0999984741211 m2</br>Rooms: 5",
          "Rent: 8445.0 DKK</br>Size: 100.0 m2</br>Rooms: 4",
          "Rent: 4962.0 DKK</br>Size: 57.0 m2</br>Rooms: 2",
          "Rent: 5508.0 DKK</br>Size: 60.0 m2</br>Rooms: 2",
          "Rent: 6454.0 DKK</br>Size: 80.80000305175781 m2</br>Rooms: 3",
          "Rent: 6221.0 DKK</br>Size: 62.0 m2</br>Rooms: 1",
          "Rent: 7212.0 DKK</br>Size: 72.0 m2</br>Rooms: 1",
          "Rent: 6054.0 DKK</br>Size: 59.0 m2</br>Rooms: 2",
          "Rent: 9339.0 DKK</br>Size: 97.0 m2</br>Rooms: 2",
          "Rent: 5063.0 DKK</br>Size: 49.0 m2</br>Rooms: 3",
          "Rent: 11057.0 DKK</br>Size: 109.0 m2</br>Rooms: 3",
          "Rent: 11919.0 DKK</br>Size: 117.0 m2</br>Rooms: 4",
          "Rent: 4939.0 DKK</br>Size: 53.5 m2</br>Rooms: 2",
          "Rent: 11120.0 DKK</br>Size: 109.1999969482422 m2</br>Rooms: 4",
          "Rent: 10883.31 DKK</br>Size: 118.6999969482422 m2</br>Rooms: 4",
          "Rent: 7253.0 DKK</br>Size: 85.0 m2</br>Rooms: 2",
          "Rent: 8373.56 DKK</br>Size: 104.0 m2</br>Rooms: 2",
          "Rent: 9883.95 DKK</br>Size: 125.0 m2</br>Rooms: 3",
          "Rent: 8175.0 DKK</br>Size: 85.0 m2</br>Rooms: 3",
          "Rent: 8193.0 DKK</br>Size: 85.0 m2</br>Rooms: 4",
          "Rent: 9053.0 DKK</br>Size: 94.0 m2</br>Rooms: 3",
          "Rent: 9053.0 DKK</br>Size: 94.0 m2</br>Rooms: 3",
          "Rent: 9053.0 DKK</br>Size: 94.0 m2</br>Rooms: 3",
          "Rent: 9053.0 DKK</br>Size: 94.0 m2</br>Rooms: 3",
          "Rent: 11200.0 DKK</br>Size: 116.0 m2</br>Rooms: 5",
          "Rent: 11200.0 DKK</br>Size: 116.0 m2</br>Rooms: 5",
          "Rent: 11200.0 DKK</br>Size: 116.0 m2</br>Rooms: 5",
          "Rent: 11200.0 DKK</br>Size: 116.0 m2</br>Rooms: 5",
          "Rent: 10342.0 DKK</br>Size: 108.0 m2</br>Rooms: 4",
          "Rent: 5558.0 DKK</br>Size: 57.0 m2</br>Rooms: 1",
          "Rent: 6234.0 DKK</br>Size: 56.0 m2</br>Rooms: 2",
          "Rent: 7645.0 DKK</br>Size: 73.0 m2</br>Rooms: 2",
          "Rent: 8078.0 DKK</br>Size: 69.0 m2</br>Rooms: 3",
          "Rent: 9425.0 DKK</br>Size: 96.0 m2</br>Rooms: 3",
          "Rent: 8904.0 DKK</br>Size: 81.0 m2</br>Rooms: 4",
          "Rent: 8375.0 DKK</br>Size: 70.4000015258789 m2</br>Rooms: 2",
          "Rent: 9543.0 DKK</br>Size: 86.80000305175781 m2</br>Rooms: 3",
          "Rent: 10287.712 DKK</br>Size: 110.0 m2</br>Rooms: 4",
          "Rent: 10287.712 DKK</br>Size: 110.0 m2</br>Rooms: 4",
          "Rent: 10287.712 DKK</br>Size: 110.0 m2</br>Rooms: 4",
          "Rent: 10287.712 DKK</br>Size: 110.0 m2</br>Rooms: 4",
          "Rent: 8274.0 DKK</br>Size: 63.0 m2</br>Rooms: 2",
          "Rent: 8274.0 DKK</br>Size: 63.0 m2</br>Rooms: 2",
          "Rent: 8274.0 DKK</br>Size: 63.0 m2</br>Rooms: 2",
          "Rent: 8274.0 DKK</br>Size: 63.0 m2</br>Rooms: 2",
          "Rent: 7113.0 DKK</br>Size: 78.0 m2</br>Rooms: 3",
          "Rent: 7113.0 DKK</br>Size: 78.0 m2</br>Rooms: 3",
          "Rent: 7113.0 DKK</br>Size: 78.0 m2</br>Rooms: 3",
          "Rent: 7113.0 DKK</br>Size: 78.0 m2</br>Rooms: 3",
          "Rent: 7517.8892 DKK</br>Size: 84.0 m2</br>Rooms: 3",
          "Rent: 7517.8892 DKK</br>Size: 84.0 m2</br>Rooms: 3",
          "Rent: 7517.8892 DKK</br>Size: 84.0 m2</br>Rooms: 3",
          "Rent: 7517.8892 DKK</br>Size: 84.0 m2</br>Rooms: 3",
          "Rent: 8230.5224 DKK</br>Size: 86.0 m2</br>Rooms: 4",
          "Rent: 8230.5224 DKK</br>Size: 86.0 m2</br>Rooms: 4",
          "Rent: 8230.5224 DKK</br>Size: 86.0 m2</br>Rooms: 4",
          "Rent: 8230.5224 DKK</br>Size: 86.0 m2</br>Rooms: 4",
          "Rent: 10978.0 DKK</br>Size: 114.0 m2</br>Rooms: 4",
          "Rent: 8914.0 DKK</br>Size: 92.0 m2</br>Rooms: 3",
          "Rent: 4676.0 DKK</br>Size: 49.0 m2</br>Rooms: 2",
          "Rent: 7431.0 DKK</br>Size: 81.0 m2</br>Rooms: 3",
          "Rent: 4222.0 DKK</br>Size: 43.0 m2</br>Rooms: 1",
          "Rent: 6368.0 DKK</br>Size: 67.0 m2</br>Rooms: 2",
          "Rent: 8507.0 DKK</br>Size: 82.0 m2</br>Rooms: 3",
          "Rent: 9335.0 DKK</br>Size: 95.0 m2</br>Rooms: 4",
          "Rent: 9104.0 DKK</br>Size: 106.0 m2</br>Rooms: 5",
          "Rent: 4423.0 DKK</br>Size: 46.0 m2</br>Rooms: 1",
          "Rent: 5313.0 DKK</br>Size: 67.0 m2</br>Rooms: 2",
          "Rent: 5383.0 DKK</br>Size: 68.0 m2</br>Rooms: 2",
          "Rent: 6555.0 DKK</br>Size: 80.0 m2</br>Rooms: 3",
          "Rent: 6813.0 DKK</br>Size: 86.0 m2</br>Rooms: 3",
          "Rent: 7260.0 DKK</br>Size: 89.0 m2</br>Rooms: 4",
          "Rent: 5184.0 DKK</br>Size: 50.0 m2</br>Rooms: 1",
          "Rent: 7602.0 DKK</br>Size: 74.0 m2</br>Rooms: 2",
          "Rent: 8243.0 DKK</br>Size: 90.0 m2</br>Rooms: 3",
          "Rent: 9328.0 DKK</br>Size: 100.0 m2</br>Rooms: 4",
          "Rent: 6315.0 DKK</br>Size: 60.0 m2</br>Rooms: 2",
          "Rent: 8265.0 DKK</br>Size: 82.0 m2</br>Rooms: 3",
          "Rent: 9281.0 DKK</br>Size: 91.0 m2</br>Rooms: 4",
          "Rent: 7131.0 DKK</br>Size: 69.5 m2</br>Rooms: 2",
          "Rent: 6491.25 DKK</br>Size: 69.69999694824219 m2</br>Rooms: 2",
          "Rent: 6973.0 DKK</br>Size: 85.80000305175781 m2</br>Rooms: 2",
          "Rent: 8459.0 DKK</br>Size: 88.19999694824219 m2</br>Rooms: 2",
          "Rent: 9679.0 DKK</br>Size: 110.6999969482422 m2</br>Rooms: 3",
          "Rent: 9060.0 DKK</br>Size: 118.0 m2</br>Rooms: 4",
          "Rent: 9406.0 DKK</br>Size: 124.0 m2</br>Rooms: 4",
          "Rent: 9799.0 DKK</br>Size: 125.0 m2</br>Rooms: 5",
          "Rent: 8721.0 DKK</br>Size: 112.0 m2</br>Rooms: 3",
          "Rent: 9402.0 DKK</br>Size: 118.0 m2</br>Rooms: 4",
          "Rent: 8100.0 DKK</br>Size: 109.0 m2</br>Rooms: 5",
          "Rent: 5139.0 DKK</br>Size: 52.0 m2</br>Rooms: 1",
          "Rent: 5426.0 DKK</br>Size: 65.0 m2</br>Rooms: 2",
          "Rent: 5711.0 DKK</br>Size: 70.0 m2</br>Rooms: 2",
          "Rent: 6471.0 DKK</br>Size: 82.0 m2</br>Rooms: 3",
          "Rent: 7860.0 DKK</br>Size: 96.0 m2</br>Rooms: 4",
          "Rent: 8075.0 DKK</br>Size: 109.0 m2</br>Rooms: 4",
          "Rent: 11946.0 DKK</br>Size: 128.0 m2</br>Rooms: 5",
          "Rent: 4465.0 DKK</br>Size: 42.0 m2</br>Rooms: 1",
          "Rent: 6112.97 DKK</br>Size: 63.0 m2</br>Rooms: 2",
          "Rent: 6635.0 DKK</br>Size: 71.0 m2</br>Rooms: 2",
          "Rent: 7289.0 DKK</br>Size: 74.0 m2</br>Rooms: 2",
          "Rent: 6980.0 DKK</br>Size: 85.0 m2</br>Rooms: 3",
          "Rent: 9947.0 DKK</br>Size: 101.0 m2</br>Rooms: 3",
          "Rent: 8531.0 DKK</br>Size: 97.0 m2</br>Rooms: 4",
          "Rent: 7100.0 DKK</br>Size: 76.0 m2</br>Rooms: 2",
          "Rent: 8143.0 DKK</br>Size: 88.0 m2</br>Rooms: 3",
          "Rent: 4406.0 DKK</br>Size: 36.0 m2</br>Rooms: 1",
          "Rent: 6399.0 DKK</br>Size: 56.0 m2</br>Rooms: 2",
          "Rent: 7823.0 DKK</br>Size: 70.0 m2</br>Rooms: 3",
          "Rent: 9850.0 DKK</br>Size: 93.0 m2</br>Rooms: 3",
          "Rent: 10623.0 DKK</br>Size: 98.0 m2</br>Rooms: 4",
          "Rent: 11998.0 DKK</br>Size: 112.0 m2</br>Rooms: 4",
          "Rent: 5945.7136 DKK</br>Size: 51.0 m2</br>Rooms: 1",
          "Rent: 5945.7136 DKK</br>Size: 51.0 m2</br>Rooms: 1",
          "Rent: 5945.7136 DKK</br>Size: 51.0 m2</br>Rooms: 1",
          "Rent: 5945.7136 DKK</br>Size: 51.0 m2</br>Rooms: 1",
          "Rent: 7233.0 DKK</br>Size: 96.0 m2</br>Rooms: 1",
          "Rent: 7233.0 DKK</br>Size: 96.0 m2</br>Rooms: 1",
          "Rent: 7233.0 DKK</br>Size: 96.0 m2</br>Rooms: 1",
          "Rent: 7233.0 DKK</br>Size: 96.0 m2</br>Rooms: 1",
          "Rent: 4556.0 DKK</br>Size: 39.0 m2</br>Rooms: 2",
          "Rent: 4556.0 DKK</br>Size: 39.0 m2</br>Rooms: 2",
          "Rent: 4556.0 DKK</br>Size: 39.0 m2</br>Rooms: 2",
          "Rent: 4556.0 DKK</br>Size: 39.0 m2</br>Rooms: 2",
          "Rent: 7728.0 DKK</br>Size: 71.0 m2</br>Rooms: 2",
          "Rent: 7728.0 DKK</br>Size: 71.0 m2</br>Rooms: 2",
          "Rent: 7728.0 DKK</br>Size: 71.0 m2</br>Rooms: 2",
          "Rent: 7728.0 DKK</br>Size: 71.0 m2</br>Rooms: 2",
          "Rent: 5922.3236 DKK</br>Size: 60.0 m2</br>Rooms: 3",
          "Rent: 5922.3236 DKK</br>Size: 60.0 m2</br>Rooms: 3",
          "Rent: 5922.3236 DKK</br>Size: 60.0 m2</br>Rooms: 3",
          "Rent: 5922.3236 DKK</br>Size: 60.0 m2</br>Rooms: 3",
          "Rent: 9252.0 DKK</br>Size: 87.0 m2</br>Rooms: 3",
          "Rent: 9252.0 DKK</br>Size: 87.0 m2</br>Rooms: 3",
          "Rent: 9252.0 DKK</br>Size: 87.0 m2</br>Rooms: 3",
          "Rent: 9252.0 DKK</br>Size: 87.0 m2</br>Rooms: 3",
          "Rent: 7815.0 DKK</br>Size: 78.0 m2</br>Rooms: 4",
          "Rent: 7815.0 DKK</br>Size: 78.0 m2</br>Rooms: 4",
          "Rent: 7815.0 DKK</br>Size: 78.0 m2</br>Rooms: 4",
          "Rent: 7815.0 DKK</br>Size: 78.0 m2</br>Rooms: 4",
          "Rent: 10523.1116 DKK</br>Size: 102.0 m2</br>Rooms: 4",
          "Rent: 10523.1116 DKK</br>Size: 102.0 m2</br>Rooms: 4",
          "Rent: 10523.1116 DKK</br>Size: 102.0 m2</br>Rooms: 4",
          "Rent: 10523.1116 DKK</br>Size: 102.0 m2</br>Rooms: 4",
          "Rent: 4296.0 DKK</br>Size: 53.20000076293945 m2</br>Rooms: 1",
          "Rent: 5706.0 DKK</br>Size: 60.70000076293945 m2</br>Rooms: 2",
          "Rent: 6742.0 DKK</br>Size: 80.0 m2</br>Rooms: 3",
          "Rent: 7666.0 DKK</br>Size: 84.9000015258789 m2</br>Rooms: 4",
          "Rent: 6023.2 DKK</br>Size: 63.0 m2</br>Rooms: 2",
          "Rent: 5099.0 DKK</br>Size: 63.400001525878906 m2</br>Rooms: 2",
          "Rent: 5858.0 DKK</br>Size: 65.5 m2</br>Rooms: 2",
          "Rent: 5485.0 DKK</br>Size: 71.30000305175781 m2</br>Rooms: 2",
          "Rent: 6298.6900000000005 DKK</br>Size: 79.5999984741211 m2</br>Rooms: 3",
          "Rent: 7026.0 DKK</br>Size: 86.19999694824219 m2</br>Rooms: 3",
          "Rent: 8031.94 DKK</br>Size: 95.6999969482422 m2</br>Rooms: 3",
          "Rent: 6925.0 DKK</br>Size: 75.5 m2</br>Rooms: 2",
          "Rent: 7502.0 DKK</br>Size: 85.19999694824219 m2</br>Rooms: 3",
          "Rent: 4524.0 DKK</br>Size: 30.0 m2</br>Rooms: 1",
          "Rent: 4417.0 DKK</br>Size: 52.0 m2</br>Rooms: 2",
          "Rent: 6803.0 DKK</br>Size: 77.0 m2</br>Rooms: 2",
          "Rent: 6239.0 DKK</br>Size: 77.0 m2</br>Rooms: 2",
          "Rent: 7487.0 DKK</br>Size: 92.0 m2</br>Rooms: 3",
          "Rent: 7803.0 DKK</br>Size: 93.0 m2</br>Rooms: 3",
          "Rent: 7604.0 DKK</br>Size: 102.0 m2</br>Rooms: 4",
          "Rent: 9368.0 DKK</br>Size: 108.0 m2</br>Rooms: 4",
          "Rent: 10299.0 DKK</br>Size: 122.0 m2</br>Rooms: 5",
          "Rent: 8001.0 DKK</br>Size: 89.0 m2</br>Rooms: 2",
          "Rent: 8658.0 DKK</br>Size: 93.0 m2</br>Rooms: 3",
          "Rent: 8658.0 DKK</br>Size: 93.0 m2</br>Rooms: 3",
          "Rent: 9058.0 DKK</br>Size: 98.0 m2</br>Rooms: 3",
          "Rent: 10240.0 DKK</br>Size: 112.0 m2</br>Rooms: 4",
          "Rent: 4828.0 DKK</br>Size: 46.0 m2</br>Rooms: 1",
          "Rent: 6374.0 DKK</br>Size: 62.0 m2</br>Rooms: 2",
          "Rent: 7804.0 DKK</br>Size: 81.5 m2</br>Rooms: 3",
          "Rent: 7994.0 DKK</br>Size: 93.0 m2</br>Rooms: 4",
          "Rent: 7092.0 DKK</br>Size: 55.0 m2</br>Rooms: 2",
          "Rent: 9162.0 DKK</br>Size: 74.0 m2</br>Rooms: 3",
          "Rent: 9379.0 DKK</br>Size: 76.0 m2</br>Rooms: 3",
          "Rent: 10082.0 DKK</br>Size: 82.0 m2</br>Rooms: 3",
          "Rent: 12389.0 DKK</br>Size: 105.0 m2</br>Rooms: 3",
          "Rent: 13918.0 DKK</br>Size: 114.0 m2</br>Rooms: 4",
          "Rent: 14027.0 DKK</br>Size: 115.0 m2</br>Rooms: 4",
          "Rent: 14882.0 DKK</br>Size: 121.0 m2</br>Rooms: 4",
          "Rent: 5754.0 DKK</br>Size: 62.0 m2</br>Rooms: 2",
          "Rent: 6546.0 DKK</br>Size: 76.0 m2</br>Rooms: 3",
          "Rent: 7331.0 DKK</br>Size: 90.0 m2</br>Rooms: 4",
          "Rent: 7959.0 DKK</br>Size: 101.0 m2</br>Rooms: 4",
          "Rent: 8016.0 DKK</br>Size: 102.0 m2</br>Rooms: 4",
          "Rent: 6358.5 DKK</br>Size: 69.0 m2</br>Rooms: 2",
          "Rent: 7268.5 DKK</br>Size: 79.0 m2</br>Rooms: 3",
          "Rent: 5948.0 DKK</br>Size: 71.0 m2</br>Rooms: 2",
          "Rent: 6664.0 DKK</br>Size: 83.0 m2</br>Rooms: 3",
          "Rent: 7437.0 DKK</br>Size: 96.0 m2</br>Rooms: 4",
          "Rent: 8320.0 DKK</br>Size: 76.0 m2</br>Rooms: 2",
          "Rent: 9702.0 DKK</br>Size: 85.0 m2</br>Rooms: 3",
          "Rent: 9160.0 DKK</br>Size: 85.0 m2</br>Rooms: 4",
          "Rent: 7095.0 DKK</br>Size: 75.0 m2</br>Rooms: 3",
          "Rent: 8032.0 DKK</br>Size: 78.0 m2</br>Rooms: 3",
          "Rent: 8458.0 DKK</br>Size: 85.0 m2</br>Rooms: 4",
          "Rent: 8381.0 DKK</br>Size: 89.0 m2</br>Rooms: 4",
          "Rent: 7256.0 DKK</br>Size: 88.0 m2</br>Rooms: 3",
          "Rent: 7256.0 DKK</br>Size: 88.0 m2</br>Rooms: 4",
          "Rent: 4178.7268 DKK</br>Size: 50.0 m2</br>Rooms: 2",
          "Rent: 4178.7268 DKK</br>Size: 50.0 m2</br>Rooms: 2",
          "Rent: 4178.7268 DKK</br>Size: 50.0 m2</br>Rooms: 2",
          "Rent: 4178.7268 DKK</br>Size: 50.0 m2</br>Rooms: 2",
          "Rent: 6280.0 DKK</br>Size: 82.0 m2</br>Rooms: 3",
          "Rent: 6280.0 DKK</br>Size: 82.0 m2</br>Rooms: 3",
          "Rent: 6280.0 DKK</br>Size: 82.0 m2</br>Rooms: 3",
          "Rent: 6280.0 DKK</br>Size: 82.0 m2</br>Rooms: 3",
          "Rent: 7670.8484 DKK</br>Size: 85.0 m2</br>Rooms: 3",
          "Rent: 7670.8484 DKK</br>Size: 85.0 m2</br>Rooms: 3",
          "Rent: 7670.8484 DKK</br>Size: 85.0 m2</br>Rooms: 3",
          "Rent: 7670.8484 DKK</br>Size: 85.0 m2</br>Rooms: 3",
          "Rent: 7258.0384 DKK</br>Size: 100.0 m2</br>Rooms: 4",
          "Rent: 7258.0384 DKK</br>Size: 100.0 m2</br>Rooms: 4",
          "Rent: 7258.0384 DKK</br>Size: 100.0 m2</br>Rooms: 4",
          "Rent: 7258.0384 DKK</br>Size: 100.0 m2</br>Rooms: 4",
          "Rent: 7997.0 DKK</br>Size: 100.0 m2</br>Rooms: 4",
          "Rent: 7997.0 DKK</br>Size: 100.0 m2</br>Rooms: 4",
          "Rent: 7997.0 DKK</br>Size: 100.0 m2</br>Rooms: 4",
          "Rent: 7997.0 DKK</br>Size: 100.0 m2</br>Rooms: 4",
          "Rent: 4541.0 DKK</br>Size: 51.09999847412109 m2</br>Rooms: 2",
          "Rent: 4706.0255 DKK</br>Size: 74.19999694824219 m2</br>Rooms: 2",
          "Rent: 5701.587 DKK</br>Size: 85.0999984741211 m2</br>Rooms: 3",
          "Rent: 6964.05 DKK</br>Size: 95.5 m2</br>Rooms: 4",
          "Rent: 5795.0 DKK</br>Size: 60.0 m2</br>Rooms: 2",
          "Rent: 5114.0 DKK</br>Size: 61.0 m2</br>Rooms: 2",
          "Rent: 6793.0 DKK</br>Size: 80.80000305175781 m2</br>Rooms: 3",
          "Rent: 5334.0 DKK</br>Size: 48.0 m2</br>Rooms: 1",
          "Rent: 6459.0 DKK</br>Size: 71.0 m2</br>Rooms: 2",
          "Rent: 7573.0 DKK</br>Size: 78.0 m2</br>Rooms: 3",
          "Rent: 8500.0 DKK</br>Size: 91.0 m2</br>Rooms: 4",
          "Rent: 6284.0 DKK</br>Size: 60.0 m2</br>Rooms: 1",
          "Rent: 8082.0 DKK</br>Size: 76.0 m2</br>Rooms: 2",
          "Rent: 7946.0 DKK</br>Size: 81.0 m2</br>Rooms: 2",
          "Rent: 9445.0 DKK</br>Size: 85.0 m2</br>Rooms: 3",
          "Rent: 11235.0 DKK</br>Size: 102.0 m2</br>Rooms: 4",
          "Rent: 8724.0 DKK</br>Size: 86.70999908447266 m2</br>Rooms: 3",
          "Rent: 10431.0 DKK</br>Size: 103.69000244140624 m2</br>Rooms: 3",
          "Rent: 7202.0 DKK</br>Size: 62.0 m2</br>Rooms: 1",
          "Rent: 8060.0 DKK</br>Size: 75.0 m2</br>Rooms: 2",
          "Rent: 8888.0 DKK</br>Size: 84.0 m2</br>Rooms: 3",
          "Rent: 10487.0 DKK</br>Size: 94.0 m2</br>Rooms: 4",
          "Rent: 10408.0 DKK</br>Size: 93.1999969482422 m2</br>Rooms: 3",
          "Rent: 6868.0 DKK</br>Size: 68.0 m2</br>Rooms: 2",
          "Rent: 6901.0 DKK</br>Size: 69.0 m2</br>Rooms: 2",
          "Rent: 8540.0 DKK</br>Size: 92.0 m2</br>Rooms: 3",
          "Rent: 9673.0 DKK</br>Size: 107.0 m2</br>Rooms: 3",
          "Rent: 9722.0 DKK</br>Size: 107.0 m2</br>Rooms: 4",
          "Rent: 9892.0 DKK</br>Size: 109.0 m2</br>Rooms: 4",
          "Rent: 10164.0 DKK</br>Size: 110.0 m2</br>Rooms: 5",
          "Rent: 7253.0 DKK</br>Size: 80.0 m2</br>Rooms: 2",
          "Rent: 9339.0 DKK</br>Size: 103.1999969482422 m2</br>Rooms: 3",
          "Rent: 10004.0 DKK</br>Size: 110.5999984741211 m2</br>Rooms: 4",
          "Rent: 10400.0 DKK</br>Size: 115.0 m2</br>Rooms: 5",
          "Rent: 5990.0 DKK</br>Size: 45.0 m2</br>Rooms: 1",
          "Rent: 7300.0 DKK</br>Size: 57.0 m2</br>Rooms: 2",
          "Rent: 9760.0 DKK</br>Size: 84.0 m2</br>Rooms: 3",
          "Rent: 11550.0 DKK</br>Size: 102.0 m2</br>Rooms: 4",
          "Rent: 4994.0 DKK</br>Size: 51.0 m2</br>Rooms: 2",
          "Rent: 8905.0 DKK</br>Size: 91.0 m2</br>Rooms: 3",
          "Rent: 10849.0 DKK</br>Size: 107.0 m2</br>Rooms: 4",
          "Rent: 12272.0 DKK</br>Size: 125.0 m2</br>Rooms: 5",
          "Rent: 7191.0 DKK</br>Size: 71.0 m2</br>Rooms: 2",
          "Rent: 8000.0 DKK</br>Size: 78.0 m2</br>Rooms: 3",
          "Rent: 8574.0 DKK</br>Size: 92.0 m2</br>Rooms: 4",
          "Rent: 8336.0 DKK</br>Size: 83.69999694824219 m2</br>Rooms: 2",
          "Rent: 10988.0 DKK</br>Size: 93.0 m2</br>Rooms: 3",
          "Rent: 11298.0 DKK</br>Size: 93.0 m2</br>Rooms: 3",
          "Rent: 10123.0 DKK</br>Size: 104.5 m2</br>Rooms: 3",
          "Rent: 10844.0 DKK</br>Size: 105.0 m2</br>Rooms: 4",
          "Rent: 11506.0 DKK</br>Size: 112.5999984741211 m2</br>Rooms: 4",
          "Rent: 11507.0 DKK</br>Size: 114.5 m2</br>Rooms: 4",
          "Rent: 3672.0 DKK</br>Size: 31.0 m2</br>Rooms: 1",
          "Rent: 6823.0 DKK</br>Size: 73.0 m2</br>Rooms: 3",
          "Rent: 9487.0 DKK</br>Size: 104.0 m2</br>Rooms: 4",
          "Rent: 4462.0 DKK</br>Size: 41.0 m2</br>Rooms: 1",
          "Rent: 5173.0 DKK</br>Size: 50.0 m2</br>Rooms: 1",
          "Rent: 5614.0 DKK</br>Size: 55.0 m2</br>Rooms: 2",
          "Rent: 6247.0 DKK</br>Size: 63.0 m2</br>Rooms: 2",
          "Rent: 7122.0 DKK</br>Size: 73.0 m2</br>Rooms: 3",
          "Rent: 7584.0 DKK</br>Size: 78.0 m2</br>Rooms: 3",
          "Rent: 7822.0 DKK</br>Size: 79.0 m2</br>Rooms: 4",
          "Rent: 8617.0 DKK</br>Size: 94.0 m2</br>Rooms: 4",
          "Rent: 3763.0 DKK</br>Size: 50.0 m2</br>Rooms: 1",
          "Rent: 5269.0 DKK</br>Size: 64.0 m2</br>Rooms: 2",
          "Rent: 6917.0 DKK</br>Size: 62.0 m2</br>Rooms: 3",
          "Rent: 5722.0 DKK</br>Size: 77.0 m2</br>Rooms: 3",
          "Rent: 6888.0 DKK</br>Size: 93.0 m2</br>Rooms: 4",
          "Rent: 4275.0 DKK</br>Size: 50.0 m2</br>Rooms: 2",
          "Rent: 6612.0 DKK</br>Size: 76.0999984741211 m2</br>Rooms: 2",
          "Rent: 6371.0 DKK</br>Size: 75.0 m2</br>Rooms: 3",
          "Rent: 7217.0 DKK</br>Size: 85.0 m2</br>Rooms: 4",
          "Rent: 6099.0 DKK</br>Size: 55.20000076293945 m2</br>Rooms: 2",
          "Rent: 6689.0 DKK</br>Size: 69.5999984741211 m2</br>Rooms: 3",
          "Rent: 8115.0 DKK</br>Size: 85.69999694824219 m2</br>Rooms: 3",
          "Rent: 11294.0 DKK</br>Size: 129.39999389648438 m2</br>Rooms: 4",
          "Rent: 5503.0 DKK</br>Size: 65.19999694824219 m2</br>Rooms: 2",
          "Rent: 5705.0 DKK</br>Size: 69.69999694824219 m2</br>Rooms: 3",
          "Rent: 5909.0 DKK</br>Size: 75.19999694824219 m2</br>Rooms: 3",
          "Rent: 7554.0 DKK</br>Size: 100.0 m2</br>Rooms: 4",
          "Rent: 8033.24 DKK</br>Size: 75.0 m2</br>Rooms: 2",
          "Rent: 7235.48 DKK</br>Size: 81.0 m2</br>Rooms: 2",
          "Rent: 8213.48 DKK</br>Size: 90.0 m2</br>Rooms: 2",
          "Rent: 4252.74 DKK</br>Size: 41.0 m2</br>Rooms: 1",
          "Rent: 6423.24 DKK</br>Size: 65.0 m2</br>Rooms: 1",
          "Rent: 8358.0 DKK</br>Size: 103.0 m2</br>Rooms: 3",
          "Rent: 8284.0 DKK</br>Size: 103.0 m2</br>Rooms: 3",
          "Rent: 9916.0 DKK</br>Size: 114.0 m2</br>Rooms: 4",
          "Rent: 8999.0 DKK</br>Size: 115.0 m2</br>Rooms: 4",
          "Rent: 11340.01 DKK</br>Size: 124.0 m2</br>Rooms: 4",
          "Rent: 9450.0 DKK</br>Size: 129.0 m2</br>Rooms: 5",
          "Rent: 13095.01 DKK</br>Size: 148.0 m2</br>Rooms: 5",
          "Rent: 6057.5 DKK</br>Size: 65.0 m2</br>Rooms: 3",
          "Rent: 5091.5 DKK</br>Size: 41.0 m2</br>Rooms: 1",
          "Rent: 5820.5 DKK</br>Size: 65.0 m2</br>Rooms: 2",
          "Rent: 6901.5 DKK</br>Size: 77.0 m2</br>Rooms: 3",
          "Rent: 8072.5 DKK</br>Size: 93.0 m2</br>Rooms: 4",
          "Rent: 5505.0 DKK</br>Size: 68.0 m2</br>Rooms: 3",
          "Rent: 5007.0 DKK</br>Size: 59.0 m2</br>Rooms: 2",
          "Rent: 6665.0 DKK</br>Size: 81.0 m2</br>Rooms: 3",
          "Rent: 6155.0 DKK</br>Size: 77.0 m2</br>Rooms: 4",
          "Rent: 8057.0 DKK</br>Size: 92.0 m2</br>Rooms: 4",
          "Rent: 6908.0 DKK</br>Size: 70.0 m2</br>Rooms: 3",
          "Rent: 6847.0 DKK</br>Size: 70.0 m2</br>Rooms: 2",
          "Rent: 7745.0 DKK</br>Size: 80.0 m2</br>Rooms: 3",
          "Rent: 8473.0 DKK</br>Size: 87.0 m2</br>Rooms: 4",
          "Rent: 8264.0 DKK</br>Size: 92.0 m2</br>Rooms: 3",
          "Rent: 9484.0 DKK</br>Size: 110.0 m2</br>Rooms: 4",
          "Rent: 6890.0 DKK</br>Size: 93.0 m2</br>Rooms: 4",
          "Rent: 6592.0 DKK</br>Size: 140.3000030517578 m2</br>Rooms: 5",
          "Rent: 6604.0 DKK</br>Size: 140.6999969482422 m2</br>Rooms: 6",
          "Rent: 7695.611 DKK</br>Size: 74.0 m2</br>Rooms: 2",
          "Rent: 4721.0 DKK</br>Size: 38.0 m2</br>Rooms: 1",
          "Rent: 7702.0 DKK</br>Size: 84.0 m2</br>Rooms: 3",
          "Rent: 9367.7175 DKK</br>Size: 94.0 m2</br>Rooms: 4",
          "Rent: 5612.0 DKK</br>Size: 51.0 m2</br>Rooms: 2",
          "Rent: 5983.0 DKK</br>Size: 57.0 m2</br>Rooms: 2",
          "Rent: 8268.0 DKK</br>Size: 94.0 m2</br>Rooms: 3",
          "Rent: 8884.0 DKK</br>Size: 104.0 m2</br>Rooms: 4",
          "Rent: 7786.0 DKK</br>Size: 83.80000305175781 m2</br>Rooms: 2",
          "Rent: 9060.0 DKK</br>Size: 99.9000015258789 m2</br>Rooms: 3",
          "Rent: 9018.0 DKK</br>Size: 100.1999969482422 m2</br>Rooms: 3",
          "Rent: 9342.0 DKK</br>Size: 103.0999984741211 m2</br>Rooms: 3",
          "Rent: 9342.0 DKK</br>Size: 103.0999984741211 m2</br>Rooms: 3",
          "Rent: 8361.0 DKK</br>Size: 87.0 m2</br>Rooms: 3",
          "Rent: 11084.0 DKK</br>Size: 115.0 m2</br>Rooms: 4",
          "Rent: 8677.0 DKK</br>Size: 87.5999984741211 m2</br>Rooms: 2",
          "Rent: 6585.0 DKK</br>Size: 52.59999847412109 m2</br>Rooms: 1",
          "Rent: 7552.0 DKK</br>Size: 64.30000305175781 m2</br>Rooms: 2",
          "Rent: 8556.0 DKK</br>Size: 87.5999984741211 m2</br>Rooms: 3",
          "Rent: 9359.77 DKK</br>Size: 99.3000030517578 m2</br>Rooms: 3",
          "Rent: 10665.0 DKK</br>Size: 111.0 m2</br>Rooms: 4",
          "Rent: 4393.0 DKK</br>Size: 43.0 m2</br>Rooms: 1",
          "Rent: 5671.0 DKK</br>Size: 68.0 m2</br>Rooms: 2",
          "Rent: 9184.0 DKK</br>Size: 110.0 m2</br>Rooms: 4",
          "Rent: 4926.0 DKK</br>Size: 49.0 m2</br>Rooms: 2",
          "Rent: 5624.0 DKK</br>Size: 60.0 m2</br>Rooms: 2",
          "Rent: 6451.0 DKK</br>Size: 74.0 m2</br>Rooms: 2",
          "Rent: 7259.0 DKK</br>Size: 86.0 m2</br>Rooms: 3",
          "Rent: 7495.0 DKK</br>Size: 90.0 m2</br>Rooms: 3",
          "Rent: 6917.0 DKK</br>Size: 70.19999694824219 m2</br>Rooms: 2",
          "Rent: 8244.0 DKK</br>Size: 92.5 m2</br>Rooms: 3",
          "Rent: 9354.0 DKK</br>Size: 107.1999969482422 m2</br>Rooms: 4",
          "Rent: 9319.0 DKK</br>Size: 106.4000015258789 m2</br>Rooms: 5",
          "Rent: 8262.0 DKK</br>Size: 90.0 m2</br>Rooms: 3",
          "Rent: 8331.0 DKK</br>Size: 91.0 m2</br>Rooms: 3",
          "Rent: 8779.0 DKK</br>Size: 92.0 m2</br>Rooms: 3",
          "Rent: 8959.0 DKK</br>Size: 94.4000015258789 m2</br>Rooms: 3",
          "Rent: 9385.0 DKK</br>Size: 106.0 m2</br>Rooms: 4",
          "Rent: 10005.0 DKK</br>Size: 108.3000030517578 m2</br>Rooms: 4",
          "Rent: 9664.0 DKK</br>Size: 110.0 m2</br>Rooms: 4",
          "Rent: 6405.0 DKK</br>Size: 50.0 m2</br>Rooms: 1",
          "Rent: 6458.0 DKK</br>Size: 59.0 m2</br>Rooms: 2",
          "Rent: 11081.0 DKK</br>Size: 95.0 m2</br>Rooms: 3",
          "Rent: 11586.0 DKK</br>Size: 104.0 m2</br>Rooms: 3",
          "Rent: 5426.0 DKK</br>Size: 52.0 m2</br>Rooms: 1",
          "Rent: 6206.0 DKK</br>Size: 62.0 m2</br>Rooms: 2",
          "Rent: 8609.0 DKK</br>Size: 96.0 m2</br>Rooms: 3",
          "Rent: 9330.0 DKK</br>Size: 106.0 m2</br>Rooms: 4",
          "Rent: 10821.0 DKK</br>Size: 101.0 m2</br>Rooms: 3",
          "Rent: 10564.0 DKK</br>Size: 102.0 m2</br>Rooms: 3",
          "Rent: 5485.0 DKK</br>Size: 53.09999847412109 m2</br>Rooms: 1",
          "Rent: 8029.0 DKK</br>Size: 84.9000015258789 m2</br>Rooms: 2",
          "Rent: 10078.0 DKK</br>Size: 117.4000015258789 m2</br>Rooms: 3",
          "Rent: 10974.0 DKK</br>Size: 116.6999969482422 m2</br>Rooms: 4",
          "Rent: 5270.0 DKK</br>Size: 47.0 m2</br>Rooms: 2",
          "Rent: 8862.0 DKK</br>Size: 96.9000015258789 m2</br>Rooms: 3",
          "Rent: 9990.0 DKK</br>Size: 112.6999969482422 m2</br>Rooms: 4",
          "Rent: 9212.0 DKK</br>Size: 101.8000030517578 m2</br>Rooms: 5",
          "Rent: 6716.0 DKK</br>Size: 64.0 m2</br>Rooms: 2",
          "Rent: 6341.0 DKK</br>Size: 69.0 m2</br>Rooms: 2",
          "Rent: 6996.0 DKK</br>Size: 69.0 m2</br>Rooms: 2",
          "Rent: 8097.0 DKK</br>Size: 85.0 m2</br>Rooms: 3",
          "Rent: 9075.0 DKK</br>Size: 102.0 m2</br>Rooms: 4",
          "Rent: 6475.0 DKK</br>Size: 69.69999694824219 m2</br>Rooms: 2",
          "Rent: 8302.0 DKK</br>Size: 100.0 m2</br>Rooms: 3",
          "Rent: 9933.0 DKK</br>Size: 113.5 m2</br>Rooms: 4",
          "Rent: 8170.0 DKK</br>Size: 85.0 m2</br>Rooms: 3",
          "Rent: 6875.0 DKK</br>Size: 75.0 m2</br>Rooms: 2",
          "Rent: 8477.0 DKK</br>Size: 95.0 m2</br>Rooms: 4",
          "Rent: 7372.0 DKK</br>Size: 59.0 m2</br>Rooms: 2",
          "Rent: 7372.0 DKK</br>Size: 59.0 m2</br>Rooms: 2",
          "Rent: 7372.0 DKK</br>Size: 59.0 m2</br>Rooms: 2",
          "Rent: 7372.0 DKK</br>Size: 59.0 m2</br>Rooms: 2",
          "Rent: 8090.0 DKK</br>Size: 70.0 m2</br>Rooms: 2",
          "Rent: 8090.0 DKK</br>Size: 70.0 m2</br>Rooms: 2",
          "Rent: 8090.0 DKK</br>Size: 70.0 m2</br>Rooms: 2",
          "Rent: 8090.0 DKK</br>Size: 70.0 m2</br>Rooms: 2",
          "Rent: 8527.0 DKK</br>Size: 74.0 m2</br>Rooms: 3",
          "Rent: 8527.0 DKK</br>Size: 74.0 m2</br>Rooms: 3",
          "Rent: 8527.0 DKK</br>Size: 74.0 m2</br>Rooms: 3",
          "Rent: 8527.0 DKK</br>Size: 74.0 m2</br>Rooms: 3",
          "Rent: 9572.0 DKK</br>Size: 90.0 m2</br>Rooms: 3",
          "Rent: 9572.0 DKK</br>Size: 90.0 m2</br>Rooms: 3",
          "Rent: 9572.0 DKK</br>Size: 90.0 m2</br>Rooms: 3",
          "Rent: 9572.0 DKK</br>Size: 90.0 m2</br>Rooms: 3",
          "Rent: 10294.0 DKK</br>Size: 98.0 m2</br>Rooms: 4",
          "Rent: 10294.0 DKK</br>Size: 98.0 m2</br>Rooms: 4",
          "Rent: 10294.0 DKK</br>Size: 98.0 m2</br>Rooms: 4",
          "Rent: 10294.0 DKK</br>Size: 98.0 m2</br>Rooms: 4",
          "Rent: 11404.0 DKK</br>Size: 115.0 m2</br>Rooms: 4",
          "Rent: 11404.0 DKK</br>Size: 115.0 m2</br>Rooms: 4",
          "Rent: 11404.0 DKK</br>Size: 115.0 m2</br>Rooms: 4",
          "Rent: 11404.0 DKK</br>Size: 115.0 m2</br>Rooms: 4",
          "Rent: 6057.72 DKK</br>Size: 59.900001525878906 m2</br>Rooms: 2",
          "Rent: 7314.72 DKK</br>Size: 76.69999694824219 m2</br>Rooms: 2",
          "Rent: 8027.72 DKK</br>Size: 93.6999969482422 m2</br>Rooms: 3",
          "Rent: 8145.8595 DKK</br>Size: 93.6999969482422 m2</br>Rooms: 4",
          "Rent: 6167.0 DKK</br>Size: 66.0999984741211 m2</br>Rooms: 2",
          "Rent: 7039.0 DKK</br>Size: 80.80000305175781 m2</br>Rooms: 2",
          "Rent: 8320.0 DKK</br>Size: 95.5 m2</br>Rooms: 3",
          "Rent: 8615.0 DKK</br>Size: 98.9000015258789 m2</br>Rooms: 4",
          "Rent: 9972.0 DKK</br>Size: 114.5 m2</br>Rooms: 5",
          "Rent: 10657.0 DKK</br>Size: 90.0 m2</br>Rooms: 3",
          "Rent: 9796.0 DKK</br>Size: 82.0 m2</br>Rooms: 2",
          "Rent: 11333.0 DKK</br>Size: 108.0 m2</br>Rooms: 3",
          "Rent: 12130.0 DKK</br>Size: 124.0 m2</br>Rooms: 4",
          "Rent: 11275.0 DKK</br>Size: 95.0 m2</br>Rooms: 3",
          "Rent: 9786.0 DKK</br>Size: 75.0 m2</br>Rooms: 2",
          "Rent: 11032.0 DKK</br>Size: 95.0 m2</br>Rooms: 2",
          "Rent: 7468.0 DKK</br>Size: 90.6999969482422 m2</br>Rooms: 3",
          "Rent: 6013.0 DKK</br>Size: 70.69999694824219 m2</br>Rooms: 2",
          "Rent: 7748.0 DKK</br>Size: 99.5999984741211 m2</br>Rooms: 3",
          "Rent: 9734.0 DKK</br>Size: 113.0 m2</br>Rooms: 4",
          "Rent: 7785.0 DKK</br>Size: 91.0 m2</br>Rooms: 3",
          "Rent: 4609.0 DKK</br>Size: 49.0 m2</br>Rooms: 1",
          "Rent: 7074.0 DKK</br>Size: 74.0 m2</br>Rooms: 2",
          "Rent: 8693.0 DKK</br>Size: 99.0 m2</br>Rooms: 3",
          "Rent: 9950.0 DKK</br>Size: 108.0 m2</br>Rooms: 4",
          "Rent: 5358.0 DKK</br>Size: 51.0 m2</br>Rooms: 1",
          "Rent: 6738.0 DKK</br>Size: 72.0 m2</br>Rooms: 2",
          "Rent: 7418.0 DKK</br>Size: 85.0 m2</br>Rooms: 3",
          "Rent: 9707.0 DKK</br>Size: 110.0 m2</br>Rooms: 4",
          "Rent: 4916.0 DKK</br>Size: 83.0 m2</br>Rooms: 3",
          "Rent: 5594.0 DKK</br>Size: 116.0 m2</br>Rooms: 3",
          "Rent: 8476.0 DKK</br>Size: 100.0 m2</br>Rooms: 4",
          "Rent: 6581.0 DKK</br>Size: 100.0 m2</br>Rooms: 4",
          "Rent: 8329.0 DKK</br>Size: 111.0 m2</br>Rooms: 4",
          "Rent: 5594.0 DKK</br>Size: 116.0 m2</br>Rooms: 4",
          "Rent: 8586.0 DKK</br>Size: 116.0 m2</br>Rooms: 4",
          "Rent: 8103.0 DKK</br>Size: 88.0999984741211 m2</br>Rooms: 4",
          "Rent: 5678.0 DKK</br>Size: 61.900001525878906 m2</br>Rooms: 2",
          "Rent: 7237.0 DKK</br>Size: 79.80000305175781 m2</br>Rooms: 3",
          "Rent: 4087.0 DKK</br>Size: 53.0 m2</br>Rooms: 2",
          "Rent: 5879.0 DKK</br>Size: 65.0 m2</br>Rooms: 2",
          "Rent: 5717.0 DKK</br>Size: 65.0 m2</br>Rooms: 2",
          "Rent: 5588.0 DKK</br>Size: 71.0 m2</br>Rooms: 2",
          "Rent: 7448.0 DKK</br>Size: 98.0 m2</br>Rooms: 4",
          "Rent: 9058.0 DKK</br>Size: 100.0 m2</br>Rooms: 4",
          "Rent: 6061.0 DKK</br>Size: 58.0 m2</br>Rooms: 2",
          "Rent: 6060.0 DKK</br>Size: 59.0 m2</br>Rooms: 2",
          "Rent: 8237.04 DKK</br>Size: 84.0 m2</br>Rooms: 3",
          "Rent: 6489.0 DKK</br>Size: 65.0 m2</br>Rooms: 2",
          "Rent: 6625.0 DKK</br>Size: 65.0 m2</br>Rooms: 2",
          "Rent: 6911.0 DKK</br>Size: 69.0 m2</br>Rooms: 2",
          "Rent: 7990.0 DKK</br>Size: 83.0 m2</br>Rooms: 3",
          "Rent: 9039.0 DKK</br>Size: 104.0 m2</br>Rooms: 4",
          "Rent: 7590.0 DKK</br>Size: 94.6999969482422 m2</br>Rooms: 4",
          "Rent: 8234.0 DKK</br>Size: 100.1999969482422 m2</br>Rooms: 4",
          "Rent: 7242.0 DKK</br>Size: 84.9000015258789 m2</br>Rooms: 3",
          "Rent: 5993.0 DKK</br>Size: 64.80000305175781 m2</br>Rooms: 2",
          "Rent: 6036.0 DKK</br>Size: 66.5 m2</br>Rooms: 2",
          "Rent: 4235.0 DKK</br>Size: 45.0 m2</br>Rooms: 1",
          "Rent: 7822.0 DKK</br>Size: 83.0 m2</br>Rooms: 2",
          "Rent: 8148.0 DKK</br>Size: 89.0 m2</br>Rooms: 3",
          "Rent: 10142.0 DKK</br>Size: 106.0 m2</br>Rooms: 4",
          "Rent: 4000.0 DKK</br>Size: 46.0 m2</br>Rooms: 1",
          "Rent: 4125.0 DKK</br>Size: 48.0 m2</br>Rooms: 1",
          "Rent: 4828.0 DKK</br>Size: 56.0 m2</br>Rooms: 2",
          "Rent: 6520.0 DKK</br>Size: 72.0 m2</br>Rooms: 2",
          "Rent: 8495.0 DKK</br>Size: 95.0 m2</br>Rooms: 3",
          "Rent: 5145.0 DKK</br>Size: 54.0 m2</br>Rooms: 2",
          "Rent: 6261.0 DKK</br>Size: 73.0 m2</br>Rooms: 3",
          "Rent: 7800.0 DKK</br>Size: 86.0 m2</br>Rooms: 2",
          "Rent: 7627.0 DKK</br>Size: 95.0 m2</br>Rooms: 3",
          "Rent: 8162.0 DKK</br>Size: 101.0 m2</br>Rooms: 3",
          "Rent: 8905.0 DKK</br>Size: 105.0 m2</br>Rooms: 4",
          "Rent: 9236.0 DKK</br>Size: 59.20000076293945 m2</br>Rooms: 3",
          "Rent: 10794.0 DKK</br>Size: 84.0 m2</br>Rooms: 3",
          "Rent: 10010.0 DKK</br>Size: 77.19999694824219 m2</br>Rooms: 4",
          "Rent: 8366.0 DKK</br>Size: 103.0 m2</br>Rooms: 4",
          "Rent: 5920.0 DKK</br>Size: 69.0 m2</br>Rooms: 2",
          "Rent: 6174.0 DKK</br>Size: 74.0 m2</br>Rooms: 3",
          "Rent: 7099.0 DKK</br>Size: 84.0 m2</br>Rooms: 3",
          "Rent: 8535.0 DKK</br>Size: 108.0 m2</br>Rooms: 4",
          "Rent: 4133.0 DKK</br>Size: 30.0 m2</br>Rooms: 1",
          "Rent: 4796.0 DKK</br>Size: 52.0 m2</br>Rooms: 2",
          "Rent: 7312.0 DKK</br>Size: 92.0 m2</br>Rooms: 3",
          "Rent: 10440.0 DKK</br>Size: 122.0 m2</br>Rooms: 5",
          "Rent: 3970.0 DKK</br>Size: 38.0 m2</br>Rooms: 1",
          "Rent: 6993.0 DKK</br>Size: 72.0 m2</br>Rooms: 2",
          "Rent: 8424.0 DKK</br>Size: 88.0 m2</br>Rooms: 3",
          "Rent: 10340.0 DKK</br>Size: 102.0 m2</br>Rooms: 4",
          "Rent: 4769.0 DKK</br>Size: 61.79999923706055 m2</br>Rooms: 2",
          "Rent: 5661.0 DKK</br>Size: 76.5999984741211 m2</br>Rooms: 3",
          "Rent: 7056.0 DKK</br>Size: 94.3000030517578 m2</br>Rooms: 4",
          "Rent: 8280.4 DKK</br>Size: 100.5999984741211 m2</br>Rooms: 4",
          "Rent: 6769.0 DKK</br>Size: 72.0 m2</br>Rooms: 2",
          "Rent: 8775.0 DKK</br>Size: 105.0 m2</br>Rooms: 3",
          "Rent: 9811.0 DKK</br>Size: 122.0 m2</br>Rooms: 4",
          "Rent: 10817.0 DKK</br>Size: 134.0 m2</br>Rooms: 5",
          "Rent: 7172.0 DKK</br>Size: 88.9000015258789 m2</br>Rooms: 3",
          "Rent: 8227.09 DKK</br>Size: 100.8000030517578 m2</br>Rooms: 4",
          "Rent: 10817.0 DKK</br>Size: 125.0 m2</br>Rooms: 4",
          "Rent: 8904.0 DKK</br>Size: 127.0 m2</br>Rooms: 4",
          "Rent: 4880.0 DKK</br>Size: 55.0 m2</br>Rooms: 2",
          "Rent: 8133.0 DKK</br>Size: 94.0 m2</br>Rooms: 3",
          "Rent: 8221.0 DKK</br>Size: 94.0 m2</br>Rooms: 3",
          "Rent: 8550.0 DKK</br>Size: 99.0 m2</br>Rooms: 3",
          "Rent: 10177.0 DKK</br>Size: 122.0 m2</br>Rooms: 5",
          "Rent: 11944.0 DKK</br>Size: 124.0 m2</br>Rooms: 5",
          "Rent: 10321.0 DKK</br>Size: 130.0 m2</br>Rooms: 5",
          "Rent: 6138.0 DKK</br>Size: 49.0 m2</br>Rooms: 2",
          "Rent: 7671.0 DKK</br>Size: 75.0 m2</br>Rooms: 2",
          "Rent: 11629.0 DKK</br>Size: 124.0 m2</br>Rooms: 5",
          "Rent: 7385.0 DKK</br>Size: 68.0 m2</br>Rooms: 2",
          "Rent: 11279.0 DKK</br>Size: 127.0 m2</br>Rooms: 5",
          "Rent: 4509.0 DKK</br>Size: 46.0 m2</br>Rooms: 1",
          "Rent: 7826.0 DKK</br>Size: 85.0 m2</br>Rooms: 2",
          "Rent: 9024.0 DKK</br>Size: 101.0 m2</br>Rooms: 3",
          "Rent: 5045.0 DKK</br>Size: 48.900001525878906 m2</br>Rooms: 1",
          "Rent: 6796.0 DKK</br>Size: 68.30000305175781 m2</br>Rooms: 2",
          "Rent: 8053.68 DKK</br>Size: 79.69999694824219 m2</br>Rooms: 3",
          "Rent: 8219.0 DKK</br>Size: 90.8000030517578 m2</br>Rooms: 4",
          "Rent: 5373.0 DKK</br>Size: 52.0 m2</br>Rooms: 2",
          "Rent: 8118.0 DKK</br>Size: 92.0 m2</br>Rooms: 3",
          "Rent: 9476.0 DKK</br>Size: 108.0 m2</br>Rooms: 4",
          "Rent: 8194.0 DKK</br>Size: 92.0 m2</br>Rooms: 3",
          "Rent: 6319.0 DKK</br>Size: 68.5 m2</br>Rooms: 2",
          "Rent: 7359.0 DKK</br>Size: 82.9000015258789 m2</br>Rooms: 3",
          "Rent: 7813.0 DKK</br>Size: 94.4000015258789 m2</br>Rooms: 4",
          "Rent: 7194.0 DKK</br>Size: 80.5999984741211 m2</br>Rooms: 3",
          "Rent: 4976.0 DKK</br>Size: 50.0 m2</br>Rooms: 2",
          "Rent: 9004.0 DKK</br>Size: 91.0 m2</br>Rooms: 3",
          "Rent: 10279.0 DKK</br>Size: 106.0 m2</br>Rooms: 4",
          "Rent: 11269.0 DKK</br>Size: 107.0 m2</br>Rooms: 4",
          "Rent: 13033.0 DKK</br>Size: 125.0 m2</br>Rooms: 5",
          "Rent: 5553.0 DKK</br>Size: 51.0 m2</br>Rooms: 2",
          "Rent: 9646.0 DKK</br>Size: 93.0 m2</br>Rooms: 3",
          "Rent: 8609.0 DKK</br>Size: 83.0 m2</br>Rooms: 2",
          "Rent: 12416.0 DKK</br>Size: 125.0 m2</br>Rooms: 4",
          "Rent: 8093.0 DKK</br>Size: 60.0 m2</br>Rooms: 2",
          "Rent: 5482.0 DKK</br>Size: 62.0 m2</br>Rooms: 2",
          "Rent: 8981.0 DKK</br>Size: 93.0 m2</br>Rooms: 3",
          "Rent: 8891.0 DKK</br>Size: 106.0 m2</br>Rooms: 4",
          "Rent: 8243.6735 DKK</br>Size: 69.0 m2</br>Rooms: 2",
          "Rent: 9589.27 DKK</br>Size: 86.0 m2</br>Rooms: 3",
          "Rent: 6834.0 DKK</br>Size: 74.0999984741211 m2</br>Rooms: 2",
          "Rent: 7472.0 DKK</br>Size: 80.4000015258789 m2</br>Rooms: 3",
          "Rent: 8998.0 DKK</br>Size: 103.0 m2</br>Rooms: 4",
          "Rent: 10479.0 DKK</br>Size: 120.0 m2</br>Rooms: 5",
          "Rent: 5293.0 DKK</br>Size: 49.20000076293945 m2</br>Rooms: 2",
          "Rent: 8891.0 DKK</br>Size: 100.8000030517578 m2</br>Rooms: 4",
          "Rent: 6652.0 DKK</br>Size: 71.5999984741211 m2</br>Rooms: 2",
          "Rent: 8472.0 DKK</br>Size: 95.5999984741211 m2</br>Rooms: 3",
          "Rent: 9667.0 DKK</br>Size: 109.9000015258789 m2</br>Rooms: 5",
          "Rent: 5643.0 DKK</br>Size: 53.0 m2</br>Rooms: 2",
          "Rent: 5608.0 DKK</br>Size: 55.0 m2</br>Rooms: 2",
          "Rent: 7593.0 DKK</br>Size: 75.0 m2</br>Rooms: 2",
          "Rent: 8836.0 DKK</br>Size: 90.0 m2</br>Rooms: 3",
          "Rent: 8984.0 DKK</br>Size: 92.0 m2</br>Rooms: 3",
          "Rent: 11013.0 DKK</br>Size: 108.0 m2</br>Rooms: 4",
          "Rent: 7059.0 DKK</br>Size: 67.0 m2</br>Rooms: 2",
          "Rent: 8901.0 DKK</br>Size: 88.0 m2</br>Rooms: 3",
          "Rent: 11091.0 DKK</br>Size: 114.0 m2</br>Rooms: 4",
          "Rent: 13294.0 DKK</br>Size: 130.0 m2</br>Rooms: 4",
          "Rent: 12505.0 DKK</br>Size: 130.0 m2</br>Rooms: 5",
          "Rent: 3888.0 DKK</br>Size: 34.0 m2</br>Rooms: 1",
          "Rent: 5562.0 DKK</br>Size: 47.0 m2</br>Rooms: 1",
          "Rent: 8251.0 DKK</br>Size: 70.69999694824219 m2</br>Rooms: 2",
          "Rent: 9353.0 DKK</br>Size: 90.6999969482422 m2</br>Rooms: 3",
          "Rent: 10968.0 DKK</br>Size: 113.0 m2</br>Rooms: 4",
          "Rent: 7254.0 DKK</br>Size: 67.0 m2</br>Rooms: 2",
          "Rent: 11122.0 DKK</br>Size: 112.0 m2</br>Rooms: 3",
          "Rent: 8200.0 DKK</br>Size: 78.0 m2</br>Rooms: 2",
          "Rent: 10265.0 DKK</br>Size: 96.0 m2</br>Rooms: 3",
          "Rent: 11904.0 DKK</br>Size: 125.0 m2</br>Rooms: 4",
          "Rent: 12180.0 DKK</br>Size: 128.0 m2</br>Rooms: 4",
          "Rent: 6014.0 DKK</br>Size: 55.0 m2</br>Rooms: 1",
          "Rent: 6904.0 DKK</br>Size: 66.0 m2</br>Rooms: 2",
          "Rent: 8416.0 DKK</br>Size: 85.0 m2</br>Rooms: 3",
          "Rent: 9192.0 DKK</br>Size: 95.0 m2</br>Rooms: 4",
          "Rent: 5663.0 DKK</br>Size: 66.30000305175781 m2</br>Rooms: 2",
          "Rent: 7163.54 DKK</br>Size: 85.19999694824219 m2</br>Rooms: 3",
          "Rent: 8141.0 DKK</br>Size: 108.6999969482422 m2</br>Rooms: 4",
          "Rent: 6974.48 DKK</br>Size: 62.0 m2</br>Rooms: 2",
          "Rent: 9263.16 DKK</br>Size: 85.0 m2</br>Rooms: 3",
          "Rent: 10416.83 DKK</br>Size: 98.0 m2</br>Rooms: 4",
          "Rent: 4976.0 DKK</br>Size: 63.0 m2</br>Rooms: 2",
          "Rent: 3491.0 DKK</br>Size: 40.0 m2</br>Rooms: 1",
          "Rent: 4541.0 DKK</br>Size: 56.0 m2</br>Rooms: 2",
          "Rent: 7155.0 DKK</br>Size: 97.0 m2</br>Rooms: 3",
          "Rent: 7965.0 DKK</br>Size: 110.0 m2</br>Rooms: 4",
          "Rent: 7129.0 DKK</br>Size: 66.0 m2</br>Rooms: 2",
          "Rent: 4945.0 DKK</br>Size: 48.0 m2</br>Rooms: 1",
          "Rent: 9176.0 DKK</br>Size: 86.0 m2</br>Rooms: 3",
          "Rent: 7266.0 DKK</br>Size: 69.69999694824219 m2</br>Rooms: 2",
          "Rent: 8752.0 DKK</br>Size: 84.5999984741211 m2</br>Rooms: 3",
          "Rent: 6945.08 DKK</br>Size: 67.69999694824219 m2</br>Rooms: 2",
          "Rent: 7462.0 DKK</br>Size: 84.19999694824219 m2</br>Rooms: 3",
          "Rent: 6682.0 DKK</br>Size: 67.69999694824219 m2</br>Rooms: 2",
          "Rent: 7462.0 DKK</br>Size: 84.19999694824219 m2</br>Rooms: 3",
          "Rent: 9517.0 DKK</br>Size: 108.1999969482422 m2</br>Rooms: 4",
          "Rent: 6870.0 DKK</br>Size: 69.0 m2</br>Rooms: 2",
          "Rent: 8096.0 DKK</br>Size: 84.0 m2</br>Rooms: 3",
          "Rent: 8853.0 DKK</br>Size: 95.0 m2</br>Rooms: 3",
          "Rent: 9482.0 DKK</br>Size: 102.0 m2</br>Rooms: 4",
          "Rent: 6398.0 DKK</br>Size: 70.0 m2</br>Rooms: 2",
          "Rent: 7324.0 DKK</br>Size: 84.5 m2</br>Rooms: 3",
          "Rent: 8028.0 DKK</br>Size: 96.0 m2</br>Rooms: 4",
          "Rent: 6731.0 DKK</br>Size: 70.0 m2</br>Rooms: 2",
          "Rent: 8383.0 DKK</br>Size: 84.5 m2</br>Rooms: 3",
          "Rent: 7142.0 DKK</br>Size: 70.0 m2</br>Rooms: 2",
          "Rent: 4001.0 DKK</br>Size: 37.0 m2</br>Rooms: 1",
          "Rent: 5914.0 DKK</br>Size: 55.0 m2</br>Rooms: 2",
          "Rent: 8344.0 DKK</br>Size: 85.0 m2</br>Rooms: 3",
          "Rent: 9459.0 DKK</br>Size: 107.0 m2</br>Rooms: 4",
          "Rent: 9682.0 DKK</br>Size: 110.0 m2</br>Rooms: 4",
          "Rent: 10590.0 DKK</br>Size: 122.0 m2</br>Rooms: 5",
          "Rent: 8432.0 DKK</br>Size: 73.5999984741211 m2</br>Rooms: 2",
          "Rent: 6153.0 DKK</br>Size: 52.59999847412109 m2</br>Rooms: 1",
          "Rent: 10393.0 DKK</br>Size: 86.30000305175781 m2</br>Rooms: 3",
          "Rent: 12718.0 DKK</br>Size: 111.9000015258789 m2</br>Rooms: 4",
          "Rent: 5855.0 DKK</br>Size: 59.0 m2</br>Rooms: 1",
          "Rent: 7573.0 DKK</br>Size: 83.0 m2</br>Rooms: 2",
          "Rent: 7924.0 DKK</br>Size: 90.0 m2</br>Rooms: 3",
          "Rent: 8598.0 DKK</br>Size: 104.0 m2</br>Rooms: 4",
          "Rent: 8608.0 DKK</br>Size: 60.0 m2</br>Rooms: 2",
          "Rent: 6795.0 DKK</br>Size: 60.0 m2</br>Rooms: 2",
          "Rent: 4856.0 DKK</br>Size: 65.0 m2</br>Rooms: 2",
          "Rent: 6459.0 DKK</br>Size: 84.0 m2</br>Rooms: 3",
          "Rent: 7259.0 DKK</br>Size: 84.0 m2</br>Rooms: 3",
          "Rent: 7281.0 DKK</br>Size: 96.0 m2</br>Rooms: 4",
          "Rent: 7943.0 DKK</br>Size: 98.0 m2</br>Rooms: 4",
          "Rent: 7307.0 DKK</br>Size: 101.0 m2</br>Rooms: 4",
          "Rent: 7354.0 DKK</br>Size: 106.0 m2</br>Rooms: 5",
          "Rent: 5304.0 DKK</br>Size: 68.0 m2</br>Rooms: 2",
          "Rent: 7594.0 DKK</br>Size: 68.69999694824219 m2</br>Rooms: 2",
          "Rent: 7267.0 DKK</br>Size: 70.5 m2</br>Rooms: 2",
          "Rent: 9068.0 DKK</br>Size: 84.9000015258789 m2</br>Rooms: 3",
          "Rent: 5603.0 DKK</br>Size: 70.0 m2</br>Rooms: 2",
          "Rent: 6598.0 DKK</br>Size: 88.0 m2</br>Rooms: 3",
          "Rent: 7180.0 DKK</br>Size: 88.0 m2</br>Rooms: 4",
          "Rent: 7589.0 DKK</br>Size: 106.0 m2</br>Rooms: 4",
          "Rent: 7405.0 DKK</br>Size: 100.0 m2</br>Rooms: 5",
          "Rent: 8098.0 DKK</br>Size: 81.0 m2</br>Rooms: 3",
          "Rent: 7217.0 DKK</br>Size: 64.0 m2</br>Rooms: 2",
          "Rent: 6526.0 DKK</br>Size: 48.0 m2</br>Rooms: 2",
          "Rent: 9505.0 DKK</br>Size: 90.0 m2</br>Rooms: 3",
          "Rent: 9977.0 DKK</br>Size: 98.0 m2</br>Rooms: 3",
          "Rent: 10531.0 DKK</br>Size: 104.0 m2</br>Rooms: 3",
          "Rent: 10921.0 DKK</br>Size: 114.0 m2</br>Rooms: 3",
          "Rent: 11509.0 DKK</br>Size: 116.0 m2</br>Rooms: 5",
          "Rent: 5032.29 DKK</br>Size: 49.5 m2</br>Rooms: 2",
          "Rent: 5499.0 DKK</br>Size: 64.80000305175781 m2</br>Rooms: 2",
          "Rent: 7717.09 DKK</br>Size: 85.0 m2</br>Rooms: 3",
          "Rent: 8187.07 DKK</br>Size: 97.8000030517578 m2</br>Rooms: 4",
          "Rent: 9045.0 DKK</br>Size: 110.8000030517578 m2</br>Rooms: 5",
          "Rent: 5124.0 DKK</br>Size: 66.5 m2</br>Rooms: 2",
          "Rent: 6569.0 DKK</br>Size: 71.0 m2</br>Rooms: 2",
          "Rent: 8141.0 DKK</br>Size: 88.0 m2</br>Rooms: 3",
          "Rent: 7048.0 DKK</br>Size: 94.0 m2</br>Rooms: 3",
          "Rent: 8720.0 DKK</br>Size: 94.3000030517578 m2</br>Rooms: 3",
          "Rent: 7048.0 DKK</br>Size: 94.0 m2</br>Rooms: 4",
          "Rent: 7033.0 DKK</br>Size: 69.0 m2</br>Rooms: 2",
          "Rent: 7212.0 DKK</br>Size: 69.0 m2</br>Rooms: 2",
          "Rent: 8466.0 DKK</br>Size: 85.0 m2</br>Rooms: 3",
          "Rent: 7260.0 DKK</br>Size: 84.0 m2</br>Rooms: 3",
          "Rent: 7562.0 DKK</br>Size: 85.0 m2</br>Rooms: 3",
          "Rent: 7246.0 DKK</br>Size: 85.0 m2</br>Rooms: 3",
          "Rent: 6591.0 DKK</br>Size: 71.0 m2</br>Rooms: 2",
          "Rent: 8589.0 DKK</br>Size: 101.0 m2</br>Rooms: 4",
          "Rent: 8571.0 DKK</br>Size: 102.0 m2</br>Rooms: 4",
          "Rent: 9054.0 DKK</br>Size: 113.0 m2</br>Rooms: 5",
          "Rent: 5594.0 DKK</br>Size: 45.400001525878906 m2</br>Rooms: 1",
          "Rent: 7866.0 DKK</br>Size: 70.5 m2</br>Rooms: 2",
          "Rent: 8766.0 DKK</br>Size: 81.0 m2</br>Rooms: 3",
          "Rent: 9868.95 DKK</br>Size: 90.0999984741211 m2</br>Rooms: 4",
          "Rent: 7164.0 DKK</br>Size: 65.0 m2</br>Rooms: 2",
          "Rent: 8287.0 DKK</br>Size: 80.69999694824219 m2</br>Rooms: 3",
          "Rent: 8804.0 DKK</br>Size: 90.8000030517578 m2</br>Rooms: 4",
          "Rent: 8730.0 DKK</br>Size: 94.0999984741211 m2</br>Rooms: 3",
          "Rent: 7568.0 DKK</br>Size: 69.9000015258789 m2</br>Rooms: 2",
          "Rent: 3385.0 DKK</br>Size: 36.0 m2</br>Rooms: 1",
          "Rent: 4727.0 DKK</br>Size: 57.0 m2</br>Rooms: 2",
          "Rent: 5117.0 DKK</br>Size: 57.0 m2</br>Rooms: 2",
          "Rent: 5393.0 DKK</br>Size: 68.0 m2</br>Rooms: 2",
          "Rent: 5212.0 DKK</br>Size: 65.0 m2</br>Rooms: 2",
          "Rent: 6689.0 DKK</br>Size: 84.0 m2</br>Rooms: 3",
          "Rent: 6759.0 DKK</br>Size: 84.0 m2</br>Rooms: 3",
          "Rent: 8058.0 DKK</br>Size: 96.0 m2</br>Rooms: 4",
          "Rent: 7439.48 DKK</br>Size: 98.0 m2</br>Rooms: 4",
          "Rent: 8438.0 DKK</br>Size: 101.0 m2</br>Rooms: 4",
          "Rent: 8389.0 DKK</br>Size: 112.0 m2</br>Rooms: 4",
          "Rent: 8217.0 DKK</br>Size: 106.0 m2</br>Rooms: 5",
          "Rent: 6710.0 DKK</br>Size: 60.0 m2</br>Rooms: 2",
          "Rent: 7207.0 DKK</br>Size: 69.19999694824219 m2</br>Rooms: 3",
          "Rent: 6560.0 DKK</br>Size: 60.0 m2</br>Rooms: 2",
          "Rent: 8528.0 DKK</br>Size: 86.19999694824219 m2</br>Rooms: 3",
          "Rent: 9972.0 DKK</br>Size: 109.3000030517578 m2</br>Rooms: 4",
          "Rent: 11082.0 DKK</br>Size: 126.0 m2</br>Rooms: 3",
          "Rent: 6546.0 DKK</br>Size: 59.0 m2</br>Rooms: 1",
          "Rent: 7587.0 DKK</br>Size: 66.0 m2</br>Rooms: 2",
          "Rent: 7911.0 DKK</br>Size: 79.0 m2</br>Rooms: 2",
          "Rent: 8432.0 DKK</br>Size: 90.0 m2</br>Rooms: 4",
          "Rent: 7012.0 DKK</br>Size: 68.0 m2</br>Rooms: 2",
          "Rent: 7756.0 DKK</br>Size: 81.0 m2</br>Rooms: 3",
          "Rent: 4796.0 DKK</br>Size: 50.0 m2</br>Rooms: 2",
          "Rent: 5782.0 DKK</br>Size: 65.0 m2</br>Rooms: 2",
          "Rent: 7196.0 DKK</br>Size: 85.0 m2</br>Rooms: 3",
          "Rent: 8068.0 DKK</br>Size: 96.0 m2</br>Rooms: 4",
          "Rent: 8989.0 DKK</br>Size: 110.0 m2</br>Rooms: 4",
          "Rent: 6859.34 DKK</br>Size: 63.0 m2</br>Rooms: 2",
          "Rent: 8751.69 DKK</br>Size: 84.0 m2</br>Rooms: 3",
          "Rent: 10662.15 DKK</br>Size: 100.0 m2</br>Rooms: 4",
          "Rent: 8339.0 DKK</br>Size: 98.0 m2</br>Rooms: 4",
          "Rent: 6459.0 DKK</br>Size: 71.0 m2</br>Rooms: 2",
          "Rent: 7513.0 DKK</br>Size: 86.0 m2</br>Rooms: 3",
          "Rent: 9298.0 DKK</br>Size: 112.0 m2</br>Rooms: 5",
          "Rent: 5049.0 DKK</br>Size: 41.0 m2</br>Rooms: 1",
          "Rent: 7636.0 DKK</br>Size: 70.0 m2</br>Rooms: 2",
          "Rent: 8710.0 DKK</br>Size: 80.0 m2</br>Rooms: 3",
          "Rent: 9720.0 DKK</br>Size: 90.0 m2</br>Rooms: 4",
          "Rent: 5736.0 DKK</br>Size: 68.0 m2</br>Rooms: 2",
          "Rent: 7449.0 DKK</br>Size: 87.0 m2</br>Rooms: 3",
          "Rent: 4759.0 DKK</br>Size: 38.0 m2</br>Rooms: 2",
          "Rent: 5199.0 DKK</br>Size: 42.0 m2</br>Rooms: 2",
          "Rent: 6937.0 DKK</br>Size: 70.0 m2</br>Rooms: 2",
          "Rent: 6957.0 DKK</br>Size: 71.0 m2</br>Rooms: 2",
          "Rent: 7214.0 DKK</br>Size: 82.0 m2</br>Rooms: 3",
          "Rent: 7618.0 DKK</br>Size: 85.0 m2</br>Rooms: 3",
          "Rent: 8229.0 DKK</br>Size: 95.0 m2</br>Rooms: 4",
          "Rent: 7077.07 DKK</br>Size: 66.5 m2</br>Rooms: 2",
          "Rent: 8479.07 DKK</br>Size: 84.9000015258789 m2</br>Rooms: 3",
          "Rent: 8667.07 DKK</br>Size: 85.0999984741211 m2</br>Rooms: 3",
          "Rent: 9603.0 DKK</br>Size: 94.9000015258789 m2</br>Rooms: 4",
          "Rent: 10183.07 DKK</br>Size: 100.4000015258789 m2</br>Rooms: 4",
          "Rent: 6774.0 DKK</br>Size: 66.9000015258789 m2</br>Rooms: 2",
          "Rent: 8124.0 DKK</br>Size: 84.4000015258789 m2</br>Rooms: 3",
          "Rent: 9029.0 DKK</br>Size: 96.1999969482422 m2</br>Rooms: 4",
          "Rent: 9331.0 DKK</br>Size: 109.0 m2</br>Rooms: 5",
          "Rent: 5316.0 DKK</br>Size: 54.0 m2</br>Rooms: 2",
          "Rent: 6020.0 DKK</br>Size: 64.0 m2</br>Rooms: 2",
          "Rent: 7686.0 DKK</br>Size: 87.0 m2</br>Rooms: 3",
          "Rent: 8814.0 DKK</br>Size: 102.0 m2</br>Rooms: 4",
          "Rent: 7430.0 DKK</br>Size: 136.39999389648438 m2</br>Rooms: 5",
          "Rent: 6858.0 DKK</br>Size: 111.4000015258789 m2</br>Rooms: 4",
          "Rent: 6440.0 DKK</br>Size: 68.5 m2</br>Rooms: 2",
          "Rent: 7573.0 DKK</br>Size: 82.0 m2</br>Rooms: 3",
          "Rent: 9113.0 DKK</br>Size: 100.6999969482422 m2</br>Rooms: 4",
          "Rent: 7331.0 DKK</br>Size: 69.0 m2</br>Rooms: 2",
          "Rent: 8492.0 DKK</br>Size: 83.0 m2</br>Rooms: 3",
          "Rent: 9142.0 DKK</br>Size: 86.0 m2</br>Rooms: 3",
          "Rent: 9611.0 DKK</br>Size: 97.0 m2</br>Rooms: 4",
          "Rent: 9772.0 DKK</br>Size: 98.0 m2</br>Rooms: 4",
          "Rent: 5650.33 DKK</br>Size: 54.09999847412109 m2</br>Rooms: 2",
          "Rent: 8520.99 DKK</br>Size: 86.19999694824219 m2</br>Rooms: 3",
          "Rent: 4447.0 DKK</br>Size: 54.0 m2</br>Rooms: 2",
          "Rent: 6397.0 DKK</br>Size: 85.4000015258789 m2</br>Rooms: 3",
          "Rent: 5851.0 DKK</br>Size: 60.0 m2</br>Rooms: 2",
          "Rent: 7438.0 DKK</br>Size: 76.0 m2</br>Rooms: 3",
          "Rent: 8637.0 DKK</br>Size: 85.0 m2</br>Rooms: 3",
          "Rent: 8828.0 DKK</br>Size: 83.0 m2</br>Rooms: 4",
          "Rent: 11421.0 DKK</br>Size: 122.0 m2</br>Rooms: 4",
          "Rent: 10808.0 DKK</br>Size: 122.0 m2</br>Rooms: 5",
          "Rent: 7447.0 DKK</br>Size: 66.4000015258789 m2</br>Rooms: 2",
          "Rent: 7662.0 DKK</br>Size: 68.4000015258789 m2</br>Rooms: 2",
          "Rent: 7540.0 DKK</br>Size: 67.30000305175781 m2</br>Rooms: 2",
          "Rent: 7628.0 DKK</br>Size: 69.9000015258789 m2</br>Rooms: 2",
          "Rent: 8742.0 DKK</br>Size: 78.30000305175781 m2</br>Rooms: 3",
          "Rent: 8279.0 DKK</br>Size: 74.0 m2</br>Rooms: 3",
          "Rent: 7070.0 DKK</br>Size: 77.0 m2</br>Rooms: 3",
          "Rent: 6590.0 DKK</br>Size: 67.0 m2</br>Rooms: 2",
          "Rent: 6186.0 DKK</br>Size: 67.0 m2</br>Rooms: 3",
          "Rent: 8963.0 DKK</br>Size: 96.0 m2</br>Rooms: 4",
          "Rent: 6718.0 DKK</br>Size: 75.0 m2</br>Rooms: 3",
          "Rent: 5513.0 DKK</br>Size: 61.0 m2</br>Rooms: 2",
          "Rent: 5686.25 DKK</br>Size: 60.0 m2</br>Rooms: 3",
          "Rent: 8063.0 DKK</br>Size: 69.5 m2</br>Rooms: 3",
          "Rent: 9428.0 DKK</br>Size: 88.0 m2</br>Rooms: 3",
          "Rent: 10532.0 DKK</br>Size: 103.0 m2</br>Rooms: 4",
          "Rent: 6369.0 DKK</br>Size: 78.0 m2</br>Rooms: 3",
          "Rent: 4020.0 DKK</br>Size: 45.0 m2</br>Rooms: 1",
          "Rent: 4440.0 DKK</br>Size: 52.70000076293945 m2</br>Rooms: 2",
          "Rent: 6900.0 DKK</br>Size: 82.0 m2</br>Rooms: 4",
          "Rent: 7327.0 DKK</br>Size: 94.0 m2</br>Rooms: 4",
          "Rent: 8249.0 DKK</br>Size: 102.0 m2</br>Rooms: 5",
          "Rent: 8565.0 DKK</br>Size: 110.5 m2</br>Rooms: 5",
          "Rent: 6839.0 DKK</br>Size: 78.0 m2</br>Rooms: 3",
          "Rent: 5636.0 DKK</br>Size: 64.0 m2</br>Rooms: 2",
          "Rent: 6582.0 DKK</br>Size: 70.0 m2</br>Rooms: 3",
          "Rent: 7951.0 DKK</br>Size: 85.0 m2</br>Rooms: 4",
          "Rent: 5179.0 DKK</br>Size: 51.0 m2</br>Rooms: 1",
          "Rent: 5025.0 DKK</br>Size: 58.0 m2</br>Rooms: 2",
          "Rent: 6457.0 DKK</br>Size: 73.0 m2</br>Rooms: 3",
          "Rent: 7565.0 DKK</br>Size: 103.0 m2</br>Rooms: 4",
          "Rent: 8410.0 DKK</br>Size: 132.0 m2</br>Rooms: 5",
          "Rent: 6410.7 DKK</br>Size: 62.0 m2</br>Rooms: 1",
          "Rent: 6293.0 DKK</br>Size: 59.0 m2</br>Rooms: 2",
          "Rent: 8652.26 DKK</br>Size: 82.0 m2</br>Rooms: 2",
          "Rent: 8124.0 DKK</br>Size: 90.0 m2</br>Rooms: 3",
          "Rent: 8300.0 DKK</br>Size: 94.0 m2</br>Rooms: 3",
          "Rent: 9677.65 DKK</br>Size: 100.0 m2</br>Rooms: 3",
          "Rent: 9737.54 DKK</br>Size: 112.0 m2</br>Rooms: 4",
          "Rent: 10182.0 DKK</br>Size: 120.0 m2</br>Rooms: 4",
          "Rent: 10451.0 DKK</br>Size: 124.0 m2</br>Rooms: 4",
          "Rent: 11455.54 DKK</br>Size: 126.0 m2</br>Rooms: 4",
          "Rent: 14092.54 DKK</br>Size: 145.0 m2</br>Rooms: 5",
          "Rent: 14092.54 DKK</br>Size: 145.0 m2</br>Rooms: 5",
          "Rent: 7334.0 DKK</br>Size: 73.0 m2</br>Rooms: 1",
          "Rent: 5710.0 DKK</br>Size: 61.79999923706055 m2</br>Rooms: 2",
          "Rent: 6792.0 DKK</br>Size: 73.69999694824219 m2</br>Rooms: 3",
          "Rent: 8660.0 DKK</br>Size: 87.0 m2</br>Rooms: 3",
          "Rent: 9798.0 DKK</br>Size: 99.0 m2</br>Rooms: 3",
          "Rent: 9322.0 DKK</br>Size: 104.0999984741211 m2</br>Rooms: 5",
          "Rent: 7490.0 DKK</br>Size: 85.19999694824219 m2</br>Rooms: 2",
          "Rent: 5665.0 DKK</br>Size: 56.400001525878906 m2</br>Rooms: 2",
          "Rent: 5665.0 DKK</br>Size: 56.400001525878906 m2</br>Rooms: 2",
          "Rent: 7994.0 DKK</br>Size: 90.8000030517578 m2</br>Rooms: 3",
          "Rent: 9284.0 DKK</br>Size: 112.0 m2</br>Rooms: 4",
          "Rent: 5881.0 DKK</br>Size: 63.0 m2</br>Rooms: 2",
          "Rent: 6512.0 DKK</br>Size: 70.0 m2</br>Rooms: 2",
          "Rent: 7645.0 DKK</br>Size: 82.0 m2</br>Rooms: 3",
          "Rent: 7645.0 DKK</br>Size: 82.0 m2</br>Rooms: 3",
          "Rent: 9949.0 DKK</br>Size: 107.0 m2</br>Rooms: 4",
          "Rent: 10400.0 DKK</br>Size: 112.0 m2</br>Rooms: 5",
          "Rent: 7263.0 DKK</br>Size: 66.0 m2</br>Rooms: 2",
          "Rent: 8837.0 DKK</br>Size: 85.0 m2</br>Rooms: 3",
          "Rent: 11158.0 DKK</br>Size: 112.0 m2</br>Rooms: 4",
          "Rent: 13772.0 DKK</br>Size: 136.0 m2</br>Rooms: 5",
          "Rent: 9267.0 DKK</br>Size: 80.0 m2</br>Rooms: 2",
          "Rent: 10271.0 DKK</br>Size: 88.69999694824219 m2</br>Rooms: 3",
          "Rent: 11438.0 DKK</br>Size: 98.8000030517578 m2</br>Rooms: 3",
          "Rent: 12781.0 DKK</br>Size: 110.5 m2</br>Rooms: 4",
          "Rent: 4479.0 DKK</br>Size: 36.0 m2</br>Rooms: 1",
          "Rent: 6460.0 DKK</br>Size: 69.0 m2</br>Rooms: 2",
          "Rent: 6256.0 DKK</br>Size: 65.0 m2</br>Rooms: 2",
          "Rent: 7460.0 DKK</br>Size: 84.0 m2</br>Rooms: 3",
          "Rent: 7563.0 DKK</br>Size: 84.0 m2</br>Rooms: 3",
          "Rent: 8664.0 DKK</br>Size: 97.0 m2</br>Rooms: 4",
          "Rent: 8845.0 DKK</br>Size: 105.0 m2</br>Rooms: 5",
          "Rent: 7279.0 DKK</br>Size: 65.30000305175781 m2</br>Rooms: 2",
          "Rent: 8889.0 DKK</br>Size: 81.5999984741211 m2</br>Rooms: 3",
          "Rent: 10232.0 DKK</br>Size: 95.1999969482422 m2</br>Rooms: 4",
          "Rent: 11579.0 DKK</br>Size: 108.8000030517578 m2</br>Rooms: 5",
          "Rent: 7750.0 DKK</br>Size: 82.0 m2</br>Rooms: 3",
          "Rent: 8749.0 DKK</br>Size: 86.0 m2</br>Rooms: 4",
          "Rent: 7120.0 DKK</br>Size: 67.0 m2</br>Rooms: 2",
          "Rent: 7120.0 DKK</br>Size: 67.0 m2</br>Rooms: 2",
          "Rent: 8455.0 DKK</br>Size: 87.30000305175781 m2</br>Rooms: 3",
          "Rent: 9623.0 DKK</br>Size: 97.5999984741211 m2</br>Rooms: 4",
          "Rent: 7607.0 DKK</br>Size: 81.0 m2</br>Rooms: 3",
          "Rent: 8462.0 DKK</br>Size: 91.0 m2</br>Rooms: 3",
          "Rent: 9588.0 DKK</br>Size: 103.0 m2</br>Rooms: 3",
          "Rent: 9964.0 DKK</br>Size: 108.0 m2</br>Rooms: 3",
          "Rent: 10712.0 DKK</br>Size: 115.0 m2</br>Rooms: 4",
          "Rent: 4380.0 DKK</br>Size: 50.0 m2</br>Rooms: 2",
          "Rent: 8117.0 DKK</br>Size: 76.0 m2</br>Rooms: 2",
          "Rent: 9511.0 DKK</br>Size: 90.0 m2</br>Rooms: 3",
          "Rent: 8801.0 DKK</br>Size: 76.0 m2</br>Rooms: 2",
          "Rent: 9345.0 DKK</br>Size: 77.0 m2</br>Rooms: 2",
          "Rent: 9345.0 DKK</br>Size: 77.0 m2</br>Rooms: 2",
          "Rent: 8839.0 DKK</br>Size: 88.0 m2</br>Rooms: 2",
          "Rent: 10648.0 DKK</br>Size: 95.0 m2</br>Rooms: 3",
          "Rent: 10857.0 DKK</br>Size: 108.0 m2</br>Rooms: 3",
          "Rent: 10668.0 DKK</br>Size: 98.0 m2</br>Rooms: 3",
          "Rent: 5649.0 DKK</br>Size: 48.79999923706055 m2</br>Rooms: 2",
          "Rent: 8259.0 DKK</br>Size: 84.80000305175781 m2</br>Rooms: 3",
          "Rent: 7124.0 DKK</br>Size: 61.29999923706055 m2</br>Rooms: 2",
          "Rent: 6950.0 DKK</br>Size: 66.69999694824219 m2</br>Rooms: 2",
          "Rent: 8868.0 DKK</br>Size: 84.9000015258789 m2</br>Rooms: 3",
          "Rent: 8982.0 DKK</br>Size: 94.8000030517578 m2</br>Rooms: 4",
          "Rent: 5498.0 DKK</br>Size: 55.0 m2</br>Rooms: 2",
          "Rent: 7503.0 DKK</br>Size: 76.0 m2</br>Rooms: 3",
          "Rent: 9956.0 DKK</br>Size: 102.0 m2</br>Rooms: 4",
          "Rent: 10883.0 DKK</br>Size: 109.0 m2</br>Rooms: 5",
          "Rent: 6826.0 DKK</br>Size: 61.0 m2</br>Rooms: 2",
          "Rent: 8611.24 DKK</br>Size: 76.0 m2</br>Rooms: 3",
          "Rent: 10961.0 DKK</br>Size: 110.0 m2</br>Rooms: 4",
          "Rent: 6482.0 DKK</br>Size: 63.0 m2</br>Rooms: 2",
          "Rent: 6878.0 DKK</br>Size: 67.0 m2</br>Rooms: 2",
          "Rent: 7719.0 DKK</br>Size: 75.5 m2</br>Rooms: 3",
          "Rent: 9598.0 DKK</br>Size: 94.5 m2</br>Rooms: 3",
          "Rent: 7798.0 DKK</br>Size: 79.4000015258789 m2</br>Rooms: 3",
          "Rent: 6269.0 DKK</br>Size: 58.70000076293945 m2</br>Rooms: 2",
          "Rent: 7045.0 DKK</br>Size: 68.9000015258789 m2</br>Rooms: 2",
          "Rent: 9142.0 DKK</br>Size: 83.69999694824219 m2</br>Rooms: 3",
          "Rent: 5963.0 DKK</br>Size: 58.0 m2</br>Rooms: 2",
          "Rent: 6188.0 DKK</br>Size: 70.0 m2</br>Rooms: 2",
          "Rent: 6800.0 DKK</br>Size: 85.0 m2</br>Rooms: 3",
          "Rent: 7239.0 DKK</br>Size: 103.0 m2</br>Rooms: 4",
          "Rent: 6818.0 DKK</br>Size: 65.0 m2</br>Rooms: 2",
          "Rent: 10110.0 DKK</br>Size: 109.0 m2</br>Rooms: 4",
          "Rent: 8067.38 DKK</br>Size: 83.19999694824219 m2</br>Rooms: 3",
          "Rent: 9464.0 DKK</br>Size: 87.0 m2</br>Rooms: 3",
          "Rent: 9464.0 DKK</br>Size: 87.0 m2</br>Rooms: 3",
          "Rent: 9711.0 DKK</br>Size: 89.4000015258789 m2</br>Rooms: 3",
          "Rent: 11901.0 DKK</br>Size: 110.0 m2</br>Rooms: 4",
          "Rent: 11901.0 DKK</br>Size: 110.0 m2</br>Rooms: 4",
          "Rent: 8347.0 DKK</br>Size: 84.0 m2</br>Rooms: 3",
          "Rent: 7815.0 DKK</br>Size: 69.0 m2</br>Rooms: 2",
          "Rent: 8875.0 DKK</br>Size: 70.0 m2</br>Rooms: 2",
          "Rent: 9260.0 DKK</br>Size: 84.0 m2</br>Rooms: 3",
          "Rent: 9104.0 DKK</br>Size: 85.0 m2</br>Rooms: 3",
          "Rent: 8528.0 DKK</br>Size: 86.0 m2</br>Rooms: 3",
          "Rent: 7204.0 DKK</br>Size: 70.0 m2</br>Rooms: 2",
          "Rent: 9952.0 DKK</br>Size: 96.0 m2</br>Rooms: 4",
          "Rent: 7167.0 DKK</br>Size: 65.0 m2</br>Rooms: 2",
          "Rent: 3443.0 DKK</br>Size: 33.0 m2</br>Rooms: 1",
          "Rent: 6521.0 DKK</br>Size: 62.0 m2</br>Rooms: 2",
          "Rent: 8740.0 DKK</br>Size: 90.0 m2</br>Rooms: 3",
          "Rent: 7975.0 DKK</br>Size: 68.0 m2</br>Rooms: 2",
          "Rent: 9975.0 DKK</br>Size: 95.0 m2</br>Rooms: 3",
          "Rent: 9595.0 DKK</br>Size: 100.8000030517578 m2</br>Rooms: 3",
          "Rent: 9805.0 DKK</br>Size: 103.0 m2</br>Rooms: 3",
          "Rent: 10263.0 DKK</br>Size: 107.8000030517578 m2</br>Rooms: 4",
          "Rent: 10471.0 DKK</br>Size: 110.0 m2</br>Rooms: 4",
          "Rent: 8956.37 DKK</br>Size: 108.0 m2</br>Rooms: 4",
          "Rent: 8464.0 DKK</br>Size: 91.5 m2</br>Rooms: 3",
          "Rent: 8641.0 DKK</br>Size: 93.4000015258789 m2</br>Rooms: 3",
          "Rent: 9562.0 DKK</br>Size: 109.5999984741211 m2</br>Rooms: 4",
          "Rent: 7110.46 DKK</br>Size: 67.30000305175781 m2</br>Rooms: 2",
          "Rent: 6531.0 DKK</br>Size: 55.70000076293945 m2</br>Rooms: 2",
          "Rent: 9558.0 DKK</br>Size: 86.69999694824219 m2</br>Rooms: 3",
          "Rent: 7498.0 DKK</br>Size: 63.79999923706055 m2</br>Rooms: 2",
          "Rent: 8631.0 DKK</br>Size: 84.80000305175781 m2</br>Rooms: 3",
          "Rent: 9748.0 DKK</br>Size: 92.5 m2</br>Rooms: 4",
          "Rent: 10331.0 DKK</br>Size: 94.8000030517578 m2</br>Rooms: 4",
          "Rent: 8304.0 DKK</br>Size: 72.4000015258789 m2</br>Rooms: 2",
          "Rent: 9375.0 DKK</br>Size: 84.5999984741211 m2</br>Rooms: 3",
          "Rent: 9088.0 DKK</br>Size: 98.0 m2</br>Rooms: 4",
          "Rent: 5423.0 DKK</br>Size: 55.0 m2</br>Rooms: 2",
          "Rent: 5654.0 DKK</br>Size: 57.0 m2</br>Rooms: 2",
          "Rent: 8732.0 DKK</br>Size: 104.0 m2</br>Rooms: 4",
          "Rent: 5175.0 DKK</br>Size: 54.0 m2</br>Rooms: 2",
          "Rent: 8146.0 DKK</br>Size: 85.0 m2</br>Rooms: 3",
          "Rent: 9967.0 DKK</br>Size: 104.0 m2</br>Rooms: 4",
          "Rent: 10233.0 DKK</br>Size: 108.0 m2</br>Rooms: 5",
          "Rent: 9110.0 DKK</br>Size: 93.0 m2</br>Rooms: 3",
          "Rent: 10222.0 DKK</br>Size: 107.0 m2</br>Rooms: 4",
          "Rent: 10605.0 DKK</br>Size: 115.0 m2</br>Rooms: 4",
          "Rent: 9654.0 DKK</br>Size: 106.0 m2</br>Rooms: 4",
          "Rent: 8958.0 DKK</br>Size: 89.0999984741211 m2</br>Rooms: 3",
          "Rent: 7981.0 DKK</br>Size: 74.0 m2</br>Rooms: 2",
          "Rent: 12095.0 DKK</br>Size: 110.0 m2</br>Rooms: 4",
          "Rent: 8048.0 DKK</br>Size: 70.0 m2</br>Rooms: 2",
          "Rent: 9102.0 DKK</br>Size: 85.0 m2</br>Rooms: 3",
          "Rent: 8048.0 DKK</br>Size: 70.0 m2</br>Rooms: 2",
          "Rent: 10376.0 DKK</br>Size: 87.80000305175781 m2</br>Rooms: 3",
          "Rent: 8158.0 DKK</br>Size: 72.0 m2</br>Rooms: 2",
          "Rent: 9236.0 DKK</br>Size: 87.80000305175781 m2</br>Rooms: 3",
          "Rent: 8680.0 DKK</br>Size: 111.0 m2</br>Rooms: 4",
          "Rent: 8871.0 DKK</br>Size: 111.0 m2</br>Rooms: 4",
          "Rent: 4350.0 DKK</br>Size: 55.0 m2</br>Rooms: 2",
          "Rent: 4396.0 DKK</br>Size: 55.0 m2</br>Rooms: 2",
          "Rent: 6554.0 DKK</br>Size: 82.0 m2</br>Rooms: 3",
          "Rent: 6710.0 DKK</br>Size: 83.0 m2</br>Rooms: 3",
          "Rent: 12633.0 DKK</br>Size: 112.0 m2</br>Rooms: 4",
          "Rent: 4193.0 DKK</br>Size: 41.0 m2</br>Rooms: 1",
          "Rent: 7877.0 DKK</br>Size: 66.0 m2</br>Rooms: 2",
          "Rent: 10104.0 DKK</br>Size: 88.0 m2</br>Rooms: 2",
          "Rent: 11115.0 DKK</br>Size: 97.0 m2</br>Rooms: 3",
          "Rent: 3871.0 DKK</br>Size: 31.0 m2</br>Rooms: 1",
          "Rent: 3871.0 DKK</br>Size: 31.0 m2</br>Rooms: 1",
          "Rent: 3871.0 DKK</br>Size: 33.0 m2</br>Rooms: 1",
          "Rent: 4077.0 DKK</br>Size: 33.0 m2</br>Rooms: 1",
          "Rent: 4072.0 DKK</br>Size: 35.0 m2</br>Rooms: 1",
          "Rent: 4071.0 DKK</br>Size: 36.0 m2</br>Rooms: 1",
          "Rent: 4072.0 DKK</br>Size: 36.0 m2</br>Rooms: 1",
          "Rent: 4072.0 DKK</br>Size: 36.0 m2</br>Rooms: 1",
          "Rent: 4072.0 DKK</br>Size: 36.0 m2</br>Rooms: 1",
          "Rent: 4071.0 DKK</br>Size: 37.0 m2</br>Rooms: 1",
          "Rent: 4323.0 DKK</br>Size: 42.0 m2</br>Rooms: 2",
          "Rent: 4936.0 DKK</br>Size: 54.0 m2</br>Rooms: 2",
          "Rent: 4929.0 DKK</br>Size: 57.0 m2</br>Rooms: 2",
          "Rent: 5349.0 DKK</br>Size: 66.0 m2</br>Rooms: 2",
          "Rent: 7307.0 DKK</br>Size: 77.5 m2</br>Rooms: 2",
          "Rent: 8039.0 DKK</br>Size: 93.5 m2</br>Rooms: 3",
          "Rent: 5262.0 DKK</br>Size: 63.59999847412109 m2</br>Rooms: 2",
          "Rent: 5372.0 DKK</br>Size: 68.0 m2</br>Rooms: 3",
          "Rent: 5885.0 DKK</br>Size: 81.9000015258789 m2</br>Rooms: 3",
          "Rent: 6724.0 DKK</br>Size: 116.1999969482422 m2</br>Rooms: 4",
          "Rent: 8097.0 DKK</br>Size: 126.1999969482422 m2</br>Rooms: 5",
          "Rent: 10815.0 DKK</br>Size: 125.6999969482422 m2</br>Rooms: 6",
          "Rent: 7056.0 DKK</br>Size: 68.0999984741211 m2</br>Rooms: 2",
          "Rent: 8019.0 DKK</br>Size: 82.0999984741211 m2</br>Rooms: 2",
          "Rent: 7531.0 DKK</br>Size: 81.80000305175781 m2</br>Rooms: 3",
          "Rent: 8034.0 DKK</br>Size: 105.4000015258789 m2</br>Rooms: 3",
          "Rent: 6040.0 DKK</br>Size: 66.0 m2</br>Rooms: 2",
          "Rent: 7707.0 DKK</br>Size: 110.0 m2</br>Rooms: 5",
          "Rent: 6040.0 DKK</br>Size: 66.0 m2</br>Rooms: 2",
          "Rent: 7444.0 DKK</br>Size: 85.0 m2</br>Rooms: 3",
          "Rent: 7774.0 DKK</br>Size: 93.0 m2</br>Rooms: 4",
          "Rent: 7203.0 DKK</br>Size: 96.0 m2</br>Rooms: 4",
          "Rent: 6775.0 DKK</br>Size: 72.0 m2</br>Rooms: 2",
          "Rent: 6777.0 DKK</br>Size: 72.0 m2</br>Rooms: 2",
          "Rent: 8001.0 DKK</br>Size: 89.0 m2</br>Rooms: 3",
          "Rent: 7992.0 DKK</br>Size: 88.0 m2</br>Rooms: 3",
          "Rent: 8661.0 DKK</br>Size: 97.0 m2</br>Rooms: 4",
          "Rent: 6325.0 DKK</br>Size: 64.19999694824219 m2</br>Rooms: 2",
          "Rent: 7223.0 DKK</br>Size: 74.69999694824219 m2</br>Rooms: 3",
          "Rent: 7654.0 DKK</br>Size: 82.4000015258789 m2</br>Rooms: 3",
          "Rent: 9341.0 DKK</br>Size: 105.4000015258789 m2</br>Rooms: 4",
          "Rent: 6529.0 DKK</br>Size: 64.19999694824219 m2</br>Rooms: 2",
          "Rent: 7270.0 DKK</br>Size: 74.69999694824219 m2</br>Rooms: 3",
          "Rent: 6772.0 DKK</br>Size: 71.0999984741211 m2</br>Rooms: 2",
          "Rent: 6888.0 DKK</br>Size: 66.69999694824219 m2</br>Rooms: 3",
          "Rent: 7226.0 DKK</br>Size: 84.5999984741211 m2</br>Rooms: 3",
          "Rent: 7839.0 DKK</br>Size: 84.69999694824219 m2</br>Rooms: 3",
          "Rent: 7122.0 DKK</br>Size: 83.69999694824219 m2</br>Rooms: 4",
          "Rent: 8238.0 DKK</br>Size: 88.5 m2</br>Rooms: 3",
          "Rent: 7994.0 DKK</br>Size: 84.5999984741211 m2</br>Rooms: 4",
          "Rent: 5814.78 DKK</br>Size: 59.0 m2</br>Rooms: 2",
          "Rent: 7021.67 DKK</br>Size: 76.0 m2</br>Rooms: 3",
          "Rent: 7861.56 DKK</br>Size: 90.0 m2</br>Rooms: 4",
          "Rent: 7443.0 DKK</br>Size: 66.0 m2</br>Rooms: 2",
          "Rent: 9391.0 DKK</br>Size: 88.0 m2</br>Rooms: 3",
          "Rent: 10451.0 DKK</br>Size: 99.0 m2</br>Rooms: 4",
          "Rent: 11429.0 DKK</br>Size: 110.0 m2</br>Rooms: 5",
          "Rent: 7569.0 DKK</br>Size: 67.0 m2</br>Rooms: 2",
          "Rent: 9431.0 DKK</br>Size: 88.0 m2</br>Rooms: 3",
          "Rent: 9037.0 DKK</br>Size: 89.5999984741211 m2</br>Rooms: 2",
          "Rent: 7247.0 DKK</br>Size: 67.5999984741211 m2</br>Rooms: 2",
          "Rent: 9053.0 DKK</br>Size: 89.5999984741211 m2</br>Rooms: 3",
          "Rent: 10632.0 DKK</br>Size: 108.8000030517578 m2</br>Rooms: 3",
          "Rent: 6992.0 DKK</br>Size: 69.0 m2</br>Rooms: 2",
          "Rent: 7662.0 DKK</br>Size: 69.0 m2</br>Rooms: 2",
          "Rent: 7971.0 DKK</br>Size: 93.0 m2</br>Rooms: 3",
          "Rent: 8985.0 DKK</br>Size: 103.0 m2</br>Rooms: 4",
          "Rent: 9639.0 DKK</br>Size: 86.0999984741211 m2</br>Rooms: 3",
          "Rent: 11049.0 DKK</br>Size: 100.0 m2</br>Rooms: 3",
          "Rent: 11011.0 DKK</br>Size: 102.0 m2</br>Rooms: 4",
          "Rent: 12350.0 DKK</br>Size: 115.0 m2</br>Rooms: 4",
          "Rent: 12112.0 DKK</br>Size: 114.8000030517578 m2</br>Rooms: 5",
          "Rent: 7495.0 DKK</br>Size: 85.0 m2</br>Rooms: 3",
          "Rent: 6657.0 DKK</br>Size: 66.0 m2</br>Rooms: 2",
          "Rent: 8690.0 DKK</br>Size: 98.0 m2</br>Rooms: 4",
          "Rent: 6657.0 DKK</br>Size: 66.0 m2</br>Rooms: 2",
          "Rent: 8166.0 DKK</br>Size: 102.0 m2</br>Rooms: 4",
          "Rent: 9473.0 DKK</br>Size: 115.0 m2</br>Rooms: 5",
          "Rent: 5224.0 DKK</br>Size: 54.0 m2</br>Rooms: 2",
          "Rent: 7786.0 DKK</br>Size: 66.0 m2</br>Rooms: 2",
          "Rent: 9147.0 DKK</br>Size: 86.0 m2</br>Rooms: 2",
          "Rent: 9147.0 DKK</br>Size: 82.0 m2</br>Rooms: 3",
          "Rent: 10588.0 DKK</br>Size: 102.0 m2</br>Rooms: 3",
          "Rent: 9596.0 DKK</br>Size: 108.0 m2</br>Rooms: 3",
          "Rent: 10555.0 DKK</br>Size: 114.0 m2</br>Rooms: 4",
          "Rent: 9501.0 DKK</br>Size: 89.0 m2</br>Rooms: 3",
          "Rent: 4592.0 DKK</br>Size: 34.0 m2</br>Rooms: 1",
          "Rent: 8200.0 DKK</br>Size: 77.0 m2</br>Rooms: 2",
          "Rent: 10504.0 DKK</br>Size: 103.0 m2</br>Rooms: 4",
          "Rent: 11705.0 DKK</br>Size: 112.0 m2</br>Rooms: 4",
          "Rent: 8811.0 DKK</br>Size: 93.0 m2</br>Rooms: 3",
          "Rent: 10062.0 DKK</br>Size: 102.0 m2</br>Rooms: 4",
          "Rent: 10724.0 DKK</br>Size: 110.0 m2</br>Rooms: 5",
          "Rent: 6791.0 DKK</br>Size: 68.0 m2</br>Rooms: 2",
          "Rent: 7995.0 DKK</br>Size: 83.0 m2</br>Rooms: 3",
          "Rent: 5188.0 DKK</br>Size: 59.5 m2</br>Rooms: 2",
          "Rent: 6672.0 DKK</br>Size: 76.5 m2</br>Rooms: 3",
          "Rent: 8404.63 DKK</br>Size: 90.1999969482422 m2</br>Rooms: 4",
          "Rent: 7322.0 DKK</br>Size: 74.0 m2</br>Rooms: 2",
          "Rent: 8177.0 DKK</br>Size: 94.0 m2</br>Rooms: 3",
          "Rent: 8642.0 DKK</br>Size: 103.0 m2</br>Rooms: 4",
          "Rent: 8246.0 DKK</br>Size: 94.0 m2</br>Rooms: 4",
          "Rent: 6370.0 DKK</br>Size: 66.0 m2</br>Rooms: 2",
          "Rent: 7549.0 DKK</br>Size: 93.0 m2</br>Rooms: 3",
          "Rent: 8882.0 DKK</br>Size: 111.0 m2</br>Rooms: 5",
          "Rent: 7783.0 DKK</br>Size: 99.0 m2</br>Rooms: 4",
          "Rent: 6684.0 DKK</br>Size: 73.0 m2</br>Rooms: 2",
          "Rent: 7312.0 DKK</br>Size: 87.0 m2</br>Rooms: 3",
          "Rent: 6852.0 DKK</br>Size: 60.900001525878906 m2</br>Rooms: 2",
          "Rent: 9011.0 DKK</br>Size: 90.4000015258789 m2</br>Rooms: 3",
          "Rent: 9163.0 DKK</br>Size: 92.5 m2</br>Rooms: 4",
          "Rent: 6688.0 DKK</br>Size: 70.0 m2</br>Rooms: 2",
          "Rent: 7555.0 DKK</br>Size: 88.0 m2</br>Rooms: 3",
          "Rent: 7957.0 DKK</br>Size: 98.0 m2</br>Rooms: 4",
          "Rent: 7134.0 DKK</br>Size: 90.0 m2</br>Rooms: 5",
          "Rent: 5705.0 DKK</br>Size: 70.0 m2</br>Rooms: 3",
          "Rent: 6702.0 DKK</br>Size: 87.0 m2</br>Rooms: 3",
          "Rent: 6613.0 DKK</br>Size: 80.0 m2</br>Rooms: 4",
          "Rent: 7552.0 DKK</br>Size: 114.0 m2</br>Rooms: 5",
          "Rent: 9008.0 DKK</br>Size: 90.3000030517578 m2</br>Rooms: 3",
          "Rent: 9008.0 DKK</br>Size: 91.1999969482422 m2</br>Rooms: 4",
          "Rent: 9617.0 DKK</br>Size: 97.6999969482422 m2</br>Rooms: 4",
          "Rent: 6560.0 DKK</br>Size: 66.4000015258789 m2</br>Rooms: 1",
          "Rent: 7802.0 DKK</br>Size: 78.0 m2</br>Rooms: 2",
          "Rent: 8801.0 DKK</br>Size: 92.0999984741211 m2</br>Rooms: 3",
          "Rent: 9854.0 DKK</br>Size: 87.5999984741211 m2</br>Rooms: 4",
          "Rent: 13403.0 DKK</br>Size: 127.4000015258789 m2</br>Rooms: 5",
          "Rent: 7628.0 DKK</br>Size: 71.12000274658203 m2</br>Rooms: 2",
          "Rent: 8564.0 DKK</br>Size: 83.45999908447266 m2</br>Rooms: 3",
          "Rent: 10075.0 DKK</br>Size: 110.22000122070312 m2</br>Rooms: 4",
          "Rent: 8645.0 DKK</br>Size: 84.0 m2</br>Rooms: 3",
          "Rent: 9443.0 DKK</br>Size: 94.0 m2</br>Rooms: 3",
          "Rent: 5840.0 DKK</br>Size: 53.0 m2</br>Rooms: 1",
          "Rent: 7569.0 DKK</br>Size: 70.0 m2</br>Rooms: 2",
          "Rent: 8512.0 DKK</br>Size: 74.0 m2</br>Rooms: 3",
          "Rent: 10387.0 DKK</br>Size: 97.0 m2</br>Rooms: 4",
          "Rent: 7429.0 DKK</br>Size: 73.98999786376953 m2</br>Rooms: 2",
          "Rent: 8209.0 DKK</br>Size: 84.5 m2</br>Rooms: 3",
          "Rent: 7429.0 DKK</br>Size: 73.98999786376953 m2</br>Rooms: 2",
          "Rent: 8992.0 DKK</br>Size: 93.30999755859376 m2</br>Rooms: 3",
          "Rent: 9939.0 DKK</br>Size: 113.48999786376952 m2</br>Rooms: 4",
          "Rent: 7768.0 DKK</br>Size: 78.0 m2</br>Rooms: 2",
          "Rent: 8259.0 DKK</br>Size: 91.0 m2</br>Rooms: 3",
          "Rent: 8751.0 DKK</br>Size: 104.0 m2</br>Rooms: 4",
          "Rent: 6971.1 DKK</br>Size: 75.0 m2</br>Rooms: 3",
          "Rent: 6940.0 DKK</br>Size: 67.0 m2</br>Rooms: 2",
          "Rent: 5633.0 DKK</br>Size: 54.0 m2</br>Rooms: 1",
          "Rent: 8050.0 DKK</br>Size: 78.0 m2</br>Rooms: 3",
          "Rent: 11606.0 DKK</br>Size: 114.0 m2</br>Rooms: 4",
          "Rent: 7583.0 DKK</br>Size: 75.0 m2</br>Rooms: 2",
          "Rent: 8192.0 DKK</br>Size: 91.0 m2</br>Rooms: 3",
          "Rent: 8433.0 DKK</br>Size: 93.0 m2</br>Rooms: 3",
          "Rent: 8922.0 DKK</br>Size: 104.0 m2</br>Rooms: 4",
          "Rent: 7028.0 DKK</br>Size: 82.0 m2</br>Rooms: 4",
          "Rent: 7781.1 DKK</br>Size: 71.0 m2</br>Rooms: 2",
          "Rent: 7397.0 DKK</br>Size: 73.0 m2</br>Rooms: 3",
          "Rent: 8127.0 DKK</br>Size: 80.0 m2</br>Rooms: 3",
          "Rent: 8588.67 DKK</br>Size: 82.0 m2</br>Rooms: 4",
          "Rent: 10224.0 DKK</br>Size: 90.0999984741211 m2</br>Rooms: 3",
          "Rent: 12811.0 DKK</br>Size: 110.9000015258789 m2</br>Rooms: 4",
          "Rent: 8105.0 DKK</br>Size: 80.0 m2</br>Rooms: 2",
          "Rent: 5638.0 DKK</br>Size: 47.0 m2</br>Rooms: 1",
          "Rent: 5857.0 DKK</br>Size: 50.0 m2</br>Rooms: 1",
          "Rent: 6786.0 DKK</br>Size: 62.0 m2</br>Rooms: 1",
          "Rent: 6786.0 DKK</br>Size: 62.0 m2</br>Rooms: 2",
          "Rent: 8813.0 DKK</br>Size: 89.0 m2</br>Rooms: 3",
          "Rent: 7169.09 DKK</br>Size: 71.0 m2</br>Rooms: 2",
          "Rent: 7616.0 DKK</br>Size: 82.0 m2</br>Rooms: 3",
          "Rent: 8253.0 DKK</br>Size: 94.0 m2</br>Rooms: 4",
          "Rent: 8511.15 DKK</br>Size: 99.0 m2</br>Rooms: 4",
          "Rent: 7271.0 DKK</br>Size: 90.0 m2</br>Rooms: 4",
          "Rent: 7282.0 DKK</br>Size: 73.80000305175781 m2</br>Rooms: 2",
          "Rent: 7326.0 DKK</br>Size: 75.0 m2</br>Rooms: 2",
          "Rent: 7874.0 DKK</br>Size: 87.0 m2</br>Rooms: 3",
          "Rent: 7984.0 DKK</br>Size: 89.0 m2</br>Rooms: 3",
          "Rent: 7984.0 DKK</br>Size: 90.0 m2</br>Rooms: 3",
          "Rent: 8151.85 DKK</br>Size: 90.0 m2</br>Rooms: 3",
          "Rent: 8512.45 DKK</br>Size: 105.0 m2</br>Rooms: 4",
          "Rent: 9907.0 DKK</br>Size: 83.0 m2</br>Rooms: 3",
          "Rent: 7519.0 DKK</br>Size: 51.0 m2</br>Rooms: 2",
          "Rent: 12578.0 DKK</br>Size: 115.0 m2</br>Rooms: 3",
          "Rent: 10680.0 DKK</br>Size: 91.0 m2</br>Rooms: 4",
          "Rent: 8059.0 DKK</br>Size: 84.0 m2</br>Rooms: 3",
          "Rent: 8073.16 DKK</br>Size: 85.0 m2</br>Rooms: 3",
          "Rent: 7180.0 DKK</br>Size: 68.0 m2</br>Rooms: 2",
          "Rent: 7197.28 DKK</br>Size: 68.0 m2</br>Rooms: 2",
          "Rent: 9024.0 DKK</br>Size: 104.0 m2</br>Rooms: 4",
          "Rent: 9146.0 DKK</br>Size: 108.0 m2</br>Rooms: 4",
          "Rent: 9365.0 DKK</br>Size: 111.0 m2</br>Rooms: 5",
          "Rent: 9486.0 DKK</br>Size: 114.0 m2</br>Rooms: 5",
          "Rent: 5742.0 DKK</br>Size: 53.0 m2</br>Rooms: 2",
          "Rent: 6281.0 DKK</br>Size: 61.0 m2</br>Rooms: 2",
          "Rent: 7006.0 DKK</br>Size: 73.0 m2</br>Rooms: 2",
          "Rent: 7339.0 DKK</br>Size: 77.0 m2</br>Rooms: 2",
          "Rent: 8270.0 DKK</br>Size: 92.0 m2</br>Rooms: 3",
          "Rent: 8270.0 DKK</br>Size: 92.0 m2</br>Rooms: 3",
          "Rent: 8842.0 DKK</br>Size: 103.0 m2</br>Rooms: 4",
          "Rent: 9951.0 DKK</br>Size: 121.0 m2</br>Rooms: 4",
          "Rent: 10677.0 DKK</br>Size: 133.0 m2</br>Rooms: 5",
          "Rent: 10134.0 DKK</br>Size: 89.0 m2</br>Rooms: 3",
          "Rent: 10348.0 DKK</br>Size: 92.0 m2</br>Rooms: 3",
          "Rent: 7277.0 DKK</br>Size: 52.0 m2</br>Rooms: 2",
          "Rent: 9846.0 DKK</br>Size: 85.0 m2</br>Rooms: 3",
          "Rent: 11999.0 DKK</br>Size: 115.0 m2</br>Rooms: 4",
          "Rent: 8889.0 DKK</br>Size: 92.0 m2</br>Rooms: 3",
          "Rent: 9931.0 DKK</br>Size: 108.0 m2</br>Rooms: 3",
          "Rent: 9641.0 DKK</br>Size: 108.0 m2</br>Rooms: 4",
          "Rent: 10335.0 DKK</br>Size: 118.0 m2</br>Rooms: 4",
          "Rent: 10956.0 DKK</br>Size: 108.0 m2</br>Rooms: 3",
          "Rent: 5341.0 DKK</br>Size: 33.0 m2</br>Rooms: 1",
          "Rent: 7100.0 DKK</br>Size: 55.0 m2</br>Rooms: 2",
          "Rent: 8305.0 DKK</br>Size: 72.0 m2</br>Rooms: 2",
          "Rent: 8517.0 DKK</br>Size: 75.0 m2</br>Rooms: 3",
          "Rent: 9822.0 DKK</br>Size: 92.0 m2</br>Rooms: 3",
          "Rent: 9822.0 DKK</br>Size: 92.0 m2</br>Rooms: 4",
          "Rent: 10318.0 DKK</br>Size: 99.0 m2</br>Rooms: 4",
          "Rent: 7777.0 DKK</br>Size: 88.0 m2</br>Rooms: 3",
          "Rent: 8414.0 DKK</br>Size: 103.0 m2</br>Rooms: 4",
          "Rent: 7432.0 DKK</br>Size: 88.0 m2</br>Rooms: 3",
          "Rent: 8004.0 DKK</br>Size: 101.0 m2</br>Rooms: 4",
          "Rent: 8523.0 DKK</br>Size: 116.0 m2</br>Rooms: 5",
          "Rent: 9817.0 DKK</br>Size: 88.0 m2</br>Rooms: 3",
          "Rent: 10590.0 DKK</br>Size: 104.0 m2</br>Rooms: 4",
          "Rent: 10590.0 DKK</br>Size: 104.0 m2</br>Rooms: 4",
          "Rent: 10722.0 DKK</br>Size: 107.0 m2</br>Rooms: 5",
          "Rent: 9817.0 DKK</br>Size: 88.0 m2</br>Rooms: 3",
          "Rent: 10379.0 DKK</br>Size: 115.0 m2</br>Rooms: 5",
          "Rent: 5355.0 DKK</br>Size: 41.0 m2</br>Rooms: 1",
          "Rent: 6237.0 DKK</br>Size: 51.0 m2</br>Rooms: 2",
          "Rent: 7607.0 DKK</br>Size: 71.0 m2</br>Rooms: 2",
          "Rent: 7605.0 DKK</br>Size: 70.0 m2</br>Rooms: 3",
          "Rent: 9651.0 DKK</br>Size: 106.0 m2</br>Rooms: 3",
          "Rent: 10144.0 DKK</br>Size: 105.0 m2</br>Rooms: 4",
          "Rent: 10067.0 DKK</br>Size: 111.0 m2</br>Rooms: 4",
          "Rent: 7237.0 DKK</br>Size: 55.52999877929688 m2</br>Rooms: 2",
          "Rent: 9051.0 DKK</br>Size: 78.12000274658203 m2</br>Rooms: 2",
          "Rent: 8448.0 DKK</br>Size: 69.05999755859375 m2</br>Rooms: 3",
          "Rent: 10466.0 DKK</br>Size: 94.18000030517578 m2</br>Rooms: 4",
          "Rent: 5477.0 DKK</br>Size: 70.0 m2</br>Rooms: 2",
          "Rent: 7187.13 DKK</br>Size: 85.0 m2</br>Rooms: 3",
          "Rent: 5060.0 DKK</br>Size: 52.0 m2</br>Rooms: 2",
          "Rent: 5515.0 DKK</br>Size: 59.0 m2</br>Rooms: 2",
          "Rent: 8256.32 DKK</br>Size: 84.0 m2</br>Rooms: 3",
          "Rent: 7951.0 DKK</br>Size: 85.0 m2</br>Rooms: 3",
          "Rent: 8847.0 DKK</br>Size: 94.6999969482422 m2</br>Rooms: 4",
          "Rent: 11277.0 DKK</br>Size: 101.0 m2</br>Rooms: 4",
          "Rent: 12265.0 DKK</br>Size: 111.0 m2</br>Rooms: 4",
          "Rent: 7605.0 DKK</br>Size: 62.0 m2</br>Rooms: 2",
          "Rent: 7428.0 DKK</br>Size: 59.0 m2</br>Rooms: 2",
          "Rent: 7428.0 DKK</br>Size: 59.0 m2</br>Rooms: 2",
          "Rent: 8879.0 DKK</br>Size: 81.0 m2</br>Rooms: 3",
          "Rent: 9293.0 DKK</br>Size: 88.0 m2</br>Rooms: 3",
          "Rent: 6360.0 DKK</br>Size: 80.0 m2</br>Rooms: 2",
          "Rent: 7650.0 DKK</br>Size: 95.0 m2</br>Rooms: 3",
          "Rent: 8152.82 DKK</br>Size: 95.0 m2</br>Rooms: 4",
          "Rent: 7208.0 DKK</br>Size: 65.0 m2</br>Rooms: 2",
          "Rent: 8150.0 DKK</br>Size: 82.9000015258789 m2</br>Rooms: 3",
          "Rent: 8175.0 DKK</br>Size: 83.30000305175781 m2</br>Rooms: 3",
          "Rent: 8949.0 DKK</br>Size: 99.5999984741211 m2</br>Rooms: 4",
          "Rent: 9356.0 DKK</br>Size: 106.5999984741211 m2</br>Rooms: 4",
          "Rent: 7592.0 DKK</br>Size: 66.0 m2</br>Rooms: 2",
          "Rent: 8124.0 DKK</br>Size: 88.0999984741211 m2</br>Rooms: 3",
          "Rent: 8415.0 DKK</br>Size: 93.3000030517578 m2</br>Rooms: 3",
          "Rent: 8911.0 DKK</br>Size: 99.5 m2</br>Rooms: 4",
          "Rent: 9196.0 DKK</br>Size: 104.5999984741211 m2</br>Rooms: 4",
          "Rent: 9785.0 DKK</br>Size: 115.1999969482422 m2</br>Rooms: 4",
          "Rent: 9785.0 DKK</br>Size: 115.1999969482422 m2</br>Rooms: 5",
          "Rent: 8335.0 DKK</br>Size: 81.0 m2</br>Rooms: 3",
          "Rent: 9420.0 DKK</br>Size: 96.0 m2</br>Rooms: 4",
          "Rent: 10544.0 DKK</br>Size: 115.0 m2</br>Rooms: 5",
          "Rent: 13174.0 DKK</br>Size: 88.0 m2</br>Rooms: 2",
          "Rent: 16046.0 DKK</br>Size: 110.6999969482422 m2</br>Rooms: 2",
          "Rent: 5395.0 DKK</br>Size: 34.400001525878906 m2</br>Rooms: 1",
          "Rent: 9646.0 DKK</br>Size: 60.09999847412109 m2</br>Rooms: 1",
          "Rent: 11087.0 DKK</br>Size: 71.5 m2</br>Rooms: 1",
          "Rent: 9898.0 DKK</br>Size: 62.09999847412109 m2</br>Rooms: 2",
          "Rent: 13288.0 DKK</br>Size: 88.9000015258789 m2</br>Rooms: 3",
          "Rent: 15780.0 DKK</br>Size: 108.5999984741211 m2</br>Rooms: 3",
          "Rent: 15477.0 DKK</br>Size: 106.1999969482422 m2</br>Rooms: 4",
          "Rent: 16615.0 DKK</br>Size: 115.1999969482422 m2</br>Rooms: 4",
          "Rent: 6728.0 DKK</br>Size: 75.0 m2</br>Rooms: 3",
          "Rent: 5172.0 DKK</br>Size: 56.0 m2</br>Rooms: 2",
          "Rent: 6647.0 DKK</br>Size: 72.69999694824219 m2</br>Rooms: 2",
          "Rent: 6340.0 DKK</br>Size: 65.0 m2</br>Rooms: 3",
          "Rent: 9165.0 DKK</br>Size: 108.0 m2</br>Rooms: 4",
          "Rent: 6773.0 DKK</br>Size: 100.0 m2</br>Rooms: 3",
          "Rent: 6283.0 DKK</br>Size: 100.0 m2</br>Rooms: 4",
          "Rent: 6959.0 DKK</br>Size: 75.0 m2</br>Rooms: 3",
          "Rent: 6348.0 DKK</br>Size: 67.0 m2</br>Rooms: 2",
          "Rent: 5937.0 DKK</br>Size: 69.0 m2</br>Rooms: 3",
          "Rent: 6424.0 DKK</br>Size: 74.0 m2</br>Rooms: 3",
          "Rent: 7523.0 DKK</br>Size: 83.0 m2</br>Rooms: 4",
          "Rent: 5455.5 DKK</br>Size: 69.30000305175781 m2</br>Rooms: 3",
          "Rent: 6150.0 DKK</br>Size: 80.5999984741211 m2</br>Rooms: 4",
          "Rent: 6412.5 DKK</br>Size: 102.0 m2</br>Rooms: 5",
          "Rent: 4243.0 DKK</br>Size: 40.0 m2</br>Rooms: 1",
          "Rent: 5154.0 DKK</br>Size: 52.0 m2</br>Rooms: 2",
          "Rent: 5487.6 DKK</br>Size: 45.0 m2</br>Rooms: 1",
          "Rent: 7907.99 DKK</br>Size: 71.0 m2</br>Rooms: 1",
          "Rent: 7668.82 DKK</br>Size: 63.0 m2</br>Rooms: 2",
          "Rent: 7772.19 DKK</br>Size: 63.0 m2</br>Rooms: 2",
          "Rent: 8602.25 DKK</br>Size: 82.0 m2</br>Rooms: 3",
          "Rent: 8972.49 DKK</br>Size: 85.0 m2</br>Rooms: 4",
          "Rent: 11503.93 DKK</br>Size: 103.0 m2</br>Rooms: 4",
          "Rent: 12861.7 DKK</br>Size: 134.0 m2</br>Rooms: 5",
          "Rent: 4251.0 DKK</br>Size: 49.0 m2</br>Rooms: 1",
          "Rent: 5081.0 DKK</br>Size: 59.0 m2</br>Rooms: 2",
          "Rent: 6308.0 DKK</br>Size: 72.0 m2</br>Rooms: 2",
          "Rent: 6760.0 DKK</br>Size: 78.0 m2</br>Rooms: 2",
          "Rent: 6968.0 DKK</br>Size: 81.0 m2</br>Rooms: 2",
          "Rent: 6152.0 DKK</br>Size: 72.0 m2</br>Rooms: 3",
          "Rent: 9316.43 DKK</br>Size: 100.0 m2</br>Rooms: 3",
          "Rent: 9071.0 DKK</br>Size: 100.0 m2</br>Rooms: 4",
          "Rent: 9372.0 DKK</br>Size: 115.0 m2</br>Rooms: 4",
          "Rent: 11307.75 DKK</br>Size: 130.0 m2</br>Rooms: 5",
          "Rent: 10858.0 DKK</br>Size: 130.0 m2</br>Rooms: 6",
          "Rent: 10858.0 DKK</br>Size: 130.0 m2</br>Rooms: 4",
          "Rent: 10858.0 DKK</br>Size: 130.0 m2</br>Rooms: 5",
          "Rent: 5553.0 DKK</br>Size: 50.0 m2</br>Rooms: 1",
          "Rent: 7125.0 DKK</br>Size: 61.0 m2</br>Rooms: 2",
          "Rent: 7162.0 DKK</br>Size: 68.0 m2</br>Rooms: 2",
          "Rent: 7479.0 DKK</br>Size: 70.0 m2</br>Rooms: 3",
          "Rent: 8107.0 DKK</br>Size: 79.0 m2</br>Rooms: 3",
          "Rent: 8416.0 DKK</br>Size: 82.0 m2</br>Rooms: 3",
          "Rent: 10542.0 DKK</br>Size: 92.0 m2</br>Rooms: 3",
          "Rent: 10658.0 DKK</br>Size: 101.0 m2</br>Rooms: 3",
          "Rent: 9842.0 DKK</br>Size: 101.0 m2</br>Rooms: 4",
          "Rent: 5934.0396 DKK</br>Size: 51.0 m2</br>Rooms: 2",
          "Rent: 5934.0396 DKK</br>Size: 51.0 m2</br>Rooms: 2",
          "Rent: 5934.0396 DKK</br>Size: 51.0 m2</br>Rooms: 2",
          "Rent: 5934.0396 DKK</br>Size: 51.0 m2</br>Rooms: 2",
          "Rent: 6705.0 DKK</br>Size: 60.0 m2</br>Rooms: 2",
          "Rent: 6705.0 DKK</br>Size: 60.0 m2</br>Rooms: 2",
          "Rent: 6705.0 DKK</br>Size: 60.0 m2</br>Rooms: 2",
          "Rent: 6705.0 DKK</br>Size: 60.0 m2</br>Rooms: 2",
          "Rent: 8685.0 DKK</br>Size: 86.0 m2</br>Rooms: 2",
          "Rent: 8685.0 DKK</br>Size: 86.0 m2</br>Rooms: 2",
          "Rent: 8685.0 DKK</br>Size: 86.0 m2</br>Rooms: 2",
          "Rent: 8685.0 DKK</br>Size: 86.0 m2</br>Rooms: 2",
          "Rent: 9079.0 DKK</br>Size: 91.0 m2</br>Rooms: 3",
          "Rent: 9079.0 DKK</br>Size: 91.0 m2</br>Rooms: 3",
          "Rent: 9079.0 DKK</br>Size: 91.0 m2</br>Rooms: 3",
          "Rent: 9079.0 DKK</br>Size: 91.0 m2</br>Rooms: 3",
          "Rent: 10382.0 DKK</br>Size: 107.0 m2</br>Rooms: 4",
          "Rent: 10382.0 DKK</br>Size: 107.0 m2</br>Rooms: 4",
          "Rent: 10382.0 DKK</br>Size: 107.0 m2</br>Rooms: 4",
          "Rent: 10382.0 DKK</br>Size: 107.0 m2</br>Rooms: 4",
          "Rent: 10663.804 DKK</br>Size: 121.0 m2</br>Rooms: 5",
          "Rent: 10663.804 DKK</br>Size: 121.0 m2</br>Rooms: 5",
          "Rent: 10663.804 DKK</br>Size: 121.0 m2</br>Rooms: 5",
          "Rent: 10663.804 DKK</br>Size: 121.0 m2</br>Rooms: 5",
          "Rent: 5011.0 DKK</br>Size: 62.0 m2</br>Rooms: 2",
          "Rent: 6418.0 DKK</br>Size: 83.0 m2</br>Rooms: 3",
          "Rent: 9020.0 DKK</br>Size: 108.0 m2</br>Rooms: 4",
          "Rent: 7434.37 DKK</br>Size: 67.0 m2</br>Rooms: 2",
          "Rent: 8471.87 DKK</br>Size: 79.0 m2</br>Rooms: 3",
          "Rent: 8505.77 DKK</br>Size: 64.0 m2</br>Rooms: 4",
          "Rent: 13342.8 DKK</br>Size: 114.0 m2</br>Rooms: 4",
          "Rent: 6792.0 DKK</br>Size: 71.0 m2</br>Rooms: 3",
          "Rent: 7875.0 DKK</br>Size: 83.0 m2</br>Rooms: 4",
          "Rent: 8236.0 DKK</br>Size: 90.0 m2</br>Rooms: 3",
          "Rent: 4992.0 DKK</br>Size: 57.0 m2</br>Rooms: 2",
          "Rent: 4039.0 DKK</br>Size: 42.0 m2</br>Rooms: 1",
          "Rent: 4447.0 DKK</br>Size: 50.0 m2</br>Rooms: 2",
          "Rent: 5608.0 DKK</br>Size: 64.0 m2</br>Rooms: 2",
          "Rent: 6733.0 DKK</br>Size: 76.0 m2</br>Rooms: 3",
          "Rent: 7483.0 DKK</br>Size: 80.0 m2</br>Rooms: 3",
          "Rent: 7819.0 DKK</br>Size: 89.0 m2</br>Rooms: 4",
          "Rent: 8625.0 DKK</br>Size: 91.0 m2</br>Rooms: 4",
          "Rent: 5488.0 DKK</br>Size: 61.0 m2</br>Rooms: 2",
          "Rent: 6989.0 DKK</br>Size: 76.0 m2</br>Rooms: 3",
          "Rent: 7914.0 DKK</br>Size: 91.0 m2</br>Rooms: 4",
          "Rent: 5358.0 DKK</br>Size: 71.0 m2</br>Rooms: 2",
          "Rent: 6111.0 DKK</br>Size: 81.0 m2</br>Rooms: 3",
          "Rent: 6838.0 DKK</br>Size: 90.0 m2</br>Rooms: 4",
          "Rent: 7325.0 DKK</br>Size: 97.0 m2</br>Rooms: 4",
          "Rent: 8271.0 DKK</br>Size: 110.0 m2</br>Rooms: 5",
          "Rent: 5280.0 DKK</br>Size: 52.0 m2</br>Rooms: 1",
          "Rent: 7423.0 DKK</br>Size: 75.0 m2</br>Rooms: 2",
          "Rent: 9217.0 DKK</br>Size: 93.0 m2</br>Rooms: 3",
          "Rent: 12071.0 DKK</br>Size: 116.0 m2</br>Rooms: 4",
          "Rent: 5281.05 DKK</br>Size: 51.0 m2</br>Rooms: 2",
          "Rent: 8155.0 DKK</br>Size: 91.0 m2</br>Rooms: 3",
          "Rent: 9933.25 DKK</br>Size: 107.0 m2</br>Rooms: 4",
          "Rent: 4879.0 DKK</br>Size: 52.0 m2</br>Rooms: 2",
          "Rent: 8415.0 DKK</br>Size: 92.0 m2</br>Rooms: 3",
          "Rent: 10442.0 DKK</br>Size: 108.0 m2</br>Rooms: 4",
          "Rent: 11204.0 DKK</br>Size: 121.0 m2</br>Rooms: 5",
          "Rent: 6034.0 DKK</br>Size: 63.0 m2</br>Rooms: 2",
          "Rent: 9145.0 DKK</br>Size: 94.0 m2</br>Rooms: 3",
          "Rent: 11286.0 DKK</br>Size: 115.0 m2</br>Rooms: 4",
          "Rent: 7744.0 DKK</br>Size: 77.0 m2</br>Rooms: 3",
          "Rent: 6212.0 DKK</br>Size: 58.0 m2</br>Rooms: 2",
          "Rent: 7100.0 DKK</br>Size: 68.0 m2</br>Rooms: 2",
          "Rent: 8288.0 DKK</br>Size: 85.0 m2</br>Rooms: 3",
          "Rent: 10415.0 DKK</br>Size: 107.0 m2</br>Rooms: 4",
          "Rent: 9094.0 DKK</br>Size: 85.0 m2</br>Rooms: 3",
          "Rent: 7677.0 DKK</br>Size: 70.0 m2</br>Rooms: 2",
          "Rent: 11006.0 DKK</br>Size: 108.0 m2</br>Rooms: 4",
          "Rent: 8115.0 DKK</br>Size: 96.0 m2</br>Rooms: 1",
          "Rent: 8115.0 DKK</br>Size: 96.0 m2</br>Rooms: 1",
          "Rent: 8115.0 DKK</br>Size: 96.0 m2</br>Rooms: 1",
          "Rent: 8115.0 DKK</br>Size: 96.0 m2</br>Rooms: 1",
          "Rent: 8288.0 DKK</br>Size: 56.5 m2</br>Rooms: 2",
          "Rent: 5696.0 DKK</br>Size: 53.0 m2</br>Rooms: 2",
          "Rent: 4782.0 DKK</br>Size: 65.0 m2</br>Rooms: 2",
          "Rent: 8674.0 DKK</br>Size: 81.0 m2</br>Rooms: 3",
          "Rent: 7539.0 DKK</br>Size: 99.0 m2</br>Rooms: 3",
          "Rent: 7738.0 DKK</br>Size: 67.0 m2</br>Rooms: 2",
          "Rent: 9390.0 DKK</br>Size: 85.0 m2</br>Rooms: 3",
          "Rent: 10843.0 DKK</br>Size: 102.0 m2</br>Rooms: 4",
          "Rent: 7694.0 DKK</br>Size: 78.0 m2</br>Rooms: 2",
          "Rent: 7845.0 DKK</br>Size: 79.0 m2</br>Rooms: 3",
          "Rent: 8369.0 DKK</br>Size: 90.0 m2</br>Rooms: 3",
          "Rent: 8985.0 DKK</br>Size: 104.0 m2</br>Rooms: 4",
          "Rent: 6413.0 DKK</br>Size: 70.0 m2</br>Rooms: 2",
          "Rent: 7243.0 DKK</br>Size: 83.0 m2</br>Rooms: 3",
          "Rent: 6787.0 DKK</br>Size: 68.0 m2</br>Rooms: 2",
          "Rent: 9024.0 DKK</br>Size: 100.0 m2</br>Rooms: 3",
          "Rent: 10457.0 DKK</br>Size: 118.0 m2</br>Rooms: 4",
          "Rent: 10453.0 DKK</br>Size: 118.0 m2</br>Rooms: 5",
          "Rent: 10291.0 DKK</br>Size: 106.0 m2</br>Rooms: 3",
          "Rent: 7633.0 DKK</br>Size: 69.0 m2</br>Rooms: 2",
          "Rent: 7769.0 DKK</br>Size: 71.0 m2</br>Rooms: 3",
          "Rent: 9278.0 DKK</br>Size: 90.0 m2</br>Rooms: 3",
          "Rent: 9278.0 DKK</br>Size: 90.0 m2</br>Rooms: 4",
          "Rent: 9278.0 DKK</br>Size: 92.0 m2</br>Rooms: 4",
          "Rent: 9942.0 DKK</br>Size: 96.0 m2</br>Rooms: 3",
          "Rent: 8484.0 DKK</br>Size: 78.0 m2</br>Rooms: 2",
          "Rent: 9196.0 DKK</br>Size: 87.0 m2</br>Rooms: 3",
          "Rent: 11883.0 DKK</br>Size: 110.0 m2</br>Rooms: 3",
          "Rent: 8417.26 DKK</br>Size: 80.0 m2</br>Rooms: 2",
          "Rent: 11945.0 DKK</br>Size: 108.0 m2</br>Rooms: 4",
          "Rent: 12365.0 DKK</br>Size: 115.0 m2</br>Rooms: 4",
          "Rent: 4502.0 DKK</br>Size: 40.0 m2</br>Rooms: 1",
          "Rent: 5728.0 DKK</br>Size: 52.0 m2</br>Rooms: 1",
          "Rent: 6552.0 DKK</br>Size: 62.0 m2</br>Rooms: 2",
          "Rent: 8252.0 DKK</br>Size: 75.0 m2</br>Rooms: 3",
          "Rent: 9704.0 DKK</br>Size: 97.0 m2</br>Rooms: 3",
          "Rent: 10932.0 DKK</br>Size: 110.0 m2</br>Rooms: 4",
          "Rent: 5911.0 DKK</br>Size: 51.0 m2</br>Rooms: 2",
          "Rent: 6235.0 DKK</br>Size: 59.0 m2</br>Rooms: 2",
          "Rent: 8128.0 DKK</br>Size: 74.0 m2</br>Rooms: 2",
          "Rent: 6286.0 DKK</br>Size: 52.0 m2</br>Rooms: 2",
          "Rent: 7430.0 DKK</br>Size: 65.0 m2</br>Rooms: 2",
          "Rent: 8731.0 DKK</br>Size: 80.0 m2</br>Rooms: 3",
          "Rent: 10209.0 DKK</br>Size: 97.0 m2</br>Rooms: 4",
          "Rent: 11083.0 DKK</br>Size: 107.0 m2</br>Rooms: 4",
          "Rent: 5841.0 DKK</br>Size: 62.400001525878906 m2</br>Rooms: 2",
          "Rent: 7035.0 DKK</br>Size: 73.5 m2</br>Rooms: 3",
          "Rent: 7702.0 DKK</br>Size: 86.0 m2</br>Rooms: 3",
          "Rent: 9880.0 DKK</br>Size: 107.5999984741211 m2</br>Rooms: 4",
          "Rent: 6406.0 DKK</br>Size: 70.0 m2</br>Rooms: 2",
          "Rent: 6092.0 DKK</br>Size: 71.0 m2</br>Rooms: 2",
          "Rent: 6115.0 DKK</br>Size: 72.0 m2</br>Rooms: 2",
          "Rent: 7050.0 DKK</br>Size: 84.0 m2</br>Rooms: 3",
          "Rent: 7051.0 DKK</br>Size: 85.0 m2</br>Rooms: 3",
          "Rent: 8955.0 DKK</br>Size: 106.0 m2</br>Rooms: 4",
          "Rent: 7101.0 DKK</br>Size: 70.0 m2</br>Rooms: 2",
          "Rent: 8942.0 DKK</br>Size: 78.4000015258789 m2</br>Rooms: 3",
          "Rent: 7923.0 DKK</br>Size: 83.5999984741211 m2</br>Rooms: 3",
          "Rent: 5546.0 DKK</br>Size: 53.70000076293945 m2</br>Rooms: 2",
          "Rent: 6705.0 DKK</br>Size: 68.0 m2</br>Rooms: 2",
          "Rent: 7943.0 DKK</br>Size: 84.5999984741211 m2</br>Rooms: 3",
          "Rent: 6582.0 DKK</br>Size: 67.19999694824219 m2</br>Rooms: 2",
          "Rent: 9600.0 DKK</br>Size: 105.6999969482422 m2</br>Rooms: 4",
          "Rent: 6189.0 DKK</br>Size: 67.0 m2</br>Rooms: 2",
          "Rent: 7640.0 DKK</br>Size: 82.0 m2</br>Rooms: 3",
          "Rent: 6322.0 DKK</br>Size: 69.0 m2</br>Rooms: 2",
          "Rent: 7407.0 DKK</br>Size: 85.0 m2</br>Rooms: 3",
          "Rent: 6669.0 DKK</br>Size: 68.19999694824219 m2</br>Rooms: 2",
          "Rent: 7524.0 DKK</br>Size: 80.80000305175781 m2</br>Rooms: 3",
          "Rent: 7682.0 DKK</br>Size: 83.4000015258789 m2</br>Rooms: 3",
          "Rent: 6747.0 DKK</br>Size: 69.4000015258789 m2</br>Rooms: 2",
          "Rent: 7599.0 DKK</br>Size: 82.0 m2</br>Rooms: 3",
          "Rent: 7764.0 DKK</br>Size: 84.5999984741211 m2</br>Rooms: 3",
          "Rent: 8414.0 DKK</br>Size: 99.0 m2</br>Rooms: 4",
          "Rent: 6830.0 DKK</br>Size: 73.0 m2</br>Rooms: 2",
          "Rent: 7664.0 DKK</br>Size: 88.0 m2</br>Rooms: 3",
          "Rent: 6520.0 DKK</br>Size: 65.0 m2</br>Rooms: 2",
          "Rent: 8220.0 DKK</br>Size: 91.0 m2</br>Rooms: 3",
          "Rent: 8963.0 DKK</br>Size: 100.0 m2</br>Rooms: 4",
          "Rent: 6897.0 DKK</br>Size: 74.0 m2</br>Rooms: 2",
          "Rent: 7578.0 DKK</br>Size: 85.0 m2</br>Rooms: 3",
          "Rent: 9106.0 DKK</br>Size: 97.0 m2</br>Rooms: 3",
          "Rent: 6916.0 DKK</br>Size: 75.0 m2</br>Rooms: 2",
          "Rent: 7849.0 DKK</br>Size: 88.0 m2</br>Rooms: 3",
          "Rent: 8196.0 DKK</br>Size: 86.0 m2</br>Rooms: 3",
          "Rent: 9125.0 DKK</br>Size: 101.5999984741211 m2</br>Rooms: 4",
          "Rent: 9175.0 DKK</br>Size: 101.5999984741211 m2</br>Rooms: 4",
          "Rent: 9993.0 DKK</br>Size: 120.0 m2</br>Rooms: 4",
          "Rent: 10421.0 DKK</br>Size: 120.0 m2</br>Rooms: 5",
          "Rent: 3771.0 DKK</br>Size: 29.0 m2</br>Rooms: 1",
          "Rent: 8386.0 DKK</br>Size: 94.0 m2</br>Rooms: 3",
          "Rent: 10487.0 DKK</br>Size: 116.0 m2</br>Rooms: 5",
          "Rent: 7492.0 DKK</br>Size: 66.0 m2</br>Rooms: 2",
          "Rent: 11182.0 DKK</br>Size: 115.0 m2</br>Rooms: 4",
          "Rent: 7062.0 DKK</br>Size: 65.0 m2</br>Rooms: 2",
          "Rent: 9526.0 DKK</br>Size: 94.0 m2</br>Rooms: 3",
          "Rent: 9844.0 DKK</br>Size: 96.0 m2</br>Rooms: 4",
          "Rent: 7164.0 DKK</br>Size: 66.0 m2</br>Rooms: 2",
          "Rent: 8642.0 DKK</br>Size: 83.0 m2</br>Rooms: 3",
          "Rent: 10281.0 DKK</br>Size: 99.0 m2</br>Rooms: 4",
          "Rent: 10449.0 DKK</br>Size: 102.0 m2</br>Rooms: 5",
          "Rent: 6233.0 DKK</br>Size: 59.0 m2</br>Rooms: 2",
          "Rent: 7593.0 DKK</br>Size: 78.0 m2</br>Rooms: 3",
          "Rent: 5390.0 DKK</br>Size: 57.0 m2</br>Rooms: 3",
          "Rent: 6527.0 DKK</br>Size: 72.0 m2</br>Rooms: 4",
          "Rent: 7975.0 DKK</br>Size: 88.0 m2</br>Rooms: 3",
          "Rent: 6555.0 DKK</br>Size: 70.0 m2</br>Rooms: 2",
          "Rent: 9024.0 DKK</br>Size: 95.0 m2</br>Rooms: 3",
          "Rent: 4479.0 DKK</br>Size: 55.0 m2</br>Rooms: 2",
          "Rent: 9441.0 DKK</br>Size: 99.0 m2</br>Rooms: 4",
          "Rent: 9274.0 DKK</br>Size: 112.0 m2</br>Rooms: 4",
          "Rent: 6893.0 DKK</br>Size: 70.0 m2</br>Rooms: 2",
          "Rent: 8460.0 DKK</br>Size: 85.0 m2</br>Rooms: 3",
          "Rent: 10458.0 DKK</br>Size: 105.0 m2</br>Rooms: 4",
          "Rent: 5977.0 DKK</br>Size: 66.0 m2</br>Rooms: 2",
          "Rent: 6538.0 DKK</br>Size: 76.0 m2</br>Rooms: 2",
          "Rent: 6900.0 DKK</br>Size: 78.0 m2</br>Rooms: 3",
          "Rent: 7597.0 DKK</br>Size: 90.0 m2</br>Rooms: 3",
          "Rent: 4314.0 DKK</br>Size: 65.0 m2</br>Rooms: 1",
          "Rent: 5944.0 DKK</br>Size: 64.0 m2</br>Rooms: 2",
          "Rent: 7290.0 DKK</br>Size: 91.0 m2</br>Rooms: 3",
          "Rent: 8458.0 DKK</br>Size: 133.0 m2</br>Rooms: 4",
          "Rent: 7850.0 DKK</br>Size: 74.0 m2</br>Rooms: 2",
          "Rent: 9338.0 DKK</br>Size: 93.0 m2</br>Rooms: 3",
          "Rent: 7938.0 DKK</br>Size: 75.19999694824219 m2</br>Rooms: 2",
          "Rent: 8674.0 DKK</br>Size: 83.5999984741211 m2</br>Rooms: 3",
          "Rent: 5211.0 DKK</br>Size: 57.0 m2</br>Rooms: 2",
          "Rent: 6433.0 DKK</br>Size: 68.0 m2</br>Rooms: 2",
          "Rent: 5850.0 DKK</br>Size: 60.0 m2</br>Rooms: 3",
          "Rent: 7199.0 DKK</br>Size: 81.0 m2</br>Rooms: 3",
          "Rent: 5362.0 DKK</br>Size: 77.0 m2</br>Rooms: 3",
          "Rent: 8780.0 DKK</br>Size: 102.0 m2</br>Rooms: 3",
          "Rent: 9497.0 DKK</br>Size: 113.0 m2</br>Rooms: 4",
          "Rent: 10357.0 DKK</br>Size: 128.0 m2</br>Rooms: 4",
          "Rent: 8019.0 DKK</br>Size: 58.0 m2</br>Rooms: 2",
          "Rent: 6512.0 DKK</br>Size: 59.0 m2</br>Rooms: 2",
          "Rent: 5436.0 DKK</br>Size: 57.0 m2</br>Rooms: 2",
          "Rent: 6497.0 DKK</br>Size: 70.0 m2</br>Rooms: 3",
          "Rent: 7144.0 DKK</br>Size: 77.0 m2</br>Rooms: 4",
          "Rent: 5073.0 DKK</br>Size: 60.0 m2</br>Rooms: 2",
          "Rent: 5265.0 DKK</br>Size: 67.0 m2</br>Rooms: 3",
          "Rent: 6290.0 DKK</br>Size: 76.0 m2</br>Rooms: 3",
          "Rent: 6230.0 DKK</br>Size: 80.0 m2</br>Rooms: 4",
          "Rent: 6597.0 DKK</br>Size: 85.0 m2</br>Rooms: 4",
          "Rent: 7196.0 DKK</br>Size: 93.0 m2</br>Rooms: 4",
          "Rent: 6164.0 DKK</br>Size: 83.0 m2</br>Rooms: 3",
          "Rent: 6511.0 DKK</br>Size: 86.0 m2</br>Rooms: 4",
          "Rent: 6774.0 DKK</br>Size: 87.0 m2</br>Rooms: 4",
          "Rent: 4059.0 DKK</br>Size: 46.0 m2</br>Rooms: 1",
          "Rent: 5787.0 DKK</br>Size: 62.0 m2</br>Rooms: 2",
          "Rent: 6379.0 DKK</br>Size: 74.0 m2</br>Rooms: 3",
          "Rent: 6586.0 DKK</br>Size: 83.0 m2</br>Rooms: 3",
          "Rent: 8042.0 DKK</br>Size: 101.0 m2</br>Rooms: 4",
          "Rent: 4069.0 DKK</br>Size: 49.0 m2</br>Rooms: 1",
          "Rent: 5833.0 DKK</br>Size: 65.0 m2</br>Rooms: 2",
          "Rent: 6093.0 DKK</br>Size: 71.0 m2</br>Rooms: 2",
          "Rent: 5389.0 DKK</br>Size: 71.0 m2</br>Rooms: 3",
          "Rent: 6111.0 DKK</br>Size: 75.0 m2</br>Rooms: 3",
          "Rent: 7155.0 DKK</br>Size: 78.0 m2</br>Rooms: 3",
          "Rent: 7427.0 DKK</br>Size: 85.0 m2</br>Rooms: 3",
          "Rent: 6352.0 DKK</br>Size: 83.0 m2</br>Rooms: 4",
          "Rent: 9579.75 DKK</br>Size: 107.0 m2</br>Rooms: 4",
          "Rent: 4370.0 DKK</br>Size: 51.0 m2</br>Rooms: 2",
          "Rent: 8166.0 DKK</br>Size: 91.0 m2</br>Rooms: 3",
          "Rent: 3566.0 DKK</br>Size: 38.0 m2</br>Rooms: 1",
          "Rent: 5323.0 DKK</br>Size: 54.0 m2</br>Rooms: 2",
          "Rent: 8299.0 DKK</br>Size: 87.0 m2</br>Rooms: 3",
          "Rent: 9665.0 DKK</br>Size: 101.0 m2</br>Rooms: 4",
          "Rent: 7058.0 DKK</br>Size: 72.0 m2</br>Rooms: 2",
          "Rent: 9533.0 DKK</br>Size: 95.0 m2</br>Rooms: 3",
          "Rent: 11230.0 DKK</br>Size: 113.0 m2</br>Rooms: 4",
          "Rent: 7307.0 DKK</br>Size: 70.0 m2</br>Rooms: 2",
          "Rent: 8446.0 DKK</br>Size: 85.0 m2</br>Rooms: 3",
          "Rent: 10460.0 DKK</br>Size: 108.0 m2</br>Rooms: 4",
          "Rent: 4092.0 DKK</br>Size: 47.0 m2</br>Rooms: 1",
          "Rent: 6574.0 DKK</br>Size: 69.0 m2</br>Rooms: 2",
          "Rent: 7218.0 DKK</br>Size: 83.0 m2</br>Rooms: 3",
          "Rent: 8988.0 DKK</br>Size: 97.0 m2</br>Rooms: 4",
          "Rent: 6504.0 DKK</br>Size: 69.0 m2</br>Rooms: 2",
          "Rent: 8531.0 DKK</br>Size: 86.0 m2</br>Rooms: 3",
          "Rent: 9748.0 DKK</br>Size: 99.0 m2</br>Rooms: 4",
          "Rent: 3094.0 DKK</br>Size: 29.0 m2</br>Rooms: 1",
          "Rent: 5830.0 DKK</br>Size: 65.0 m2</br>Rooms: 2",
          "Rent: 8235.0 DKK</br>Size: 92.0 m2</br>Rooms: 3",
          "Rent: 8130.0 DKK</br>Size: 92.0 m2</br>Rooms: 4",
          "Rent: 5884.0 DKK</br>Size: 65.0 m2</br>Rooms: 2",
          "Rent: 5819.0 DKK</br>Size: 52.0 m2</br>Rooms: 2",
          "Rent: 7615.0 DKK</br>Size: 75.0 m2</br>Rooms: 2",
          "Rent: 8819.0 DKK</br>Size: 85.0 m2</br>Rooms: 2",
          "Rent: 6931.0 DKK</br>Size: 82.0 m2</br>Rooms: 3",
          "Rent: 4081.0 DKK</br>Size: 42.0 m2</br>Rooms: 1",
          "Rent: 4425.0 DKK</br>Size: 45.0 m2</br>Rooms: 2",
          "Rent: 6220.0 DKK</br>Size: 74.0 m2</br>Rooms: 2",
          "Rent: 7637.0 DKK</br>Size: 90.0 m2</br>Rooms: 4",
          "Rent: 6229.0 DKK</br>Size: 55.0 m2</br>Rooms: 2",
          "Rent: 4810.0 DKK</br>Size: 40.0 m2</br>Rooms: 1",
          "Rent: 8623.0 DKK</br>Size: 95.0 m2</br>Rooms: 3",
          "Rent: 9583.0 DKK</br>Size: 111.0 m2</br>Rooms: 4",
          "Rent: 9907.0 DKK</br>Size: 104.0 m2</br>Rooms: 4",
          "Rent: 9907.0 DKK</br>Size: 104.0 m2</br>Rooms: 4",
          "Rent: 6265.0 DKK</br>Size: 50.0 m2</br>Rooms: 3",
          "Rent: 8949.0 DKK</br>Size: 92.0 m2</br>Rooms: 4",
          "Rent: 6935.0 DKK</br>Size: 70.0 m2</br>Rooms: 2",
          "Rent: 7897.0 DKK</br>Size: 90.0 m2</br>Rooms: 3",
          "Rent: 9830.0 DKK</br>Size: 106.0 m2</br>Rooms: 5",
          "Rent: 3811.0 DKK</br>Size: 38.0 m2</br>Rooms: 1",
          "Rent: 5511.0 DKK</br>Size: 56.0 m2</br>Rooms: 2",
          "Rent: 8885.0 DKK</br>Size: 93.0 m2</br>Rooms: 3",
          "Rent: 10412.0 DKK</br>Size: 111.0 m2</br>Rooms: 4",
          "Rent: 10630.0 DKK</br>Size: 107.0 m2</br>Rooms: 4",
          "Rent: 10630.0 DKK</br>Size: 107.0 m2</br>Rooms: 4",
          "Rent: 4616.0 DKK</br>Size: 44.0 m2</br>Rooms: 2",
          "Rent: 6213.0 DKK</br>Size: 60.0 m2</br>Rooms: 3",
          "Rent: 9814.0 DKK</br>Size: 98.0 m2</br>Rooms: 4",
          "Rent: 10180.0 DKK</br>Size: 102.0 m2</br>Rooms: 4",
          "Rent: 6116.0 DKK</br>Size: 62.0 m2</br>Rooms: 2",
          "Rent: 8305.0 DKK</br>Size: 86.0 m2</br>Rooms: 3",
          "Rent: 9311.0 DKK</br>Size: 98.0 m2</br>Rooms: 4",
          "Rent: 3603.0 DKK</br>Size: 36.5 m2</br>Rooms: 1",
          "Rent: 4400.0 DKK</br>Size: 50.400001525878906 m2</br>Rooms: 2",
          "Rent: 5829.0 DKK</br>Size: 72.0 m2</br>Rooms: 3",
          "Rent: 6027.0 DKK</br>Size: 76.5999984741211 m2</br>Rooms: 3",
          "Rent: 7300.0 DKK</br>Size: 93.3000030517578 m2</br>Rooms: 4",
          "Rent: 4464.0 DKK</br>Size: 39.0 m2</br>Rooms: 1",
          "Rent: 4100.0 DKK</br>Size: 40.0 m2</br>Rooms: 1",
          "Rent: 4806.0 DKK</br>Size: 44.0 m2</br>Rooms: 2",
          "Rent: 5734.0 DKK</br>Size: 60.0 m2</br>Rooms: 2",
          "Rent: 6542.0 DKK</br>Size: 68.0 m2</br>Rooms: 2",
          "Rent: 6612.0 DKK</br>Size: 71.0 m2</br>Rooms: 2",
          "Rent: 6487.0 DKK</br>Size: 68.0 m2</br>Rooms: 3",
          "Rent: 6838.0 DKK</br>Size: 76.0 m2</br>Rooms: 3",
          "Rent: 7162.0 DKK</br>Size: 77.0 m2</br>Rooms: 3",
          "Rent: 7194.0 DKK</br>Size: 84.0 m2</br>Rooms: 3",
          "Rent: 7918.0 DKK</br>Size: 88.0 m2</br>Rooms: 4",
          "Rent: 8242.0 DKK</br>Size: 90.0 m2</br>Rooms: 4",
          "Rent: 10154.0 DKK</br>Size: 96.0 m2</br>Rooms: 4",
          "Rent: 8046.0 DKK</br>Size: 95.0 m2</br>Rooms: 5",
          "Rent: 4465.18 DKK</br>Size: 49.59999847412109 m2</br>Rooms: 1",
          "Rent: 4163.65 DKK</br>Size: 46.20000076293945 m2</br>Rooms: 2",
          "Rent: 6673.23 DKK</br>Size: 69.5999984741211 m2</br>Rooms: 2",
          "Rent: 7579.28 DKK</br>Size: 85.19999694824219 m2</br>Rooms: 3",
          "Rent: 9049.34 DKK</br>Size: 102.0 m2</br>Rooms: 4",
          "Rent: 12035.37 DKK</br>Size: 129.39999389648438 m2</br>Rooms: 5",
          "Rent: 5752.0 DKK</br>Size: 64.69999694824219 m2</br>Rooms: 2",
          "Rent: 7483.0 DKK</br>Size: 77.0 m2</br>Rooms: 2",
          "Rent: 6903.0 DKK</br>Size: 76.69999694824219 m2</br>Rooms: 3",
          "Rent: 7566.0 DKK</br>Size: 81.4000015258789 m2</br>Rooms: 4",
          "Rent: 8074.0 DKK</br>Size: 92.3000030517578 m2</br>Rooms: 4",
          "Rent: 9108.5 DKK</br>Size: 103.8000030517578 m2</br>Rooms: 5",
          "Rent: 8874.0 DKK</br>Size: 105.6999969482422 m2</br>Rooms: 5",
          "Rent: 6515.0 DKK</br>Size: 66.4000015258789 m2</br>Rooms: 2",
          "Rent: 6413.0 DKK</br>Size: 66.5999984741211 m2</br>Rooms: 3",
          "Rent: 7341.0 DKK</br>Size: 78.9000015258789 m2</br>Rooms: 3",
          "Rent: 8064.0 DKK</br>Size: 87.30000305175781 m2</br>Rooms: 4",
          "Rent: 7542.0 DKK</br>Size: 87.0 m2</br>Rooms: 4",
          "Rent: 5294.0 DKK</br>Size: 58.0 m2</br>Rooms: 2",
          "Rent: 6413.0 DKK</br>Size: 66.0 m2</br>Rooms: 3",
          "Rent: 6193.0 DKK</br>Size: 72.0 m2</br>Rooms: 3",
          "Rent: 8265.0 DKK</br>Size: 97.0 m2</br>Rooms: 4",
          "Rent: 10606.0 DKK</br>Size: 117.0 m2</br>Rooms: 5",
          "Rent: 7623.0 DKK</br>Size: 90.0 m2</br>Rooms: 4",
          "Rent: 3835.0 DKK</br>Size: 45.0 m2</br>Rooms: 1",
          "Rent: 6615.0 DKK</br>Size: 72.0 m2</br>Rooms: 2",
          "Rent: 7623.0 DKK</br>Size: 90.0 m2</br>Rooms: 3",
          "Rent: 7861.0 DKK</br>Size: 93.0 m2</br>Rooms: 4",
          "Rent: 5644.04 DKK</br>Size: 42.0 m2</br>Rooms: 1",
          "Rent: 6536.04 DKK</br>Size: 56.0 m2</br>Rooms: 2",
          "Rent: 7863.04 DKK</br>Size: 71.0 m2</br>Rooms: 3",
          "Rent: 4202.0 DKK</br>Size: 47.0 m2</br>Rooms: 1",
          "Rent: 5432.0 DKK</br>Size: 64.0 m2</br>Rooms: 2",
          "Rent: 5424.0 DKK</br>Size: 77.0 m2</br>Rooms: 2",
          "Rent: 7353.0 DKK</br>Size: 100.0 m2</br>Rooms: 2",
          "Rent: 7332.0 DKK</br>Size: 82.0 m2</br>Rooms: 3",
          "Rent: 3619.0 DKK</br>Size: 43.0 m2</br>Rooms: 2",
          "Rent: 5949.0 DKK</br>Size: 62.79999923706055 m2</br>Rooms: 2",
          "Rent: 8232.0 DKK</br>Size: 87.5 m2</br>Rooms: 3",
          "Rent: 7402.99 DKK</br>Size: 60.0 m2</br>Rooms: 2",
          "Rent: 7070.0 DKK</br>Size: 51.0 m2</br>Rooms: 2",
          "Rent: 7070.0 DKK</br>Size: 51.0 m2</br>Rooms: 2",
          "Rent: 7070.0 DKK</br>Size: 51.0 m2</br>Rooms: 2",
          "Rent: 7070.0 DKK</br>Size: 51.0 m2</br>Rooms: 2",
          "Rent: 7775.0 DKK</br>Size: 62.0 m2</br>Rooms: 2",
          "Rent: 7775.0 DKK</br>Size: 62.0 m2</br>Rooms: 2",
          "Rent: 7775.0 DKK</br>Size: 62.0 m2</br>Rooms: 2",
          "Rent: 7775.0 DKK</br>Size: 62.0 m2</br>Rooms: 2",
          "Rent: 9294.0 DKK</br>Size: 83.0 m2</br>Rooms: 3",
          "Rent: 9294.0 DKK</br>Size: 83.0 m2</br>Rooms: 3",
          "Rent: 9294.0 DKK</br>Size: 83.0 m2</br>Rooms: 3",
          "Rent: 9294.0 DKK</br>Size: 83.0 m2</br>Rooms: 3",
          "Rent: 9294.0 DKK</br>Size: 83.0 m2</br>Rooms: 3",
          "Rent: 9294.0 DKK</br>Size: 83.0 m2</br>Rooms: 3",
          "Rent: 9294.0 DKK</br>Size: 83.0 m2</br>Rooms: 3",
          "Rent: 9294.0 DKK</br>Size: 83.0 m2</br>Rooms: 3",
          "Rent: 11478.0 DKK</br>Size: 114.0 m2</br>Rooms: 4",
          "Rent: 11478.0 DKK</br>Size: 114.0 m2</br>Rooms: 4",
          "Rent: 11478.0 DKK</br>Size: 114.0 m2</br>Rooms: 4",
          "Rent: 11478.0 DKK</br>Size: 114.0 m2</br>Rooms: 4",
          "Rent: 5518.0 DKK</br>Size: 61.79999923706055 m2</br>Rooms: 2",
          "Rent: 6420.0 DKK</br>Size: 71.30000305175781 m2</br>Rooms: 3",
          "Rent: 7845.0 DKK</br>Size: 93.0 m2</br>Rooms: 4",
          "Rent: 3968.0 DKK</br>Size: 38.29999923706055 m2</br>Rooms: 1",
          "Rent: 5755.0 DKK</br>Size: 63.70000076293945 m2</br>Rooms: 2",
          "Rent: 6062.0 DKK</br>Size: 68.4000015258789 m2</br>Rooms: 3",
          "Rent: 6455.0 DKK</br>Size: 76.30000305175781 m2</br>Rooms: 3",
          "Rent: 8177.0 DKK</br>Size: 88.4000015258789 m2</br>Rooms: 4",
          "Rent: 6572.0 DKK</br>Size: 94.3000030517578 m2</br>Rooms: 4",
          "Rent: 4745.0 DKK</br>Size: 52.900001525878906 m2</br>Rooms: 2",
          "Rent: 5181.0 DKK</br>Size: 69.80000305175781 m2</br>Rooms: 2",
          "Rent: 5761.0 DKK</br>Size: 80.30000305175781 m2</br>Rooms: 3",
          "Rent: 7767.0 DKK</br>Size: 101.8000030517578 m2</br>Rooms: 4",
          "Rent: 5514.0 DKK</br>Size: 61.5 m2</br>Rooms: 2",
          "Rent: 6770.0 DKK</br>Size: 67.19999694824219 m2</br>Rooms: 2",
          "Rent: 5928.0 DKK</br>Size: 68.9000015258789 m2</br>Rooms: 2",
          "Rent: 6977.0 DKK</br>Size: 69.80000305175781 m2</br>Rooms: 2",
          "Rent: 7748.0 DKK</br>Size: 83.5999984741211 m2</br>Rooms: 3",
          "Rent: 6866.0 DKK</br>Size: 85.5999984741211 m2</br>Rooms: 3",
          "Rent: 8130.0 DKK</br>Size: 90.0 m2</br>Rooms: 3",
          "Rent: 9323.0 DKK</br>Size: 110.0 m2</br>Rooms: 4",
          "Rent: 5374.0 DKK</br>Size: 64.0 m2</br>Rooms: 2",
          "Rent: 5374.0 DKK</br>Size: 64.0 m2</br>Rooms: 2",
          "Rent: 5374.0 DKK</br>Size: 64.0 m2</br>Rooms: 2",
          "Rent: 5374.0 DKK</br>Size: 64.0 m2</br>Rooms: 2",
          "Rent: 5374.0 DKK</br>Size: 64.0 m2</br>Rooms: 2",
          "Rent: 5780.28 DKK</br>Size: 64.0 m2</br>Rooms: 2",
          "Rent: 5864.63 DKK</br>Size: 64.0 m2</br>Rooms: 2",
          "Rent: 5882.1 DKK</br>Size: 64.0 m2</br>Rooms: 2",
          "Rent: 4608.0 DKK</br>Size: 36.0 m2</br>Rooms: 1",
          "Rent: 5208.0 DKK</br>Size: 47.0 m2</br>Rooms: 2",
          "Rent: 6561.0 DKK</br>Size: 65.0 m2</br>Rooms: 2",
          "Rent: 6420.0 DKK</br>Size: 65.0 m2</br>Rooms: 3",
          "Rent: 7290.0 DKK</br>Size: 78.0 m2</br>Rooms: 3",
          "Rent: 8224.0 DKK</br>Size: 87.0 m2</br>Rooms: 4",
          "Rent: 7820.0 DKK</br>Size: 92.0 m2</br>Rooms: 4",
          "Rent: 8446.0 DKK</br>Size: 97.0 m2</br>Rooms: 5",
          "Rent: 10306.0 DKK</br>Size: 77.0 m2</br>Rooms: 2",
          "Rent: 4361.0 DKK</br>Size: 44.0 m2</br>Rooms: 1",
          "Rent: 4361.0 DKK</br>Size: 44.0 m2</br>Rooms: 1",
          "Rent: 4361.0 DKK</br>Size: 44.0 m2</br>Rooms: 1",
          "Rent: 4361.0 DKK</br>Size: 44.0 m2</br>Rooms: 1",
          "Rent: 6400.0 DKK</br>Size: 62.0 m2</br>Rooms: 2",
          "Rent: 6400.0 DKK</br>Size: 62.0 m2</br>Rooms: 2",
          "Rent: 6400.0 DKK</br>Size: 62.0 m2</br>Rooms: 2",
          "Rent: 6400.0 DKK</br>Size: 62.0 m2</br>Rooms: 2",
          "Rent: 6661.0 DKK</br>Size: 67.0 m2</br>Rooms: 2",
          "Rent: 6661.0 DKK</br>Size: 67.0 m2</br>Rooms: 2",
          "Rent: 6661.0 DKK</br>Size: 67.0 m2</br>Rooms: 2",
          "Rent: 6661.0 DKK</br>Size: 67.0 m2</br>Rooms: 2",
          "Rent: 7693.0 DKK</br>Size: 73.0 m2</br>Rooms: 2",
          "Rent: 7693.0 DKK</br>Size: 73.0 m2</br>Rooms: 2",
          "Rent: 7693.0 DKK</br>Size: 73.0 m2</br>Rooms: 2",
          "Rent: 7693.0 DKK</br>Size: 73.0 m2</br>Rooms: 2",
          "Rent: 8116.0 DKK</br>Size: 82.0 m2</br>Rooms: 3",
          "Rent: 8116.0 DKK</br>Size: 82.0 m2</br>Rooms: 3",
          "Rent: 8116.0 DKK</br>Size: 82.0 m2</br>Rooms: 3",
          "Rent: 8116.0 DKK</br>Size: 82.0 m2</br>Rooms: 3",
          "Rent: 6061.0 DKK</br>Size: 62.79999923706055 m2</br>Rooms: 1",
          "Rent: 4569.0 DKK</br>Size: 60.400001525878906 m2</br>Rooms: 2",
          "Rent: 5079.0 DKK</br>Size: 70.0 m2</br>Rooms: 3",
          "Rent: 5889.0 DKK</br>Size: 73.30000305175781 m2</br>Rooms: 3",
          "Rent: 6208.0 DKK</br>Size: 90.3000030517578 m2</br>Rooms: 3",
          "Rent: 5889.0 DKK</br>Size: 85.0999984741211 m2</br>Rooms: 4",
          "Rent: 8828.279999999999 DKK</br>Size: 122.4000015258789 m2</br>Rooms: 4",
          "Rent: 8862.0 DKK</br>Size: 101.6999969482422 m2</br>Rooms: 5",
          "Rent: 6210.0 DKK</br>Size: 69.0 m2</br>Rooms: 2",
          "Rent: 6808.0 DKK</br>Size: 69.0 m2</br>Rooms: 3",
          "Rent: 7835.0 DKK</br>Size: 93.0 m2</br>Rooms: 3",
          "Rent: 7188.0 DKK</br>Size: 87.0 m2</br>Rooms: 4",
          "Rent: 7817.0 DKK</br>Size: 94.0 m2</br>Rooms: 3",
          "Rent: 8575.0 DKK</br>Size: 107.0 m2</br>Rooms: 4",
          "Rent: 8222.85 DKK</br>Size: 106.4000015258789 m2</br>Rooms: 4",
          "Rent: 6000.55 DKK</br>Size: 66.80000305175781 m2</br>Rooms: 2",
          "Rent: 6019.15 DKK</br>Size: 67.80000305175781 m2</br>Rooms: 3",
          "Rent: 6829.03 DKK</br>Size: 81.30000305175781 m2</br>Rooms: 3",
          "Rent: 5039.15 DKK</br>Size: 49.59999847412109 m2</br>Rooms: 1",
          "Rent: 6451.3 DKK</br>Size: 65.9000015258789 m2</br>Rooms: 2",
          "Rent: 6561.13 DKK</br>Size: 76.69999694824219 m2</br>Rooms: 3",
          "Rent: 7470.61 DKK</br>Size: 70.0 m2</br>Rooms: 2",
          "Rent: 8472.76 DKK</br>Size: 84.4000015258789 m2</br>Rooms: 3",
          "Rent: 7012.0 DKK</br>Size: 106.5 m2</br>Rooms: 4",
          "Rent: 3773.0 DKK</br>Size: 38.0 m2</br>Rooms: 1",
          "Rent: 3739.0 DKK</br>Size: 45.70000076293945 m2</br>Rooms: 1",
          "Rent: 4581.0 DKK</br>Size: 57.900001525878906 m2</br>Rooms: 2",
          "Rent: 4778.0 DKK</br>Size: 62.29999923706055 m2</br>Rooms: 2",
          "Rent: 5198.0 DKK</br>Size: 63.0 m2</br>Rooms: 2",
          "Rent: 5349.0 DKK</br>Size: 66.0 m2</br>Rooms: 2",
          "Rent: 6138.0 DKK</br>Size: 88.80000305175781 m2</br>Rooms: 3",
          "Rent: 6461.0 DKK</br>Size: 95.5999984741211 m2</br>Rooms: 3",
          "Rent: 6969.0 DKK</br>Size: 92.5 m2</br>Rooms: 4",
          "Rent: 6374.0 DKK</br>Size: 81.5 m2</br>Rooms: 3",
          "Rent: 7434.0 DKK</br>Size: 94.3000030517578 m2</br>Rooms: 4",
          "Rent: 10585.0 DKK</br>Size: 111.0 m2</br>Rooms: 4",
          "Rent: 5391.0 DKK</br>Size: 50.0 m2</br>Rooms: 1",
          "Rent: 5710.0 DKK</br>Size: 57.0 m2</br>Rooms: 2",
          "Rent: 6771.0 DKK</br>Size: 68.0 m2</br>Rooms: 2",
          "Rent: 7360.0 DKK</br>Size: 76.0 m2</br>Rooms: 2",
          "Rent: 6675.0 DKK</br>Size: 65.0 m2</br>Rooms: 3",
          "Rent: 7542.0 DKK</br>Size: 83.0 m2</br>Rooms: 3",
          "Rent: 10062.0 DKK</br>Size: 104.0 m2</br>Rooms: 3",
          "Rent: 10464.0 DKK</br>Size: 105.0 m2</br>Rooms: 3",
          "Rent: 11578.0 DKK</br>Size: 112.0 m2</br>Rooms: 4",
          "Rent: 6325.0 DKK</br>Size: 59.0 m2</br>Rooms: 2",
          "Rent: 8594.0 DKK</br>Size: 78.0 m2</br>Rooms: 3",
          "Rent: 9320.0 DKK</br>Size: 78.0 m2</br>Rooms: 3",
          "Rent: 9667.0 DKK</br>Size: 98.0 m2</br>Rooms: 4",
          "Rent: 12422.0 DKK</br>Size: 130.0 m2</br>Rooms: 4",
          "Rent: 4872.0 DKK</br>Size: 42.0 m2</br>Rooms: 1",
          "Rent: 4872.0 DKK</br>Size: 42.0 m2</br>Rooms: 1",
          "Rent: 4872.0 DKK</br>Size: 42.0 m2</br>Rooms: 1",
          "Rent: 4872.0 DKK</br>Size: 42.0 m2</br>Rooms: 1",
          "Rent: 8089.0 DKK</br>Size: 72.0 m2</br>Rooms: 2",
          "Rent: 8089.0 DKK</br>Size: 72.0 m2</br>Rooms: 2",
          "Rent: 8089.0 DKK</br>Size: 72.0 m2</br>Rooms: 2",
          "Rent: 8089.0 DKK</br>Size: 72.0 m2</br>Rooms: 2",
          "Rent: 8554.0 DKK</br>Size: 71.0 m2</br>Rooms: 3",
          "Rent: 8554.0 DKK</br>Size: 71.0 m2</br>Rooms: 3",
          "Rent: 8554.0 DKK</br>Size: 71.0 m2</br>Rooms: 3",
          "Rent: 8554.0 DKK</br>Size: 71.0 m2</br>Rooms: 3",
          "Rent: 7135.0 DKK</br>Size: 73.0 m2</br>Rooms: 2",
          "Rent: 7135.0 DKK</br>Size: 73.0 m2</br>Rooms: 2",
          "Rent: 7135.0 DKK</br>Size: 73.0 m2</br>Rooms: 2",
          "Rent: 7135.0 DKK</br>Size: 73.0 m2</br>Rooms: 2",
          "Rent: 8938.0 DKK</br>Size: 88.0 m2</br>Rooms: 3",
          "Rent: 8938.0 DKK</br>Size: 88.0 m2</br>Rooms: 3",
          "Rent: 8938.0 DKK</br>Size: 88.0 m2</br>Rooms: 3",
          "Rent: 8938.0 DKK</br>Size: 88.0 m2</br>Rooms: 3",
          "Rent: 7449.0 DKK</br>Size: 79.5 m2</br>Rooms: 1",
          "Rent: 7400.0 DKK</br>Size: 72.0 m2</br>Rooms: 2",
          "Rent: 7044.0 DKK</br>Size: 70.0 m2</br>Rooms: 3",
          "Rent: 6610.0 DKK</br>Size: 72.0 m2</br>Rooms: 3",
          "Rent: 8414.0 DKK</br>Size: 77.5 m2</br>Rooms: 3",
          "Rent: 7313.0 DKK</br>Size: 79.0 m2</br>Rooms: 4",
          "Rent: 10164.0 DKK</br>Size: 142.0 m2</br>Rooms: 6",
          "Rent: 5711.0 DKK</br>Size: 67.0 m2</br>Rooms: 2",
          "Rent: 6803.0 DKK</br>Size: 83.0 m2</br>Rooms: 3",
          "Rent: 7530.0 DKK</br>Size: 98.0 m2</br>Rooms: 4",
          "Rent: 7163.0 DKK</br>Size: 76.0 m2</br>Rooms: 3",
          "Rent: 8329.0 DKK</br>Size: 92.0 m2</br>Rooms: 4",
          "Rent: 7096.92 DKK</br>Size: 96.0 m2</br>Rooms: 4",
          "Rent: 9458.94 DKK</br>Size: 114.0999984741211 m2</br>Rooms: 4",
          "Rent: 10958.0 DKK</br>Size: 128.3000030517578 m2</br>Rooms: 5",
          "Rent: 5398.0 DKK</br>Size: 59.900001525878906 m2</br>Rooms: 2",
          "Rent: 8730.24 DKK</br>Size: 102.1999969482422 m2</br>Rooms: 3",
          "Rent: 10924.0 DKK</br>Size: 115.0 m2</br>Rooms: 4",
          "Rent: 8452.0 DKK</br>Size: 84.0 m2</br>Rooms: 3",
          "Rent: 8662.0 DKK</br>Size: 84.0 m2</br>Rooms: 3",
          "Rent: 10022.0 DKK</br>Size: 104.0 m2</br>Rooms: 4",
          "Rent: 6489.0 DKK</br>Size: 58.0 m2</br>Rooms: 2",
          "Rent: 7284.0 DKK</br>Size: 65.0 m2</br>Rooms: 2",
          "Rent: 7296.0 DKK</br>Size: 66.0 m2</br>Rooms: 2",
          "Rent: 7570.0 DKK</br>Size: 66.0 m2</br>Rooms: 2",
          "Rent: 7296.0 DKK</br>Size: 67.0 m2</br>Rooms: 2",
          "Rent: 8940.0 DKK</br>Size: 82.0 m2</br>Rooms: 3",
          "Rent: 9632.0 DKK</br>Size: 100.0 m2</br>Rooms: 4",
          "Rent: 6709.0 DKK</br>Size: 58.0 m2</br>Rooms: 2",
          "Rent: 6733.0 DKK</br>Size: 93.0 m2</br>Rooms: 5",
          "Rent: 7280.0 DKK</br>Size: 112.8000030517578 m2</br>Rooms: 2",
          "Rent: 6741.0 DKK</br>Size: 93.0 m2</br>Rooms: 3",
          "Rent: 6289.0 DKK</br>Size: 93.0 m2</br>Rooms: 4",
          "Rent: 7389.0 DKK</br>Size: 97.0 m2</br>Rooms: 5",
          "Rent: 4248.0 DKK</br>Size: 49.79999923706055 m2</br>Rooms: 1",
          "Rent: 5479.0 DKK</br>Size: 70.0 m2</br>Rooms: 2",
          "Rent: 6376.0 DKK</br>Size: 83.69999694824219 m2</br>Rooms: 3",
          "Rent: 9459.0 DKK</br>Size: 110.0 m2</br>Rooms: 5",
          "Rent: 3720.0 DKK</br>Size: 42.0 m2</br>Rooms: 1",
          "Rent: 6304.0 DKK</br>Size: 73.0 m2</br>Rooms: 2",
          "Rent: 7971.0 DKK</br>Size: 86.0 m2</br>Rooms: 3",
          "Rent: 8475.0 DKK</br>Size: 92.0 m2</br>Rooms: 4",
          "Rent: 4605.72 DKK</br>Size: 34.0 m2</br>Rooms: 1",
          "Rent: 4562.0 DKK</br>Size: 43.0 m2</br>Rooms: 1",
          "Rent: 5092.0 DKK</br>Size: 51.0 m2</br>Rooms: 2",
          "Rent: 6163.0 DKK</br>Size: 62.0 m2</br>Rooms: 2",
          "Rent: 7066.232 DKK</br>Size: 69.0 m2</br>Rooms: 3",
          "Rent: 7279.0 DKK</br>Size: 79.0 m2</br>Rooms: 3",
          "Rent: 7283.0 DKK</br>Size: 79.5 m2</br>Rooms: 4",
          "Rent: 8113.0 DKK</br>Size: 91.0 m2</br>Rooms: 4",
          "Rent: 6696.0 DKK</br>Size: 56.0 m2</br>Rooms: 2",
          "Rent: 9372.0 DKK</br>Size: 79.0 m2</br>Rooms: 3",
          "Rent: 11039.0 DKK</br>Size: 93.0 m2</br>Rooms: 4",
          "Rent: 10732.0 DKK</br>Size: 75.9000015258789 m2</br>Rooms: 2",
          "Rent: 6274.0 DKK</br>Size: 66.0 m2</br>Rooms: 2",
          "Rent: 8316.21 DKK</br>Size: 84.0 m2</br>Rooms: 2",
          "Rent: 8436.0 DKK</br>Size: 70.0 m2</br>Rooms: 2",
          "Rent: 8436.0 DKK</br>Size: 70.0 m2</br>Rooms: 2",
          "Rent: 8436.0 DKK</br>Size: 70.0 m2</br>Rooms: 2",
          "Rent: 8436.0 DKK</br>Size: 70.0 m2</br>Rooms: 2",
          "Rent: 9186.0 DKK</br>Size: 82.0 m2</br>Rooms: 3",
          "Rent: 9186.0 DKK</br>Size: 82.0 m2</br>Rooms: 3",
          "Rent: 9186.0 DKK</br>Size: 82.0 m2</br>Rooms: 3",
          "Rent: 9186.0 DKK</br>Size: 82.0 m2</br>Rooms: 3",
          "Rent: 9427.0 DKK</br>Size: 82.0 m2</br>Rooms: 3",
          "Rent: 9427.0 DKK</br>Size: 82.0 m2</br>Rooms: 3",
          "Rent: 9427.0 DKK</br>Size: 82.0 m2</br>Rooms: 3",
          "Rent: 9427.0 DKK</br>Size: 82.0 m2</br>Rooms: 3",
          "Rent: 11098.0 DKK</br>Size: 104.0 m2</br>Rooms: 4",
          "Rent: 11098.0 DKK</br>Size: 104.0 m2</br>Rooms: 4",
          "Rent: 11098.0 DKK</br>Size: 104.0 m2</br>Rooms: 4",
          "Rent: 11098.0 DKK</br>Size: 104.0 m2</br>Rooms: 4",
          "Rent: 7728.0 DKK</br>Size: 75.30000305175781 m2</br>Rooms: 2",
          "Rent: 7796.0 DKK</br>Size: 80.69999694824219 m2</br>Rooms: 3",
          "Rent: 9138.0 DKK</br>Size: 100.4000015258789 m2</br>Rooms: 4",
          "Rent: 4280.0 DKK</br>Size: 50.900001525878906 m2</br>Rooms: 1",
          "Rent: 5411.0 DKK</br>Size: 73.30000305175781 m2</br>Rooms: 2",
          "Rent: 6131.0 DKK</br>Size: 85.30000305175781 m2</br>Rooms: 3",
          "Rent: 6869.0 DKK</br>Size: 97.5 m2</br>Rooms: 4",
          "Rent: 4925.0 DKK</br>Size: 53.0 m2</br>Rooms: 2",
          "Rent: 6003.0 DKK</br>Size: 66.0 m2</br>Rooms: 2",
          "Rent: 7776.0 DKK</br>Size: 78.0 m2</br>Rooms: 3",
          "Rent: 7936.0 DKK</br>Size: 92.0 m2</br>Rooms: 3",
          "Rent: 8755.0 DKK</br>Size: 90.0 m2</br>Rooms: 4",
          "Rent: 9625.0 DKK</br>Size: 103.0 m2</br>Rooms: 5",
          "Rent: 5199.0 DKK</br>Size: 54.0 m2</br>Rooms: 2",
          "Rent: 6707.7 DKK</br>Size: 70.0 m2</br>Rooms: 2",
          "Rent: 7108.0 DKK</br>Size: 83.0 m2</br>Rooms: 3",
          "Rent: 9647.0 DKK</br>Size: 112.8000030517578 m2</br>Rooms: 4",
          "Rent: 5649.0 DKK</br>Size: 67.0 m2</br>Rooms: 2",
          "Rent: 6779.0 DKK</br>Size: 79.0 m2</br>Rooms: 3",
          "Rent: 7668.0 DKK</br>Size: 90.0 m2</br>Rooms: 4",
          "Rent: 6216.71 DKK</br>Size: 68.9000015258789 m2</br>Rooms: 2",
          "Rent: 7178.67 DKK</br>Size: 67.0 m2</br>Rooms: 3",
          "Rent: 6959.41 DKK</br>Size: 81.9000015258789 m2</br>Rooms: 3",
          "Rent: 7798.6 DKK</br>Size: 96.5999984741211 m2</br>Rooms: 4",
          "Rent: 8287.81 DKK</br>Size: 105.3000030517578 m2</br>Rooms: 4",
          "Rent: 9342.0 DKK</br>Size: 78.0 m2</br>Rooms: 3",
          "Rent: 10388.0 DKK</br>Size: 98.0 m2</br>Rooms: 4",
          "Rent: 13330.0 DKK</br>Size: 110.0 m2</br>Rooms: 5",
          "Rent: 8905.0 DKK</br>Size: 85.0 m2</br>Rooms: 3",
          "Rent: 9358.0 DKK</br>Size: 85.0 m2</br>Rooms: 4",
          "Rent: 6477.0 DKK</br>Size: 102.5999984741211 m2</br>Rooms: 3",
          "Rent: 6477.0 DKK</br>Size: 102.5999984741211 m2</br>Rooms: 4",
          "Rent: 6477.0 DKK</br>Size: 102.5999984741211 m2</br>Rooms: 5",
          "Rent: 9885.0 DKK</br>Size: 135.39999389648438 m2</br>Rooms: 6",
          "Rent: 4882.0 DKK</br>Size: 53.0 m2</br>Rooms: 2",
          "Rent: 4049.0 DKK</br>Size: 37.0 m2</br>Rooms: 1",
          "Rent: 5531.0 DKK</br>Size: 64.30000305175781 m2</br>Rooms: 2",
          "Rent: 6498.0 DKK</br>Size: 73.80000305175781 m2</br>Rooms: 2",
          "Rent: 6012.0 DKK</br>Size: 71.5 m2</br>Rooms: 3",
          "Rent: 6836.0 DKK</br>Size: 81.9000015258789 m2</br>Rooms: 3",
          "Rent: 7344.0 DKK</br>Size: 90.0 m2</br>Rooms: 4",
          "Rent: 5005.0 DKK</br>Size: 54.79999923706055 m2</br>Rooms: 2",
          "Rent: 6652.0 DKK</br>Size: 80.5999984741211 m2</br>Rooms: 3",
          "Rent: 8460.0 DKK</br>Size: 109.3000030517578 m2</br>Rooms: 4",
          "Rent: 6325.0 DKK</br>Size: 56.5 m2</br>Rooms: 2",
          "Rent: 12129.0 DKK</br>Size: 113.0 m2</br>Rooms: 4",
          "Rent: 14067.0 DKK</br>Size: 131.0 m2</br>Rooms: 5",
          "Rent: 7254.0 DKK</br>Size: 57.0 m2</br>Rooms: 1",
          "Rent: 8088.0 DKK</br>Size: 66.0 m2</br>Rooms: 2"
         ],
         "type": "scattermapbox"
        }
       ],
       "layout": {
        "autosize": true,
        "hovermode": "closest",
        "mapbox": {
         "center": {
          "lat": 56.14826453660394,
          "lon": 10.159876804629862
         },
         "style": "carto-positron",
         "zoom": 10
        },
        "template": {
         "data": {
          "bar": [
           {
            "error_x": {
             "color": "#2a3f5f"
            },
            "error_y": {
             "color": "#2a3f5f"
            },
            "marker": {
             "line": {
              "color": "#E5ECF6",
              "width": 0.5
             },
             "pattern": {
              "fillmode": "overlay",
              "size": 10,
              "solidity": 0.2
             }
            },
            "type": "bar"
           }
          ],
          "barpolar": [
           {
            "marker": {
             "line": {
              "color": "#E5ECF6",
              "width": 0.5
             },
             "pattern": {
              "fillmode": "overlay",
              "size": 10,
              "solidity": 0.2
             }
            },
            "type": "barpolar"
           }
          ],
          "carpet": [
           {
            "aaxis": {
             "endlinecolor": "#2a3f5f",
             "gridcolor": "white",
             "linecolor": "white",
             "minorgridcolor": "white",
             "startlinecolor": "#2a3f5f"
            },
            "baxis": {
             "endlinecolor": "#2a3f5f",
             "gridcolor": "white",
             "linecolor": "white",
             "minorgridcolor": "white",
             "startlinecolor": "#2a3f5f"
            },
            "type": "carpet"
           }
          ],
          "choropleth": [
           {
            "colorbar": {
             "outlinewidth": 0,
             "ticks": ""
            },
            "type": "choropleth"
           }
          ],
          "contour": [
           {
            "colorbar": {
             "outlinewidth": 0,
             "ticks": ""
            },
            "colorscale": [
             [
              0,
              "#0d0887"
             ],
             [
              0.1111111111111111,
              "#46039f"
             ],
             [
              0.2222222222222222,
              "#7201a8"
             ],
             [
              0.3333333333333333,
              "#9c179e"
             ],
             [
              0.4444444444444444,
              "#bd3786"
             ],
             [
              0.5555555555555556,
              "#d8576b"
             ],
             [
              0.6666666666666666,
              "#ed7953"
             ],
             [
              0.7777777777777778,
              "#fb9f3a"
             ],
             [
              0.8888888888888888,
              "#fdca26"
             ],
             [
              1,
              "#f0f921"
             ]
            ],
            "type": "contour"
           }
          ],
          "contourcarpet": [
           {
            "colorbar": {
             "outlinewidth": 0,
             "ticks": ""
            },
            "type": "contourcarpet"
           }
          ],
          "heatmap": [
           {
            "colorbar": {
             "outlinewidth": 0,
             "ticks": ""
            },
            "colorscale": [
             [
              0,
              "#0d0887"
             ],
             [
              0.1111111111111111,
              "#46039f"
             ],
             [
              0.2222222222222222,
              "#7201a8"
             ],
             [
              0.3333333333333333,
              "#9c179e"
             ],
             [
              0.4444444444444444,
              "#bd3786"
             ],
             [
              0.5555555555555556,
              "#d8576b"
             ],
             [
              0.6666666666666666,
              "#ed7953"
             ],
             [
              0.7777777777777778,
              "#fb9f3a"
             ],
             [
              0.8888888888888888,
              "#fdca26"
             ],
             [
              1,
              "#f0f921"
             ]
            ],
            "type": "heatmap"
           }
          ],
          "histogram": [
           {
            "marker": {
             "pattern": {
              "fillmode": "overlay",
              "size": 10,
              "solidity": 0.2
             }
            },
            "type": "histogram"
           }
          ],
          "histogram2d": [
           {
            "colorbar": {
             "outlinewidth": 0,
             "ticks": ""
            },
            "colorscale": [
             [
              0,
              "#0d0887"
             ],
             [
              0.1111111111111111,
              "#46039f"
             ],
             [
              0.2222222222222222,
              "#7201a8"
             ],
             [
              0.3333333333333333,
              "#9c179e"
             ],
             [
              0.4444444444444444,
              "#bd3786"
             ],
             [
              0.5555555555555556,
              "#d8576b"
             ],
             [
              0.6666666666666666,
              "#ed7953"
             ],
             [
              0.7777777777777778,
              "#fb9f3a"
             ],
             [
              0.8888888888888888,
              "#fdca26"
             ],
             [
              1,
              "#f0f921"
             ]
            ],
            "type": "histogram2d"
           }
          ],
          "histogram2dcontour": [
           {
            "colorbar": {
             "outlinewidth": 0,
             "ticks": ""
            },
            "colorscale": [
             [
              0,
              "#0d0887"
             ],
             [
              0.1111111111111111,
              "#46039f"
             ],
             [
              0.2222222222222222,
              "#7201a8"
             ],
             [
              0.3333333333333333,
              "#9c179e"
             ],
             [
              0.4444444444444444,
              "#bd3786"
             ],
             [
              0.5555555555555556,
              "#d8576b"
             ],
             [
              0.6666666666666666,
              "#ed7953"
             ],
             [
              0.7777777777777778,
              "#fb9f3a"
             ],
             [
              0.8888888888888888,
              "#fdca26"
             ],
             [
              1,
              "#f0f921"
             ]
            ],
            "type": "histogram2dcontour"
           }
          ],
          "mesh3d": [
           {
            "colorbar": {
             "outlinewidth": 0,
             "ticks": ""
            },
            "type": "mesh3d"
           }
          ],
          "parcoords": [
           {
            "line": {
             "colorbar": {
              "outlinewidth": 0,
              "ticks": ""
             }
            },
            "type": "parcoords"
           }
          ],
          "pie": [
           {
            "automargin": true,
            "type": "pie"
           }
          ],
          "scatter": [
           {
            "fillpattern": {
             "fillmode": "overlay",
             "size": 10,
             "solidity": 0.2
            },
            "type": "scatter"
           }
          ],
          "scatter3d": [
           {
            "line": {
             "colorbar": {
              "outlinewidth": 0,
              "ticks": ""
             }
            },
            "marker": {
             "colorbar": {
              "outlinewidth": 0,
              "ticks": ""
             }
            },
            "type": "scatter3d"
           }
          ],
          "scattercarpet": [
           {
            "marker": {
             "colorbar": {
              "outlinewidth": 0,
              "ticks": ""
             }
            },
            "type": "scattercarpet"
           }
          ],
          "scattergeo": [
           {
            "marker": {
             "colorbar": {
              "outlinewidth": 0,
              "ticks": ""
             }
            },
            "type": "scattergeo"
           }
          ],
          "scattergl": [
           {
            "marker": {
             "colorbar": {
              "outlinewidth": 0,
              "ticks": ""
             }
            },
            "type": "scattergl"
           }
          ],
          "scattermap": [
           {
            "marker": {
             "colorbar": {
              "outlinewidth": 0,
              "ticks": ""
             }
            },
            "type": "scattermap"
           }
          ],
          "scattermapbox": [
           {
            "marker": {
             "colorbar": {
              "outlinewidth": 0,
              "ticks": ""
             }
            },
            "type": "scattermapbox"
           }
          ],
          "scatterpolar": [
           {
            "marker": {
             "colorbar": {
              "outlinewidth": 0,
              "ticks": ""
             }
            },
            "type": "scatterpolar"
           }
          ],
          "scatterpolargl": [
           {
            "marker": {
             "colorbar": {
              "outlinewidth": 0,
              "ticks": ""
             }
            },
            "type": "scatterpolargl"
           }
          ],
          "scatterternary": [
           {
            "marker": {
             "colorbar": {
              "outlinewidth": 0,
              "ticks": ""
             }
            },
            "type": "scatterternary"
           }
          ],
          "surface": [
           {
            "colorbar": {
             "outlinewidth": 0,
             "ticks": ""
            },
            "colorscale": [
             [
              0,
              "#0d0887"
             ],
             [
              0.1111111111111111,
              "#46039f"
             ],
             [
              0.2222222222222222,
              "#7201a8"
             ],
             [
              0.3333333333333333,
              "#9c179e"
             ],
             [
              0.4444444444444444,
              "#bd3786"
             ],
             [
              0.5555555555555556,
              "#d8576b"
             ],
             [
              0.6666666666666666,
              "#ed7953"
             ],
             [
              0.7777777777777778,
              "#fb9f3a"
             ],
             [
              0.8888888888888888,
              "#fdca26"
             ],
             [
              1,
              "#f0f921"
             ]
            ],
            "type": "surface"
           }
          ],
          "table": [
           {
            "cells": {
             "fill": {
              "color": "#EBF0F8"
             },
             "line": {
              "color": "white"
             }
            },
            "header": {
             "fill": {
              "color": "#C8D4E3"
             },
             "line": {
              "color": "white"
             }
            },
            "type": "table"
           }
          ]
         },
         "layout": {
          "annotationdefaults": {
           "arrowcolor": "#2a3f5f",
           "arrowhead": 0,
           "arrowwidth": 1
          },
          "autotypenumbers": "strict",
          "coloraxis": {
           "colorbar": {
            "outlinewidth": 0,
            "ticks": ""
           }
          },
          "colorscale": {
           "diverging": [
            [
             0,
             "#8e0152"
            ],
            [
             0.1,
             "#c51b7d"
            ],
            [
             0.2,
             "#de77ae"
            ],
            [
             0.3,
             "#f1b6da"
            ],
            [
             0.4,
             "#fde0ef"
            ],
            [
             0.5,
             "#f7f7f7"
            ],
            [
             0.6,
             "#e6f5d0"
            ],
            [
             0.7,
             "#b8e186"
            ],
            [
             0.8,
             "#7fbc41"
            ],
            [
             0.9,
             "#4d9221"
            ],
            [
             1,
             "#276419"
            ]
           ],
           "sequential": [
            [
             0,
             "#0d0887"
            ],
            [
             0.1111111111111111,
             "#46039f"
            ],
            [
             0.2222222222222222,
             "#7201a8"
            ],
            [
             0.3333333333333333,
             "#9c179e"
            ],
            [
             0.4444444444444444,
             "#bd3786"
            ],
            [
             0.5555555555555556,
             "#d8576b"
            ],
            [
             0.6666666666666666,
             "#ed7953"
            ],
            [
             0.7777777777777778,
             "#fb9f3a"
            ],
            [
             0.8888888888888888,
             "#fdca26"
            ],
            [
             1,
             "#f0f921"
            ]
           ],
           "sequentialminus": [
            [
             0,
             "#0d0887"
            ],
            [
             0.1111111111111111,
             "#46039f"
            ],
            [
             0.2222222222222222,
             "#7201a8"
            ],
            [
             0.3333333333333333,
             "#9c179e"
            ],
            [
             0.4444444444444444,
             "#bd3786"
            ],
            [
             0.5555555555555556,
             "#d8576b"
            ],
            [
             0.6666666666666666,
             "#ed7953"
            ],
            [
             0.7777777777777778,
             "#fb9f3a"
            ],
            [
             0.8888888888888888,
             "#fdca26"
            ],
            [
             1,
             "#f0f921"
            ]
           ]
          },
          "colorway": [
           "#636efa",
           "#EF553B",
           "#00cc96",
           "#ab63fa",
           "#FFA15A",
           "#19d3f3",
           "#FF6692",
           "#B6E880",
           "#FF97FF",
           "#FECB52"
          ],
          "font": {
           "color": "#2a3f5f"
          },
          "geo": {
           "bgcolor": "white",
           "lakecolor": "white",
           "landcolor": "#E5ECF6",
           "showlakes": true,
           "showland": true,
           "subunitcolor": "white"
          },
          "hoverlabel": {
           "align": "left"
          },
          "hovermode": "closest",
          "mapbox": {
           "style": "light"
          },
          "paper_bgcolor": "white",
          "plot_bgcolor": "#E5ECF6",
          "polar": {
           "angularaxis": {
            "gridcolor": "white",
            "linecolor": "white",
            "ticks": ""
           },
           "bgcolor": "#E5ECF6",
           "radialaxis": {
            "gridcolor": "white",
            "linecolor": "white",
            "ticks": ""
           }
          },
          "scene": {
           "xaxis": {
            "backgroundcolor": "#E5ECF6",
            "gridcolor": "white",
            "gridwidth": 2,
            "linecolor": "white",
            "showbackground": true,
            "ticks": "",
            "zerolinecolor": "white"
           },
           "yaxis": {
            "backgroundcolor": "#E5ECF6",
            "gridcolor": "white",
            "gridwidth": 2,
            "linecolor": "white",
            "showbackground": true,
            "ticks": "",
            "zerolinecolor": "white"
           },
           "zaxis": {
            "backgroundcolor": "#E5ECF6",
            "gridcolor": "white",
            "gridwidth": 2,
            "linecolor": "white",
            "showbackground": true,
            "ticks": "",
            "zerolinecolor": "white"
           }
          },
          "shapedefaults": {
           "line": {
            "color": "#2a3f5f"
           }
          },
          "ternary": {
           "aaxis": {
            "gridcolor": "white",
            "linecolor": "white",
            "ticks": ""
           },
           "baxis": {
            "gridcolor": "white",
            "linecolor": "white",
            "ticks": ""
           },
           "bgcolor": "#E5ECF6",
           "caxis": {
            "gridcolor": "white",
            "linecolor": "white",
            "ticks": ""
           }
          },
          "title": {
           "x": 0.05
          },
          "xaxis": {
           "automargin": true,
           "gridcolor": "white",
           "linecolor": "white",
           "ticks": "",
           "title": {
            "standoff": 15
           },
           "zerolinecolor": "white",
           "zerolinewidth": 2
          },
          "yaxis": {
           "automargin": true,
           "gridcolor": "white",
           "linecolor": "white",
           "ticks": "",
           "title": {
            "standoff": 15
           },
           "zerolinecolor": "white",
           "zerolinewidth": 2
          }
         }
        },
        "title": {
         "text": "Locations of Aarhusbolig listings"
        }
       }
      }
     },
     "metadata": {},
     "output_type": "display_data"
    }
   ],
   "source": [
    "# plot locations on scattergeo plot\n",
    "# Pick a value that scales the size of the markers\n",
    "size_scale = 15\n",
    "\n",
    "# Setup marker size and coloring\n",
    "markers = dict(\n",
    "    size=aarhusbolig_locations[\"Size\"] / size_scale,\n",
    "    color=aarhusbolig_locations[\"color\"],\n",
    ")\n",
    "\n",
    "# Setup scatter on a mapbox plot\n",
    "trace = go.Scattermapbox(\n",
    "    lat=aarhusbolig_locations[\"Lat\"],\n",
    "    lon=aarhusbolig_locations[\"Lng\"],\n",
    "    mode=\"markers\",\n",
    "    marker=markers,\n",
    "    hoverinfo=\"text+lat+lon\",\n",
    "    text=aarhusbolig_locations[\"display_text\"],\n",
    ")\n",
    "\n",
    "# Define center of map by mean of latitude and longitude\n",
    "center_coordinates = dict(\n",
    "    lat=aarhusbolig_locations[\"Lat\"].mean(), lon=aarhusbolig_locations[\"Lng\"].mean()\n",
    ")\n",
    "\n",
    "# Change layout\n",
    "layout = go.Layout(\n",
    "    title=\"Locations of Aarhusbolig listings\",\n",
    "    autosize=True,\n",
    "    hovermode=\"closest\",\n",
    "    mapbox=dict(\n",
    "        center=center_coordinates,\n",
    "        zoom=10,\n",
    "        style=\"carto-positron\",\n",
    "    ),\n",
    ")\n",
    "\n",
    "fig = go.Figure(data=[trace], layout=layout)\n",
    "fig.show()"
   ]
  },
  {
   "cell_type": "markdown",
   "metadata": {
    "id": "8eyvcoVr2g9y"
   },
   "source": [
    "## 3.4 Pricing Distributions and Correlations\n",
    "In this section we will look at distribution of pricing, along with visualizing the correlation of the rent, or other price variable, to another variable."
   ]
  },
  {
   "cell_type": "markdown",
   "metadata": {
    "id": "EVBDhvpt2g9y"
   },
   "source": [
    "### 3.4.1 Price Distribution for heat, electricity and water\n",
    "We want to visualize the distribution of the cost of `heat`, `electricity`, `water` and `tv_internet`.\n",
    "- Create a histogram plot displaying one of the\n",
    "    - Add axis labels and plot title\n",
    "- Create a histogram containing all the variables\n",
    "    - Add axis labels and plot title\n",
    "    - Add plot legends"
   ]
  },
  {
   "cell_type": "code",
   "execution_count": 13,
   "metadata": {
    "id": "WlqRV3fF2g9y"
   },
   "outputs": [
    {
     "data": {
      "application/vnd.plotly.v1+json": {
       "config": {
        "plotlyServerURL": "https://plot.ly"
       },
       "data": [
        {
         "name": "Heating",
         "type": "histogram",
         "x": {
          "bdata": "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",
          "dtype": "f8"
         }
        }
       ],
       "layout": {
        "barmode": "stack",
        "template": {
         "data": {
          "bar": [
           {
            "error_x": {
             "color": "#2a3f5f"
            },
            "error_y": {
             "color": "#2a3f5f"
            },
            "marker": {
             "line": {
              "color": "#E5ECF6",
              "width": 0.5
             },
             "pattern": {
              "fillmode": "overlay",
              "size": 10,
              "solidity": 0.2
             }
            },
            "type": "bar"
           }
          ],
          "barpolar": [
           {
            "marker": {
             "line": {
              "color": "#E5ECF6",
              "width": 0.5
             },
             "pattern": {
              "fillmode": "overlay",
              "size": 10,
              "solidity": 0.2
             }
            },
            "type": "barpolar"
           }
          ],
          "carpet": [
           {
            "aaxis": {
             "endlinecolor": "#2a3f5f",
             "gridcolor": "white",
             "linecolor": "white",
             "minorgridcolor": "white",
             "startlinecolor": "#2a3f5f"
            },
            "baxis": {
             "endlinecolor": "#2a3f5f",
             "gridcolor": "white",
             "linecolor": "white",
             "minorgridcolor": "white",
             "startlinecolor": "#2a3f5f"
            },
            "type": "carpet"
           }
          ],
          "choropleth": [
           {
            "colorbar": {
             "outlinewidth": 0,
             "ticks": ""
            },
            "type": "choropleth"
           }
          ],
          "contour": [
           {
            "colorbar": {
             "outlinewidth": 0,
             "ticks": ""
            },
            "colorscale": [
             [
              0,
              "#0d0887"
             ],
             [
              0.1111111111111111,
              "#46039f"
             ],
             [
              0.2222222222222222,
              "#7201a8"
             ],
             [
              0.3333333333333333,
              "#9c179e"
             ],
             [
              0.4444444444444444,
              "#bd3786"
             ],
             [
              0.5555555555555556,
              "#d8576b"
             ],
             [
              0.6666666666666666,
              "#ed7953"
             ],
             [
              0.7777777777777778,
              "#fb9f3a"
             ],
             [
              0.8888888888888888,
              "#fdca26"
             ],
             [
              1,
              "#f0f921"
             ]
            ],
            "type": "contour"
           }
          ],
          "contourcarpet": [
           {
            "colorbar": {
             "outlinewidth": 0,
             "ticks": ""
            },
            "type": "contourcarpet"
           }
          ],
          "heatmap": [
           {
            "colorbar": {
             "outlinewidth": 0,
             "ticks": ""
            },
            "colorscale": [
             [
              0,
              "#0d0887"
             ],
             [
              0.1111111111111111,
              "#46039f"
             ],
             [
              0.2222222222222222,
              "#7201a8"
             ],
             [
              0.3333333333333333,
              "#9c179e"
             ],
             [
              0.4444444444444444,
              "#bd3786"
             ],
             [
              0.5555555555555556,
              "#d8576b"
             ],
             [
              0.6666666666666666,
              "#ed7953"
             ],
             [
              0.7777777777777778,
              "#fb9f3a"
             ],
             [
              0.8888888888888888,
              "#fdca26"
             ],
             [
              1,
              "#f0f921"
             ]
            ],
            "type": "heatmap"
           }
          ],
          "histogram": [
           {
            "marker": {
             "pattern": {
              "fillmode": "overlay",
              "size": 10,
              "solidity": 0.2
             }
            },
            "type": "histogram"
           }
          ],
          "histogram2d": [
           {
            "colorbar": {
             "outlinewidth": 0,
             "ticks": ""
            },
            "colorscale": [
             [
              0,
              "#0d0887"
             ],
             [
              0.1111111111111111,
              "#46039f"
             ],
             [
              0.2222222222222222,
              "#7201a8"
             ],
             [
              0.3333333333333333,
              "#9c179e"
             ],
             [
              0.4444444444444444,
              "#bd3786"
             ],
             [
              0.5555555555555556,
              "#d8576b"
             ],
             [
              0.6666666666666666,
              "#ed7953"
             ],
             [
              0.7777777777777778,
              "#fb9f3a"
             ],
             [
              0.8888888888888888,
              "#fdca26"
             ],
             [
              1,
              "#f0f921"
             ]
            ],
            "type": "histogram2d"
           }
          ],
          "histogram2dcontour": [
           {
            "colorbar": {
             "outlinewidth": 0,
             "ticks": ""
            },
            "colorscale": [
             [
              0,
              "#0d0887"
             ],
             [
              0.1111111111111111,
              "#46039f"
             ],
             [
              0.2222222222222222,
              "#7201a8"
             ],
             [
              0.3333333333333333,
              "#9c179e"
             ],
             [
              0.4444444444444444,
              "#bd3786"
             ],
             [
              0.5555555555555556,
              "#d8576b"
             ],
             [
              0.6666666666666666,
              "#ed7953"
             ],
             [
              0.7777777777777778,
              "#fb9f3a"
             ],
             [
              0.8888888888888888,
              "#fdca26"
             ],
             [
              1,
              "#f0f921"
             ]
            ],
            "type": "histogram2dcontour"
           }
          ],
          "mesh3d": [
           {
            "colorbar": {
             "outlinewidth": 0,
             "ticks": ""
            },
            "type": "mesh3d"
           }
          ],
          "parcoords": [
           {
            "line": {
             "colorbar": {
              "outlinewidth": 0,
              "ticks": ""
             }
            },
            "type": "parcoords"
           }
          ],
          "pie": [
           {
            "automargin": true,
            "type": "pie"
           }
          ],
          "scatter": [
           {
            "fillpattern": {
             "fillmode": "overlay",
             "size": 10,
             "solidity": 0.2
            },
            "type": "scatter"
           }
          ],
          "scatter3d": [
           {
            "line": {
             "colorbar": {
              "outlinewidth": 0,
              "ticks": ""
             }
            },
            "marker": {
             "colorbar": {
              "outlinewidth": 0,
              "ticks": ""
             }
            },
            "type": "scatter3d"
           }
          ],
          "scattercarpet": [
           {
            "marker": {
             "colorbar": {
              "outlinewidth": 0,
              "ticks": ""
             }
            },
            "type": "scattercarpet"
           }
          ],
          "scattergeo": [
           {
            "marker": {
             "colorbar": {
              "outlinewidth": 0,
              "ticks": ""
             }
            },
            "type": "scattergeo"
           }
          ],
          "scattergl": [
           {
            "marker": {
             "colorbar": {
              "outlinewidth": 0,
              "ticks": ""
             }
            },
            "type": "scattergl"
           }
          ],
          "scattermap": [
           {
            "marker": {
             "colorbar": {
              "outlinewidth": 0,
              "ticks": ""
             }
            },
            "type": "scattermap"
           }
          ],
          "scattermapbox": [
           {
            "marker": {
             "colorbar": {
              "outlinewidth": 0,
              "ticks": ""
             }
            },
            "type": "scattermapbox"
           }
          ],
          "scatterpolar": [
           {
            "marker": {
             "colorbar": {
              "outlinewidth": 0,
              "ticks": ""
             }
            },
            "type": "scatterpolar"
           }
          ],
          "scatterpolargl": [
           {
            "marker": {
             "colorbar": {
              "outlinewidth": 0,
              "ticks": ""
             }
            },
            "type": "scatterpolargl"
           }
          ],
          "scatterternary": [
           {
            "marker": {
             "colorbar": {
              "outlinewidth": 0,
              "ticks": ""
             }
            },
            "type": "scatterternary"
           }
          ],
          "surface": [
           {
            "colorbar": {
             "outlinewidth": 0,
             "ticks": ""
            },
            "colorscale": [
             [
              0,
              "#0d0887"
             ],
             [
              0.1111111111111111,
              "#46039f"
             ],
             [
              0.2222222222222222,
              "#7201a8"
             ],
             [
              0.3333333333333333,
              "#9c179e"
             ],
             [
              0.4444444444444444,
              "#bd3786"
             ],
             [
              0.5555555555555556,
              "#d8576b"
             ],
             [
              0.6666666666666666,
              "#ed7953"
             ],
             [
              0.7777777777777778,
              "#fb9f3a"
             ],
             [
              0.8888888888888888,
              "#fdca26"
             ],
             [
              1,
              "#f0f921"
             ]
            ],
            "type": "surface"
           }
          ],
          "table": [
           {
            "cells": {
             "fill": {
              "color": "#EBF0F8"
             },
             "line": {
              "color": "white"
             }
            },
            "header": {
             "fill": {
              "color": "#C8D4E3"
             },
             "line": {
              "color": "white"
             }
            },
            "type": "table"
           }
          ]
         },
         "layout": {
          "annotationdefaults": {
           "arrowcolor": "#2a3f5f",
           "arrowhead": 0,
           "arrowwidth": 1
          },
          "autotypenumbers": "strict",
          "coloraxis": {
           "colorbar": {
            "outlinewidth": 0,
            "ticks": ""
           }
          },
          "colorscale": {
           "diverging": [
            [
             0,
             "#8e0152"
            ],
            [
             0.1,
             "#c51b7d"
            ],
            [
             0.2,
             "#de77ae"
            ],
            [
             0.3,
             "#f1b6da"
            ],
            [
             0.4,
             "#fde0ef"
            ],
            [
             0.5,
             "#f7f7f7"
            ],
            [
             0.6,
             "#e6f5d0"
            ],
            [
             0.7,
             "#b8e186"
            ],
            [
             0.8,
             "#7fbc41"
            ],
            [
             0.9,
             "#4d9221"
            ],
            [
             1,
             "#276419"
            ]
           ],
           "sequential": [
            [
             0,
             "#0d0887"
            ],
            [
             0.1111111111111111,
             "#46039f"
            ],
            [
             0.2222222222222222,
             "#7201a8"
            ],
            [
             0.3333333333333333,
             "#9c179e"
            ],
            [
             0.4444444444444444,
             "#bd3786"
            ],
            [
             0.5555555555555556,
             "#d8576b"
            ],
            [
             0.6666666666666666,
             "#ed7953"
            ],
            [
             0.7777777777777778,
             "#fb9f3a"
            ],
            [
             0.8888888888888888,
             "#fdca26"
            ],
            [
             1,
             "#f0f921"
            ]
           ],
           "sequentialminus": [
            [
             0,
             "#0d0887"
            ],
            [
             0.1111111111111111,
             "#46039f"
            ],
            [
             0.2222222222222222,
             "#7201a8"
            ],
            [
             0.3333333333333333,
             "#9c179e"
            ],
            [
             0.4444444444444444,
             "#bd3786"
            ],
            [
             0.5555555555555556,
             "#d8576b"
            ],
            [
             0.6666666666666666,
             "#ed7953"
            ],
            [
             0.7777777777777778,
             "#fb9f3a"
            ],
            [
             0.8888888888888888,
             "#fdca26"
            ],
            [
             1,
             "#f0f921"
            ]
           ]
          },
          "colorway": [
           "#636efa",
           "#EF553B",
           "#00cc96",
           "#ab63fa",
           "#FFA15A",
           "#19d3f3",
           "#FF6692",
           "#B6E880",
           "#FF97FF",
           "#FECB52"
          ],
          "font": {
           "color": "#2a3f5f"
          },
          "geo": {
           "bgcolor": "white",
           "lakecolor": "white",
           "landcolor": "#E5ECF6",
           "showlakes": true,
           "showland": true,
           "subunitcolor": "white"
          },
          "hoverlabel": {
           "align": "left"
          },
          "hovermode": "closest",
          "mapbox": {
           "style": "light"
          },
          "paper_bgcolor": "white",
          "plot_bgcolor": "#E5ECF6",
          "polar": {
           "angularaxis": {
            "gridcolor": "white",
            "linecolor": "white",
            "ticks": ""
           },
           "bgcolor": "#E5ECF6",
           "radialaxis": {
            "gridcolor": "white",
            "linecolor": "white",
            "ticks": ""
           }
          },
          "scene": {
           "xaxis": {
            "backgroundcolor": "#E5ECF6",
            "gridcolor": "white",
            "gridwidth": 2,
            "linecolor": "white",
            "showbackground": true,
            "ticks": "",
            "zerolinecolor": "white"
           },
           "yaxis": {
            "backgroundcolor": "#E5ECF6",
            "gridcolor": "white",
            "gridwidth": 2,
            "linecolor": "white",
            "showbackground": true,
            "ticks": "",
            "zerolinecolor": "white"
           },
           "zaxis": {
            "backgroundcolor": "#E5ECF6",
            "gridcolor": "white",
            "gridwidth": 2,
            "linecolor": "white",
            "showbackground": true,
            "ticks": "",
            "zerolinecolor": "white"
           }
          },
          "shapedefaults": {
           "line": {
            "color": "#2a3f5f"
           }
          },
          "ternary": {
           "aaxis": {
            "gridcolor": "white",
            "linecolor": "white",
            "ticks": ""
           },
           "baxis": {
            "gridcolor": "white",
            "linecolor": "white",
            "ticks": ""
           },
           "bgcolor": "#E5ECF6",
           "caxis": {
            "gridcolor": "white",
            "linecolor": "white",
            "ticks": ""
           }
          },
          "title": {
           "x": 0.05
          },
          "xaxis": {
           "automargin": true,
           "gridcolor": "white",
           "linecolor": "white",
           "ticks": "",
           "title": {
            "standoff": 15
           },
           "zerolinecolor": "white",
           "zerolinewidth": 2
          },
          "yaxis": {
           "automargin": true,
           "gridcolor": "white",
           "linecolor": "white",
           "ticks": "",
           "title": {
            "standoff": 15
           },
           "zerolinecolor": "white",
           "zerolinewidth": 2
          }
         }
        },
        "title": {
         "text": "Distribution of Heating"
        },
        "xaxis": {
         "title": {
          "text": "Price (DKK)"
         }
        },
        "yaxis": {
         "title": {
          "text": "Count"
         }
        }
       }
      }
     },
     "metadata": {},
     "output_type": "display_data"
    }
   ],
   "source": [
    "# plot histogram of a single variable\n",
    "variable_name = \"Heating\"  # Change to 'Electricity', 'Water', or 'Communications'\n",
    "\n",
    "fig = go.Figure()\n",
    "fig.add_trace(go.Histogram(x=aarhusbolig[variable_name].values, name=variable_name))\n",
    "\n",
    "fig.update_layout(\n",
    "    title_text=f\"Distribution of {variable_name}\",\n",
    "    xaxis_title_text=\"Price (DKK)\",\n",
    "    yaxis_title_text=\"Count\",\n",
    "    barmode=\"stack\",\n",
    ")\n",
    "fig.show()"
   ]
  },
  {
   "cell_type": "code",
   "execution_count": 14,
   "metadata": {
    "id": "pxwtdouJ2g9z"
   },
   "outputs": [
    {
     "data": {
      "application/vnd.plotly.v1+json": {
       "config": {
        "plotlyServerURL": "https://plot.ly"
       },
       "data": [
        {
         "name": "Heating",
         "type": "histogram",
         "x": {
          "bdata": "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",
          "dtype": "f8"
         }
        },
        {
         "name": "Electricity",
         "type": "histogram",
         "x": {
          "bdata": "AAAAAAAAAAAAAAAAAAAAAAAAAAAAAAAAAAAAAAAAAAAAAAAAAAAAAAAAAAAAAAAAAAAAAAAAAAAAAAAAAAAAAAAAAAAAAAAAAAAAAAAAAAAAAAAAAAAAAAAAAAAAAAAAAAAAAAAAAAAAAAAAAAAAAAAAAAAAAAAAAAAAAAAAAAAAAAAAAAAAAAAAAAAAAAAAAAAAAAAAAAAAAAAAAAAAAAAAAAAAAAAAAAAAAAAAAAAAAAAAAAAAAAAAAAAAAAAAAAAAAAAAAAAAAAAAAAAAAAAAAAAAAAAAAAAAAAAAAAAAAAAAAAAAAAAAAAAAAAAAAAAAAAAAAAAAAAAAAAAAAAAAAAAAAAAAAAAAAAAAAAAAAAAAAAAAAAAAAAAAAAAAAAAAAAAAAAAAAAAAAAAAAAAAAAAAAAAAAAAAAAAAAAAAAAAAAAAAAAAAAAAAAAAAAAAAAADgdUAAAAAAAABpQAAAAAAAQG9AAAAAAADAZEAAAAAAAEBlQAAAAAAAAGlAAAAAAABAf0AAAAAAAMBsQAAAAAAA4HFAAAAAAAAAAAAAAAAAAAAAAAAAAAAAAAAAAAAAAAAAAAAAAAAAAAAAAAAAAAAAAAAAAAAAAAAAAAAAAAAAAAAAAAAAAAAAAAAAAAAAAAAAAAAAAAAAAAAAAAAAAAAAAAAAAAAAAAAAAAAAAAAAAAAAAAAAAAAAAAAAAAAAAAAAAAAAAAAAAAAAAAAAAAAAAAAAAAAAAAAAAAAAAAAAAAAAAAAAAAAAAAAAAAAAAAAAAAAAAAAAAAAAAAAAAAAAAAAAAAAAAAAAAAAAAAAAAAAAAAAAAAAAAAAAAAAAAAAAAAAAAAAAAAAAAAAAAAAAAAAAAAAAAAAAAAAAAAAAAAAAAAAAAAAAAAAAAAAAAAAAAAAAAAAAAAAAAAAAAAAAAAAAAAAAAAAAAAAAAAAAAAAAAAAAAAAAAFlAAAAAAAAAWUAAAAAAAABZQAAAAAAAAFlAAAAAAAAgaEAAAAAAACBoQAAAAAAAIGhAAAAAAAAgaEAAAAAAALB0QAAAAAAAsHRAAAAAAACwdEAAAAAAALB0QAAAAAAAkIdAAAAAAACQh0AAAAAAAJCHQAAAAAAAkIdAAAAAAAAwfUAAAAAAADB9QAAAAAAAMH1AAAAAAAAwfUAAAAAAABCGQAAAAAAAEIZAAAAAAAAQhkAAAAAAABCGQAAAAAAAQH9AAAAAAABAf0AAAAAAAEB/QAAAAAAAQH9AAAAAAAAAAAAAAAAAAAAAAAAAAAAAAAAAAAAAAAAAAAAAAAAAAAAAAAAAAAAAAAAAAAAAAAAAAAAAAAAAAAAAAAAAAAAAAAAAAAAAAAAAAAAAAAAAAAAAAAAAAAAAAAAAAAAAAAAAAAAAAAAAAAAAAAAAAAAAAAAAAAAAAAAAAAAAAAAAAAAAAAAAAAAAAAAAAAAAAAAAAAAAAAAAAAAAAAAAAAAAAAAAAAAAAAAAAAAAAAAAAAAAAAAAAAAAAAAAAAAAAAAAAAAAAAAAAAAAAAAAAAAAAAAAAAAAAAAAAAAAAAAAAAAAAAAAAAAAAAAAAAAAAAAAAAAAAAAAAAAAAAAAAAAAAAAAAAAAAAAAAAAAAAAAAAAAAAAAAAAAAAAAAAAAAAAAAAAAAAAAAAAAAAAAAAAAAAAAAAAAAAAAAAAAAAAAAAAAAAAAAAAAAAAAAAAAAAAAAAAAAAAAAAAAAAAAAAAAAAAAAAAAAAAAAAAAAAAAAAAAAAAAAAAAAAAAAAAAAAAAAAAAAAAAAAAAAAAAAAAAAAAAAAAAAAAAAAAAAAAAAAAAAAAAAAAAAAAAAAAAAAAAAAAAAAAAAAAAAAAAAAAAAAAAAAAAAAAAAAAAAAAAAAAAAAAAAAAAAAAAAAAAAAAAAAAAAAAAAAAAAAAAAAAAAAAAAAAAAAAAAAAAAAAAAAAAAAAAAAAAAAAAAAAAAAAAAAAAAAAAAAAAAAAAAAAAAAAAAAAAAAAAAAAAAAAAAAAAAAAAAAAAAAAAAAAAAAAAAAAAAAAAAAAAAAAAAAAAAAAAAAAAAAAAAAAAAAAAAAAAAAAAAAAAAAAAAAAAAAAAAAAAAAAAAAAAAAAAAAAAAAAAAAAAAAAAAAAAAAAAAAAAAAAAAAAAAAAAAAAAAAAAAAAAAAAAAAAAAAAAAAAAAAAAAAAAAAAAAAAAAAAAADBxQAAAAAAAoHNAAAAAAABAc0AAAAAAACB1QAAAAAAAUHZAAAAAAABQdkAAAAAAAFB4QAAAAAAAAAAAAAAAAAAAAAAAAAAAAAAAAAAAAAAAAAAAAAAAAAAAAAAAAAAAAMB3QAAAAAAA8HlAAAAAAADwgkAAAAAAAOCKQAAAAAAAQHVAAAAAAAAAAAAAAAAAAAAAAAAAAAAAAAAAAAAAAAAAAAAAAAAAAAAAAAAAAAAAAAAAAAAAAAAAAAAAAAAAAAAAAAAAAAAAAAAAAAAAAACAXUAAAAAAAABlQAAAAAAAgFlAAAAAAADAb0AAAAAAAABmQAAAAAAAAHVAAAAAAABgbUAAAAAAAAAAAAAAAAAAAAAAAAAAAAAAAAAAAAAAAMByQAAAAAAAwHJAAAAAAAAAdUAAAAAAADB2QAAAAAAAMHdAAAAAAAAAAAAAAAAAAAAAAAAAAAAAAAAAAAAAAAAAAAAAAAAAAAAAAAAAAAAAAAAAAAAAAAAAAAAAAAAAAAAAAAAAAAAAAAAAAAAAAAAAAAAAAAAAAAAAAAAAAAAAAAAAAAAAAAAAAAAAAAAAAAAAAAAAAAAAAAAAAAAAAAAAAAAAAAAAAAAAAAAAAAAAAAAAAAAAAAAAAAAAAAAAAAAAAAAAAAAAAAAAAAAAAAAAAAAAAAAAAAAAAAAAAAAAAAAAAAAAAAAAAAAAAAAAAAAAAAAAAAAAAAAAAAAAAAAAAAAAAAAAAAAAAAAAAAAAAAAAAAAAAAAAAAAAAAAAAAAAAAAAAAAAAAAAAAAAAAAAAAAAAAAAAAAAAAAAAAAAAAAAAAAAAAAAAAAAAAAAAAAAAAAAAAAAAAAAAAAAAAAAAAAAAAAAAAAAAAAAAAAAAAAAAAAAAAAAAAAAAAAAAAAAAAAAAAAAAAAAAAAAAAAAAAAAAAAAAAAAAAAAAAAAAAAAAAAAAAAAAAAAAAAAAAAAAAAAAAAAAAAAAAAAAAAAAAAAAAAAAAAAAAAAAAAAAAAAAAAAAAAAAAAAAAAAAAAAAAAAAAAAAAAAAAAAAAAAAAAAAAAAAAAAAAAAAAAAAAAAAAAAAAAAAAAAAAAAAAAAAAAAAAAAAAAAAAAAAAAAAAAAAAAAAAAAAAAAAAAAAAAAAAAAAAAAAAAAAAAAAAAAAAAAAAAAAAAAAAAAAAAAAAAAAAAAAAAAAAAAAAAAAAAAAAAAAAAAAAAAAAAAAAAAAAAAAAAAAAAAAAAAAAAAAAAAAAAAAAAAAAAAAAAAAAAAAAAAAAAAAAAAAAAAAAAAAAAAAAAAAAAAAAAAAAAAAAAAAAAAAAAAAAAAAAAAAAAAAAAAAAAAAAAAAAAAAAAAAAAAAAAAAAAAAAAAAAAAAAAAAAAAAAAAAAAAAAAAAAAAAAAAAAAAAAAAAAAAAAAAAAAAAAAAAAAAAAAAAAAAAAAAAAAAAAAAAAAAAAAAAAAAAAAAAAAAAAAAAAAAAAAAAAAAAAAAAAAAAAAAAAAAAAAAAAAAAAAAAAAAAAAAAAAAAAAAAAAAAAAAAAAAAAAAAAAAAAAAAAAAAAAAAAAAAAAAAAAAAAAAAAAAAAAAAAAAAAAAAAAAAAAAAAAAAAAAAAAAAAAAAAAAAAAAAAAAAAAAAAAAAAAAAAAAAAAAAAAAAAAAAAAAAAAAAAAAAAAAAAAAAAAAAAAAAAAAAAAAAAAAAAAAAAAAAAAAAAAAAAAAAAAAAAAAAAAAAAAAAAAAAAAAAAAAAAAAAAAAAAAAbkAAAAAAAABXQAAAAAAA6IZAAAAAAAAAAAAAAAAAAAAAAAAAAAAAAAAAAAAAAAAAAAAAAAAAAAAAAAAAAAAAAAAAAAAAAAAAAAAAAAAAAAAAAAAAAAAAAAAAAAAAAAAAAAAAAAAAAAAAAAAAAAAAAAAAAAAAAAAAAAAAAAAAAAAAAAAAAAAAAAAAAAAAAAAAAAAAAAAAAAAAAAAAAAAAAAAAAAAAAAAAAAAAAAAAAAAAAAAAAAAAAAAAAAAAAAAAAAAAAAAAAAAAAAAAAAAAAAAAAAAAAAAAAAAAAAAAAAAAAAAAAAAAAAAAAAAAAAAAAAAAAAAAAAAAAAAAAAAAAAAAAAAAAAAAAAAAAAAAAAAAAAAAAAAAAAAAAAAAAAAAAAAAAAAAAAAAAAAAAAAAAAAAAAAAAAAAAAAAAAAAAAAAAAAAAAAAAAAAAAAAAAAAAAAAAAAAAAAAAAAAAAAAAAAAAAAAAAAAAAAAAAAAAAAAAAAAAAAAAAAAAAAAAAAAAAAAAAAAAAAAAAAAAAAAAAAAAAAAAAAAAAAAAAAAAAAAAAAAAAAAAAAAAAAAAAAAAAAAAAAAAAAAAAAAAAAAAAAAAAAAAAAAAAAAAAAAAAAAAAAAAAAAAAAAAAAAAAAAAAAAAAAAAAAAAAAAAAAAAAAAAAAAAAAAAAAAAAAAAAAAAAAAAAAAAAAAAAAAAAAAAAAAAAAAAAAAAAAAAAAAAAAAAAAAAAAAAAAAAAAAAAAAAAAAAAAAAAAAAAAAAAAAAAAAAAAAAAAAAAAAAAAAAAAAAAAAAAAAAAAAAAAAAAAAAAAAAAAAAAAAAAAAAAAAAAAAAAAAAAAAAAAAAAAAAAAAAAAAAAAAAAAAAAAAAAAAAAAAAAAAAAAAAAAAAAAAAAAAAAAAAAAAAAAAAAAAAAAAAAAAAAAAAAAAAAAAAAAAAAAAAAAAAAAAAAAAAAAAAAAAAAAAAAAAAAAAAAAAAAAAAAAAAAAAAAAAAAAAAAAAAAAAAAAAAAAAAAAAAAAAAAAAAAAAAAAAAAAAAAAAAAAAAAAAAAAAAAAAAAAAAAAAAAAAAAAAAAAAAAAAAAAAAAAAAAAAAAAAAAAAAAAAAAAAAAAAAAAAAAAAAAAAAAAAAAAAAAAAAAAAAAAAAAAAAAAAAAAAAAAAAAAAAAAAAAAAAAAAAAAAAAAAAAAAAAAAAAAAAAAAAAAAAAAAAAAAAAAAAAAAAAAAAAAAAAAAAAAAAAAAAAAAAAAAAAAAAAAAAAAAAAAAAAAAAAAAAAAAAAAAAAAAAAAAAAAAAAAAAAAAAAAAAAAAAAAAAAAAAAAAAAAAAAAAAAAAAAAAAAAAAAAAAAAAAAAAAAAAAAAAAAAAAAAAAAAAAAAAAAAAAAAAAAAAAAAAAAAAAAAAAAAAAAAAAAAAAAAAAAAAAAAAAAAAAAAAAAAAAAAAAAAAAAAAAAAAAAAAAAAAAAAAAAAAAAAAAAAAAAAAAAAAAAAAAAAAAAAAAAAAAAAAAAAAAAAAAAAAAAAAAAAAAAAAAAAAAAAAAAAAAAAAAAAAAAAAAIlAAAAAAADghUAAAAAAAMByQAAAAAAAAGlAAAAAAAAAAAAAAAAAAAAAAAAAAAAAAAAAAAAAAAAAAAAAAAAAAAAAAAAAAAAAAAAAAAAAAAAAAAAAAAAAAAAAAAAAAAAAAAAAAAAAAAAAAAAAAAAAAAAAAAAAAAAAwHNAAAAAAACAe0AAAAAAACB9QAAAAAAAoIRAAAAAAAAAAAAAAAAAAAAAAAAAAAAAAAAAAAAAAAAAAAAAAAAAAAAAAAAAAAAAAAAAAAAAAAAAAAAAAAAAAAAAAAAAAAAAAAAAAAAAAAAAAAAAAAAAAAAAAAAAAAAAAAAAAAAAAAAAAAAAAAAAAAAAAAAAAAAAAAAAAAAAAAAAAAAAAAAAAAAAAAAAAAAAAAAAAAAAAAAAAAAAAAAAAAAAAAAAAAAAAAAAAAAAAAAAAAAAAAAAAAAAAAAAAAAAAAAAAAAAAAAAAAAAAAAAAAAAAAAAAAAAAAAAAAAAAAAAAAAAAAAAAAAAAAAAAAAAAAAAAAAAAADAckAAAAAAAMByQAAAAAAAwHJAAAAAAAAAeUAAAAAAAEB/QAAAAAAAQH9AAAAAAAAAAAAAAAAAAAAAAAAAAAAAAAAAAAAAAAAAAAAAAAAAAAAAAAAAAAAAAAAAAAAAAAAAAAAAAAAAAAAAAAAAAAAAAAAAAAAAAAAAAAAAAAAAAAAAAAAAAAAAAAAAAAAAAAAAAAAAAAAAAAAAAAAAAAAAAAAAAAAAAAAAAAAAAAAAAAAAAAAAAAAAAAAAAAAAAAAAAAAAAAAAAAAAAAAAAAAAAAAAAAAAAAAAAAAAAAAAAAAAAAAAAAAAAAAAAAAAAAAAAAAAAAAAAAAAAAAAAAAAAAAAAAAAAAAAAAAAAAAAAAAAAAAAAAAAAAAAAAAAAAAAAAAAAAAAAAAAAAAAAAAAAAAAAAAAAAAAAAAAAAAAAAAAAAAAAAAAAAAAAAAAAAAAAAAAAAAAAAAAAAAAAAAAAAAAAAAAAAAAAAAAAAAAAAAAAAAAAAAAAAAAAAAAAAAAAAAAAAAAAAAAAAAAAAAAAAAAAAAAAADAY0AAAAAAAMBuQAAAAAAAAAAAAAAAAAAAAAAAAAAAAKB6QAAAAAAAAAAAAAAAAAAAAAAAAAAAALB+QAAAAAAAKIFAAAAAAAAAAAAAAAAAAAAAAAAAAAAAAAAAAAAAAAAAAAAAAAAAAAAAAAAAAAAAAAAAAAAAAAAAAAAAAAAAAAAAAAAAAAAAAAAAAAAAAAAAAAAAAAAAAAAAAAAAAAAAAAAAAAAAAAAAAAAAAAAAAAAAAAAAAAAAAAAAAAAAAAAAAAAAAAAAAAAAAAAAAAAAAAAAAAAAAAAAAAAAAAAAAAAAAAAAAAAAAAAAAAAAAAAAAAAAAAAAAAAAAAAAAAAAAAAAAAAAAAAAAAAAAAAAAAAAAAAAAAAAAAAAAAAAAAAAAAAAAAAAAAAAAAAAAAAAAAAAAAAAAAAAAAAAAAAAAAAAAAAAAAAAAAAAAAAAAAAAAAAAAAAAAAAAAAAAAAAAAAAAAAAAAAAAAAAAAAAAAAAAAAAAAAAAAAAAAAAAAAAAAAAAAAAAAAAAAAAAAAAAAAAAAAAAAAAAAAAAAAAAAAAAAAAAAAAAAAAAAAAAAAAAAAAAAAAAAAAAAAAAAAAAAAAAAAAAAAAAAAAAAAAAAAAAAAAAAAAAAAAAAAAAAAAAAAAAAAAAAAAAAAAAAAAAAAAAAAAAAAAAAAAAAAAAAAAAAAAAAAAAAAAAAAAAAAAAAAAAAAAAAAAAAAAAAAAAAAAAAAAAAAAAAAAAAAAAAAAAAAAAAAAAAAAAAAAAAAAAAAAAAAAAAAAAAAAAAAAAAAAAAAAAAAAAAAAAAAAAAAAAAAAAAAAAAAAAAAAAAAAAAAAAAAAAAAAAAAAAAAAAAAAAAAAAAAAAAAAAAAAAAAAAAAAAAAAA4H5AAAAAAAB4gEAAAAAAAECBQAAAAAAACIJAAAAAAABAhUAAAAAAAAAAAAAAAAAAAAAAAAAAAAAAAAAAAAAAAAAAAAAAAAAAAAAAAAAAAAAAAAAAAAAAAAAAAAAAAAAAAAAAAAAAAAAAAAAAAAAAAAAAAAAAAAAAAAAAAAAAAAAAAAAAAAAAAAAAAAAAAAAAAAAAAAAAAAAAAAAAAAAAAIBuQAAAAAAAIHtAAAAAAADAf0AAAAAAAMCCQAAAAAAAAAAAAAAAAAAAAAAAAAAAAAAAAAAAAAAA4HVAAAAAAADgekAAAAAAAOB1QAAAAAAAAHlAAAAAAAAAeUAAAAAAAAB5QAAAAAAAAHlAAAAAAAAAAAAAAAAAAAAAAAAAAAAAAAAAAAAAAAAAAAAAAAAAAAAAAAAAAAAAAAAAAAAAAAAAAAAAAAAAAAAAAAAAAAAAAAAAAAAAAAAAAAAAAAAAAAAAAAAAAAAAAAAAAAAAAAAAAAAAAAAAAAAAAAAAAAAAAAAAAAAAAAAAAAAAAAAAAAAAAAAAAAAAAAAAAAAAAAAAAAAAAAAAAAAAAAAAAAAAAAAAAAAAAAAAAAAAAAAAAAAAAAAAAAAAAAAAAAAAAAAAAAAAAAAAAAAAAAAAAAAAAAAAAAAAAAAAAAAAAAAAAABpQAAAAAAAQHVAAAAAAADAd0AAAAAAAIBmQAAAAAAAgHFAAAAAAADgekAAAAAAAOB6QAAAAAAAAH5AAAAAAAAAfkAAAAAAAECAQAAAAAAA4IBAAAAAAABgg0AAAAAAAAAAAAAAAAAAAAAAAAAAAAAAAAAAAAAAAAAAAAAAAAAAAAAAAAAAAACgZ0AAAAAAAEBvQAAAAAAAIGxAAAAAAACgakAAAAAAAAB5QAAAAAAAAAAAAAAAAAAAAAAAAAAAAAAAAAAAAAAAAAAAAAAAAAAAAAAAAAAAAAAAAAAAAAAAAAAAAAAAAAAAAAAAAAAAAAAAAAAAAAAAwG9AAAAAAADAckAAAAAAACBqQGiR7Xy/W4NAAAAAAAAAAAAAAAAAAAAAAAAAAAAAAAAAAAAAAAAAAAAAAAAAAAAAAAAAAAAAAAAAAAAAAAAAAAAAAAAAAAAAAAAAAAAAAAAAAAAAAAAAAAAAAAAAAAAAAAAAAAAAqIZAAAAAAADAckAAAAAAAAB5QAAAAAAAuIBAAAAAAABAf0AAAAAAAOCFQAAAAAAAAAAAAAAAAAAAAAAAAAAAAAAAAAAAAAAAAAAAAAAAAAAAAAAAAAAAAAAAAAAAAAAAAAAAAAAAAAAAAAAAAAAAAAAAAAAAAAAAAAAAAAAAAAAAAAAAAAAAAAAAAAAAAAAAAAAAAAAAAAAAAAAAAAAAAAAAAAAAAAAAAAAAAAAAAAAAAAAAAAAAAAAAAAAAAAAAAAAAAAAAAAAAAAAAAAAAAAAAAAAAAAAAAAAAAAAAAAAAAAAAAAAAAAAAAAAAAAAAAAAAAAAAAAAAAAAAAAAAAAAAAAAAAAAAAAAAAAAAAAAAAAAAAAAAABB2QAAAAAAAwH5AAAAAAAD4g0AAAAAAALCDQAAAAAAAAAAAAAAAAAAAAAAAAAAAAAAAAAAAAAAAAAAAAAAAAAAAAAAAAAAAAAAAAAAAAAAAAAAAAAAAAAAAAAAAAAAAAAAAAAAAAAAAAAAAAAAAAAAAAAAAAAAAAAAAAAAAAAAAkIJAAAAAAAAIgUAAAAAAAOiEQAAAAAAAAAAAAAAAAAAAAAAAAAAAAAAAAAAAAAAAAAAAAAAAAAAAAAAAAAAAAAAAAAAAAAAAAAAAAAAAAAAAAAAAAAAAAAAAAAAAAAAAAAAAAAAAAAAAAAAAAAAAAAAAAAAAAAAAAAAAAAAAAAAAAAAAAAAAAAAAAAAAAAAAAAAAAAAAAAAAAAAAAAAAAAAAAAAAAAAAAAAAAAAAAAAAAAAAAAAAAAAAAAAAAAAAAAAAAAAAAAAAAAAAAAAAAAAAAAAAAAAAAGlAAAAAAAAIgEAAAAAAAMByQKwcWmQ7InlAAAAAAAAAAAAAAAAAAAAAAAAAAAAAAAAAAAAAAAAAAAAAAAAAAAAAAAAAAAAAAHlAAAAAAADgdUAAAAAAAEBvQAAAAAAAAHlAAAAAAAAAeUAAAAAAAOB1QAAAAAAA4HVAAAAAAAAAaUAAAAAAAABpQAAAAAAAoHVAAAAAAADAkkAAAAAAAAAAAAAAAAAAAAAAAAAAAAAAAAAAAAAAAAAAAAAAAAAAAAAAAAAAAAAAAAAAAAAAAAAAAAAAAAAAAAAAAAAAAAAAAAAAAAAAAAAAAAAAAAAAAAAAAAAAAAAAAAAAAAAAAAAAAAAAAAAAAAAAAAAAAAAAAAAAAAAAAAAAAAAAAAAAAAAAAAAAAAAAAAAAAAAAAAAAAAAAAAAAAAAAAAAAAAAAAAAAAAAAAAAAAAAAAAAAAAAAAAAAAAAAAAAAAAAAAAAAAAAAAAAAKIBAAAAAAABQcUAAAAAAAJiBQAAAAAAAAAAAAAAAAAAAAAAAAAAAAAAAAAAAAAAAAAAAAAAAAAAAAAAAAAAAAAAAAAAAAAAAAAAAAAAAAAAAAAAAAAAAAAAAAAAAAAAAAAAAAAAAAAAAAAAAAAAAAAAAAAAAAAAAAAAAAAAAAAAAAAAAAAAAACBqQAAAAAAAIGtAAAAAAADAb0AAAAAAAFB0QAAAAAAAkHhAAAAAAAAAAAAAAAAAAAAAAAAAAAAAAAAAAAAAAAAAAAAAAAAAAAAAAAAAAAAAAAAAAAAAAAAAAAAAAAAAAAAAAAAAAAAAAAAAAAAAAAAAAAAAAAAAAAAAAAAAAAAAAAAAAAAAAAAAAAAAAAAAAIB9QAAAAAAAwGBAAAAAAABAbEAAAAAAADB5QAAAAAAAEIhAAAAAAACgaEAAAAAAADB2QAAAAAAAkHpAAAAAAADAfkAAAAAAAAAAAAAAAAAAAAAAAAAAAAAAAAAAAAAAAAAAAAAAAAAAAH5AAAAAAABQg0AAAAAAAHiFQAAAAAAAAIdAAAAAAAAAAAB7FK5H4eJtQAAAAAAAAAAAAAAAAAAAAAAAAAAAAAAAAAAAAAAAAAAAAAAAAAAAAAAAAAAAAAAAAAAAAAAAAAAAAAAAAAAAAAAAAAAAAAAAAAAAAAAAAAAAAAAAAAAAAAAAAAAAAAAAAAAAAAAAAAAAAAAAAAAAAAAAAAAAAAAAAAAAAAAAAAAAAAAAAAAAAAAAAAAAAAAAAAAAAAAAAAAAAAAAAAAAAAAAAAAAAAAAAAAAAAAAwHJAAAAAAADgf0AAAAAAAGiCQAAAAAAA4H9AAAAAAAAAAAAAAAAAAAAAAAAAAAAAAAAAAAAAAAAAAAAAAAAAAGBtQAAAAAAAsHpAAAAAAACgfkAAAAAAAMB+QAAAAAAAMIJAAAAAAADAdkAAAAAAAJiDQAAAAAAAgH1AAAAAAABYhkAAAAAAAAAAAAAAAAAAAAAAAAAAAAAAAAAAAAAAAAAAAAAAAAAAAAAAAAAAAAAAAAAAAAAAAAAAAAAAAAAAAAAAAAAAAAAAAAAAAAAAAAAAAAAAAAAAAAAAAAAAAAAAAAAAAAAAAAAAAAAAAAAAAAAAAAAAAAAAAAAAAAAAACBsQAAAAAAAQG1AAAAAAABAc0AAAAAAABB4QAAAAAAAIHdAAAAAAACwfUAAAAAAAJBxQAAAAAAAEHZAAAAAAAAQfUAAAAAAAIiBQAAAAAAAiIFAAAAAAAAgZUAAAAAAABB9QAAAAAAAIJFAAAAAAAAQeEAAAAAAAKB9QAAAAAAA8HNAAAAAAACQfUAAAAAAAPB0QAAAAAAAkIpAAAAAAADQgUAAAAAAAMB8QAAAAAAA0HdAAAAAAAAAekAAAAAAAJB9QAAAAAAAQH9AAAAAAAAAAAAAAAAAAAAAAAAAAAAAAAAAAAAAAAAAAAAAAAAAAAAAAAAAAAAAAAAAAAAAAAAAAAAAAAAAAAAAAAAAAAAAAAAAAAAAAAAAM8AAAAAAAABDwAAAAAAAAAAAAAAAAAAAAAAAAAAAAAAAAAAAAAAAAAAAAAAAAAAAAAAAAAAAAAAAAAAAAAAAAAAAAAAAAAAAAAAAAAAAAAAAAAAAAAAAAAAAAAAAAAAAAAAAAAAAAAAAAAAAAAAAAAAAAAAAAAAAAAAAAAAAAAAAAAAAAAAAAAAAAAAAAAAAAAAAAAAAAAAAAAAAAAAAAAAAAAAAAAAAJsAAAAAAAAAAAAAAAAAAADbAAAAAAACAQcAAAAAAAAAmwAAAAAAAADbAAAAAAAAAR8AAAAAAAAAAAAAAAAAAAAAAAAAAAAAAAAAAAAAAAAAAAAAAAAAAAAAAAAAAAAAAAAAAAAAAAAAAAAAAAAAAAAAAAAAAAAAAAAAAAAAAAAAAAAAAAAAAAAAAAAAAAAAAAAAAAAAAAAAAAAAAAAAAAAAAAAAAAAAAAAAAAAAAAAAAAAAAAAAAAAAAAAAAAAAAAAAAAAAAAAAAAAAAAAAAAAAAAAAAAAAAAAAAAAAAAAAAAAAAAAAAAAAAAAAAAAAAAAAAAAAAAAAAAAAAAAAAAAAAAAAAAAAAAAAAAAAAAAAAAAAAAAAAAAAAAAAAAAAAAAAAAAAAAAAAAAAAAAAAAAAAAAAAAAAAAAAAAAAAAAAAAAAAAAAAAAAAAAAAAAAAAAAAAAAAAAAAAAAAAAAAAAAAAAAAAAAAAAAAAAAAAAAAAAAAAAAAAAAAAAAAAAAAAAAAAAAAAAAAAAAAAAAAAAAAAAAAAAAAAAAAAAAAAAAAAAAAAAAAAAAAAAAAAAAAAAAAAAAAAAAAAAAAAAAAAAAAAAAAAAAAAAAAAAAAAAAAAAAAAAAAAAAAAAAAAAAAAAAAAAAAAAAAAAAAAAAAAAAAAAAAAAAAAAAAAAAAAAAAAAAAAAAAAAAAAAAAAAAAAAAAAAAAAAAAAAAAAAAAAAAAAAAAAAAAAAAAAAAAAAAAAAAAAAAAAAAAAAAAAAAAAAAAAAAAAAAAAAAAAAAAAAAAAAAAAAAAAAAAAAAAAAAAAAAAAAAAAAAAAAAAAAAAAAAAAAAAAAAAAAAAAAAAAAAAAAAAAAAAAAAAAAAAAAAAAAAAAAAAAAAAAAAAAAAAAAAAAAAAAAAAAAAAAAAAAAAAAAAAAAAAAAAAAAAAAAAAAAAAAAAAAAAAAAAAAAAAAAAAAAAAAAAAAAAAAAAAAAAAAAAAAAAAAAAAAAAAAAAAAAAAAAAAAAAAAAAAAAAAAAAAAAAAAAAAAAAAAAAAAAAAAAAAAAAAAAAAAAAAAAAAAAAAAAAAAAAAAAAAAAAAAAAAAAAAAAAAAAAAAAAAAAAAAAAAAAAAAAAAAAAAAAAAAAAAAAAAAAAAAAAAAAAAAAAAAAAAAAAAAAAAAAAAAAAAAAAAAAAAAAAAAAAAAAAAAAAAAAAAAAAAAAAAAAAAAAAAAAAAAAAAAAAAAAAAAAAAAAAAAAAAAAAAAAAAAAAAAAAAAAAAAAAAAAAAAAAAAAAAAAAAAAAAAAAAAAAAAAAAAAAAAAAAAAAAAAAAAAAAAAAAAAAAAAAAAAAAAAAAAAAAAAAAAAAAAAAAAAAAAAAAAAAAAAAAAAAAAAAAAAAAAAAAAAAAAAAAAAAAAAAAAAAAAAAAAAAAAAAAAAAAAAAAAAAAAAAAAAAAAAAAAAAAAAAAAAAAAAAAAAAAAAAAAAAAAAAAAAAAAAAAAAAAAAAAAAAAAAAAAAAAAAAAAAAAAAAAAAAAAAAAAAAAAAAAAAAAAAAAAAAAAAAAAAAAAAAAAAAAAAAAAAAAAAAAAAAAAAAAAAAAAAAAAAAAAAAAAAAAAAAAAAAAAAAAAAAAAAAAAAAAAAAAAAAAAAAAAAAAAAAAAAAAAAAAAAAAAAAAAAAAAAAAAAAAAAAAAAAAAAAAAAAAAAAAAAAAAAAAAAAAAAAAAAAAAAAAAAAAAAAAAAAAAAAAAAAAAAAAAAAAAAAAAAAAAAAAAAAAAAAAAAAAAAAAAAAAAAAAAAAAAAAAAAAAAAAAAAAAAAAAAAAAAAAAAAAAAAAAAAAAAAAAAAAAAAAAAAAAAAAAAAAAAAAAAAAAAAAAAAAAAAAAAAAAAAAAAAAAAAAAAAAAAAAAAAAAAAAAAAAAAAAAAAAAAAAAAAAAAAAAAAAAAAAAAAAAAAAAAAAAAAAAAAAAAAAAAAAAAAAAAAAAQHBAAAAAAABAb0AAAAAAAEB1QAAAAAAAwHdAAAAAAACgeUAAAAAAAKB5QAAAAAAAAHlAAAAAAADgf0AAAAAAAECAQAAAAAAAAHlAAAAAAAAQg0AAAAAAABCDQAAAAAAAAAAAAAAAAAAAAAAAAAAAAAAAAAAAAAAAAAAAAAAAAAAAAAAAAAAAAAAAAAAAAAAAAAAAAAAAAAAAAAAAAAAAAAAAAAAAAAAAAAAAAAAAAAAAAAAAAAAAAAAAAAAAAAAAAAAAAAAAAAAAAAAAAAAAAAAAAAAAAAAAAAAAAAAAAAAAAAAAAAAAAAAAAAAAAAAAAAAAAAAAAAAAAAAAAAAAAAAAAAAAAAAAAAAAAAAAAAAAAAAAAAAAAAAAAAAAAAAAAAAAAAAAAACAZkAAAAAAAAAAAAAAAAAAAAAAAAAAAAAAAAAAAAAAAAAAAAAAAAAAAAAAAAAAAAAAAAAAAAAAAAAAAAAAAAAAAAAAAAAAAAAAAAAAAAAAAAAAAAAAAAAAAAAAAAAAAAAAAAAAAAAAAAAAAAAAAAAAAAAAAAAAAAAAAAAAAAAAAAAAAAAAAAAAAAAAAAAAAAAAAAAAAAAAAAAAAAAAAAAAAAAAAAAAAAAAAAAAAAAAAAAAAAAAAAAAAAAAAAAAAAAAAAAAAAAAAAAAAAAAAAAAAAAAAAAAAAAAAAAAAAAAAAAAAAAAAAAAAAAAAAAAAAAAAAAAAAAAAAAAAAAAAAAAAAAAAAAAAAAAAAAAAAAAAAAAAAAAAAAAAAAAAAAAAAAAAAAAAAAAAAAAAAAAAAAAcHdAAAAAAAAgfEAAAAAAAGiAQAAAAAAAyIlAAAAAAAAAAAAAAAAAAAAAAAAAAAAAAAAAAAAAAAAAAAAAAAAAAAAAAAAAAAAAAAAAAAAAAAAAAAAAAAAAAAAAAAAAAAAAAAAAAAAAAAAAAAAAAAAAAAAAAAAAAAAAAAAAAAAAAAAAAAAAAAAAAAAAAAAAAAAAAAAAAAAAAAAAAAAAAAAAAAAAAAAAAAAAAAAAAAAAAAAAAAAAAAAAAAAAAAAAAAAAAAAAAAAAAAAAAAAAAAAAAAAAAAAAAAAAAAAAAAAAAAAAAAAAAAAAAAAAAAAAAAAAAAAAAAAAAAAAAAAAAAAAAAAAAAAAAAAAAAAAAAAAAAAAAAAAAAAAAAAAAAAAAAAAAAAAAAAAAAAAAAAAAAAAAAAAAAAAAAAAwHJAAAAAAADAckAAAAAAAAAAAAAAAAAAAAAAAAAAAAAAAAAAAAAAAAAAAAAAAAAAAAAAAAAAAAAAAAAAAAAAAAAAAAAAAAAAAAAAAAAAAAAAAAAAAAAAAAAAAAAAAAAAAAAAAAAAAAAAAAAAAAAAAAAAAAAAAAAAAAAAAAAAAAAAAAAAAAAAAAAAAAAAAAAAAAAAAAAAAAAAAAAAAAAAAAAAAAAAAAAAAAAAAAAAAAAAAAAAAAAAAAAAAAAAAAAAAAAAAAAAAAAAAAAAAAAAAAAAAAAAAAAAAAAAAAAAAAAAAAAAAAAAAAAAAAAAAAAAAAAAAAAAAAAAAAAAAAAAAAAAAAAAAAAAAAAAAAAAAAAAAAAAAAAAAAAAAAAAAAAAAAAAAAAAAAAAAAAAAAAAAAAAAAAAAAAAAAAAAAAAAAAAAAAAAAAAAAAAAAAAAAAAAAAAAAAAAAAAAAAAAAAAAAAAAAAAAAAAAAAAAAAAAAAAAAAAAAAAAAAAAAAAAAAAAAAAAAAAAAAAAAAAAAAAAAAAAAAAAAAAAAAAAAAAAAAAAAAAAAAAAAAAAAAAAAAAAAAAAAAAAAAAAAAAAAAAAAAAAAAAAAAAAAAAAAAAAAAAAAAAAAAAAAAAAAAAAAAAAAAAAAAAAAAAAAAAAAAAAAAAAAAAAAAAAAAAAAAAAAAAAAAAAAAAAAAAAAAAAAAAAAAAAAAAAAAAAAAAAAAAAAAAAAAAAAAAAAAAAAAAAAAAAAAAAAAAAAAAAAAAAAAAAAAAAAAAAAAAAAAAAAAAAAAAAAAAAAAAAAAAAAAAAAAAAAAAAAAAAAAAAAAAAAAAAAAAAAAAAAAAAAAAAAAAAAAAAAAAAAAAAAAAAAAAAAAAAAAAAAAAAAAAAAAAAAAAAAAAAAAAAAAAAAAAAAAAAAAAAAAAAAAAAAAAAAAAAAAAAAAAAAAAAAAAAAAAAAAAAAAAAAAAAAAAAAAAAAAAAAAAAAAAAAAAAAAAAAAAAAAAAAAAAAAAAAAAAAAAAAAAAAAAAAAAAAAAAAAAAAAAAAAAAAAAAAAAAAAAAAAAAAAAAAAAAAAAAAAAAAAAAAAAAAAAAAAAAAAAAAAAAAAAAAAAAAAAAAAAAAAAAAAAAAAAAAAAAAAAAAAAAAAAAAAAAAAAAAAAAAAAAAAAAAAAAOiCQAAAAAAAkHxAAAAAAADogkAAAAAAAPiGQAAAAAAAAAAAAAAAAAAAAAAAAAAAAAAAAAAAAAAAAAAAAAAAAACQiEAAAAAAAMiMQAAAAAAAGI1AAAAAAACQkEAAAAAAAGyQQAAAAAAAAAAAAAAAAAAAAAAAAAAAAAAAAAAAAAAAAAAAAAAAAAAAAAAAAAAAAAAAAAAAAAAAAAAAAAAAAAAAAAAAAAAAAAAAAAAAAAAAAAAAAAAAAAAAAAAAAAAAAAAAAAAAAAAAAAAAAAAAAAAAAAAAAAAAAAAAAAAAAAAAAAAAAAAAAAAAAAAAAAAAAAAAAAAAAAAAAAAAAAAAAAAAAAAAAAAAAAAAAAAAAAAAAAAAAAAAAAAAAAAAAAAAAAAAAAAAAAAAAAAAAAAAAAAAAAAAAAAAAAAAAAAAAAAAAAAAAAAAAAAAAAAAAAAAAAAAAAAAAAAAAAAAAAAAAAAAAAAAAAAAAAAAAAAAAAAAAAAAAAAAAAAAAAAAAAAAAAAAAAAAAAAAAAAAAAAAAAAAAAAAAAAAAAAAAAAAAAAAAAAAAAAAAAAAAAAAAAAAAAAAAAAAAAAAAAAAAAAAAAAAAAAAAAAAAAAAAAAAAAAAAAAAAAAAAAAAAAAAAAAAAAAAAAAAAAAAAAAAAAAAAAAAAAAAAAAAAAAAAAAAAAAAAAAAAAAAAAAAAAAAAAAAAAAAAAAAAAAAAAAAAAAAAAAAAAAAAAAAAAAAAAAAAAAAAAAAAAAAAAAAAAAAAAAAAAAAAAAAAAAAAAAAAAAAAAAAAAAAAAAAAAAAAAAAAAAAAAAAAAAAAAAAAAAAAAAAAAAAAAAAAAAAAAAAAAAAAAAAAAAAAAAAAAAAAAAAAAAAAAAAAAAAAAAAAAAAAAAAAAAAAAAAAAAAAAAAAAAAAAAAAAAAAAAAAAAAAAAAAAAAAAAAAAAAAAAAAAAAAAAAAAAAAAAAAAAAAAAAAAAAAAAAAAAAAAAAAAAAAAAAAAAAAAAAAAAAAAAAAAAAAAAAAAAAAAAAAAAAAAAAAAAAAAAAAAAAAAAAAKiAQAAAAAAAgIRAAAAAAAAAAAAAAAAAAAAAAAAAAAAAAAAAAAAAAAAAAAAAAAAAAAAAAAAAAAAAAAAAAAAAAAAAAAAAAAAAAAAAAAAAAAAAAAAAAAAAAAAAAAAAAAAAAAAAAAAAAAAAAAAAAAAAAAAAAAAAAAAAAAAAAAAAAAAAAAAAAAAAAAAAAAAAAAAAAAAAAAAAAAAAAAAAAAAAAAAAAAAAAAAAAAAAAAAAAAAAAAAAAAAAAAAAAAAAAAAAAAAAAAAAAAAAAAAAAAAAAAAAAAAAAAAAAAAAAAAAAAAAAAAAAAAAAAAAAAAAAAAAAAAAAAAAAAAAAAAAAAAAAADAckAAAAAAAHB3QAAAAAAAAHlAAAAAAAAAeUAAAAAAAJB6QAAAAAAAkHpAAAAAAACQekAAAAAAACB8QAAAAAAAIHxAAAAAAAAAAAAAAAAAAAAAAAAAAAAAAAAAAAAAAAAAAAAAAAAAAAAAAAAAAAAAAAAAAAAAAAAAAAAAAAAAAAAAAAAAAAAAAAAAAAAAAAAAAAAAAAAAAAAAAAAAAAAAAAAAAAAAAAAAAAAAAAAAAAAAAAAAAAAAAAAAAAAAAAAAAAAAAAAAAAAAAAAAAAAAsHhAAAAAAACQeUAAAAAAAAAAAAAAAAAAAAAAAAAAAAAAAAAAAAAAACB+QAAAAAAA0IFAAAAAAADQgUAAAAAAAFiCQAAAAAAAIH5AAAAAAAAAAAAAAAAAAAAAAAAAAAAAAAAAAAAAAAAAAAAAAAAAAAAAAAAAAAAAAAAAAAAAAAAAAAAAAAAAAAAAAAAAAAAAAAAAAAAAAAAAAAAAAAAAAAAAAAAAAAAAAAAAAAAAAAAAAAAAAAAAAAAAAAAAAAAAAAAAAAAAAAAAAAAAAAAAAAAAAAAAAAAAAAAAAAAAAAAAAAAAAAAAAAAAAAAAAAAAAAAAAAAAAAAAAAAAAAAAAAAAAAAAAAAAAAAAAAAAAAAAAAAAAAAAAAAAAAAAAAAAAAAAAAAAAAAAAAAAAAAAAAAAAAAAAAAAAAAAAAAAAAAAAAAAAAAAAAAAAAAAAAAAAAAAAAAAAAAAAAAAAAAAAAAAAAAAAAAAAAAAAAAAAAAAAAAAAAAAAAAAAAAAAAAAAAAAAAAAAAAAAAAAAAAAAAAAAAAAAAAAAAAAAAAAAAAAAAAAAAAAAAAAAAAAAAAAMIFAAAAAAACghUAAAAAAAOBqQAAAAAAAgHdAAAAAAADwe0AAAAAAAEB4QAAAAAAAYIFAAAAAAAA4hUAAAAAAAMCEQAAAAAAAgIZAAAAAAACAZkAAAAAAAIBhQAAAAAAAQGVAAAAAAAAAZEAAAAAAAEBwQAAAAAAAAAAAAAAAAAAAAAAAAAAAAAAAAAAAAAAAEHhAAAAAAACgaEAAAAAAAEBqQAAAAAAAYG1AAAAAAAAAAAAAAAAAAAAAAAAAAAAAAAAAAAAAAAAAAAAAAAAAAAAAAAAAAAAAQG9AAAAAAACYgUAAAAAAAOB1QAAAAAAA4HVAAAAAAAAgfEAAAAAAAFCEQAAAAAAAcIdAAAAAAACQikAAAAAAAFB0QAAAAAAAUHRAAAAAAAAAeUAAAAAAAAB5QAAAAAAAAHlAAAAAAAAAeUAAAAAAAMCCQAAAAAAAwIJAAAAAAABQhEAAAAAAAHCHQAAAAAAAcIdAAAAAAABwh0AAAAAAAHCHQAAAAAAAAAAAAAAAAAAAAAAAAAAAAAAAAAAAAAAAAAAAAAAAAAAAAAAAAAAAAAAAAAAAAAAAAAAAAAAAAAAAAAAAAAAAAAAAAAAAAAAAoHBAAAAAAACgcEAAAAAAAKBwQAAAAAAAoHBAAAAAAAAAeUAAAAAAAAB5QAAAAAAAAHlAAAAAAAAAeUAAAAAAACB8QAAAAAAAIHxAAAAAAAAgfEAAAAAAACB8QAAAAAAAUINAAAAAAABQg0AAAAAAAFCDQAAAAAAAUINAAAAAAACwhkAAAAAAALCGQAAAAAAAsIZAAAAAAACwhkC+nxov3cx+QL6fGi/dzH5Avp8aL93MfkC+nxov3cx+QAAAAAAAAAAAAAAAAAAAAAAAAAAAAAAAAAAAAAAAAAAAAAAAAAAAAAAAAAAAAAAAAAAAAAAAAAAAAAAAAAAAAAAAAAAAAAAAAAAAAAAAAAAAAAAAAAAAAAAAAAAAAOBrQAAAAAAAIGdAAAAAAACAakAAAAAAACBtQAAAAAAAwHJAAAAAAACgb0AAAAAAAFB2QAAAAAAAYGNAAAAAAADAckAAAAAAAMBsQAAAAAAAAAAAAAAAAAAAAAAAAAAAAAAAAAAAAAAAAAAAAAAAAAAAAAAAAAAAAJB3QAAAAAAAkHVAAAAAAADgb0AAAAAAAAiOQAAAAAAA4HVAAAAAAABwfEAAAAAAAAB5QAAAAAAAQG9AAAAAAACAcEAAAAAAAIB7QAAAAAAAQH9AAAAAAABAb0AAAAAAAOB1QAAAAAAAAHlAAAAAAAAAAAAAAAAAAAAAAAAAAAAAAAAAAAAAAAAAAAAAAAAAAAAAAAAAAAAAAAAAAAAAAAAAAAAAAAAAAAAAAAAAAAAAAAAAAAAAAAAAAAAAAAAAAAAAAAAAAAAAAAAAAAAAAAAAAAAAAAAAAAAAAAAAAAAAAAAAAAAAAAAAAAAAAAAAAAAAAAAAAAAAwIJAAAAAAAAwiUAAAAAAADCJQAAAAAAAAAAAAAAAAAAAAAAAAAAAAAAAAAAAAAAAAAAAAAAAAAAAAAAAAAAAAAAAAAAAAAAAAAAAAAAAAAAAAAAAAAAAAAAAAAAAAAAAAAAAAAAAAAAAAAAAAAAAAAAAAAAAAAAAAAAAAAAAAAAAAAAAAAAAAAAAAAAAAAAAAAAAAAAAAAAAAAAAAAAAAAAAAAAAAAAAAAAAAAAAAAAAAAAAAAAAAAAAAAAAAAAAAAAAAAAAAAAAAAAAAAAAAAAAAAAAAAAAAAAAAAAAAAAAAAAAAAAAAAAAAAAAAAAAAAAAAAAAAAAAAAAAAAAAAAAAAAAAAAAAAAAAAAAAAAAAAAAAAAAAAEBlQAAAAAAAIGxAAAAAAADgcEAAAAAAAFB0QAAAAAAAgHZAAAAAAAAAAAAAAAAAAAAAAAAAAAAAAAAAAAAAAAAAAAAAAAAAAAAAAAAAAAAAAAAAAAAAAAAAAAAAAAAAAAAAAAAAAAAAAAAAAAAAAAAAAAAAAAAAAAAAAAAAAAAAAAAAAAAAAAAAAAAAAAAAAAAAAAAAAAAAAAAAAAAAAAAAAAAAAAAAAAAAAAAAAAAAAAAAAAAAAAAAAAAAAAAAAAAAAAAAAAAAAAAAAAAAAAAAAAAAAAAAAAAAAAAAAAAAAAAAAAAAAAAAAAAAAAAAAAAAAAAAAAAAAAAAAAAAAAAAAAAAAAAAAAAAAAAAAAAAAAAAAAAAAAAAAAAAAAAAAAAAAAAAAAAAAAAAAAAAAAAAAAAAAAAAAAAAAAAAAAAAAAAAAAAAAAAAAAAAAAAAAAAAAAAAAAAAAAAAAAAAAAAAAAAAAAAAAAAAAAAAAAAAAAAAAAAAAAAAAAAAAAAAAAAAAAAAAAAAAAAAAAAAAAAAAAAAAAAAAAAAAAAAAAAAkIpAAAAAAAB4kEAAAAAAAAAAAAAAAAAAAAAAAAAAAAAAAAAAAAAAAAAAAAAAAAAAAAAAAAAAAAAAAAAAAAAAAAAAAAAAAAAAAAAAAAAAAAAAAAAAAAAAAAAAAAAAAAAAAAAAAAAAAAAAAAAAAAAAAAAAAAAAAAAAAAAAAAAAAAAAAAAAAAAAAAAAAAAAAAAAAAAAAAAAAAAAAAAAAAAAAAAAAAAAAAAAAAAAAAAAAAAAAAAAAAAAAAAAAAAAAAAAAAAAAAAAAAAAAAAAAAAAAAAAAAAAAAAAAAAAAAAAAAAAAAAAAAAAAAAAAAAAAAAAAAAAAAAAAAAAAAAAAAAAAAAAAAAAAAAAAAAAAAAAAAAAAAAAAAAAAAAAAAAAAAAAAAAAAAAAAAAAAAAAAAAAAAAAAAAAAAAAAAAAAAAAAAAAAAAAAAAAAAAAAAAAAAAAAAAAAAAAAAAAAAAAAAAAAAAAAAAAAAAAAAAAAAAAAAAAAAAAAAAAAAAAAAAAAAAAAAAAAAAAAAAAAAAAAAAAAAAAAAAAAAAAAAAAAAAAAAAAAAAAAAAAAAAAAAAAAAAAAAAAAAAAAAAAAAAAAAAAAAAAAAAAAAAAAAAAAAAAAAAAAAAAAAAAAAAAAAAAAAAAAAAAAAAAAAAAAAAAAAAAAAAAAAAAAAAAAAAAAAAAAAAAAAAAAAAAAAAAAAAAAAAAAAAAAAAAAAAAAAAAAAAAAAAAAAAAAAAAAAAAAAAAAAAAAAAAAAAAAAAAAAAAAAAAAAAAAAAAAAAAAAAAAAAAAAAAAAAAAAAAAAAAAAAAAAAAAAAAAAAAAAAAAAAAAAAAAAAAAAAAAAAAAAAAAAAAAAAAAAAAAAAAAAAAAAAAAAAAAAAAAAAAAAAAAAAAAAAAAAAAAAAAAAAAAAAAAAAAAAAAAAAAAAAAAAAAAAAAAAAAAAAAAAAAAAAAAAAAAAAAAAAAAAAAAAAAAAAAAAAAAAAAAAAAAAAAAAAAAAAAAAAAAAAAAAAAAAAAAAAAAAAAAAAAAAAAAAAAAAAAAAAAAAAAAAAAAAAAAAAAAAAAAAAAAAAAAAAAAAAAAAAAAAAAwG1AAAAAAADwZEAAAAAAAAB6QAAAAAAAhH5AAAAAAAAAAAAAAAAAAAAAAAAAAAAAAAAAAAAAAAAAAAAAAAAAAAAAAAAAAAAAAAAAAAAAAAAAAAAAAAAAAAAAAAAAAAAAAAAAAAAAAAAAAAAAAAAAAAAAAAAAAAAAAAAAAAAAAAAAAAAAAAAAAAAAAAAAAAAAAAAAAAAAAAAAAAAAAAAAAAAAAAAAAAAAAAAAAAAAAAAAAAAAAAAAAAAAAAAAAAAAAAAAAAAAAAAAAAAAAAAAAAAAAAAAAAAAAAAAAAAAAAAAAAAAAAAAAAAAAAAAAAAAAAAAAAAAAAAAAAAAAAAAAAAAAAAAAAAAAAAAAAAAAAAAAAAAAAAAAAAAAAAAAAAAAAAAAAAAAAAAAAAAAAAAAAAAAAAAAAAAAAAAAAAAAAAAAAAAAAAAAAAAAAAAAAAAAAAAAAAAAAAAAAAAAAAAAAAAAAAAAAAAAAAAAAAAAAAAAAAAAAAAAAAAAAAAAAAAAAAAAAAAAAAAAAAAAAAAAAAAAAAAAAAAAAAAAAAAAAAAAAAAAAAAAAAAAAAAAAAAAAAAAAAAAAAAAAAAAAAAAAAAAAAAAAAAAAAAAAAAAAAAAAAAAAAAAAAAAAAAAAAAgG9AAAAAAADAckAAAAAAAFCEQAAAAAAAAGpAAAAAAAAAfkAAAAAAAECKQAAAAAAAQG1AAAAAAAAAXUAAAAAAAGBnQAAAAAAAQG1AAAAAAAAgbkAAAAAAAAAAAAAAAAAAAAAAAAAAAAAAAAAAAAAAALBwQAAAAAAAgHNAAAAAAAAAAAAAAAAAAAAAAAAAAAAA4HVAAAAAAAAAAAAAAAAAAAAAAAAAAAAAAAAAAAAAAAAAAAAAAAAAAAAAAAAAAAAAAAAAAAAAAAAAAAAAAAAAAAAAAAAAAAAAAAAAAAAAAAAAAAAAAAAAAAAAAAAAAAAAAAAAAAAAAAAAAAAAAAAAAAAAAAAAAAAAAAAAAAAAAAAAAAAAAAAAAAAAAAAAAAAAAAAAAAAAAAAAAAAAAAAAAAAAAAAAAAAAAAAAAAAAAAAAAAAAAAAAAAAAAAAAAAAAAAAAAAAAAAAAAAAAAAAAAAAAAAAAAAAAAAAAAAAAAAAAAAAAAAAAAAAAAAAAAAAAAAAAAAAAAAAAAAAAAAAAAAAAAAAAAAAAAAAAAAAAAAAAAAAAAAAAAAAAAAAAAAAAAAAAAAAAAAAAAAAAAAAAAAAAAAAAAAAAAAAAAAAAAAAAAAAAAAAAAAAAAAAAAAAAAAAAAAAAAAAAAAAAAAAAAAAAAAAAAAAAAAAAAAAAAAAAAAAAAAAAAAAAAAAAAAAAAAAAAAAAAAAAAAAAAAAAAAAAAAAAAAAAAAAAAAAAAAAAAAAAAAAAAAAAAAAAAAAAAAAAAAAAAAAAAAAAAAAAAAAAAAAAAAAAAAAAAAAAAAAAAAAAAAAAAAAAAAAAAAAAAAAAAAAAAAAAAAAAAAAAAAAAAAAAAAAAAAAAAAAAAAAAAAAAAAAAAAAAAAAAAAAAAAAAAAAAAAAAAAAAAAAAAAAAAAAAAAAAAAAAAAAAAAAAAAAAAAAAAAAAAAAAAAAAAAAAAAAAAAAAAAAAAAAAAAAAAAAAAAAAAAAAAAAAAAAAAAAAAAAAAAAAAAAAAAAAAAAAAAAAAAAAAAAAAAAAAAAAAAAAAAAAAAAAAAAAAAAAAAAAAAAAAAAAAAAAAAAAAAAAAAAAAAAAAAAAAAAAAAAAAAAAAAAAAAAAAAAAAAAAAAAAAAAAAAAAAAAAAAAAAAAAAAAAAAAAAAAAAAAAAAAAAAAAAAAAAAAAAAAAAAAAAAAAAAAAAAAAAAAAAAAAAAAAAAAAAAAAAAAAAAAAAAAAAAAAAAAAAAAAAAAAAAAAAAAAAAAAAAAAAAAAAAAAAAAAAAAAAAAAAAAAAAAAAAAAAAAAAAAAAAAAAAAAAAAAAAAAAAAAAAAAAAAAAAAAAAAAAAAAAAAAAAAAAAAAAAAAAAAAAAAAAAAAAAAAAAAAAAAAAAAAAAAAAAAAAAAAAAAAAAAAAAAAAAAAAAAAAAAAAAAAAAAAAAAAAAAAAAAAAAAAAAAAAAAAAAAAAAAAAAAAAAAAAAAAAAAAAAAAAAAAAAAAAAAAAAAAAAAAAAAAAAAAAAAAAAAAAAAAAAAAAAAAAAAAAABwh0AAAAAAAABrQAAAAAAAUIRAAAAAAACghEAAAAAAAHB2QAAAAAAAsH1AAAAAAAAAAAAAAAAAAAAAAAAAAAAAAAAAAAAAAAAAAAAAAAAAAAAAAAAAAAAAAAAAAAAAAAAAAAAAAAAAAAAAAAAAAAAAAAAAAAAAAAAAAAAAAAAAAAAAAAAAAAAAAAAAAAAAAAAAAAAAAAAAAAAAAAAAAAAAAAAAAAAAAAAAAAAAAAAAAAAAAAAAAAAAAAAAAAAAAAAAAAAAAAAAAAAAAAAAAAAAAAAAAAAAAAAAAAAAAAAAAAAAAAAAAAAAAAAAAAAAAAAAAAAAAAAAAAAAAAAAAAAAAAAAAAAAAAAAAAAAAAAAAAAAAAAAAAAAAAAAAAAAAAAAAAAAAAAAAAAAAAAAAAAAAAAAAAAAAAAAAAAAAAAAAAAAAAAAAAAAAAAAAAAAAAAAAAAAAAAAAAAAAAAAAAAAAAAAAAAAAAAAAAAAAAAAAAAAAAAAAAAAAAAAAAAAAAAAAAAAAAAAAAAAAAAAAAAAAAAAAAAAAAAAAAAAAAAAAAAAAAAAAAAAAAAAAAAAAAAAAAAAAAAAAAAAAAAAAAAAAAAAAAAAAAAAAAAAAAAAAAAAAAAAAAAAAAAAAAAAAAAAAAAAAAAAAAAAAAAAAAAAAAAAAAAAAAAAAAAAAAAAAAAAAAAAAAAAAAAAAAAAAAAAAAAAAAAAAAAAAAAAAAAAAAAAAAAAAAAAAAAAAAAAAAAAAAAAAAAAAAAAAAAAAAAAAAAAAAAAAAAAAAAAAAAAAAAAAAAAAAAAAAAAAAAAAAAAAAAAAAAAAAAAAAAAAAAAAAAAAAAAAAAAAAAAAAAAAAAAAAAAAAAAAAAAAAAAAAAAAAAAAAAAAAAAAAAAAAAAAAAAAAAAAAAAAAAAAAAAAAAAAAAAAAAAAAAAAAAAAAAAAAAAAAAAAAAAAAAAAAAAAAAAAAAAAAAAAAAAAAAAAAAAAAAAAAAAAAAAAAAAAAAAAAAAAAAAAAAAAAAAAAAAAAAAAAAAAAAAAAAAAAAAAAAAAAAAAAAAAAAAAAAAAAAAAAAAAAAAAAAAAAAAAAAAAAAAAAAAAAAAAAAAAAAAAAAAAAAAAAAAAAAAAAAAAAAAAAAAAAAAAAAAAAAAAAAAAAAAAAAAAAAAAAAAAAAAAAAAAAAAAAAAAAAAAAAAAAAAAAAAAAAAAAAAAAAAAAAAAAAAAAAAAAAAAAAAAAAAAAAAAAAAAAAAAAAAAAAAAAAAAAAAAAAAAHlAAAAAAAAAAAAAAAAAAAAAAAAAAAAAAAAAAAAAAADAckAAAAAAALBzQAAAAAAAQH9AAAAAAAAAAAAAAAAAAAAAAAAAAAAAAAAAAAAAAAAAAAAAAAAAAAAAAAAAAAAAAAAAAAAAAAAAAAAAAAAAAAAAAAAAAAAAAAAAAAAAAAAAAAAAAAAAAAAAAAAAAAAAAAAAAAAAAAAAAAAAAAAAAAAAAAAAAAAAAAAAAAAAAAAAAAAAAAAAAAAAAAAAAAAAAAAAAAAAAAAAAAAAAAAAAAAAAAAAAAAAAAAA",
          "dtype": "f8"
         }
        },
        {
         "name": "Water",
         "type": "histogram",
         "x": {
          "bdata": "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",
          "dtype": "f8"
         }
        },
        {
         "name": "Communications",
         "type": "histogram",
         "x": {
          "bdata": "AAAAAAAAAAAAAAAAAAAAAAAAAAAAAAAAAAAAAAAAAAAAAAAAAEBwQAAAAAAAQHBAAAAAAABAcEAAAAAAAEBwQAAAAAAAAAAAAAAAAAAAAAAAAAAAAAAAAAAAAAAAAAAAAAAAAAAAAAAAAAAAAAAAAAAAAAAAAAAAAAAAAAAAAAAAAAAAAAAAAAAAAAAAAAAAAAAAAAAAAAAAAAAAAAAAAAAAAAAAQHBAAAAAAABAcEAAAAAAAEBwQAAAAAAAQHBAAAAAAAAAAAAAAAAAAAAAAAAAAAAAAAAAAAAAAAAAAAAAAAAAAEBwQAAAAAAAQHBAAAAAAABAcEAAAAAAAEBwQAAAAAAAAAAAAAAAAAAAAAAAAAAAAAAAAAAAAAAAAAAAAAAAAAAAAAAAAAAAAAAAAAAAAAAAAAAAAAAAAAAAAAAAAAAAAAAAAAAAAAAAAAAAAAAAAAAAAAAAAAAAAAAAAAAAAAAAAAAAAAAAAAAAAAAAAAAAAAAAAAAAAAAAAAAAAAAAAAAAAAAAAAAAAAAAAAAAAAAAAAAAAAAAAAAAAAAAAAAAAAAAAAAAAAAAAAAAAAAAAAAAAAAAAAAAAAAAAAAAAAAAAAAAAAAAAAAAAAAAAAAAAAAAAAAAAAAAAAAAAAAAAAAAAAAAAAAAAAAAAAAAAAAAAAAAAAAAAAAAAAAAAAAAAAAAAAAAAAAAAAAAAAAAAAAAAAAAAAAAAAAAAAAAAAAAAAAAAAAAAAAAAAAAAAAAAAAAAAAAAAAAAAAAAAAAAAAAAAAAAAAAAAAAAAAAAAAAAAAAAAAAAADgaEBSuB6F6+l8QAAAAAAAAAAAAAAAAAAAAAAAAAAAAAAAAAAAAAAAAAAAAAAAAAAAAAAAAAAAAAAAAAAAAAAAAAAAAAAAAABwcUAAAAAAAHBxQAAAAAAAcHFAAAAAAABwcUAAAAAAAHBxQAAAAAAAAAAAAAAAAAAAAAAAAAAAAAAAAAAAAAAAAAAAAAAAAABAcEAAAAAAAEBwQAAAAAAAQHBAAAAAAABAcEAAAAAAAEBwQAAAAAAAQHBAAAAAAABAcEAAAAAAAEBwQAAAAAAAQHBAAAAAAABAcEAAAAAAAEBwQAAAAAAAQHBAAAAAAABAcEAAAAAAAEBwQAAAAAAAQHBAAAAAAABAcEAAAAAAAEBwQAAAAAAAQHBAAAAAAABAcEAAAAAAAEBwQAAAAAAAAAAAAAAAAAAAAAAAAAAAAAAAAAAAAAAAAAAAAAAAAACAWUAAAAAAAIBZQAAAAAAAgFlAAAAAAACAWUAAAAAAAIBZQAAAAAAAgFlAAAAAAACAWUAAAAAAAIBZQAAAAAAAAAAAAAAAAAAAAAAAAAAAAAAAAAAAAAAAAAAAAAAAAAAAAAAAAAAAAAAAAAAAAAAAAAAAAAAAAAAAAAAAAAAAAAAAAAAAAAAAEHJAAAAAAAAQckAAAAAAAAAAAAAAAAAAAAAAAAAAAAAAAAAAAAAAAAAAAClcj8L1BoFAAAAAAAAAAAAAAAAAAAAAAAAAAAAAAAAAAAAAAAAAAAAAAAAAAAAAAAAAAAAAcHFAAAAAAABwcUAAAAAAAHBxQAAAAAAAcHFAAAAAAABwcUAAAAAAAHBxQAAAAAAAAAAAAAAAAAAAAAAAAAAAAAAAAAAAAAAAAAAAAAAAAAAAAAAAAAAAAAAAAAAAAAAAAAAAAAAAAAAAAAAAAAAAAIBqQAAAAAAAgGpAAAAAAAAAAAAAAAAAAIBqQAAAAAAAgGpAAAAAAACAakAAAAAAAEBwQAAAAAAAQHBAAAAAAABAcEAAAAAAAEBwQAAAAAAAQHBAAAAAAABAcEAAAAAAAEBwQAAAAAAAQHBAAAAAAAAAAAAAAAAAAAAAAAAAAAAAAAAAAAAAAAAAAAAAAAAAAEBwQAAAAAAAQHBAAAAAAABAcEAAAAAAAEBwQAAAAAAAQHBAAAAAAABAcEAAAAAAAEBwQAAAAAAAQHBAAAAAAAAAAAAAAAAAAAAAAAAAAAAAAAAAAAAAAAAAAAAAAAAAAEBwQAAAAAAAQHBAAAAAAABAcEAAAAAAAEBwQAAAAAAAQHBAAAAAAABAcEAAAAAAAEBwQAAAAAAAQHBAAAAAAAAAAAAAAAAAAAAAAAAAAAAAAAAAAAAAAAAAAAAAAAAAAAAAAAAAAAAAAAAAAAAAAAAAAAAAAAAAAIBNQAAAAAAAgE1AAAAAAACATUAAAAAAAIBNQAAAAAAAgE1AAAAAAACATUAAAAAAAIBNQAAAAAAAAAAAAAAAAAAAAAAAAAAAAAAAAAAAAAAAAAAAAAAAAAAAAAAAAAAAAAAAAAAAAAAAAAAAAAAAAAAAAAAAAAAAAAAAAAAAAAAAAAAAAAAAAAAAAAAAAAAAAAAAAAAAAAAAAAAAAAAAAAAAAAAAAAAAAAAAAAAAAAAAAAAAAAAAAAAAAAAAAAAAAMBoQAAAAAAAAAAAAAAAAAAAAAAAAAAAAAAAAAAAAAAAAAAAAAAAAAAAAAAAAAAAAAAAAAAAAAAAAAAAAAAAAAAAAAAAAAAAAAAAAAAAAAAAAAAAAAAAAAAAAAAAAAAAAAAAAAAAAAAAAAAAAAAAAAAAAAAAAAAAAAAAAAAAAAAAAAAAAAAAAABwcUAAAAAAAHBxQAAAAAAAAAAAAAAAAAAAAAAAAAAAAAAAAAAAAAAAAAAAAAAAAAAAAAAAAAAAAAAAAAAAAAAAAAAAAAAAAAAAAAAAAAAAAAAAAAAAAAAAAAAAAAAAAAAAAAAAAAAAAAAAAAAAAAAAAAAAAAAAAAAAAAAAAAAAAAAAAAAAAAAAAAAAAAAAAAAAAAAAAAAAAAAAAAAAAAAAAAAAAAAAAAAAAAAAAAAAAAAAAAAAAAAAAAAAAAAAAAAAAAAAAAAAAAAAAAAAAAAAAAAAAAAAAAAAAAAAAAAAAAAAAAAAAAAAAAAAAAAAAAAAAAAAAAAAAAAAAAAAAAAAAAAAAAAAAAAAAAAAAAAAAAAAAAAAAAAAAAAAAAAAAAAAAAAAAAAAAAAAAAAAAAAAAAAAAAAAAAAAAAAAAAAAAAAAAAAAAAAAAAAAAAAAAAAAAAAAAAAAAEBwQAAAAAAAQHBAAAAAAABAcEAAAAAAAEBwQAAAAAAAQHBAAAAAAABAcEAAAAAAAEBwQAAAAAAAQHBAAAAAAABAcEAAAAAAAEBwQAAAAAAAQHBAAAAAAABAcEAAAAAAAEBwQAAAAAAAQHBAAAAAAABAcEAAAAAAAEBwQAAAAAAAQHBAAAAAAABAcEAAAAAAAEBwQAAAAAAAQHBAAAAAAAAAAAAAAAAAAAAAAAAAAAAAAAAAAAAAAAAAAAAAAAAAAAAAAAAAAAAAAAAAAAAAAAAAAAAAAAAAAAAAAAAAAAAAAAAAAAAAAAAAAAAAAAAAAAAAAAAAAAAAcHFAAAAAAAAAAAAAAAAAAAAAAAAAAAAAAAAAAAAAAAAAAAAAAAAAAAAAAAAAAAAAAAAAAAAAAAAAAAAAAAAAAAAAAAAAAAAAAAAAAAAAAAAAAAAAAAAAAAAAAAAAAAAAAAAAAAAAAAAAAAAAAAAAAAAAAAAAAAAAAAAAAAAAAAAAAAAAAAAAAAAAAAAAAAAAAAAAAAAAAAAAAAAAAAAAAAAAAAAAAAAAAAAAAAAAAAAAAAAAAAAAAAAAAAAAAAAAAAAAAAAAAAAAAAAAAAAAAAAAAAAAAAAAAAAAAAAAAAAAAAAAAAAAAAAAAAAAAAAAAAAAAAAAAAAAAAAAAAAAAAAAAAAAAAAAAAAAAAAAAAAwcEAAAAAAADBwQAAAAAAAMHBAAAAAAAAwcEAAAAAAAAAAAAAAAAAAAAAAAAAAAAAAAAAAAAAAAAAAAAAAAAAAAAAAAAAAAAAAAAAAAAAAAAAAAAAAAAAAAAAAAAAAAAAAAAAAAAAAAAAAAAAAAAAAAAAAAAAAAAAAAAAAAAAAAAAAAAAAAAAAAAAAAAAAAABgcEAAAAAAAGBwQAAAAAAAYHBAAAAAAABgcEAAAAAAAAAAAAAAAAAAAAAAAAAAAAAAAAAAAAAAAAAAAAAAAAAAAAAAAAAAAAAAAAAAAAAAAAAAAAAAAAAAAAAAAAAAAAAAAAAAAAAAAAAAAAAAAAAAAAAAAAAAAAAAAAAAAAAAAAAAAAAAAAAAAAAAAAAAAAAAAAAAAAAAAAAAAAAAAAAAAAAAAAAAAAAAAAAAAAAAAAAAAAAAAAAAAAAAAAAAAAAAAAAAAAAAAAAAAAAAAAAAAAAAAAAAAAAAAAAAAAAAAAAAAAAAAAAAAAAAAAAAAAAAAAAAAAAAAAAAAAAAAAAAAAAAAAAAAAAAAAAAAAAAAAAAAAAAAAAAAAAAAAAAAAAAAAAAAAAAAAAAAAAAAAAAAAAAAAAAAAAAAAAAAAAAAAAAAAAAAAAAAAAAAAAAAAAAAAAAAAAAAAAAAAAAAAAAYHBAAAAAAABgcEAAAAAAAGBwQAAAAAAAYHBAAAAAAAAAAAAAAAAAAAAAAAAAAAAAAAAAAAAAAAAAAAAAAAAAAAAAAAAAAAAAAAAAAAAAAAAAAAAAAAAAAAAAAAAAAAAAAAAAAAAAAAAAAAAAAAAAAAAAAAAAAAAAAAAAAAAAAAAAAAAAAAAAAAAAAAAAAAAAAAAAAAAAAAAAAAAAAAAAAAAAAAAAAAAAAAAAUrgehev1cUBSuB6F6/VxQFK4HoXr9XFAUrgehev1cUBSuB6F6/VxQAAAAAAAAAAAAAAAAAAAAAAAAAAAAGBoQAAAAAAAYGhAAAAAAABgaEAAAAAAABByQAAAAAAAcHFAAAAAAABwcUAAAAAAAAAAAAAAAAAAcHFAAAAAAABwcUAAAAAAAAAAAAAAAAAAAAAAAAAAAAAAAAAAAAAAAAAAAAAAAAAAAAAAAAAAAAAAAAAAAAAAAAAAAAAAAAAAAAAAAAAAAAAAAAAAAAAAAAAAAAAAAAAAAAAAAAAAAAAAAAAAAAAAAAAAAAAAAAAAAAAAAAAAAAAAAAAAAAAAAAAAAAAAAAAAAAAAAAAAAAAAAAAAAAAAAAAAAAAAAAAAAAAAAAAAAAAAAAAAAAAAAAAAAAAAAAAAEHBAAAAAAAAQcEAAAAAAAAAAAAAAAAAAAAAAAAAAAAAAAAAAAAAAAAAAAAAAAAAAAAAAAAAAAAAAAAAAAAAAAAAAAAAAAAAAAAAAAAAAAAAAAAAAAAAAAMBwQAAAAAAAwHBAAAAAAADAcEAAAAAAAMBwQAAAAAAAwHBAAAAAAADAcEAAAAAAAMBwQAAAAAAAwHBAAAAAAAAAAAAAAAAAAAAAAAAAAAAAAAAAAAAAAAAAAAAAAAAAAAAAAAAAAAAAAAAAAAAAAAAAAAAAAAAAAAAAAAAAAAAAAAAAAAAAAAAAAAAAAAAAAAAAAAAAAAAAAAAAAAAAAABgcEAAAAAAAGBwQAAAAAAAYHBAAAAAAABgcEAAAAAAAAAAAAAAAAAAAAAAAAAAAAAAAAAAAAAAAAAAAAAAAAAAAAAAAAAAAAAAAAAAAAAAAAAAAAAAAAAAAAAAAAAAAAAAAAAAAAAAAAAAAAAAAAAAAAAAAAAAAAAAAAAAAAAAAAAAAAAAAAAAcHFAAAAAAABwcUAAAAAAAHBxQAAAAAAAcHFAAAAAAABwcUAAAAAAAHBxQAAAAAAAAAAAAAAAAAAAAAAAAAAAAAAAAAAAAAAAAAAAAAAAAAAAAAAAAAAAAAAAAAAAAAAAAAAAAAAAAAAAAAAAAAAAAAAAAAAAAAAAAAAAAAAAAAAAAAAAAAAAAAAAAAAAAAAAIG9AAAAAAAAgb0AAAAAAACBvQAAAAAAAIG9AAAAAAAAgb0AAAAAAAHBxQAAAAAAAcHFAAAAAAABwcUAAAAAAAHBxQAAAAAAAcHFAAAAAAABwcUAAAAAAAHBxQAAAAAAAAAAAAAAAAAAAAAAAAAAAAAAAAAAAAAAAAAAAAAAAAAAAAAAAAAAAAAAAAAAAAAAAAAAAAAAAAAAAAAAAAAAAAAAAAAAAAAAAAAAAAAAAAAAAAAAAAAAAAAAAAAAAAAAAAAAAAAAAAAAAAAAAAAAAAAAAAAAAAAAAAAAAAAAAAABgcEAAAAAAAGBwQAAAAAAAYHBAAAAAAABgcEAAAAAAAAAAAAAAAAAAAAAAAAAAAAAAAAAAAAAAAAAAAAAAAAAAAAAAAAAAAAAAAAAAAAAAAAAAAAAAAAAAAAAAAAAAAAAAAAAAAAAAAAAAAAAAAAAAAAAAAAAAAAAAAAAAAAAAAAAAAAAAAAAAAAAAAAAAAAAAAAAAAAAAAAAAAAAAAAAAAAAAAAAAAAAAAAAAAAAAAAAAAAAAAAAAAAAAAAAAAAAAAAAAAAAAAAAAAAAAAAAAAAAAAAAAAAAAAAAAAAAAAAAAAAAAAAAAAAAAAAAAAAAAAAAAAAAAAAAAAAAAAAAAAAAAAAAAAAAAAAAAAAAAAAAAAAAAAAAAAAAAAAAAAAAAAAAAAAAAAAAAAAAAAAAAAAAAAAAAAAAAAAAAAAAAAAAAAAAAAAAAAAAAAAAAAAAAAAAAAAAAAAAAAAAAAAAAAAAAAAAAAAAAAAAAAAAAAAAAAAAAAAAAAAAAAAAAAAAAAAAAAAAAAAAAAAAAAAAAAAAAAAAAAAAAAAAAAAAAAAAAAAAAAAAAAAAAAAAAAAAAAAAAAAAAAAAAAAAAAAAAAAAAAAAAAAAAAAAAAAAAAAAAAAAAAAAAAAAAAAAAAAAAAAAAAAAAAAAAAAAAAAAAAAAAAAAAAAAAAAAAAAAAAAAAAAAAAAAAAAAAAAAAAAAAAAAAAAAAAAAAAAAAAAAAAAAAAAAAAAAAAAAAAAAAAAAAAAAAAAAAAAAAAAAAAAAAAAAAAAAAAAAAAAAAAAAAAAAAAAAAAAAAAAAAAAAAAAAAAAAAAAAAAAAAAAAAAAAAAAAAAAAAAAAAAAAAAAAAAAAAAAAAAAAAAAAAAAAAAAAAAAAAAAAAAAAAAAAAAAAAAAAAAAAAAAAAAAAAAAAAAAAAAAAAAAAAAAAAAAAAAAAAAAAAAAAAAAAAAAAAAABAcEAAAAAAAEBwQAAAAAAAQHBAAAAAAABAcEAAAAAAAEBwQAAAAAAAQHBAAAAAAABAcEAAAAAAAEBwQAAAAAAAQHBAAAAAAABAcEAAAAAAAEBwQAAAAAAAQHBAAAAAAAAAAAAAAAAAAAAAAAAAAAAAAAAAAAAAAAAAAAAAAAAAAEBwQAAAAAAAQHBAAAAAAABAcEAAAAAAAEBwQAAAAAAAAAAAAAAAAAAAAAAAAAAAAAAAAAAAAAAAAAAAAAAAAAAAAAAAAAAAAAAAAAAAAAAAAAAAAAAAAAAAAAAAAAAAAAAAAAAAAAAAAAAAAAAAAAAAAAAAAAAAAAAAAAAAAAAAAAAAAAAAAAAAAAAAAAAAAAAAAAAAAAAAAAAAAAAAAAAAAAAAAAAAAAAAAAAAAAAAAAAAAAAAAAAAAAAAAAAAAAAAAAAAAAAAAAAAAAAAAAAAAAAAAAAAAHBxQAAAAAAAcHFAAAAAAABwcUAAAAAAAHBxQAAAAAAAcHFAAAAAAABwcUAAAAAAAHBxQAAAAAAAAAAAAAAAAAAAAAAAAAAAAAAAAAAAAAAAAAAAAAAAAAAAAAAAAAAAAAAAAAAAAAAAAAAAAAAAAAAAAAAAAAAAAAAAAAAAAAAAAAAAAAAAAAAAAAAAAAAAAAAAAAAAAAAAAAAAAAAAAAAAAAAAAAAAAAAAAAAAAAAAAAAAAAAAAAAAAAAAAAAAAAAAAAAAAAAAAAAAAAAAAAAAAAAAAAAAAAAAAAAAAAAAAAAAAAAAAAAAAAAAAAAAAAAAAAAAAAAAAAAAAAAAAAAAAAAAAAAAAAAAAAAAAAAAAAAAAAAAAAAAAAAAAAAAAAAAAAAAAAAAAAAAAAAAAAAAAAAAAAAAAAAAAAAAAAAAAAAAAAAAAAAAAAAAAAAAAAAAAAAAAAAAAAAAAAAAAAAAAAAAAAAAAAAAAAAAAAAAAAAAAAAAAAAAAAAAAAAAAAAAAAAAAAAAAAAAAAAAAAAAAAAAAAAAAAAAAAAAAAAAAAAAAAAAAAAAAAAAAAAAAAAAAAAAAAAAAAAAAAAAAAAAAAAAAAAAAHBxQAAAAAAAAAAAAAAAAAAAAAAAAAAAAAAAAAAAAAAAcHFAAAAAAABwcUAAAAAAAAAAAAAAAAAAcHFAAAAAAABwcUAAAAAAAHBxQAAAAAAAAAAAAAAAAAAAAAAAAAAAAAAAAAAAAAAAAAAAAAAAAAAAAAAAAAAAAAAAAAAAAAAAAAAAAAAAAABAakAAAAAAAEBqQAAAAAAAQGpAAAAAAABAakAAAAAAAEBqQAAAAAAAcHFAAAAAAABwcUAAAAAAAHBxQAAAAAAAcHFAAAAAAAAAAAAAAAAAAAAAAAAAAAAAAAAAAAAAAAAAAAAAAAAAAAAAAAAAAAAAAAAAAAAAAAAAAAAAAAAAAAAAAAAAAAAAAAAAAAAAAAAAAAAAAAAAAAAAAAAAAAAAAAAAAAAAAAAAAAAAAAAAAAAAAAAAAAAAAAAAAAAAAAAAAAAAAAAAAAAAAAAAAAAAAAAAAAAAAAAAAAAAAAAAAAAAAAAAAAAAAAAAAAAAAAAAAAAAAAAAAAAAAAAAAAAAAAAAAAAAAAAAAAAAAAAAAAAAAAAAAAAAcHFAAAAAAABwcUAAAAAAAHBxQAAAAAAAAAAAAAAAAAAAAAAAAAAAAAAAAAAAAAAAAAAAAAAAAAAAAAAAAAAAAAAAAAAAAAAAAAAAAAAAAAAAAAAAAAAAAAAAAAAAAAAAAAAAAAAAAAAAAAAAAAAAAAAAAAAAAAAAAAAAAAAAAAAAAAAAAAAAAAAAAAAAAAAAAAAAAAAAAAAAAAAAAAAAAAAAAAAAAAAAAAAAAAAAAAAAAAAAAAAAAPCBQAAAAAAA8IFAAAAAAABQcEAAAAAAAPCBQAAAAAAA8IFAAAAAAABQcEAAAAAAAAAAAAAAAAAAAAAAAAAAAAAAAAAAAAAAAAAAAAAAAAAAAAAAAAAAAAAAAAAAAAAAAAAAAAAAAAAAAAAAAAAAAAAQckAAAAAAABByQAAAAAAAEHJAAAAAAAAQckAAAAAAAAAAAAAAAAAAAAAAAAAAAAAAAAAAAAAAAAAAAAAAAAAAAAAAAAAAAAAAAAAAAAAAAAAAAAAAAAAAAAAAAAAAAAAAAAAAAAAAAAAAAAAAAAAAAAAAAAAAAAAAAAAAAAAAAAAAAAAAAAAAAAAAAAAAAAAAAAAAAAAAAAAAAAAAAAAAAAAAAAAAAAAAAAAAAAAAAAAAAAAAAAAAAAAAAAAAAAAAAAAAAAAAAAAAAAAAAAAAAAAAAAAAAAAAAAAAAAAAAAAAAAAAAAAAAAAAAAAAAAAAAAAAAAAAAAAAAAAAAAAAAAAAAAAAAAAAAAAAAAAAAAAAAOxRuB6F23RA7FG4HoXbdEDsUbgehdt0QOxRuB6F23RAAAAAAAAAAAAAAAAAAAAAAAAAAAAAAAAAAAAAAAAAAAAAAAAAAAAAAAAAAAAAAAAAAAAAAAAAAAAAAAAAAAAAAAAAAAAAAAAAAAAAAAAAAAAAAAAAAAAAAAAAAAAAAAAAAAAAAAAAAAAAAAAAAAAAAAAAAAAAAAAAAAAAAAAAAAAAAAAAAAAAAAAAAAAAAAAAAAAAAAAAAAAAAAAAAAAAAAAAAAAAAAAAAAAAAAAAAAAAAAAAAAAAAAAAAAAAAAAAAAAAAAAAAAAAAAAAAAAAAAAAAAAAAAAAAAAAAAAAAAAAAAAAAAAAAAAAAAAAAAAAAAAAAAAAAAAAAAAAAAAAAAAAAAAAAAAAAAAAAAAAAAAAAAAAAAAAAAAAAAAAAAAAAAAAAAAAAAAAAAAAAAAAAAAAAAAAAAAAAAAAAAAAAAAAAAAAAAAAAAAAAAAAAAAAAAAAAAAAAAAAAAAAAAAAAAAAAAAAAAAAAAAAAAAAAAAAAAAAAAAAAAAAAAAAAAAAAAAAAAAAAAAAAAAAAAAAAAAAAAAAEHJAAAAAAAAQckAAAAAAABByQAAAAAAAEHJAAAAAAAAAAAAAAAAAAAAAAAAAAAAAAAAAAAAAAAAAAAAAAAAAAAAAAAAAAAAAAAAAAAAAAAAAAAAAAAAAAAAAAAAAAAAAAAAAAAAAAAAAAAAAAAAAAAAAAAAAAAAAAAAAAAAAAAAAAAAAAAAAAAAAAAAAAAAAAAAAAAAAAAAAAAAAAAAAAAAAAAAAAAAAAAAAAAAAAAAAAAAAAAAAAAAAAAAAAAAAAAAAAAAAAAAAAAAAAAAAAAAAAAAAAAAAAAAAAAAAAAAAAAAAAAAAAAAAAAAAAAAAAAAAAAAAAAAAAAAAAAAAAAAAAAAAAAAAAAAAAAAAAAAAAAAAAAAAAAAAAAAAAAAAAAAAAAAAAAAAAAAAAAAAAAAAAAAAAAAAAAAAAAAAAAAAAAAAAAAAAAAAAAAAAAAAAAAAAAAAAAAAAAAAAAAAAAAAAAAAAAAAAAAAAAAAAAAAAAAAAAAAAAAAAAAAAAAAAAAAAAAAAAAAAAAAAAAAAAAAAAAAAAAAcHFAAAAAAABwcUAAAAAAAHBxQAAAAAAAcHFAAAAAAABwcUAAAAAAAAAAAAAAAAAAAAAAAAAAAAAAAAAAAAAAAAAAAAAAAAAAAAAAAAAAAAAAAAAAAAAAAAAAAAAAAAAAAAAAAAAAAAAAAAAAAAAAAAAAAAAAAAAAQGZAAAAAAABAZkAAAAAAAEBmQAAAAAAAQGZAAAAAAAAAAAAAAAAAAAAAAAAAAAAAAAAAAAAAAAAAAAAAAAAAAHBxQAAAAAAAcHFAAAAAAABwcUAAAAAAAHBxQAAAAAAAcHFAAAAAAABAZEAAAAAAAEBkQAAAAAAAQGRAAAAAAABAZEAAAAAAAAAAAAAAAAAAAAAAAAAAAAAAAAAAAAAAAAAAAAAAAAAAAAAAAAAAAAAAAAAAAAAAAAAAAAAAAAAAAAAAAAAAAAAAAAAAAAAAAAAAAAAAAAAAAAAAAAAAAAAAAAAAAAAAAAAAAAAAAAAAAAAAAAAAAAAAAAAAAAAAAHBxQAAAAAAAcHFAAAAAAABwcUAAAAAAAHBxQAAAAAAAcHFAAAAAAABwcUAAAAAAAHBxQAAAAAAAcHFAAAAAAABwcUAAAAAAAHBxQAAAAAAAcHFAAAAAAAAAAAAAAAAAAAAAAAAAAAAAAAAAAAAAAAAAAAAAAAAAAAAAAAAAAAAAAAAAAAAAAAAAAAAAAAAAAAAAAAAAAAAAAAAAAAAAAAAAAAAAAAAAAAAAAAAAAAAAAAAAAAAAAAAAAAAAAAAAAAAAAAAAAAAAAAAAAAAAAAAAAAAAAAAAAAAAAAAAAAAAAAAAhetRuB5RcUCF61G4HlFxQAAAAAAAAAAAAAAAAABwcUAAAAAAAHBxQAAAAAAAcHFAAAAAAABwcUAAAAAAAHBxQAAAAAAAAAAAAAAAAAAAAAAAAAAAAAAAAAAAAAAAAAAAAAAAAAAAAAAAAAAAAAAAAAAAAAAAAAAAAAAAAAAAAAAAAAAAAAAAAAAAAAAAAAAAAAAAAAAAAAAAAAAAAAAAAAAAAAAAAAAAAAAAAAAAAAAAAAAAAAAAAAAAAAAAAAAAAAAAAAAAAAAAAAAAAAAAAAAAAAAAAAAAAAAAAABwcUAAAAAAAHBxQAAAAAAAcHFAAAAAAABwcUAAAAAAAHBxQAAAAAAAcHFAAAAAAABwcUAAAAAAADBxQAAAAAAAMHFAAAAAAAAwcUAAAAAAADBxQAAAAAAAEHJAAAAAAAAQckAAAAAAAAAAAAAAAAAAEHJAAAAAAAAAAAAAAAAAAAAAAAAAAAAAAAAAAAAAAAAAAAAAAAAAAAAAAAAAAAAAAAAAAAAAAAAAAAAAAAAAAAAAAAAAAAAAAAAAAAAAAAAAAAAAAAAAAOBkQAAAAAAA4GRAAAAAAADgZEAAAAAAAAAAAAAAAAAAAAAAAAAAAAAAAAAAAAAAAAAAAAAAAAAAAAAAAAAAAABwcUAAAAAAAHBxQAAAAAAAAAAAAAAAAAAAAAAAAAAAAAAAAAAAAAAAAAAAAAAAAAAAAAAAAAAAAAAAAAAAAAAAAAAAAAAAAAAAAAAAAAAAAAAAAAAAAAAAAAAAAAAAAAAAAAAAAAAAAAAAAAAAAAAAAAAAAAAAAAAAAAAAAAAAAAAAAAAAAAAAAAAAAAAAAAAAAAAAAAAAAAAAAAAAAAAAAAAAAAAAAAAAAAAAAAAAAHBxQAAAAAAAcHFAAAAAAABwcUAAAAAAAHBxQAAAAAAAcHFAAAAAAABwcUAAAAAAAHBxQAAAAAAAAAAAAAAAAAAAAAAAAAAAAAAAAAAAAAAAAAAAAAAAAAAQckAAAAAAABByQAAAAAAAEHJAAAAAAADgckAAAAAAAOByQAAAAAAAcHFAAAAAAABwcUAAAAAAAHBxQAAAAAAAcHFAAAAAAABwcUAAAAAAAHBxQAAAAAAAcHFAAAAAAABwcUAAAAAAAHBxQAAAAAAAcHFAAAAAAABwcUAAAAAAAHBxQAAAAAAAAAAAAAAAAAAAAAAAAAAAAAAAAAAAAAAAAAAAAAAAAAAAAAAAAAAAAHBxQAAAAAAAcHFAAAAAAABwcUAAAAAAAHBxQAAAAAAAAAAAAAAAAAAAAAAAAAAAAAAAAAAAAAAAAAAAAAAAAAAAAAAAAAAAAAAAAAAAAAAAAAAAAAAAAAAAAAAAAAAAAAAAAAAAAAAAAAAAAAAAAAAAAAAAAAAAAAAAAAAAAAAAAAAAAAAAAAAAAAAAAAAAAAAAAAAAAAAAcHFAAAAAAABwcUAAAAAAAHBxQAAAAAAAcHFAAAAAAAAAAAAAAAAAAAAAAAAAAAAA4HFAAAAAAADgcUAAAAAAAOBxQAAAAAAA4HFAAAAAAADgcUAAAAAAAOBxQAAAAAAA4HFAhetRuB5RcUCF61G4HlFxQIXrUbgeUXFAAAAAAAAAAACF61G4HlFxQAAAAAAAAAAAAAAAAAAAAAAAAAAAAAAAAAAAAAAAAAAAAAAAAAAAAAAAAAAAAAAAAAAAAAAAAAAAAAAAAAAAAAAAAAAAAAAAAAAAAAAAAAAAAAAAAAAAAAAAAAAAAAAAAAAAAAAAAAAAAAAAAABwcUAAAAAAAHBxQAAAAAAAcHFAAAAAAABwcUAAAAAAAHBxQAAAAAAAEHJAAAAAAAAQckAAAAAAAAAAAAAAAAAAAAAAAAAAAAAAAAAAAAAAAAAAAAAAAAAAAAAAAAAAAAAAAAAAAAAAAAAAAAAAAAAAAAAAAAAAAAAAY0AAAAAAAABjQAAAAAAAAGNAAAAAAAAAY0AAAAAAAABjQAAAAAAAgGlAAAAAAACAaUAAAAAAAIBpQAAAAAAAgGlAAAAAAACAaUAAAAAAAAAAAAAAAAAAAAAAAAAAAAAAAAAAAAAAAAAAAAAAAAAAAAAAAAAAAAAAAAAAAAAAAAAAAAAAAAAAAAAAAAAAAAAAAAAAAAAAAAAAAAAAAAAAAAAAAAAAAAAAAAAAAAAAAAAAAAAAAAAAAAAAAAAAAAAAAAAAAAAAAAAAAAAAAAAAAAAAAAAAAAAAAAAAAAAAAAAAAAAAAAAAAAAAAAAAAAAAAAAAAAAAAAAAAAAAAAAAAAAAAAAAAAAAAAAAAAAAAAAAAAAAAAAAAAAAAAAAAAAAAAAAAAAAAAAAAAAAAAAAAAAAAAAAAAAAAAAAAAAAAAAAAAAAAAAAAAAAAAAAAAAAAAAAAAAAAAAAAAAAAAAAgE1AAAAAAACATUAAAAAAAIBNQAAAAAAAgE1AAAAAAACATUAAAAAAAIBNQAAAAAAAgE1AAAAAAAAAAAAAAAAAAAAAAAAAAAAAAAAAAAAAAAAAAAAAAAAAAAAAAAAAAAAAAAAAAAAAAAAAAAAAAAAAAAAAAAAAAAAAAAAAAAAAAAAAAAAAAAAAAAAAAAAAAAAAAAAAAAAAAAAAAAAAAAAAAAAAAAAAAAAAAAAAAAAAAAAAAAAAAAAAAAAAAAAAAAAAAAAAAAAAAABwcUAAAAAAAHBxQAAAAAAAcHFAAAAAAABwcUAAAAAAAHBxQAAAAAAAcHFAAAAAAABwcUAAAAAAAAAAAAAAAAAAAAAAAAAAAAAAAAAAAAAAAAAAAAAAAAAAEHJAAAAAAAAQckAAAAAAAIB0QAAAAAAAgHRAAAAAAAAAAAAAAAAAAIB0QAAAAAAAEHJAAAAAAAAQckAAAAAAABByQAAAAAAAEHJAAAAAAAAQckAAAAAAAAAAAAAAAAAAAAAAAAAAAAAAAAAAAAAAAAAAAAAAAAAA8HZAAAAAAADwdkAAAAAAAKBoQAAAAAAAoGhAAAAAAACgaEAAAAAAAKBoQAAAAAAAAAAAAAAAAAAAAAAAAAAAAAAAAAAAAAAAAAAAAAAAAAAAAAAAAAAAAAAAAAAAAAAAAAAAAAAAAAAAAAAAAAAAAAAAAAAAAAAAAAAAAAAAAAAAAAAAAAAAAAAAAAAAAAAAAAAAAAAAAAAAAAAAAAAAAAAAAAAAAAAAAAAAAAAAAAAAAAAAAAAAAAAAAAAAAAAAAAAAAAAAAAAAAAAAAAAAAAAAAAAAAAAAAAAAAAAAAAAAAAAAAAAAAAAAAAAAAAAAAAAAAAAAAACATUAAAAAAAIBNQAAAAAAAgE1AAAAAAAAAa0AAAAAAAABrQAAAAAAAAGtAAAAAAAAAa0AAAAAAAABrQAAAAAAAAAAAAAAAAAAAAAAAAAAAAAAAAAAAAAAAAAAAAAAAAAAAAAAAAAAAAAAAAAAAAAAAAAAAAAAAAAAAAAAAAAAAAAAAAAAAAAAAAAAAAAAAAAAAAAAAAAAAAAAAAAAAAAAAAAAAAAAAAAAAAAAAAAAAAAAAAAAAAAAAAAAAAAAAAAAAAAAAAAAAAAAAAAAAAAAAAFpAAAAAAABgYUAAAAAAAGBhQAAAAAAAYGFAAAAAAABgYUAAAAAAAAAAAAAAAAAAAAAAAAAAAAAAAAAAAAAAAAAAAAAAAAAAAAAAAAAAAAAAAAAAAAAAAAAAAAAAAAAAAAAAAAAAAAAAAAAAAAAAAAAAAAAAAAAAAAAAAAAAAAAAAAAAAAAAAAAAAAAAAAAAAAAAAAAAAAAAAAAAAAAAAAAAAAAAAAAAAAAAAAAAAAAAAAAAAAAAAAAAAAAAAAAAAAAAAAAAAAAAAAAAAAAAAAAAAAAAAAAAAAAAAAAAAAAAAAAAAAAAAAAAAAAAAAAAAAAAAAAAAAAAAAAAAAAAAAAAAAAAAAAAAAAAAAAAAAAAAAAAAAAAAAAAAAAAAAAAAAAAAAAAAAAAAAAAAAAAAAAAAAAAAAAAAAAAAAAAAAAAAAAAAAAAAAAAAAAAAAAAAAAAAAAAAAAAAAAAAAAAAAAAAAAAAAAAcHFAAAAAAABwcUAAAAAAAHBxQAAAAAAAcHFAAAAAAABwcUAAAAAAAHBxQAAAAAAAcHFAAAAAAABwcUAAAAAAAHBxQAAAAAAAcHFAAAAAAABwcUAAAAAAAHBxQAAAAAAAcHFAAAAAAABwcUAAAAAAAAAAAAAAAAAAAAAAAAAAAAAAAAAAAAAAAAAAAAAAAAAAAAAAAAAAAAAAAAAAAAAAAAAAAAAAAAAAAAAAAAAAAAAAAAAAAAAAAAAAAAAAAAAAAAAAAAAAAAAAAAAAAAAAAAAoQAAAAAAAAChAAAAAAAAAKEAAAAAAAAAoQAAAAAAAAChAAAAAAAAAKEAAAAAAAAAAAAAAAAAAAAAAAAAAAAAAAAAAAAAAAAAAAAAAAAAAAAAAAAAAAAAAAAAAAAAAAAAAAAAAAAAAAAAAAAAAAAAAAAAAAAAAAAAAAAAAAAAAAAAAAAAAAAAAAAAAAAAAAAAAAAAAAAAAAAAAAAAAAAAAAAAAAAAAAAAAAAAAAAAAAAAAAAAAAAAAAAAAAAAAAAAAAAAAAAAAAAAAAAAAAAAAAAAAAAAAAAAAAAAAAAAAAAAAAAAAAAAAAAAAAAAAAAAAAAAAAAAAAAAAAAAAAAAAAAAAAAAAAAAAAAAAAAAAAAAAAAAAAAAAAAAAAAAAAAAAAAAAAAAAcHFAAAAAAABwcUAAAAAAAHBxQAAAAAAAcHFAAAAAAAAAAAAAAAAAAAAAAAAAAAAAAAAAAAAAAAAAAAAAAAAAAAAAAAAAAAAAcHFAAAAAAABwcUAAAAAAAHBxQAAAAAAAcHFAAAAAAABwcUAAAAAAAHBxQAAAAAAAAAAAAAAAAAAAAAAAAAAAAAAAAAAAAAAAAAAAAAAAAAAAAAAAAAAAAAAAAAAAAAAAAAAAAAAAAAAAAAAAAAAAAAAAAAAAAAAAAAAAAAAAAAAAAAAAAAAAAAAAAAAAAAAAAAAAAAAAAAAAAAAAAAAAAAAAAAAAAAAAAAAAAAAAAAAAAAAAAAAAAAAAAAAAAAAAAAAAAAAAAAAAAAAAAAAAAAAAAAAAAAAAAAAAAAAAAAAAAAAAAAAAAAAAAAAAAAAAAAAAAAAAAAAAAAAAAAAAAAAAAAAAAAAAAAAAAAAAAAAAAAAAAAAAAAAAAAAAAAAAAAAAAAAAAAAAAAAAAAAAAAAAAAAAAAAAcHFAAAAAAABwcUAAAAAAAHBxQAAAAAAAAAAAAAAAAAAAAAAAAAAAAAAAAAAAAAAAAAAAAAAAAAAAAAAAAAAAAGBmQAAAAAAAYGZAAAAAAABgZkAAAAAAAAAAAAAAAAAAAAAAAAAAAAAAAAAAAAAAAAAAAAAAAAAAAAAAAAAAAAAAAAAAAAAAAAAAAAAAAAAAAAAAAAAAAAAAAAAAAAAAAAAAAAAAAAAAAAAAAAAAAAAAAAAAAAAAAAAAAAAAAAAAAAAAAAAAAAAAAAAAAAAAAAAAAAAAAAAAAAAAAAAAAAAAAAAAAAAAAAAAAAAAAAAAcHFAAAAAAABwcUAAAAAAAHBxQAAAAAAAAAAAAAAAAAAAAAAAAAAAAAAAAAAAAAAAAAAAAAAAAAAAAAAAAAAAAHBxQAAAAAAAcHFAAAAAAABwcUAAAAAAAHBxQAAAAAAAAAAAAAAAAAAAAAAAAAAAAAAAAAAAAAAAAAAAAAAAAAAAAAAAAAAAAAAAAAAAAAAAAAAAAAAAAAAAAAAAAAAAAAAAAAAAAAAAAAAAAAAAAAAAAAAAAAAAAAAAAAAAAAAAAAAAAAAAAAAAAAAAAAAAAAAAAAAAAAAAAAAAAAAAAAAAAAAAAAAAAAAAAAAAAAAAAAAAAAAAAAAAAAAAAAAAAAAAAAAAAAAAAAAAAAAAAAAAAAAAAAAAAAAAAAAAAAAAAAAAAAAAAAAAAAAAAAAAAAAAAAAAAAAAAAAAAAAAAAAAAAAAAAAAAAAAAAAAAAAAAAAAAAAAAAAAAAAAAAAAAAAAAAAAAAAAAAAAAAAAAAAAAAAAAAAAAAAAAAAAAAAAAAAAAAAAAAAAAAAAAAAAAAAAAAAAAAAAAAAAAAAAAAAAAAAAAAAAAAAAAAAAAAAAAAAAAAAAAAAAAAAAAAAAAAAAAAAAAAAAAAAAAAAAAAAAAAAAAAAAAAAAAAAAAAAAAAAAAAAAAAAAAAAAAAAAAAAAAAAAAAAAYHBAAAAAAABAgUAAAAAAAGBwQAAAAAAAQIFAAAAAAAAAAAAAAAAAAAAAAAAAAAAAAAAAAAAAAAAAAAAAAAAAAAAAAAAAAAAAAAAAAAAAAAAAAAAAAAAAAAAAAAAAAAAAAAAAAAAAAAAAAAAAAAAAAAAAAAAAAAAAAAAAAAAAAAAAAAAAAAAAAHBxQAAAAAAAcHFAAAAAAABwcUAAAAAAAHBxQAAAAAAAcHFAAAAAAAAAAAAAAAAAAAAAAAAAAAAAAAAAAAAAAAAAAAAAAAAAAAAAAAAAAAAAAAAAAAAAAAAAAAAAAAAAAAAAAAAAAAAAAAAAAAAAAAAAAAAAAAAAAAAAAAAAAAAAAAAAAAAAAAAAAAAAAAAAAAAAAAAAAAAAAAAAAAAAAAAAAAAAAAAAAAAAAAAAAAAAAAAAAAAAAAAAAAAAAAAAAAAAAAAAAAAAAAAAAAAAAAAAAAAAAAAAAAAAAAAAAAAAAAAAAAAAAAAAAAAAAAAAAAAAAAAAAAAAAAAAAAAAAAAAAAAAAAAAAAAAAAAAAAAAAAAAAAAAAABAdEAAAAAAAEB0QAAAAAAAAAAAAAAAAAAAAAAAAAAAAEB0QAAAAAAAAAAAAAAAAAAAAAAAAAAAAAAAAAAAAAAAAAAAAAAAAAAAAAAAAAAAAAAAAAAAAAAAAAAAAAAAAAAAAAAAAAAAAAAAAAAAAAAAAAAAAAAAAAAAAAAAAAAAAAAAAAAAAAAAAAAAAAAAAAAAAAAAAAAAAAAAAAAAAAAAAAAAAAAAAAAAAAAAAAAAAAAAAAAAAAAAAAAAAAAAAAAAAAAAAAAAAAAAAAAAAAAAAAAAAAAAAAAAAAAAAAAAAAAAAAAAAAAAAAAAAAAAAAAAAAAAAAAAAAAAAAAAAAAAAAAAAAAAAAAAAAAAAAAAAAAAAAAAAAAAAAAAAAAAAAAAAAAAAAAAAAAAAAAAAAAAAAAAAAAAAAAAAAAAAAAAAAAAAAAAAAAAgFlAAAAAAACAWUAAAAAAAIBZQAAAAAAAgFlAAAAAAACAWUAAAAAAAIBZQAAAAAAAgFlAAAAAAACAWUAAAAAAAAAAAAAAAAAAAAAAAAAAAAAAAAAAAAAAAAAAAAAAAAAAAAAAAAAAAAAAAAAAAAAAAAAAAAAAAAAAAAAAAAAAAAAAAAAAAAAAAAAAAAAAAAAAAAAAAAAAAAAAAAAAAAAAAAAAAAAAAAAAAAAAAAAAAAAAAAAAAAAAAAAAAAAAAAAAAAAAAAAAAAAAAAAAAAAAAAAAAAAAAAAAAAAAAAAAAAAAAAAAAAAAAAAAAAAAAAAAQHBAAAAAAABAcEAAAAAAAEBwQAAAAAAAQHBAAAAAAABAcEAAAAAAAEBwQAAAAAAAQHBAAAAAAABAcEAAAAAAAAAAAAAAAAAAAAAAAAAAAAAAAAAAAAAAAAAAAAAAAAAAQHBAAAAAAABAcEAAAAAAAEBwQAAAAAAAQHBAAAAAAABAcEAAAAAAAEBwQAAAAAAAQHBAAAAAAABAcEAAAAAAAAAAAAAAAAAAAAAAAAAAAAAAAAAAAAAAAAAAAAAAAAAAAAAAAAAAAAAAAAAAAAAAAAAAAClcj8L12oVAKVyPwvUGgUC4HoXrUaxwQAAAAAAAAAAAAAAAAAAAAAAAAAAAAAAAAAAAAAAAAAAAAAAAAAAAAAAAAAAAAAAAAAAAAAAAAAAAAAAAAAAAAAAAAAAAAAAAAAAAAAAAAAAAAAAAAAAAAAAAAAAAAAAAAAAAAAAAAAAAAAAAAAAAAAAAAAAAAAAAAAAAAAAAAAAAAAAAAAAAAAAAAAAAAAAAAAAAAAAAAAAAAAAAAAAAAAAAAAAAAAAAAAAAAAAAAAAAAAAAAAAAAAAAAAAAAAAAAAAAAAAAAAAAAAAAAAAAAAAAAAAAAAAAAAAAAAAAAAAAAAAAAAAAAAAAAAAAAAAAAAAAAAAAAAAAAAAAAAAAAAAAAAAAAAAAAAAAAAAAAAAAAAAAAAAAAAAAAAAAAAAAAAAAAAAAAAAAAAAAAAAAAAAAAAAAAAAAAAAAAAAAAAAAAAAAAAAAAAAAAAAAAAAAAAAAAAAAAAAAAAAAAAAAAAAAAAAAAAAAAAAAAAAAAAAAAAAAAAAAAAAAAAAAAAAAAAAAAAAAAAAAAAAAAAAAAAAAAAAAAAAAAAAAAAAAAAAAAAAAAAAAAAAAAAAAAAAAAAAAAAAAAAAAAAAAAAAAAAAAAAAAAAAAAAAAAAAAAAAAAAAAAAAAAAAAAAAAAAAAAAAAAAAAAAAAAAAAAAAAAAAAAAAAAAAAAAAAAAAAAAAAAAAAAAAAAAAAAAAAAAAAAAAAAAAAAAAAAAAAAAAAAAAAAAAAAAAAAAAAAAAAAAAAAAAAAAAAAAAAAAAAAAAAAAAAAAAAAAAAAAAAAAAAAAAAAAAAAAAAAAAAAAAAAAAAAAAAAAAAAAAAAAAAAAAAAAAAAAAAAAAAAAAAAAAAAAAAAAAAAAAAAAAAAAAAAAAAAAAAAAAAAAAAAAAAAAAAAAAAAAAAAAAAAAAAAAAAAAAAAAAAAAAAAAAAAAAAAAAAAAAAAAAAAAAAAAAAAAAAAAAAAAAAAAAAAAAAAAAAAAAAAAAAAAAAAAAAAAAAAAAAAAAAAAAAAAAAAAAAAAAAAAAAAAAAAAAAAAAAAAAAAAAAAAAAAAAAAAAAAAAAAAAAAAAAAAAAAAAAAAAAAAAAAAAAAAAAAAAAAAAAAAAAAAAAAAAAAAAAAAAAAAAAAAAAAAAAAAAAAAAAAAAAAAAAAAAAAAAAAAAAAAAAAAAAAAAAAAAAAAAAAAAAAAAAAAAAAAAAAAAAAAAAAAAAAAAAAAAAAAAAAAAAAAAAAAAAAAAAAAAAAAAAAAAAAAAAAAAAAAAAAAAAAAAAAAAAAAAAAAAAAAAAAAAAAAAAAAAAAAAAAAAAAAAAAAAAAAAAAAAAAAAAAAAAAAAAAAAAAAAAAAAAAAAAAAAAAAAAAAAAAAAAAAAAAAAAAAAAAAAAAAAAAAAAAAAAAAAAAAAAAAAAAAAAAAAAAAAAAAAAAAAAAAAAAAAAAAAAAAAAAAAAAAAAAAAAAAAAAAAAAAAAAAAAAAAAAAAAAAAAAAAAAAAAAAAAAAAAAAAAAAAAAAAAAAAAAAAAAAAAAAAAAAAAAAAAAAAAAAAAAAAAAAAAAAAAAAAAAAAAAAAAAAAAAAAAAAAAAAAAAAAAAAAAAAAAAAAAAAAAAAAAAAAAAAAAAAAAAAAAAAAAAAAAAAAAAAAAAAAAAAAAAAAAAAAAAAAAAAAAAAAAAAAAAAAAAAAAAAAAAAAAAAAAAAAAAAAAAAAAAAAAAAAAAAAAAAAAAAAAAAAAAAAAAAAAAAAAAAAAAAAAAAAAAAAAAAAAAAAAAAAAAAAAAAAAAAAAAAAAAAAAAAAAAAAAAAAAAAAAAAAAAAAAAAAAAAAAAAAAAAAAAAAAAAAAAAAAAAAAAAAAAAAAAAAAAAAAAAAAAAAAAAAAAAAAAAAAAAAAAAAAAAAAAAAAAAAAAAAAAAAAAAAAAAAAAAAAAAAAAAAAAAAAAAAAAAAAAAAAAAAAAAAAAAAAAAAAAAAAAAAAAAAAAAAAAAAAAAAAAAAAAAAAAAAAAAAAAAAAAAAAAAAAAAAAAAAAAAAAAAAAAAAAAAAAAAAAAAAAAAAAAAAAAAAAAAAAAAAAAAAAAAAAAAAAAAAAAAAAAAAAAAAAAAAAAAAAAAAAAAAAAAAAAAAAAAAAAAAAAAAAAAAAAAAAAAAAAAAAAAAAAAAAAAAAAAAAAAAAAAAAAAAAAAAAAAAAAAAAAAAAAAAAAAAAAAAAAAAAAAAAAAAAAAAAAAAAAAAAAAAAAAAAAAAAAAAAAAAAAAAAAAAAAAAAAAAAAAAAAAAAAAAAAAAAAAAAAAAAAAAAAAAAAAAAAAAAAAAAAAAAAAAAAAAAAAAAAAAAAAAAAAAAAAAAAAAAAAAAAAAAAAAAAAAAAAAAAAAAAAAAAAAAAAAAAAAAAAAAAAAAAAAAAAAAAAAAAAAAAAAAAAAAAAAAAAAAAAAAAAAAAAAAAAAAAAAAAAAAAAAAAAAAAAAAAAAAAAAAAAAAAAAAAAAAAAAAAAAAAAAAAAAAAAAAAAAAAAAAAAAAAAAAAAAAAAAAAAAAAAAAAAAAAAAAAAAAAAAAAAAAAAAAAAAAAAAAAAAAAAAAAAAAAAAAAAAAAAAAAAAAAAAAAAAAAAAAAAAAAAAAAAAAAAAAAAAAAAAAAAAAAAAAAAAAAAAAAACAWEAAAAAAAIBYQAAAAAAAgFhAAAAAAACAWEAAAAAAAAAAAAAAAAAAAAAAAAAAAAAAAAAAAAAAAAAAAAAAAAAAAAAAAAAAAAAAAAAAAAAAAAAAAAAAAAAAAAAAAAAAAAAAAAAAAAAAAAAAAAAAAAAAADlAAAAAAAAAOUAAAAAAAAA5QAAAAAAAAAAAAAAAAAAAAAAAAAAAAAAAAAAAAAAAAAAAAAAAAAAAAAAAAAAAAHBxQAAAAAAAcHFAAAAAAABwcUAAAAAAAHBxQAAAAAAAcHFAAAAAAABwcUAAAAAAAHBxQAAAAAAAcHFAAAAAAABwcUAAAAAAAHBxQAAAAAAAcHFAAAAAAABwcUAAAAAAAHBxQAAAAAAAcHFAAAAAAAAAAAAAAAAAAAAAAAAAAAAAAAAAAAAAAAAAAAAAAAAAAAAAAAAAAAAAAAAAAAAAAAAAAAAAAAAAAAAAAAAAAAAAAAAAAAAAAAAAAAAAAAAAAAAAAAAAAAAAAAAAAAAAAAAAAAAAAAAAAAAAAAAAAAAAAAAAAAAAAAAAAAAAAAAAAAAAAAAAAAAAoGlAAAAAAACgaUAAAAAAAKBpQAAAAAAAoGlAAAAAAACgaUAAAAAAAAAAAAAAAAAAAAAAAAAAAAAAAAAAAAAAAAAAAAAAAAAAAAAAAAAAAAAAAAAAAAAAAAAAAAAAAAAAAAAAAAAAAAAAAAAAAAAAAAAAAAAAAAAAAAAAAAAAAAAAAAAAAAAAAAAAAAAAAAAAAAAAAAAAAAAAAAAAAAAAAAAAAAAAAAAAAAAAAAAAAAAAAAAAAAAAAAAAAAAAAAAAAAAAAAAAAAAAAAAAAAAAAAAAAAAAAAAAAAAAAAAAAAAAAAAAAAAAAAAAAAAAAAAAAAAAAAAAAAAAAAAAAAAAAAAAAAAAAAAAAAAAAAAAAAAAAAAAAAAAAAAAAAAAAAAAAAAAAAAAAAAAAAAAAAAAAAAAAAAAAAAAAAAAAAAAAAAAAAAAAAAAAAAAAAAAAAAAAAAAAAAAAAAAAAAAAAAAAAAAAAAAAAAAAAAAAAAAAAAAAAAAAAAAAAAAAAAAAAAAAAAAAAAAAAAAAAAAAAAAAAAAAAAAAAAAAAAAAAAAAAAAAAAAAAAAAAAAAAAAAAAAAAAAAAAAAAAAAAAAAAAAAAAAAAAAAAAAAAAAAAAAAAAAAAAAAAAAAAAAAAAAAAAAAAAAAAAAAAAAAAAAAAAAAAAAAAAAAAAAAAAAAAAAAAAAAAAAAAAAAAAAAAAAAAAAAAAAAAAAAAAAAAAAAAAAAAAAAAAAAAAAAAAAAAAAAAAAAAAAAAAAAAAAAAAAAAAAcHFAAAAAAABwcUAAAAAAAHBxQAAAAAAAcHFAAAAAAABwcUAAAAAAAHBxQAAAAAAAcHFAAAAAAABwcUAAAAAAAHBxQAAAAAAAQHBAAAAAAABAcEAAAAAAAEBwQAAAAAAAQHBAAAAAAABAcEAAAAAAAEBwQAAAAAAAQHBAAAAAAABAcEAAAAAAAEBwQAAAAAAAQHBAAAAAAABAcEAAAAAAAEBwQAAAAAAAQHBAAAAAAABAcEAAAAAAAEBwQAAAAAAAQHBAAAAAAABAcEAAAAAAAEBwQAAAAAAAQHBAAAAAAABAcEAAAAAAAIBNQAAAAAAAgE1AAAAAAACATUAAAAAAAIBNQAAAAAAAgE1AAAAAAACATUAAAAAAAIBNQAAAAAAAgE1AAAAAAAAAAAAAAAAAAAAAAAAAAAAAAAAAAAAAAAAAAAAAAAAAAAAAAAAAAAAAAAAAAAAAAAAAAAAAAAAAAAAAAAAAAAAAAAAAAAAAAAAAAAAAAAAAAAAAAAAAAAAAAAAAAAAAAAAAAAAAAAAAAAAAAAAAAAAAAAAAAAAAAAAAAAAAAAAAAAAAAAAAAAAAAAAAAAAAAAAAAAAAAAAAAAAAAAAAAAAAAAAAAAAAAAAAAAAAAAAAAAAAAAAAAAAAAAAAAAAAAAAAAAAAAAAAAAAAAAAAAAAAAAAAAAAAAAAAAAAAAAAAAAByQAAAAAAAAAAAAAAAAAAAAAAAAAAAAAByQAAAAAAAAAAAAAAAAAAAAAAAAAAAAAAAAAAAAAAAAHJAAAAAAABAakAAAAAAAAAAAAAAAAAAQGpAAAAAAABAakAAAAAAAEBqQAAAAAAAQGpAAAAAAABAcEAAAAAAAEBwQAAAAAAAQHBAAAAAAABAcEAAAAAAAEBwQAAAAAAAQHBAAAAAAABAcEAAAAAAAEBwQAAAAAAAQHBAAAAAAABAcEAAAAAAAEBwQAAAAAAAQHBAAAAAAACgaUAAAAAAAKBpQAAAAAAAoGlAAAAAAACgaUAAAAAAAAAAAAAAAAAAAAAAAAAAAAAAAAAAAAAAAAAAAAAAAAAAAAAAAAAAAAAAAAAAAAAAAAAAAAAAAAAAAAAAAAAAAAAAAAAAAAAAAAAAAAAAAAAAAAAAAAAAAAAAAAAAAAAAAAAAAAAAAAAAAAAAAAAAAABwcUAAAAAAAHBxQAAAAAAAAAAAAAAAAAAAAAAAAAAAAAAAAAAAAAAAAAAAAAAAAAAAAAAAAAAAAEBqQAAAAAAAAAAAAAAAAABAakAAAAAAAAAAAAAAAAAAAAAAAAAAAABAakAAAAAAAEBqQAAAAAAAAAAAAAAAAABAakAAAAAAAEBqQAAAAAAAQGpAAAAAAABAakAAAAAAAAAAAAAAAAAAAAAAAAAAAAAAAAAAAAAAAAAAAAAAAAAAAAAAAAAAAAAAAAAAAAAAAAAAAAAAAAAAAAAAAAAAAAAAAAAAAAAAAAAAAAAAAAAAAAAAAAAAAAAAAAAAAAAAAAAAAAAAAAAAAAAAAAAAAAAAAAAAAAAAAAAAAAAAAAAAAAAAAAAAAAAAAAAAAAAAAAAAAAAAAAAAAAAAAAAAAAAAAAAAAAAAAAAAAAAAAAAAAAAAAAAAAAAAAAAAAAAAAAAAAAAAAAAAAAAAAAAAAAAAAAAAAAAAAKB+QAAAAAAAoH5AAAAAAACgfkAAAAAAAKB+QAAAAAAAAAAAAAAAAAAAAAAAAAAAAAAAAAAAAAAAAAAAAAAAAABAhUAAAAAAAECFQAAAAAAAQIVAAAAAAABAhUAAAAAAAAAAAAAAAAAAAAAAAAAAAAAAAAAAAAAAAAAAAAAAAAAAAAAAAAAAAAAAAAAAAAAAAAAAAAAAAAAAAAAAAAAAAAAAAAAAAAAAAAAAAAAAAAAAAAAAAAAAAAAAAAAAAAAAAAAAAAAAAAAAAAAAAAAAAAAAAAAAAAAAAAAAAAAAAAAAAAAAAAAAAAAAAAAAAAAAAAAAAAAAAAAAAAAAAAAAAAAAAAAAAAAAAAAAAAAAAAAAAAAAAAAAAAAAAAAAAAAAAAAAAAAAAAAAAAAAAAAAAAAAAAAAAAAAAAAAAAAAAAAAAAAAAAAAAAAAAAAAAAAAAAAAAAAAAAAAAAAAAAAAAAAAAAAAAAAAAAAAAAAAAAAAAAAAAAAAAAAAAAAAAAAAAAAAAAAAAAAAAAAAAAAAAAAAAAAAAAAAAAAAAAAAAAAAAAAAAAAAAAAAAAAAAAAAAAAAAAAAAAAAAAAAAAAAAAAAAAAAAAAAAAAAAAAAAAAAAAAAAAAAAAAAAAAAAAAAAAAAAAAAAAAAAAAAAAAAAABQc0AAAAAAAFBzQAAAAAAAUHNA",
          "dtype": "f8"
         }
        }
       ],
       "layout": {
        "barmode": "stack",
        "template": {
         "data": {
          "bar": [
           {
            "error_x": {
             "color": "#2a3f5f"
            },
            "error_y": {
             "color": "#2a3f5f"
            },
            "marker": {
             "line": {
              "color": "#E5ECF6",
              "width": 0.5
             },
             "pattern": {
              "fillmode": "overlay",
              "size": 10,
              "solidity": 0.2
             }
            },
            "type": "bar"
           }
          ],
          "barpolar": [
           {
            "marker": {
             "line": {
              "color": "#E5ECF6",
              "width": 0.5
             },
             "pattern": {
              "fillmode": "overlay",
              "size": 10,
              "solidity": 0.2
             }
            },
            "type": "barpolar"
           }
          ],
          "carpet": [
           {
            "aaxis": {
             "endlinecolor": "#2a3f5f",
             "gridcolor": "white",
             "linecolor": "white",
             "minorgridcolor": "white",
             "startlinecolor": "#2a3f5f"
            },
            "baxis": {
             "endlinecolor": "#2a3f5f",
             "gridcolor": "white",
             "linecolor": "white",
             "minorgridcolor": "white",
             "startlinecolor": "#2a3f5f"
            },
            "type": "carpet"
           }
          ],
          "choropleth": [
           {
            "colorbar": {
             "outlinewidth": 0,
             "ticks": ""
            },
            "type": "choropleth"
           }
          ],
          "contour": [
           {
            "colorbar": {
             "outlinewidth": 0,
             "ticks": ""
            },
            "colorscale": [
             [
              0,
              "#0d0887"
             ],
             [
              0.1111111111111111,
              "#46039f"
             ],
             [
              0.2222222222222222,
              "#7201a8"
             ],
             [
              0.3333333333333333,
              "#9c179e"
             ],
             [
              0.4444444444444444,
              "#bd3786"
             ],
             [
              0.5555555555555556,
              "#d8576b"
             ],
             [
              0.6666666666666666,
              "#ed7953"
             ],
             [
              0.7777777777777778,
              "#fb9f3a"
             ],
             [
              0.8888888888888888,
              "#fdca26"
             ],
             [
              1,
              "#f0f921"
             ]
            ],
            "type": "contour"
           }
          ],
          "contourcarpet": [
           {
            "colorbar": {
             "outlinewidth": 0,
             "ticks": ""
            },
            "type": "contourcarpet"
           }
          ],
          "heatmap": [
           {
            "colorbar": {
             "outlinewidth": 0,
             "ticks": ""
            },
            "colorscale": [
             [
              0,
              "#0d0887"
             ],
             [
              0.1111111111111111,
              "#46039f"
             ],
             [
              0.2222222222222222,
              "#7201a8"
             ],
             [
              0.3333333333333333,
              "#9c179e"
             ],
             [
              0.4444444444444444,
              "#bd3786"
             ],
             [
              0.5555555555555556,
              "#d8576b"
             ],
             [
              0.6666666666666666,
              "#ed7953"
             ],
             [
              0.7777777777777778,
              "#fb9f3a"
             ],
             [
              0.8888888888888888,
              "#fdca26"
             ],
             [
              1,
              "#f0f921"
             ]
            ],
            "type": "heatmap"
           }
          ],
          "histogram": [
           {
            "marker": {
             "pattern": {
              "fillmode": "overlay",
              "size": 10,
              "solidity": 0.2
             }
            },
            "type": "histogram"
           }
          ],
          "histogram2d": [
           {
            "colorbar": {
             "outlinewidth": 0,
             "ticks": ""
            },
            "colorscale": [
             [
              0,
              "#0d0887"
             ],
             [
              0.1111111111111111,
              "#46039f"
             ],
             [
              0.2222222222222222,
              "#7201a8"
             ],
             [
              0.3333333333333333,
              "#9c179e"
             ],
             [
              0.4444444444444444,
              "#bd3786"
             ],
             [
              0.5555555555555556,
              "#d8576b"
             ],
             [
              0.6666666666666666,
              "#ed7953"
             ],
             [
              0.7777777777777778,
              "#fb9f3a"
             ],
             [
              0.8888888888888888,
              "#fdca26"
             ],
             [
              1,
              "#f0f921"
             ]
            ],
            "type": "histogram2d"
           }
          ],
          "histogram2dcontour": [
           {
            "colorbar": {
             "outlinewidth": 0,
             "ticks": ""
            },
            "colorscale": [
             [
              0,
              "#0d0887"
             ],
             [
              0.1111111111111111,
              "#46039f"
             ],
             [
              0.2222222222222222,
              "#7201a8"
             ],
             [
              0.3333333333333333,
              "#9c179e"
             ],
             [
              0.4444444444444444,
              "#bd3786"
             ],
             [
              0.5555555555555556,
              "#d8576b"
             ],
             [
              0.6666666666666666,
              "#ed7953"
             ],
             [
              0.7777777777777778,
              "#fb9f3a"
             ],
             [
              0.8888888888888888,
              "#fdca26"
             ],
             [
              1,
              "#f0f921"
             ]
            ],
            "type": "histogram2dcontour"
           }
          ],
          "mesh3d": [
           {
            "colorbar": {
             "outlinewidth": 0,
             "ticks": ""
            },
            "type": "mesh3d"
           }
          ],
          "parcoords": [
           {
            "line": {
             "colorbar": {
              "outlinewidth": 0,
              "ticks": ""
             }
            },
            "type": "parcoords"
           }
          ],
          "pie": [
           {
            "automargin": true,
            "type": "pie"
           }
          ],
          "scatter": [
           {
            "fillpattern": {
             "fillmode": "overlay",
             "size": 10,
             "solidity": 0.2
            },
            "type": "scatter"
           }
          ],
          "scatter3d": [
           {
            "line": {
             "colorbar": {
              "outlinewidth": 0,
              "ticks": ""
             }
            },
            "marker": {
             "colorbar": {
              "outlinewidth": 0,
              "ticks": ""
             }
            },
            "type": "scatter3d"
           }
          ],
          "scattercarpet": [
           {
            "marker": {
             "colorbar": {
              "outlinewidth": 0,
              "ticks": ""
             }
            },
            "type": "scattercarpet"
           }
          ],
          "scattergeo": [
           {
            "marker": {
             "colorbar": {
              "outlinewidth": 0,
              "ticks": ""
             }
            },
            "type": "scattergeo"
           }
          ],
          "scattergl": [
           {
            "marker": {
             "colorbar": {
              "outlinewidth": 0,
              "ticks": ""
             }
            },
            "type": "scattergl"
           }
          ],
          "scattermap": [
           {
            "marker": {
             "colorbar": {
              "outlinewidth": 0,
              "ticks": ""
             }
            },
            "type": "scattermap"
           }
          ],
          "scattermapbox": [
           {
            "marker": {
             "colorbar": {
              "outlinewidth": 0,
              "ticks": ""
             }
            },
            "type": "scattermapbox"
           }
          ],
          "scatterpolar": [
           {
            "marker": {
             "colorbar": {
              "outlinewidth": 0,
              "ticks": ""
             }
            },
            "type": "scatterpolar"
           }
          ],
          "scatterpolargl": [
           {
            "marker": {
             "colorbar": {
              "outlinewidth": 0,
              "ticks": ""
             }
            },
            "type": "scatterpolargl"
           }
          ],
          "scatterternary": [
           {
            "marker": {
             "colorbar": {
              "outlinewidth": 0,
              "ticks": ""
             }
            },
            "type": "scatterternary"
           }
          ],
          "surface": [
           {
            "colorbar": {
             "outlinewidth": 0,
             "ticks": ""
            },
            "colorscale": [
             [
              0,
              "#0d0887"
             ],
             [
              0.1111111111111111,
              "#46039f"
             ],
             [
              0.2222222222222222,
              "#7201a8"
             ],
             [
              0.3333333333333333,
              "#9c179e"
             ],
             [
              0.4444444444444444,
              "#bd3786"
             ],
             [
              0.5555555555555556,
              "#d8576b"
             ],
             [
              0.6666666666666666,
              "#ed7953"
             ],
             [
              0.7777777777777778,
              "#fb9f3a"
             ],
             [
              0.8888888888888888,
              "#fdca26"
             ],
             [
              1,
              "#f0f921"
             ]
            ],
            "type": "surface"
           }
          ],
          "table": [
           {
            "cells": {
             "fill": {
              "color": "#EBF0F8"
             },
             "line": {
              "color": "white"
             }
            },
            "header": {
             "fill": {
              "color": "#C8D4E3"
             },
             "line": {
              "color": "white"
             }
            },
            "type": "table"
           }
          ]
         },
         "layout": {
          "annotationdefaults": {
           "arrowcolor": "#2a3f5f",
           "arrowhead": 0,
           "arrowwidth": 1
          },
          "autotypenumbers": "strict",
          "coloraxis": {
           "colorbar": {
            "outlinewidth": 0,
            "ticks": ""
           }
          },
          "colorscale": {
           "diverging": [
            [
             0,
             "#8e0152"
            ],
            [
             0.1,
             "#c51b7d"
            ],
            [
             0.2,
             "#de77ae"
            ],
            [
             0.3,
             "#f1b6da"
            ],
            [
             0.4,
             "#fde0ef"
            ],
            [
             0.5,
             "#f7f7f7"
            ],
            [
             0.6,
             "#e6f5d0"
            ],
            [
             0.7,
             "#b8e186"
            ],
            [
             0.8,
             "#7fbc41"
            ],
            [
             0.9,
             "#4d9221"
            ],
            [
             1,
             "#276419"
            ]
           ],
           "sequential": [
            [
             0,
             "#0d0887"
            ],
            [
             0.1111111111111111,
             "#46039f"
            ],
            [
             0.2222222222222222,
             "#7201a8"
            ],
            [
             0.3333333333333333,
             "#9c179e"
            ],
            [
             0.4444444444444444,
             "#bd3786"
            ],
            [
             0.5555555555555556,
             "#d8576b"
            ],
            [
             0.6666666666666666,
             "#ed7953"
            ],
            [
             0.7777777777777778,
             "#fb9f3a"
            ],
            [
             0.8888888888888888,
             "#fdca26"
            ],
            [
             1,
             "#f0f921"
            ]
           ],
           "sequentialminus": [
            [
             0,
             "#0d0887"
            ],
            [
             0.1111111111111111,
             "#46039f"
            ],
            [
             0.2222222222222222,
             "#7201a8"
            ],
            [
             0.3333333333333333,
             "#9c179e"
            ],
            [
             0.4444444444444444,
             "#bd3786"
            ],
            [
             0.5555555555555556,
             "#d8576b"
            ],
            [
             0.6666666666666666,
             "#ed7953"
            ],
            [
             0.7777777777777778,
             "#fb9f3a"
            ],
            [
             0.8888888888888888,
             "#fdca26"
            ],
            [
             1,
             "#f0f921"
            ]
           ]
          },
          "colorway": [
           "#636efa",
           "#EF553B",
           "#00cc96",
           "#ab63fa",
           "#FFA15A",
           "#19d3f3",
           "#FF6692",
           "#B6E880",
           "#FF97FF",
           "#FECB52"
          ],
          "font": {
           "color": "#2a3f5f"
          },
          "geo": {
           "bgcolor": "white",
           "lakecolor": "white",
           "landcolor": "#E5ECF6",
           "showlakes": true,
           "showland": true,
           "subunitcolor": "white"
          },
          "hoverlabel": {
           "align": "left"
          },
          "hovermode": "closest",
          "mapbox": {
           "style": "light"
          },
          "paper_bgcolor": "white",
          "plot_bgcolor": "#E5ECF6",
          "polar": {
           "angularaxis": {
            "gridcolor": "white",
            "linecolor": "white",
            "ticks": ""
           },
           "bgcolor": "#E5ECF6",
           "radialaxis": {
            "gridcolor": "white",
            "linecolor": "white",
            "ticks": ""
           }
          },
          "scene": {
           "xaxis": {
            "backgroundcolor": "#E5ECF6",
            "gridcolor": "white",
            "gridwidth": 2,
            "linecolor": "white",
            "showbackground": true,
            "ticks": "",
            "zerolinecolor": "white"
           },
           "yaxis": {
            "backgroundcolor": "#E5ECF6",
            "gridcolor": "white",
            "gridwidth": 2,
            "linecolor": "white",
            "showbackground": true,
            "ticks": "",
            "zerolinecolor": "white"
           },
           "zaxis": {
            "backgroundcolor": "#E5ECF6",
            "gridcolor": "white",
            "gridwidth": 2,
            "linecolor": "white",
            "showbackground": true,
            "ticks": "",
            "zerolinecolor": "white"
           }
          },
          "shapedefaults": {
           "line": {
            "color": "#2a3f5f"
           }
          },
          "ternary": {
           "aaxis": {
            "gridcolor": "white",
            "linecolor": "white",
            "ticks": ""
           },
           "baxis": {
            "gridcolor": "white",
            "linecolor": "white",
            "ticks": ""
           },
           "bgcolor": "#E5ECF6",
           "caxis": {
            "gridcolor": "white",
            "linecolor": "white",
            "ticks": ""
           }
          },
          "title": {
           "x": 0.05
          },
          "xaxis": {
           "automargin": true,
           "gridcolor": "white",
           "linecolor": "white",
           "ticks": "",
           "title": {
            "standoff": 15
           },
           "zerolinecolor": "white",
           "zerolinewidth": 2
          },
          "yaxis": {
           "automargin": true,
           "gridcolor": "white",
           "linecolor": "white",
           "ticks": "",
           "title": {
            "standoff": 15
           },
           "zerolinecolor": "white",
           "zerolinewidth": 2
          }
         }
        },
        "title": {
         "text": "Distribution of Heating, Electricity, Water, Communications"
        },
        "xaxis": {
         "title": {
          "text": "Price (DKK)"
         }
        },
        "yaxis": {
         "title": {
          "text": "Count"
         }
        }
       }
      }
     },
     "metadata": {},
     "output_type": "display_data"
    }
   ],
   "source": [
    "# plot histogram containing all the four variables\n",
    "# plot histogram of a single variable\n",
    "variable_names = [\n",
    "    \"Heating\",\n",
    "    \"Electricity\",\n",
    "    \"Water\",\n",
    "    \"Communications\",\n",
    "]  # Change to 'Electricity', 'Water', or 'Communications'\n",
    "\n",
    "fig = go.Figure()\n",
    "for variable in variable_names:\n",
    "    fig.add_trace(go.Histogram(x=aarhusbolig[variable].values, name=variable))\n",
    "\n",
    "fig.update_layout(\n",
    "    title_text=f'Distribution of {\", \".join(variable_names)}',\n",
    "    xaxis_title_text=\"Price (DKK)\",\n",
    "    yaxis_title_text=\"Count\",\n",
    "    barmode=\"stack\",\n",
    ")\n",
    "fig.show()"
   ]
  },
  {
   "cell_type": "markdown",
   "metadata": {
    "id": "JExgjYv32g9z"
   },
   "source": [
    "### 3.4.2 Compare rent to other variables\n",
    "We want to visualize how the `rent` changes, depending on one of the other variables: `heat`, `electricity`, `water`, `deposit`, `tv_internet` or `size_m2`.\n",
    "\n",
    "- Create a scatter plot with `rent` on the y-axis and the other variable on the x-axis\n",
    "- Add title and axis labels\n",
    "- Color the data points according to the number of rooms in the housing, remember to add legend"
   ]
  },
  {
   "cell_type": "code",
   "execution_count": 15,
   "metadata": {
    "id": "ey_-ynFR2g9z"
   },
   "outputs": [
    {
     "data": {
      "application/vnd.plotly.v1+json": {
       "config": {
        "plotlyServerURL": "https://plot.ly"
       },
       "data": [
        {
         "hovertemplate": "Size=%{x}<br>TotalRent=%{y}<br>Rooms=%{marker.color}<extra></extra>",
         "legendgroup": "",
         "marker": {
          "color": {
           "bdata": "AgICAgICAgIBAQEBAQEBAQICAgICAgICAwMDAwQEBAQEBAQEAgMFAgMEAgECAwMDAwQEAgECAwQBAgMDBAIDBAQEBQYCAgICAwQFAgMCAgMCAwQFAgECAwMBAQEBAgICAgMDAwMEBAQEBAQEBAUFBQUDAwMDAQIDBAUEBAUCAgMDBAIDBAIDBAMDAwQDBAIDAwQCAQIDBAUBAgMEAQMEBQIDAgMDBAICAgICAgICAwMDAwMDAwMEBAQEBAQEBAICAgICAgICAgMCAwECAwECAwMEBAUCAgMDBAICAwQEBAQCAwQCAwIDAgECAwMEBAIDBAIDAwQEAwUDAQICAgMDBAMCAgMDBAMDAQIDBAQFAgIEAgMDBAUFAwIEAwECAwMEBAMDAwMCAgICAwMDAwQEBAQEBAQEAwQFAQECAwQBAgIEAwMCAgMEAwIDAwMBAgICAgQEBAUFAwMEBQMCBAECAgMEAgICAgMDAwMEBAQEAgMEAwIEAwMDAwQEBAQCAgICAQIDBAECAwMEAgIDBAIDBAQCAwQDAwQFAwMDAwICAgIDAwMDBAQEBAQBAgMEBAECAwMDAwQEAQIDBAUCAwIDBAIDBAQEBAQBAgMFBAICAwEBAgIDAwQCBAQCAgMDBAMDAwMFBQUFBAECAgMDBAIDBAQEBAICAgIDAwMDAwMDAwQEBAQEAwIDAQIDBAUBAgIDAwQBAgMEAgMEAgICAgMEBAUDBAUBAgIDBAQFAQICAgMDBAIDAQIDAwQEAQEBAQEBAQECAgICAgICAgMDAwMDAwMDBAQEBAQEBAQBAgMEAgICAgMDAwIDAQICAgMDBAQFAgMDAwQBAgMEAgMDAwMEBAQCAwQEBAIDAgMEAgMEAwMEBAMEAgICAgMDAwMDAwMDBAQEBAQEBAQCAgMEAgIDAQIDBAECAgMEAwMBAgMEAwICAwMEBAUCAwQFAQIDBAIDBAUCAwQCAwMDBAQEAQMEAQECAgMDBAQBAgMDBAICAwQCAwMEAgMDBAICAgEBAwMEBAQFBQMBAgMEAwIDBAQDAgMEAwQEBQYCAQMEAgIDBAIDAwMDAwQCAQIDAwQBAgQCAgIDAwIDBAUDAwMDBAQEAQIDAwECAwQDAwECAwQCAwQFAgICAwQCAwQDAgQCAgICAgICAgMDAwMDAwMDBAQEBAQEBAQCAgMEAgIDBAUDAgMEAwICAwIDBAMBAgMEAQIDBAMDBAQEBAQEAgMCAgICBAQCAgMCAgIDBAQEAwICAQIDBAEBAgIDAgMCAwMEAwMEBAIDAwQBAgMFAQIDBAIDBAQCAwQFAwQEBAIDAwMFBQUCAgUCBQECAwECAwQCAwQDAgMEAwIDBAQFAgMCBAICAwQCAwIDBAUCBAIDBQICAgMDBAIDBAQFAQECAwQCAwIDBAQBAgMEAgMEAgMEAgECAwQCAQMCAwIDAgMEAgMDBAIDBAIDAgECAwQEBQIBAwQBAgMEAgICAwMEBAQFAgICAwIDBAQFAwICAwMDAwUCAgMEBQICAwMDBAICAwMDAwIEBAUBAgMEAgMEAwIBAgICAgMDBAQEBAUCAwIDBAMBAgIEAgMCAgMEBAIDBAQCAwUBAgMEAgMCAgICAwMEAgMDBAQCAwQFAgIDBAUEAgMEAgMDBAQCAwIDAgMDBAQFAgICAgMDAwIDBAMCAwMDBAMBAgQEBQUDAgMEAQIDBAUBAgIDAwMEBAQEBQUBAgMDAwUCAgIDBAICAwMEBQIDBAUCAwMEAQICAwMEBQIDBAUDBAICAwQDAwMDBAICAwICAgIDAwMCAwICAwQCAwQFAgMEAgIDAwMCAgMCAgMEAgQDAwMDBAQDAgIDAwMCBAIBAgMCAwMDBAQEAwMEAgIDAgMEBAIDBAICBAIDBAUDBAQEAwIEAgMCAwIDBAQCAgMDBAECAgMBAQEBAQEBAQEBAgICAgIDAgMDBAUGAgIDAwIFAgMEBAICAwMEAgMDBAIDAgMDAwQDBAIDBAIDBAUCAwICAwMCAgMEAwMEBAUDAgQCBAUCAgIDAwMEAwECBAQDBAUCAwIDBAIDBAQCAwUEAgMCAwQCAwQFAwMEBQMEBAECAwQFAgMEAwMBAgMEAgMCAwQCAwQDAgEDBAIDAwQEAgMDBAMEAgEBAQIDAgMEBAQCAgMDAwMEAwIDBAMDAgIEBAUFAgICAgMDBAQFAwMCAwQDAwQEAwECAgMDBAQDBAMEBQMEBAUDBQECAgMDBAQCAgMEAgMCAgMDBAQEAgICAwMCAwQCAwMEBAIDAwQEBAUDBAUCAgEBAQIDAwQEAwICAwQDBAMCAwMEAwQFAQIBAQICAwQEBQECAgICAwMEBAUGBAUBAgIDAwMDAwQCAgICAgICAgICAgIDAwMDBAQEBAUFBQUCAwQCAwQEAwQDAgECAgMDBAQCAwQCAwQEBQECAwQCAwQCAwQFAgMEAwICAwQDAgQBAQEBAgICAwMCAwQCAwMEAgMCAwQFAwIDAwQEAwIDAwIEBAEBAgMDBAICAgICAwQEAgMDBAICAgMDBAIDAwICAwIEAgMCAwIDAwIDAwQCAwIDBAIDAwIDAwQEBAUBAwUCBAIDBAIDBAUCAwMEAwIDAgQEAgMEAgIDAwECAwQCAwIDAgIDAwMDBAQCAgIDBAIDAwQEBAMEBAECAwMEAQICAwMDAwQEAgMBAgMEAgMEAgMEAQIDBAIDBAECAwQCAgICAwECAgQCAQMEBAQDBAIDBQECAwQEBAIDBAQCAwQBAgMDBAEBAgICAgMDAwMEBAQFAQICAwQFAgIDBAQFBQIDAwQEAgMDBAUEAQIDBAECAwECAgIDAgIDAgICAgICAgICAwMDAwMDAwMEBAQEAgMEAQIDAwQEAgIDBAICAgIDAwMEAgICAgICAgIBAgIDAwQEBQIBAQEBAgICAgICAgICAgICAwMDAwECAwMDBAQFAgMDBAMEBAIDAwECAwIDBAEBAgICAgMDBAMEBAECAgIDAwMDBAIDAwQEAQEBAQICAgIDAwMDAgICAgMDAwMBAgMDAwQGAgMEAwQEBAUCAwQDAwQCAgICAgMEAgUCAwQFAQIDBQECAwQBAQICAwMEBAIDBAICAgICAgIDAwMDAwMDAwQEBAQCAwQBAgMEAgIDAwQFAgIDBAIDBAIDAwQEAwQFAwQDBAUGAgECAgMDBAIDBAIEBQEC",
           "dtype": "i1"
          },
          "coloraxis": "coloraxis",
          "symbol": "circle"
         },
         "mode": "markers",
         "name": "",
         "showlegend": false,
         "type": "scattergl",
         "x": {
          "bdata": "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",
          "dtype": "f8"
         },
         "xaxis": "x",
         "y": {
          "bdata": "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",
          "dtype": "f8"
         },
         "yaxis": "y"
        }
       ],
       "layout": {
        "coloraxis": {
         "colorbar": {
          "title": {
           "text": "Rooms"
          }
         },
         "colorscale": [
          [
           0,
           "#0d0887"
          ],
          [
           0.1111111111111111,
           "#46039f"
          ],
          [
           0.2222222222222222,
           "#7201a8"
          ],
          [
           0.3333333333333333,
           "#9c179e"
          ],
          [
           0.4444444444444444,
           "#bd3786"
          ],
          [
           0.5555555555555556,
           "#d8576b"
          ],
          [
           0.6666666666666666,
           "#ed7953"
          ],
          [
           0.7777777777777778,
           "#fb9f3a"
          ],
          [
           0.8888888888888888,
           "#fdca26"
          ],
          [
           1,
           "#f0f921"
          ]
         ]
        },
        "legend": {
         "tracegroupgap": 0
        },
        "margin": {
         "t": 60
        },
        "template": {
         "data": {
          "bar": [
           {
            "error_x": {
             "color": "#2a3f5f"
            },
            "error_y": {
             "color": "#2a3f5f"
            },
            "marker": {
             "line": {
              "color": "#E5ECF6",
              "width": 0.5
             },
             "pattern": {
              "fillmode": "overlay",
              "size": 10,
              "solidity": 0.2
             }
            },
            "type": "bar"
           }
          ],
          "barpolar": [
           {
            "marker": {
             "line": {
              "color": "#E5ECF6",
              "width": 0.5
             },
             "pattern": {
              "fillmode": "overlay",
              "size": 10,
              "solidity": 0.2
             }
            },
            "type": "barpolar"
           }
          ],
          "carpet": [
           {
            "aaxis": {
             "endlinecolor": "#2a3f5f",
             "gridcolor": "white",
             "linecolor": "white",
             "minorgridcolor": "white",
             "startlinecolor": "#2a3f5f"
            },
            "baxis": {
             "endlinecolor": "#2a3f5f",
             "gridcolor": "white",
             "linecolor": "white",
             "minorgridcolor": "white",
             "startlinecolor": "#2a3f5f"
            },
            "type": "carpet"
           }
          ],
          "choropleth": [
           {
            "colorbar": {
             "outlinewidth": 0,
             "ticks": ""
            },
            "type": "choropleth"
           }
          ],
          "contour": [
           {
            "colorbar": {
             "outlinewidth": 0,
             "ticks": ""
            },
            "colorscale": [
             [
              0,
              "#0d0887"
             ],
             [
              0.1111111111111111,
              "#46039f"
             ],
             [
              0.2222222222222222,
              "#7201a8"
             ],
             [
              0.3333333333333333,
              "#9c179e"
             ],
             [
              0.4444444444444444,
              "#bd3786"
             ],
             [
              0.5555555555555556,
              "#d8576b"
             ],
             [
              0.6666666666666666,
              "#ed7953"
             ],
             [
              0.7777777777777778,
              "#fb9f3a"
             ],
             [
              0.8888888888888888,
              "#fdca26"
             ],
             [
              1,
              "#f0f921"
             ]
            ],
            "type": "contour"
           }
          ],
          "contourcarpet": [
           {
            "colorbar": {
             "outlinewidth": 0,
             "ticks": ""
            },
            "type": "contourcarpet"
           }
          ],
          "heatmap": [
           {
            "colorbar": {
             "outlinewidth": 0,
             "ticks": ""
            },
            "colorscale": [
             [
              0,
              "#0d0887"
             ],
             [
              0.1111111111111111,
              "#46039f"
             ],
             [
              0.2222222222222222,
              "#7201a8"
             ],
             [
              0.3333333333333333,
              "#9c179e"
             ],
             [
              0.4444444444444444,
              "#bd3786"
             ],
             [
              0.5555555555555556,
              "#d8576b"
             ],
             [
              0.6666666666666666,
              "#ed7953"
             ],
             [
              0.7777777777777778,
              "#fb9f3a"
             ],
             [
              0.8888888888888888,
              "#fdca26"
             ],
             [
              1,
              "#f0f921"
             ]
            ],
            "type": "heatmap"
           }
          ],
          "histogram": [
           {
            "marker": {
             "pattern": {
              "fillmode": "overlay",
              "size": 10,
              "solidity": 0.2
             }
            },
            "type": "histogram"
           }
          ],
          "histogram2d": [
           {
            "colorbar": {
             "outlinewidth": 0,
             "ticks": ""
            },
            "colorscale": [
             [
              0,
              "#0d0887"
             ],
             [
              0.1111111111111111,
              "#46039f"
             ],
             [
              0.2222222222222222,
              "#7201a8"
             ],
             [
              0.3333333333333333,
              "#9c179e"
             ],
             [
              0.4444444444444444,
              "#bd3786"
             ],
             [
              0.5555555555555556,
              "#d8576b"
             ],
             [
              0.6666666666666666,
              "#ed7953"
             ],
             [
              0.7777777777777778,
              "#fb9f3a"
             ],
             [
              0.8888888888888888,
              "#fdca26"
             ],
             [
              1,
              "#f0f921"
             ]
            ],
            "type": "histogram2d"
           }
          ],
          "histogram2dcontour": [
           {
            "colorbar": {
             "outlinewidth": 0,
             "ticks": ""
            },
            "colorscale": [
             [
              0,
              "#0d0887"
             ],
             [
              0.1111111111111111,
              "#46039f"
             ],
             [
              0.2222222222222222,
              "#7201a8"
             ],
             [
              0.3333333333333333,
              "#9c179e"
             ],
             [
              0.4444444444444444,
              "#bd3786"
             ],
             [
              0.5555555555555556,
              "#d8576b"
             ],
             [
              0.6666666666666666,
              "#ed7953"
             ],
             [
              0.7777777777777778,
              "#fb9f3a"
             ],
             [
              0.8888888888888888,
              "#fdca26"
             ],
             [
              1,
              "#f0f921"
             ]
            ],
            "type": "histogram2dcontour"
           }
          ],
          "mesh3d": [
           {
            "colorbar": {
             "outlinewidth": 0,
             "ticks": ""
            },
            "type": "mesh3d"
           }
          ],
          "parcoords": [
           {
            "line": {
             "colorbar": {
              "outlinewidth": 0,
              "ticks": ""
             }
            },
            "type": "parcoords"
           }
          ],
          "pie": [
           {
            "automargin": true,
            "type": "pie"
           }
          ],
          "scatter": [
           {
            "fillpattern": {
             "fillmode": "overlay",
             "size": 10,
             "solidity": 0.2
            },
            "type": "scatter"
           }
          ],
          "scatter3d": [
           {
            "line": {
             "colorbar": {
              "outlinewidth": 0,
              "ticks": ""
             }
            },
            "marker": {
             "colorbar": {
              "outlinewidth": 0,
              "ticks": ""
             }
            },
            "type": "scatter3d"
           }
          ],
          "scattercarpet": [
           {
            "marker": {
             "colorbar": {
              "outlinewidth": 0,
              "ticks": ""
             }
            },
            "type": "scattercarpet"
           }
          ],
          "scattergeo": [
           {
            "marker": {
             "colorbar": {
              "outlinewidth": 0,
              "ticks": ""
             }
            },
            "type": "scattergeo"
           }
          ],
          "scattergl": [
           {
            "marker": {
             "colorbar": {
              "outlinewidth": 0,
              "ticks": ""
             }
            },
            "type": "scattergl"
           }
          ],
          "scattermap": [
           {
            "marker": {
             "colorbar": {
              "outlinewidth": 0,
              "ticks": ""
             }
            },
            "type": "scattermap"
           }
          ],
          "scattermapbox": [
           {
            "marker": {
             "colorbar": {
              "outlinewidth": 0,
              "ticks": ""
             }
            },
            "type": "scattermapbox"
           }
          ],
          "scatterpolar": [
           {
            "marker": {
             "colorbar": {
              "outlinewidth": 0,
              "ticks": ""
             }
            },
            "type": "scatterpolar"
           }
          ],
          "scatterpolargl": [
           {
            "marker": {
             "colorbar": {
              "outlinewidth": 0,
              "ticks": ""
             }
            },
            "type": "scatterpolargl"
           }
          ],
          "scatterternary": [
           {
            "marker": {
             "colorbar": {
              "outlinewidth": 0,
              "ticks": ""
             }
            },
            "type": "scatterternary"
           }
          ],
          "surface": [
           {
            "colorbar": {
             "outlinewidth": 0,
             "ticks": ""
            },
            "colorscale": [
             [
              0,
              "#0d0887"
             ],
             [
              0.1111111111111111,
              "#46039f"
             ],
             [
              0.2222222222222222,
              "#7201a8"
             ],
             [
              0.3333333333333333,
              "#9c179e"
             ],
             [
              0.4444444444444444,
              "#bd3786"
             ],
             [
              0.5555555555555556,
              "#d8576b"
             ],
             [
              0.6666666666666666,
              "#ed7953"
             ],
             [
              0.7777777777777778,
              "#fb9f3a"
             ],
             [
              0.8888888888888888,
              "#fdca26"
             ],
             [
              1,
              "#f0f921"
             ]
            ],
            "type": "surface"
           }
          ],
          "table": [
           {
            "cells": {
             "fill": {
              "color": "#EBF0F8"
             },
             "line": {
              "color": "white"
             }
            },
            "header": {
             "fill": {
              "color": "#C8D4E3"
             },
             "line": {
              "color": "white"
             }
            },
            "type": "table"
           }
          ]
         },
         "layout": {
          "annotationdefaults": {
           "arrowcolor": "#2a3f5f",
           "arrowhead": 0,
           "arrowwidth": 1
          },
          "autotypenumbers": "strict",
          "coloraxis": {
           "colorbar": {
            "outlinewidth": 0,
            "ticks": ""
           }
          },
          "colorscale": {
           "diverging": [
            [
             0,
             "#8e0152"
            ],
            [
             0.1,
             "#c51b7d"
            ],
            [
             0.2,
             "#de77ae"
            ],
            [
             0.3,
             "#f1b6da"
            ],
            [
             0.4,
             "#fde0ef"
            ],
            [
             0.5,
             "#f7f7f7"
            ],
            [
             0.6,
             "#e6f5d0"
            ],
            [
             0.7,
             "#b8e186"
            ],
            [
             0.8,
             "#7fbc41"
            ],
            [
             0.9,
             "#4d9221"
            ],
            [
             1,
             "#276419"
            ]
           ],
           "sequential": [
            [
             0,
             "#0d0887"
            ],
            [
             0.1111111111111111,
             "#46039f"
            ],
            [
             0.2222222222222222,
             "#7201a8"
            ],
            [
             0.3333333333333333,
             "#9c179e"
            ],
            [
             0.4444444444444444,
             "#bd3786"
            ],
            [
             0.5555555555555556,
             "#d8576b"
            ],
            [
             0.6666666666666666,
             "#ed7953"
            ],
            [
             0.7777777777777778,
             "#fb9f3a"
            ],
            [
             0.8888888888888888,
             "#fdca26"
            ],
            [
             1,
             "#f0f921"
            ]
           ],
           "sequentialminus": [
            [
             0,
             "#0d0887"
            ],
            [
             0.1111111111111111,
             "#46039f"
            ],
            [
             0.2222222222222222,
             "#7201a8"
            ],
            [
             0.3333333333333333,
             "#9c179e"
            ],
            [
             0.4444444444444444,
             "#bd3786"
            ],
            [
             0.5555555555555556,
             "#d8576b"
            ],
            [
             0.6666666666666666,
             "#ed7953"
            ],
            [
             0.7777777777777778,
             "#fb9f3a"
            ],
            [
             0.8888888888888888,
             "#fdca26"
            ],
            [
             1,
             "#f0f921"
            ]
           ]
          },
          "colorway": [
           "#636efa",
           "#EF553B",
           "#00cc96",
           "#ab63fa",
           "#FFA15A",
           "#19d3f3",
           "#FF6692",
           "#B6E880",
           "#FF97FF",
           "#FECB52"
          ],
          "font": {
           "color": "#2a3f5f"
          },
          "geo": {
           "bgcolor": "white",
           "lakecolor": "white",
           "landcolor": "#E5ECF6",
           "showlakes": true,
           "showland": true,
           "subunitcolor": "white"
          },
          "hoverlabel": {
           "align": "left"
          },
          "hovermode": "closest",
          "mapbox": {
           "style": "light"
          },
          "paper_bgcolor": "white",
          "plot_bgcolor": "#E5ECF6",
          "polar": {
           "angularaxis": {
            "gridcolor": "white",
            "linecolor": "white",
            "ticks": ""
           },
           "bgcolor": "#E5ECF6",
           "radialaxis": {
            "gridcolor": "white",
            "linecolor": "white",
            "ticks": ""
           }
          },
          "scene": {
           "xaxis": {
            "backgroundcolor": "#E5ECF6",
            "gridcolor": "white",
            "gridwidth": 2,
            "linecolor": "white",
            "showbackground": true,
            "ticks": "",
            "zerolinecolor": "white"
           },
           "yaxis": {
            "backgroundcolor": "#E5ECF6",
            "gridcolor": "white",
            "gridwidth": 2,
            "linecolor": "white",
            "showbackground": true,
            "ticks": "",
            "zerolinecolor": "white"
           },
           "zaxis": {
            "backgroundcolor": "#E5ECF6",
            "gridcolor": "white",
            "gridwidth": 2,
            "linecolor": "white",
            "showbackground": true,
            "ticks": "",
            "zerolinecolor": "white"
           }
          },
          "shapedefaults": {
           "line": {
            "color": "#2a3f5f"
           }
          },
          "ternary": {
           "aaxis": {
            "gridcolor": "white",
            "linecolor": "white",
            "ticks": ""
           },
           "baxis": {
            "gridcolor": "white",
            "linecolor": "white",
            "ticks": ""
           },
           "bgcolor": "#E5ECF6",
           "caxis": {
            "gridcolor": "white",
            "linecolor": "white",
            "ticks": ""
           }
          },
          "title": {
           "x": 0.05
          },
          "xaxis": {
           "automargin": true,
           "gridcolor": "white",
           "linecolor": "white",
           "ticks": "",
           "title": {
            "standoff": 15
           },
           "zerolinecolor": "white",
           "zerolinewidth": 2
          },
          "yaxis": {
           "automargin": true,
           "gridcolor": "white",
           "linecolor": "white",
           "ticks": "",
           "title": {
            "standoff": 15
           },
           "zerolinecolor": "white",
           "zerolinewidth": 2
          }
         }
        },
        "title": {
         "text": "Rent vs. Size for housing, colored by Rooms"
        },
        "xaxis": {
         "anchor": "y",
         "domain": [
          0,
          1
         ],
         "title": {
          "text": "Size"
         }
        },
        "yaxis": {
         "anchor": "x",
         "domain": [
          0,
          1
         ],
         "title": {
          "text": "Rent (DKK)"
         }
        }
       }
      }
     },
     "metadata": {},
     "output_type": "display_data"
    }
   ],
   "source": [
    "# Create a scatter plot with rent on the y-axis and another variable on the x-axis\n",
    "comparing_variable = \"Size\"  # Change to 'Heating', 'Electricity', 'Water', 'Deposit', or 'Communications'\n",
    "coloring_variable = \"Rooms\"\n",
    "\n",
    "# Plot the rent vs. the comparing variable, colored according to number of rooms\n",
    "fig = px.scatter(\n",
    "    aarhusbolig, x=comparing_variable, y=\"TotalRent\", color=coloring_variable\n",
    ")\n",
    "fig.update_layout(\n",
    "    title=f\"Rent vs. {comparing_variable} for housing, colored by {coloring_variable}\",\n",
    "    xaxis_title=comparing_variable,\n",
    "    yaxis_title=\"Rent (DKK)\",\n",
    ")\n",
    "fig.show()"
   ]
  },
  {
   "cell_type": "code",
   "execution_count": null,
   "metadata": {},
   "outputs": [],
   "source": []
  }
 ],
 "metadata": {
  "colab": {
   "provenance": []
  },
  "kernelspec": {
   "display_name": "Python 3",
   "language": "python",
   "name": "python3"
  },
  "language_info": {
   "codemirror_mode": {
    "name": "ipython",
    "version": 3
   },
   "file_extension": ".py",
   "mimetype": "text/x-python",
   "name": "python",
   "nbconvert_exporter": "python",
   "pygments_lexer": "ipython3",
   "version": "3.12.10"
  },
  "orig_nbformat": 4
 },
 "nbformat": 4,
 "nbformat_minor": 0
}
