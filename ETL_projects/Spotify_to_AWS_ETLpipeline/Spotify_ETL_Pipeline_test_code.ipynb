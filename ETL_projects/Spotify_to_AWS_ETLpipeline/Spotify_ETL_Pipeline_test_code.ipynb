{
  "cells": [
    {
      "cell_type": "code",
      "execution_count": 1,
      "metadata": {
        "colab": {
          "base_uri": "https://localhost:8080/"
        },
        "id": "cVx5WqopgW91",
        "outputId": "d3e89e8c-a787-432b-f348-e1a4aad428c3"
      },
      "outputs": [
        {
          "name": "stdout",
          "output_type": "stream",
          "text": [
            "Requirement already satisfied: spotipy in c:\\users\\marja\\desktop\\spotify_etl_data_pipeline\\venv\\lib\\site-packages (2.25.1)\n",
            "Requirement already satisfied: redis>=3.5.3 in c:\\users\\marja\\desktop\\spotify_etl_data_pipeline\\venv\\lib\\site-packages (from spotipy) (5.2.1)\n",
            "Requirement already satisfied: requests>=2.25.0 in c:\\users\\marja\\desktop\\spotify_etl_data_pipeline\\venv\\lib\\site-packages (from spotipy) (2.32.3)\n",
            "Requirement already satisfied: urllib3>=1.26.0 in c:\\users\\marja\\desktop\\spotify_etl_data_pipeline\\venv\\lib\\site-packages (from spotipy) (2.3.0)\n",
            "Requirement already satisfied: charset-normalizer<4,>=2 in c:\\users\\marja\\desktop\\spotify_etl_data_pipeline\\venv\\lib\\site-packages (from requests>=2.25.0->spotipy) (3.4.1)\n",
            "Requirement already satisfied: idna<4,>=2.5 in c:\\users\\marja\\desktop\\spotify_etl_data_pipeline\\venv\\lib\\site-packages (from requests>=2.25.0->spotipy) (3.10)\n",
            "Requirement already satisfied: certifi>=2017.4.17 in c:\\users\\marja\\desktop\\spotify_etl_data_pipeline\\venv\\lib\\site-packages (from requests>=2.25.0->spotipy) (2025.1.31)\n"
          ]
        }
      ],
      "source": [
        "!pip install spotipy"
      ]
    },
    {
      "cell_type": "code",
      "execution_count": 3,
      "metadata": {},
      "outputs": [
        {
          "name": "stdout",
          "output_type": "stream",
          "text": [
            "Collecting pandas\n",
            "  Using cached pandas-2.2.3-cp312-cp312-win_amd64.whl.metadata (19 kB)\n",
            "Collecting numpy>=1.26.0 (from pandas)\n",
            "  Using cached numpy-2.2.4-cp312-cp312-win_amd64.whl.metadata (60 kB)\n",
            "Requirement already satisfied: python-dateutil>=2.8.2 in c:\\users\\marja\\desktop\\spotify_etl_data_pipeline\\venv\\lib\\site-packages (from pandas) (2.9.0.post0)\n",
            "Collecting pytz>=2020.1 (from pandas)\n",
            "  Using cached pytz-2025.2-py2.py3-none-any.whl.metadata (22 kB)\n",
            "Collecting tzdata>=2022.7 (from pandas)\n",
            "  Using cached tzdata-2025.2-py2.py3-none-any.whl.metadata (1.4 kB)\n",
            "Requirement already satisfied: six>=1.5 in c:\\users\\marja\\desktop\\spotify_etl_data_pipeline\\venv\\lib\\site-packages (from python-dateutil>=2.8.2->pandas) (1.17.0)\n",
            "Using cached pandas-2.2.3-cp312-cp312-win_amd64.whl (11.5 MB)\n",
            "Using cached numpy-2.2.4-cp312-cp312-win_amd64.whl (12.6 MB)\n",
            "Using cached pytz-2025.2-py2.py3-none-any.whl (509 kB)\n",
            "Using cached tzdata-2025.2-py2.py3-none-any.whl (347 kB)\n",
            "Installing collected packages: pytz, tzdata, numpy, pandas\n",
            "Successfully installed numpy-2.2.4 pandas-2.2.3 pytz-2025.2 tzdata-2025.2\n"
          ]
        }
      ],
      "source": [
        "!pip install pandas"
      ]
    },
    {
      "cell_type": "code",
      "execution_count": 4,
      "metadata": {
        "id": "_TK7r43cgcoc"
      },
      "outputs": [],
      "source": [
        "import spotipy\n",
        "from spotipy.oauth2 import SpotifyClientCredentials\n",
        "import pandas as pd"
      ]
    },
    {
      "cell_type": "code",
      "execution_count": null,
      "metadata": {
        "id": "28Nrs2Iwg9Np"
      },
      "outputs": [],
      "source": [
        "client_credentials_manager = SpotifyClientCredentials(\n",
        "    client_id=\"####\",\n",
        "    client_secret=\"####\",\n",
        ")"
      ]
    },
    {
      "cell_type": "code",
      "execution_count": null,
      "metadata": {
        "id": "BxXa04JGhSlr"
      },
      "outputs": [],
      "source": [
        "sp = spotipy.Spotify(client_credentials_manager=client_credentials_manager)"
      ]
    },
    {
      "cell_type": "code",
      "execution_count": 16,
      "metadata": {},
      "outputs": [],
      "source": [
        "# Playlist link\n",
        "playlist_link = \"https://open.spotify.com/playlist/3cEYpjA9oz9GiPac4AsH4n\"\n",
        "# Extract playlist URI\n",
        "playlist_URI = playlist_link.split(\"/\")[-1].split(\"?\")[0]\n",
        "\n",
        "# Fetch playlist tracks\n",
        "data = sp.playlist_tracks(playlist_URI)"
      ]
    },
    {
      "cell_type": "code",
      "execution_count": null,
      "metadata": {
        "id": "XU7_IRe6hziw"
      },
      "outputs": [],
      "source": [
        "def album(data):\n",
        "    album_list = []\n",
        "\n",
        "    for row in data[\"items\"]:\n",
        "        album_id = row[\"track\"][\"album\"][\"id\"]\n",
        "        album_name = row[\"track\"][\"album\"][\"name\"]\n",
        "        album_release_date = row[\"track\"][\"album\"][\"release_date\"]\n",
        "        album_total_tracks = row[\"track\"][\"album\"][\"total_tracks\"]\n",
        "        album_url = row[\"track\"][\"album\"][\"external_urls\"][\"spotify\"]\n",
        "\n",
        "        album_element = {\n",
        "            \"album_id\": album_id,\n",
        "            \"name\": album_name,\n",
        "            \"release_date\": album_release_date,\n",
        "            \"total_tracks\": album_total_tracks,\n",
        "            \"url\": album_url,\n",
        "        }\n",
        "        album_list.append(album_element)\n",
        "    return album_list"
      ]
    },
    {
      "cell_type": "code",
      "execution_count": null,
      "metadata": {
        "id": "bqe8PlGJbwsP"
      },
      "outputs": [],
      "source": [
        "def artist(data):\n",
        "    artist_list = []\n",
        "\n",
        "    for row in data[\"items\"]:\n",
        "        for artist in row[\"track\"][\"artists\"]:\n",
        "            artist_dict = {\n",
        "                \"artist_id\": artist[\"id\"],\n",
        "                \"artist_name\": artist[\"name\"],\n",
        "                \"external_url\": artist[\"href\"],\n",
        "            }\n",
        "            artist_list.append(artist_dict)\n",
        "\n",
        "    return artist_list"
      ]
    },
    {
      "cell_type": "code",
      "execution_count": null,
      "metadata": {
        "id": "8rIGQRtmcmpB"
      },
      "outputs": [],
      "source": [
        "def songs(data):\n",
        "    song_list = []\n",
        "    for row in data[\"items\"]:\n",
        "        song_id = row[\"track\"][\"id\"]\n",
        "        song_name = row[\"track\"][\"name\"]\n",
        "        song_duration = row[\"track\"][\"duration_ms\"]\n",
        "        song_url = row[\"track\"][\"external_urls\"][\"spotify\"]\n",
        "        song_popularity = row[\"track\"][\"popularity\"]\n",
        "        song_added = row[\"added_at\"]\n",
        "        album_id = row[\"track\"][\"album\"][\"id\"]\n",
        "        artist_id = row[\"track\"][\"album\"][\"artists\"][0][\"id\"]\n",
        "        song_element = {\n",
        "            \"song_id\": song_id,\n",
        "            \"song_name\": song_name,\n",
        "            \"duration_ms\": song_duration,\n",
        "            \"url\": song_url,\n",
        "            \"popularity\": song_popularity,\n",
        "            \"song_added\": song_added,\n",
        "            \"album_id\": album_id,\n",
        "            \"artist_id\": artist_id,\n",
        "        }\n",
        "        song_list.append(song_element)\n",
        "\n",
        "    return song_list"
      ]
    },
    {
      "cell_type": "code",
      "execution_count": 21,
      "metadata": {
        "id": "8z7DRrEEdQVF"
      },
      "outputs": [],
      "source": [
        "album_df = pd.DataFrame.from_dict(album(data))\n",
        "artist_df = pd.DataFrame.from_dict(artist(data))\n",
        "song_df = pd.DataFrame.from_dict(songs(data))"
      ]
    },
    {
      "cell_type": "code",
      "execution_count": null,
      "metadata": {
        "id": "QunZuWqCeDB1"
      },
      "outputs": [],
      "source": [
        "album_df = album_df.drop_duplicates(subset=[\"album_id\"])\n",
        "artist_df = artist_df.drop_duplicates(subset=[\"artist_id\"])\n",
        "song_df = song_df.drop_duplicates(subset=[\"song_id\"])"
      ]
    },
    {
      "cell_type": "code",
      "execution_count": null,
      "metadata": {
        "colab": {
          "base_uri": "https://localhost:8080/"
        },
        "id": "NDgIgh8yenUj",
        "outputId": "b682f950-01a9-4d5b-b5fa-da728f46ad41"
      },
      "outputs": [],
      "source": [
        "album_df[\"release_date\"] = pd.to_datetime(album_df[\"release_date\"])\n",
        "song_df[\"song_added\"] = pd.to_datetime(song_df[\"song_added\"])"
      ]
    },
    {
      "cell_type": "code",
      "execution_count": 24,
      "metadata": {
        "colab": {
          "base_uri": "https://localhost:8080/",
          "height": 363
        },
        "id": "wxKlcBaReuVu",
        "outputId": "12de150f-d8db-4d5b-dfa9-8164cc82a771"
      },
      "outputs": [
        {
          "data": {
            "application/vnd.microsoft.datawrangler.viewer.v0+json": {
              "columns": [
                {
                  "name": "index",
                  "rawType": "int64",
                  "type": "integer"
                },
                {
                  "name": "album_id",
                  "rawType": "object",
                  "type": "string"
                },
                {
                  "name": "name",
                  "rawType": "object",
                  "type": "string"
                },
                {
                  "name": "release_date",
                  "rawType": "datetime64[ns]",
                  "type": "datetime"
                },
                {
                  "name": "total_tracks",
                  "rawType": "int64",
                  "type": "integer"
                },
                {
                  "name": "url",
                  "rawType": "object",
                  "type": "string"
                }
              ],
              "conversionMethod": "pd.DataFrame",
              "ref": "690f377a-7576-4c81-b180-883047da4cd7",
              "rows": [
                [
                  "0",
                  "2pANdqPvxInB0YvcDiw4ko",
                  "Progressive Psy Trance Picks Vol.8",
                  "2012-04-02 00:00:00",
                  "20",
                  "https://open.spotify.com/album/2pANdqPvxInB0YvcDiw4ko"
                ],
                [
                  "1",
                  "6nlfkk5GoXRL1nktlATNsy",
                  "Wellness & Dreaming Source",
                  "2015-01-09 00:00:00",
                  "25",
                  "https://open.spotify.com/album/6nlfkk5GoXRL1nktlATNsy"
                ],
                [
                  "2",
                  "4hnqM0JK4CM1phwfq1Ldyz",
                  "This Is Happening",
                  "2010-05-17 00:00:00",
                  "9",
                  "https://open.spotify.com/album/4hnqM0JK4CM1phwfq1Ldyz"
                ],
                [
                  "3",
                  "2usKFntxa98WHMcyW6xJBz",
                  "Glenn Horiuchi Trio / Gelenn Horiuchi Quartet: Mercy / Jump Start / Endpoints / Curl Out / Earthworks / Mind Probe / Null Set / Another Space (A)",
                  "2011-04-01 00:00:00",
                  "8",
                  "https://open.spotify.com/album/2usKFntxa98WHMcyW6xJBz"
                ],
                [
                  "4",
                  "0ivM6kSawaug0j3tZVusG2",
                  "All The Best (Spanish Version)",
                  "2007-01-01 00:00:00",
                  "18",
                  "https://open.spotify.com/album/0ivM6kSawaug0j3tZVusG2"
                ]
              ],
              "shape": {
                "columns": 5,
                "rows": 5
              }
            },
            "text/html": [
              "<div>\n",
              "<style scoped>\n",
              "    .dataframe tbody tr th:only-of-type {\n",
              "        vertical-align: middle;\n",
              "    }\n",
              "\n",
              "    .dataframe tbody tr th {\n",
              "        vertical-align: top;\n",
              "    }\n",
              "\n",
              "    .dataframe thead th {\n",
              "        text-align: right;\n",
              "    }\n",
              "</style>\n",
              "<table border=\"1\" class=\"dataframe\">\n",
              "  <thead>\n",
              "    <tr style=\"text-align: right;\">\n",
              "      <th></th>\n",
              "      <th>album_id</th>\n",
              "      <th>name</th>\n",
              "      <th>release_date</th>\n",
              "      <th>total_tracks</th>\n",
              "      <th>url</th>\n",
              "    </tr>\n",
              "  </thead>\n",
              "  <tbody>\n",
              "    <tr>\n",
              "      <th>0</th>\n",
              "      <td>2pANdqPvxInB0YvcDiw4ko</td>\n",
              "      <td>Progressive Psy Trance Picks Vol.8</td>\n",
              "      <td>2012-04-02</td>\n",
              "      <td>20</td>\n",
              "      <td>https://open.spotify.com/album/2pANdqPvxInB0Yv...</td>\n",
              "    </tr>\n",
              "    <tr>\n",
              "      <th>1</th>\n",
              "      <td>6nlfkk5GoXRL1nktlATNsy</td>\n",
              "      <td>Wellness &amp; Dreaming Source</td>\n",
              "      <td>2015-01-09</td>\n",
              "      <td>25</td>\n",
              "      <td>https://open.spotify.com/album/6nlfkk5GoXRL1nk...</td>\n",
              "    </tr>\n",
              "    <tr>\n",
              "      <th>2</th>\n",
              "      <td>4hnqM0JK4CM1phwfq1Ldyz</td>\n",
              "      <td>This Is Happening</td>\n",
              "      <td>2010-05-17</td>\n",
              "      <td>9</td>\n",
              "      <td>https://open.spotify.com/album/4hnqM0JK4CM1phw...</td>\n",
              "    </tr>\n",
              "    <tr>\n",
              "      <th>3</th>\n",
              "      <td>2usKFntxa98WHMcyW6xJBz</td>\n",
              "      <td>Glenn Horiuchi Trio / Gelenn Horiuchi Quartet:...</td>\n",
              "      <td>2011-04-01</td>\n",
              "      <td>8</td>\n",
              "      <td>https://open.spotify.com/album/2usKFntxa98WHMc...</td>\n",
              "    </tr>\n",
              "    <tr>\n",
              "      <th>4</th>\n",
              "      <td>0ivM6kSawaug0j3tZVusG2</td>\n",
              "      <td>All The Best (Spanish Version)</td>\n",
              "      <td>2007-01-01</td>\n",
              "      <td>18</td>\n",
              "      <td>https://open.spotify.com/album/0ivM6kSawaug0j3...</td>\n",
              "    </tr>\n",
              "  </tbody>\n",
              "</table>\n",
              "</div>"
            ],
            "text/plain": [
              "                 album_id                                               name  \\\n",
              "0  2pANdqPvxInB0YvcDiw4ko                 Progressive Psy Trance Picks Vol.8   \n",
              "1  6nlfkk5GoXRL1nktlATNsy                         Wellness & Dreaming Source   \n",
              "2  4hnqM0JK4CM1phwfq1Ldyz                                  This Is Happening   \n",
              "3  2usKFntxa98WHMcyW6xJBz  Glenn Horiuchi Trio / Gelenn Horiuchi Quartet:...   \n",
              "4  0ivM6kSawaug0j3tZVusG2                     All The Best (Spanish Version)   \n",
              "\n",
              "  release_date  total_tracks  \\\n",
              "0   2012-04-02            20   \n",
              "1   2015-01-09            25   \n",
              "2   2010-05-17             9   \n",
              "3   2011-04-01             8   \n",
              "4   2007-01-01            18   \n",
              "\n",
              "                                                 url  \n",
              "0  https://open.spotify.com/album/2pANdqPvxInB0Yv...  \n",
              "1  https://open.spotify.com/album/6nlfkk5GoXRL1nk...  \n",
              "2  https://open.spotify.com/album/4hnqM0JK4CM1phw...  \n",
              "3  https://open.spotify.com/album/2usKFntxa98WHMc...  \n",
              "4  https://open.spotify.com/album/0ivM6kSawaug0j3...  "
            ]
          },
          "execution_count": 24,
          "metadata": {},
          "output_type": "execute_result"
        }
      ],
      "source": [
        "album_df.head(10)"
      ]
    },
    {
      "cell_type": "code",
      "execution_count": 25,
      "metadata": {
        "colab": {
          "base_uri": "https://localhost:8080/",
          "height": 363
        },
        "id": "yJDyRJNGqvVt",
        "outputId": "189d7882-b061-42d1-a4c6-a9ea63d32825"
      },
      "outputs": [
        {
          "data": {
            "application/vnd.microsoft.datawrangler.viewer.v0+json": {
              "columns": [
                {
                  "name": "index",
                  "rawType": "int64",
                  "type": "integer"
                },
                {
                  "name": "artist_id",
                  "rawType": "object",
                  "type": "string"
                },
                {
                  "name": "artist_name",
                  "rawType": "object",
                  "type": "string"
                },
                {
                  "name": "external_url",
                  "rawType": "object",
                  "type": "string"
                }
              ],
              "conversionMethod": "pd.DataFrame",
              "ref": "7fbd0456-d2cb-4827-aeef-9990b4d9938f",
              "rows": [
                [
                  "0",
                  "6eSdhw46riw2OUHgMwR8B5",
                  "Odiseo",
                  "https://api.spotify.com/v1/artists/6eSdhw46riw2OUHgMwR8B5"
                ],
                [
                  "1",
                  "5VQE4WOzPu9h3HnGLuBoA6",
                  "Vlasta Marek",
                  "https://api.spotify.com/v1/artists/5VQE4WOzPu9h3HnGLuBoA6"
                ],
                [
                  "2",
                  "066X20Nz7iquqkkCW6Jxy6",
                  "LCD Soundsystem",
                  "https://api.spotify.com/v1/artists/066X20Nz7iquqkkCW6Jxy6"
                ],
                [
                  "3",
                  "272ArH9SUAlslQqsSgPJA2",
                  "Glenn Horiuchi Trio",
                  "https://api.spotify.com/v1/artists/272ArH9SUAlslQqsSgPJA2"
                ],
                [
                  "4",
                  "2KftmGt9sk1yLjsAoloC3M",
                  "Zucchero",
                  "https://api.spotify.com/v1/artists/2KftmGt9sk1yLjsAoloC3M"
                ]
              ],
              "shape": {
                "columns": 3,
                "rows": 5
              }
            },
            "text/html": [
              "<div>\n",
              "<style scoped>\n",
              "    .dataframe tbody tr th:only-of-type {\n",
              "        vertical-align: middle;\n",
              "    }\n",
              "\n",
              "    .dataframe tbody tr th {\n",
              "        vertical-align: top;\n",
              "    }\n",
              "\n",
              "    .dataframe thead th {\n",
              "        text-align: right;\n",
              "    }\n",
              "</style>\n",
              "<table border=\"1\" class=\"dataframe\">\n",
              "  <thead>\n",
              "    <tr style=\"text-align: right;\">\n",
              "      <th></th>\n",
              "      <th>artist_id</th>\n",
              "      <th>artist_name</th>\n",
              "      <th>external_url</th>\n",
              "    </tr>\n",
              "  </thead>\n",
              "  <tbody>\n",
              "    <tr>\n",
              "      <th>0</th>\n",
              "      <td>6eSdhw46riw2OUHgMwR8B5</td>\n",
              "      <td>Odiseo</td>\n",
              "      <td>https://api.spotify.com/v1/artists/6eSdhw46riw...</td>\n",
              "    </tr>\n",
              "    <tr>\n",
              "      <th>1</th>\n",
              "      <td>5VQE4WOzPu9h3HnGLuBoA6</td>\n",
              "      <td>Vlasta Marek</td>\n",
              "      <td>https://api.spotify.com/v1/artists/5VQE4WOzPu9...</td>\n",
              "    </tr>\n",
              "    <tr>\n",
              "      <th>2</th>\n",
              "      <td>066X20Nz7iquqkkCW6Jxy6</td>\n",
              "      <td>LCD Soundsystem</td>\n",
              "      <td>https://api.spotify.com/v1/artists/066X20Nz7iq...</td>\n",
              "    </tr>\n",
              "    <tr>\n",
              "      <th>3</th>\n",
              "      <td>272ArH9SUAlslQqsSgPJA2</td>\n",
              "      <td>Glenn Horiuchi Trio</td>\n",
              "      <td>https://api.spotify.com/v1/artists/272ArH9SUAl...</td>\n",
              "    </tr>\n",
              "    <tr>\n",
              "      <th>4</th>\n",
              "      <td>2KftmGt9sk1yLjsAoloC3M</td>\n",
              "      <td>Zucchero</td>\n",
              "      <td>https://api.spotify.com/v1/artists/2KftmGt9sk1...</td>\n",
              "    </tr>\n",
              "  </tbody>\n",
              "</table>\n",
              "</div>"
            ],
            "text/plain": [
              "                artist_id          artist_name  \\\n",
              "0  6eSdhw46riw2OUHgMwR8B5               Odiseo   \n",
              "1  5VQE4WOzPu9h3HnGLuBoA6         Vlasta Marek   \n",
              "2  066X20Nz7iquqkkCW6Jxy6      LCD Soundsystem   \n",
              "3  272ArH9SUAlslQqsSgPJA2  Glenn Horiuchi Trio   \n",
              "4  2KftmGt9sk1yLjsAoloC3M             Zucchero   \n",
              "\n",
              "                                        external_url  \n",
              "0  https://api.spotify.com/v1/artists/6eSdhw46riw...  \n",
              "1  https://api.spotify.com/v1/artists/5VQE4WOzPu9...  \n",
              "2  https://api.spotify.com/v1/artists/066X20Nz7iq...  \n",
              "3  https://api.spotify.com/v1/artists/272ArH9SUAl...  \n",
              "4  https://api.spotify.com/v1/artists/2KftmGt9sk1...  "
            ]
          },
          "execution_count": 25,
          "metadata": {},
          "output_type": "execute_result"
        }
      ],
      "source": [
        "artist_df.head(10)"
      ]
    },
    {
      "cell_type": "code",
      "execution_count": 26,
      "metadata": {
        "colab": {
          "base_uri": "https://localhost:8080/",
          "height": 591
        },
        "id": "G1mSYAcNq4Up",
        "outputId": "58ff6383-17ba-4c35-ac33-483c63656125"
      },
      "outputs": [
        {
          "data": {
            "application/vnd.microsoft.datawrangler.viewer.v0+json": {
              "columns": [
                {
                  "name": "index",
                  "rawType": "int64",
                  "type": "integer"
                },
                {
                  "name": "song_id",
                  "rawType": "object",
                  "type": "string"
                },
                {
                  "name": "song_name",
                  "rawType": "object",
                  "type": "string"
                },
                {
                  "name": "duration_ms",
                  "rawType": "int64",
                  "type": "integer"
                },
                {
                  "name": "url",
                  "rawType": "object",
                  "type": "string"
                },
                {
                  "name": "popularity",
                  "rawType": "int64",
                  "type": "integer"
                },
                {
                  "name": "song_added",
                  "rawType": "datetime64[ns, UTC]",
                  "type": "unknown"
                },
                {
                  "name": "album_id",
                  "rawType": "object",
                  "type": "string"
                },
                {
                  "name": "artist_id",
                  "rawType": "object",
                  "type": "string"
                }
              ],
              "conversionMethod": "pd.DataFrame",
              "ref": "b1b16cb8-bd13-43f0-b193-8862bc8671a4",
              "rows": [
                [
                  "0",
                  "4rzfv0JLZfVhOhbSQ8o5jZ",
                  "Api",
                  "376000",
                  "https://open.spotify.com/track/4rzfv0JLZfVhOhbSQ8o5jZ",
                  "1",
                  "2015-01-15 12:39:22+00:00",
                  "2pANdqPvxInB0YvcDiw4ko",
                  "0LyfQWJT6nXafLPZqxe9Of"
                ],
                [
                  "1",
                  "5o3jMYOSbaVz3tkgwhELSV",
                  "Is",
                  "730066",
                  "https://open.spotify.com/track/5o3jMYOSbaVz3tkgwhELSV",
                  "0",
                  "2015-01-15 12:40:03+00:00",
                  "6nlfkk5GoXRL1nktlATNsy",
                  "0LyfQWJT6nXafLPZqxe9Of"
                ],
                [
                  "2",
                  "4Cy0NHJ8Gh0xMdwyM9RkQm",
                  "All I Want",
                  "401440",
                  "https://open.spotify.com/track/4Cy0NHJ8Gh0xMdwyM9RkQm",
                  "48",
                  "2015-01-15 12:22:30+00:00",
                  "4hnqM0JK4CM1phwfq1Ldyz",
                  "066X20Nz7iquqkkCW6Jxy6"
                ],
                [
                  "3",
                  "6hvFrZNocdt2FcKGCSY5NI",
                  "Endpoints",
                  "358760",
                  "https://open.spotify.com/track/6hvFrZNocdt2FcKGCSY5NI",
                  "0",
                  "2015-01-15 12:40:35+00:00",
                  "2usKFntxa98WHMcyW6xJBz",
                  "272ArH9SUAlslQqsSgPJA2"
                ],
                [
                  "4",
                  "2E2znCPaS8anQe21GLxcvJ",
                  "You Are So Beautiful",
                  "176093",
                  "https://open.spotify.com/track/2E2znCPaS8anQe21GLxcvJ",
                  "0",
                  "2015-01-15 12:41:10+00:00",
                  "0ivM6kSawaug0j3tZVusG2",
                  "2KftmGt9sk1yLjsAoloC3M"
                ]
              ],
              "shape": {
                "columns": 8,
                "rows": 5
              }
            },
            "text/html": [
              "<div>\n",
              "<style scoped>\n",
              "    .dataframe tbody tr th:only-of-type {\n",
              "        vertical-align: middle;\n",
              "    }\n",
              "\n",
              "    .dataframe tbody tr th {\n",
              "        vertical-align: top;\n",
              "    }\n",
              "\n",
              "    .dataframe thead th {\n",
              "        text-align: right;\n",
              "    }\n",
              "</style>\n",
              "<table border=\"1\" class=\"dataframe\">\n",
              "  <thead>\n",
              "    <tr style=\"text-align: right;\">\n",
              "      <th></th>\n",
              "      <th>song_id</th>\n",
              "      <th>song_name</th>\n",
              "      <th>duration_ms</th>\n",
              "      <th>url</th>\n",
              "      <th>popularity</th>\n",
              "      <th>song_added</th>\n",
              "      <th>album_id</th>\n",
              "      <th>artist_id</th>\n",
              "    </tr>\n",
              "  </thead>\n",
              "  <tbody>\n",
              "    <tr>\n",
              "      <th>0</th>\n",
              "      <td>4rzfv0JLZfVhOhbSQ8o5jZ</td>\n",
              "      <td>Api</td>\n",
              "      <td>376000</td>\n",
              "      <td>https://open.spotify.com/track/4rzfv0JLZfVhOhb...</td>\n",
              "      <td>1</td>\n",
              "      <td>2015-01-15 12:39:22+00:00</td>\n",
              "      <td>2pANdqPvxInB0YvcDiw4ko</td>\n",
              "      <td>0LyfQWJT6nXafLPZqxe9Of</td>\n",
              "    </tr>\n",
              "    <tr>\n",
              "      <th>1</th>\n",
              "      <td>5o3jMYOSbaVz3tkgwhELSV</td>\n",
              "      <td>Is</td>\n",
              "      <td>730066</td>\n",
              "      <td>https://open.spotify.com/track/5o3jMYOSbaVz3tk...</td>\n",
              "      <td>0</td>\n",
              "      <td>2015-01-15 12:40:03+00:00</td>\n",
              "      <td>6nlfkk5GoXRL1nktlATNsy</td>\n",
              "      <td>0LyfQWJT6nXafLPZqxe9Of</td>\n",
              "    </tr>\n",
              "    <tr>\n",
              "      <th>2</th>\n",
              "      <td>4Cy0NHJ8Gh0xMdwyM9RkQm</td>\n",
              "      <td>All I Want</td>\n",
              "      <td>401440</td>\n",
              "      <td>https://open.spotify.com/track/4Cy0NHJ8Gh0xMdw...</td>\n",
              "      <td>48</td>\n",
              "      <td>2015-01-15 12:22:30+00:00</td>\n",
              "      <td>4hnqM0JK4CM1phwfq1Ldyz</td>\n",
              "      <td>066X20Nz7iquqkkCW6Jxy6</td>\n",
              "    </tr>\n",
              "    <tr>\n",
              "      <th>3</th>\n",
              "      <td>6hvFrZNocdt2FcKGCSY5NI</td>\n",
              "      <td>Endpoints</td>\n",
              "      <td>358760</td>\n",
              "      <td>https://open.spotify.com/track/6hvFrZNocdt2FcK...</td>\n",
              "      <td>0</td>\n",
              "      <td>2015-01-15 12:40:35+00:00</td>\n",
              "      <td>2usKFntxa98WHMcyW6xJBz</td>\n",
              "      <td>272ArH9SUAlslQqsSgPJA2</td>\n",
              "    </tr>\n",
              "    <tr>\n",
              "      <th>4</th>\n",
              "      <td>2E2znCPaS8anQe21GLxcvJ</td>\n",
              "      <td>You Are So Beautiful</td>\n",
              "      <td>176093</td>\n",
              "      <td>https://open.spotify.com/track/2E2znCPaS8anQe2...</td>\n",
              "      <td>0</td>\n",
              "      <td>2015-01-15 12:41:10+00:00</td>\n",
              "      <td>0ivM6kSawaug0j3tZVusG2</td>\n",
              "      <td>2KftmGt9sk1yLjsAoloC3M</td>\n",
              "    </tr>\n",
              "  </tbody>\n",
              "</table>\n",
              "</div>"
            ],
            "text/plain": [
              "                  song_id             song_name  duration_ms  \\\n",
              "0  4rzfv0JLZfVhOhbSQ8o5jZ                   Api       376000   \n",
              "1  5o3jMYOSbaVz3tkgwhELSV                    Is       730066   \n",
              "2  4Cy0NHJ8Gh0xMdwyM9RkQm            All I Want       401440   \n",
              "3  6hvFrZNocdt2FcKGCSY5NI             Endpoints       358760   \n",
              "4  2E2znCPaS8anQe21GLxcvJ  You Are So Beautiful       176093   \n",
              "\n",
              "                                                 url  popularity  \\\n",
              "0  https://open.spotify.com/track/4rzfv0JLZfVhOhb...           1   \n",
              "1  https://open.spotify.com/track/5o3jMYOSbaVz3tk...           0   \n",
              "2  https://open.spotify.com/track/4Cy0NHJ8Gh0xMdw...          48   \n",
              "3  https://open.spotify.com/track/6hvFrZNocdt2FcK...           0   \n",
              "4  https://open.spotify.com/track/2E2znCPaS8anQe2...           0   \n",
              "\n",
              "                 song_added                album_id               artist_id  \n",
              "0 2015-01-15 12:39:22+00:00  2pANdqPvxInB0YvcDiw4ko  0LyfQWJT6nXafLPZqxe9Of  \n",
              "1 2015-01-15 12:40:03+00:00  6nlfkk5GoXRL1nktlATNsy  0LyfQWJT6nXafLPZqxe9Of  \n",
              "2 2015-01-15 12:22:30+00:00  4hnqM0JK4CM1phwfq1Ldyz  066X20Nz7iquqkkCW6Jxy6  \n",
              "3 2015-01-15 12:40:35+00:00  2usKFntxa98WHMcyW6xJBz  272ArH9SUAlslQqsSgPJA2  \n",
              "4 2015-01-15 12:41:10+00:00  0ivM6kSawaug0j3tZVusG2  2KftmGt9sk1yLjsAoloC3M  "
            ]
          },
          "execution_count": 26,
          "metadata": {},
          "output_type": "execute_result"
        }
      ],
      "source": [
        "song_df.head(10)"
      ]
    },
    {
      "cell_type": "code",
      "execution_count": null,
      "metadata": {
        "id": "3oZkJGpDq6QL"
      },
      "outputs": [],
      "source": []
    }
  ],
  "metadata": {
    "colab": {
      "provenance": []
    },
    "kernelspec": {
      "display_name": "venv",
      "language": "python",
      "name": "python3"
    },
    "language_info": {
      "codemirror_mode": {
        "name": "ipython",
        "version": 3
      },
      "file_extension": ".py",
      "mimetype": "text/x-python",
      "name": "python",
      "nbconvert_exporter": "python",
      "pygments_lexer": "ipython3",
      "version": "3.12.10"
    }
  },
  "nbformat": 4,
  "nbformat_minor": 0
}
